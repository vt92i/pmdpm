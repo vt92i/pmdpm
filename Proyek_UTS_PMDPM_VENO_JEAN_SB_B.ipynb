{
 "cells": [
  {
   "cell_type": "markdown",
   "id": "72a875f0",
   "metadata": {
    "id": "72a875f0"
   },
   "source": [
    "# Proyek UTS PMDPM\n",
    "\n",
    "<b>Harap jangan menghapus cell dan komentar yang diberikan!</b>\n",
    "\n",
    "Setiap cell markdown dan code akan berisi instruksi pengerjaan Proyek UTS PMDPM\n",
    "\n",
    "Dalam notebook ini Anda akan diminta untuk membuat sebuah proyek Pembelajaran Mesin menggunakan dataset yang sudah disediakan. Proyek akan terdiri dari proses inisialisasi, data loading, data cleansing, feature engineering, modelling dan evaluasi model. Pada bagian akhir silahkan berikan laporan singkat dari proyek yang sudah dikerjakan"
   ]
  },
  {
   "cell_type": "markdown",
   "id": "0TGYmj-miCjM",
   "metadata": {
    "id": "0TGYmj-miCjM"
   },
   "source": [
    "## Studi Kasus\n",
    "\n",
    "Dataset: Stroke Prediction Dataset (https://www.kaggle.com/datasets/fedesoriano/stroke-prediction-dataset) \n",
    "\n",
    "Deskripsi: Menurut WHO, stroke adalah penyebab kematian nomor 2 di dunia, sekitar 11% dari total kematian. Dataset ini digunakan untuk memprediksi apakah pasien memiliki kemungkinan terkena stroke berdasarkan input seperti gender, usia, penyakit bawaan, dan status merokok [3]. Setiap baris data menyediakan informasi relevan mengenai pasien. \n",
    "\n",
    "Informasi atribut: \n",
    "\n",
    "1) id: unique identifier \n",
    "\n",
    "2) gender: \"Male\", \"Female\" or \"Other\" \n",
    "\n",
    "3) age: age of the patient \n",
    "\n",
    "4) hypertension: 0 if the patient doesn't have hypertension, 1 if the patient has hypertension \n",
    "\n",
    "5) heart_disease: 0 if the patient doesn't have any heart diseases, 1 if the patient has a heart disease \n",
    "\n",
    "6) ever_married: \"No\" or \"Yes\" \n",
    "\n",
    "7) work_type: \"children\", \"Govt_jov\", \"Never_worked\", \"Private\" or \"Self-employed\" \n",
    "\n",
    "8) Residence_type: \"Rural\" or \"Urban\" \n",
    "\n",
    "9) avg_glucose_level: average glucose level in blood \n",
    "\n",
    "10) bmi: body mass index \n",
    "\n",
    "11) smoking_status: \"formerly smoked\", \"never smoked\", \"smokes\" or \"Unknown\"* \n",
    "\n",
    "12) stroke: 1 if the patient had a stroke or 0 if not \n",
    "\n",
    "*Note: \"Unknown\" in smoking_status means that the information is unavailable for this patient "
   ]
  },
  {
   "cell_type": "markdown",
   "id": "mJk9HuB_FIKC",
   "metadata": {
    "id": "mJk9HuB_FIKC"
   },
   "source": [
    "## Penjelasan Tugas\n",
    "\n",
    "Terapkan pemrosesan dataset dari loading, data cleansing (jika perlu), data scaling, feature selection, hingga evaluasi model secara sederhana menggunakan code yang sudah dipelajari dalam latihan-latihan dan tugas."
   ]
  },
  {
   "cell_type": "markdown",
   "id": "79d4888b",
   "metadata": {
    "id": "79d4888b"
   },
   "source": [
    "### Inisialisasi\n",
    "\n",
    "Bagian berikut berisi import library yang dibutuhkan"
   ]
  },
  {
   "cell_type": "code",
   "source": [
    "import pandas as pd\n",
    "import numpy as np\n",
    "import matplotlib.pyplot as plt\n",
    "import seaborn as sns\n",
    "from sklearn.preprocessing import OneHotEncoder\n",
    "from sklearn.compose import make_column_transformer\n",
    "from sklearn.model_selection import train_test_split\n",
    "from sklearn.preprocessing import MinMaxScaler\n",
    "from sklearn.feature_selection import SelectPercentile\n",
    "from sklearn.neighbors import KNeighborsClassifier\n",
    "from sklearn.svm import SVC\n",
    "from sklearn.feature_selection import SelectFromModel\n",
    "from sklearn.ensemble import RandomForestClassifier\n",
    "\n",
    "#loading data yang akan diolah\n",
    "# from google.colab import files\n",
    "\n",
    "# uploaded = files.upload()\n",
    "\n",
    "df_stroke = pd.read_csv('healthcare-dataset-stroke-data.csv')\n",
    "#menampilkan 20 baris data teratas\n",
    "df_stroke.head(20)"
   ],
   "metadata": {
    "colab": {
     "base_uri": "https://localhost:8080/",
     "height": 732
    },
    "id": "az9kuO1T78vP",
    "outputId": "2e33f1c3-70fa-4944-91f5-d4336c3f54b3"
   },
   "id": "az9kuO1T78vP",
   "execution_count": 223,
   "outputs": [
    {
     "output_type": "display_data",
     "data": {
      "text/plain": [
       "<IPython.core.display.HTML object>"
      ],
      "text/html": [
       "\n",
       "     <input type=\"file\" id=\"files-c743c6a0-7cad-49d0-a634-20e660cbb02d\" name=\"files[]\" multiple disabled\n",
       "        style=\"border:none\" />\n",
       "     <output id=\"result-c743c6a0-7cad-49d0-a634-20e660cbb02d\">\n",
       "      Upload widget is only available when the cell has been executed in the\n",
       "      current browser session. Please rerun this cell to enable.\n",
       "      </output>\n",
       "      <script>// Copyright 2017 Google LLC\n",
       "//\n",
       "// Licensed under the Apache License, Version 2.0 (the \"License\");\n",
       "// you may not use this file except in compliance with the License.\n",
       "// You may obtain a copy of the License at\n",
       "//\n",
       "//      http://www.apache.org/licenses/LICENSE-2.0\n",
       "//\n",
       "// Unless required by applicable law or agreed to in writing, software\n",
       "// distributed under the License is distributed on an \"AS IS\" BASIS,\n",
       "// WITHOUT WARRANTIES OR CONDITIONS OF ANY KIND, either express or implied.\n",
       "// See the License for the specific language governing permissions and\n",
       "// limitations under the License.\n",
       "\n",
       "/**\n",
       " * @fileoverview Helpers for google.colab Python module.\n",
       " */\n",
       "(function(scope) {\n",
       "function span(text, styleAttributes = {}) {\n",
       "  const element = document.createElement('span');\n",
       "  element.textContent = text;\n",
       "  for (const key of Object.keys(styleAttributes)) {\n",
       "    element.style[key] = styleAttributes[key];\n",
       "  }\n",
       "  return element;\n",
       "}\n",
       "\n",
       "// Max number of bytes which will be uploaded at a time.\n",
       "const MAX_PAYLOAD_SIZE = 100 * 1024;\n",
       "\n",
       "function _uploadFiles(inputId, outputId) {\n",
       "  const steps = uploadFilesStep(inputId, outputId);\n",
       "  const outputElement = document.getElementById(outputId);\n",
       "  // Cache steps on the outputElement to make it available for the next call\n",
       "  // to uploadFilesContinue from Python.\n",
       "  outputElement.steps = steps;\n",
       "\n",
       "  return _uploadFilesContinue(outputId);\n",
       "}\n",
       "\n",
       "// This is roughly an async generator (not supported in the browser yet),\n",
       "// where there are multiple asynchronous steps and the Python side is going\n",
       "// to poll for completion of each step.\n",
       "// This uses a Promise to block the python side on completion of each step,\n",
       "// then passes the result of the previous step as the input to the next step.\n",
       "function _uploadFilesContinue(outputId) {\n",
       "  const outputElement = document.getElementById(outputId);\n",
       "  const steps = outputElement.steps;\n",
       "\n",
       "  const next = steps.next(outputElement.lastPromiseValue);\n",
       "  return Promise.resolve(next.value.promise).then((value) => {\n",
       "    // Cache the last promise value to make it available to the next\n",
       "    // step of the generator.\n",
       "    outputElement.lastPromiseValue = value;\n",
       "    return next.value.response;\n",
       "  });\n",
       "}\n",
       "\n",
       "/**\n",
       " * Generator function which is called between each async step of the upload\n",
       " * process.\n",
       " * @param {string} inputId Element ID of the input file picker element.\n",
       " * @param {string} outputId Element ID of the output display.\n",
       " * @return {!Iterable<!Object>} Iterable of next steps.\n",
       " */\n",
       "function* uploadFilesStep(inputId, outputId) {\n",
       "  const inputElement = document.getElementById(inputId);\n",
       "  inputElement.disabled = false;\n",
       "\n",
       "  const outputElement = document.getElementById(outputId);\n",
       "  outputElement.innerHTML = '';\n",
       "\n",
       "  const pickedPromise = new Promise((resolve) => {\n",
       "    inputElement.addEventListener('change', (e) => {\n",
       "      resolve(e.target.files);\n",
       "    });\n",
       "  });\n",
       "\n",
       "  const cancel = document.createElement('button');\n",
       "  inputElement.parentElement.appendChild(cancel);\n",
       "  cancel.textContent = 'Cancel upload';\n",
       "  const cancelPromise = new Promise((resolve) => {\n",
       "    cancel.onclick = () => {\n",
       "      resolve(null);\n",
       "    };\n",
       "  });\n",
       "\n",
       "  // Wait for the user to pick the files.\n",
       "  const files = yield {\n",
       "    promise: Promise.race([pickedPromise, cancelPromise]),\n",
       "    response: {\n",
       "      action: 'starting',\n",
       "    }\n",
       "  };\n",
       "\n",
       "  cancel.remove();\n",
       "\n",
       "  // Disable the input element since further picks are not allowed.\n",
       "  inputElement.disabled = true;\n",
       "\n",
       "  if (!files) {\n",
       "    return {\n",
       "      response: {\n",
       "        action: 'complete',\n",
       "      }\n",
       "    };\n",
       "  }\n",
       "\n",
       "  for (const file of files) {\n",
       "    const li = document.createElement('li');\n",
       "    li.append(span(file.name, {fontWeight: 'bold'}));\n",
       "    li.append(span(\n",
       "        `(${file.type || 'n/a'}) - ${file.size} bytes, ` +\n",
       "        `last modified: ${\n",
       "            file.lastModifiedDate ? file.lastModifiedDate.toLocaleDateString() :\n",
       "                                    'n/a'} - `));\n",
       "    const percent = span('0% done');\n",
       "    li.appendChild(percent);\n",
       "\n",
       "    outputElement.appendChild(li);\n",
       "\n",
       "    const fileDataPromise = new Promise((resolve) => {\n",
       "      const reader = new FileReader();\n",
       "      reader.onload = (e) => {\n",
       "        resolve(e.target.result);\n",
       "      };\n",
       "      reader.readAsArrayBuffer(file);\n",
       "    });\n",
       "    // Wait for the data to be ready.\n",
       "    let fileData = yield {\n",
       "      promise: fileDataPromise,\n",
       "      response: {\n",
       "        action: 'continue',\n",
       "      }\n",
       "    };\n",
       "\n",
       "    // Use a chunked sending to avoid message size limits. See b/62115660.\n",
       "    let position = 0;\n",
       "    do {\n",
       "      const length = Math.min(fileData.byteLength - position, MAX_PAYLOAD_SIZE);\n",
       "      const chunk = new Uint8Array(fileData, position, length);\n",
       "      position += length;\n",
       "\n",
       "      const base64 = btoa(String.fromCharCode.apply(null, chunk));\n",
       "      yield {\n",
       "        response: {\n",
       "          action: 'append',\n",
       "          file: file.name,\n",
       "          data: base64,\n",
       "        },\n",
       "      };\n",
       "\n",
       "      let percentDone = fileData.byteLength === 0 ?\n",
       "          100 :\n",
       "          Math.round((position / fileData.byteLength) * 100);\n",
       "      percent.textContent = `${percentDone}% done`;\n",
       "\n",
       "    } while (position < fileData.byteLength);\n",
       "  }\n",
       "\n",
       "  // All done.\n",
       "  yield {\n",
       "    response: {\n",
       "      action: 'complete',\n",
       "    }\n",
       "  };\n",
       "}\n",
       "\n",
       "scope.google = scope.google || {};\n",
       "scope.google.colab = scope.google.colab || {};\n",
       "scope.google.colab._files = {\n",
       "  _uploadFiles,\n",
       "  _uploadFilesContinue,\n",
       "};\n",
       "})(self);\n",
       "</script> "
      ]
     },
     "metadata": {}
    },
    {
     "output_type": "stream",
     "name": "stdout",
     "text": [
      "Saving healthcare-dataset-stroke-data.csv to healthcare-dataset-stroke-data (7).csv\n"
     ]
    },
    {
     "output_type": "execute_result",
     "data": {
      "text/plain": [
       "       id  gender   age  hypertension  heart_disease ever_married  \\\n",
       "0    9046    Male  67.0             0              1          Yes   \n",
       "1   51676  Female  61.0             0              0          Yes   \n",
       "2   31112    Male  80.0             0              1          Yes   \n",
       "3   60182  Female  49.0             0              0          Yes   \n",
       "4    1665  Female  79.0             1              0          Yes   \n",
       "5   56669    Male  81.0             0              0          Yes   \n",
       "6   53882    Male  74.0             1              1          Yes   \n",
       "7   10434  Female  69.0             0              0           No   \n",
       "8   27419  Female  59.0             0              0          Yes   \n",
       "9   60491  Female  78.0             0              0          Yes   \n",
       "10  12109  Female  81.0             1              0          Yes   \n",
       "11  12095  Female  61.0             0              1          Yes   \n",
       "12  12175  Female  54.0             0              0          Yes   \n",
       "13   8213    Male  78.0             0              1          Yes   \n",
       "14   5317  Female  79.0             0              1          Yes   \n",
       "15  58202  Female  50.0             1              0          Yes   \n",
       "16  56112    Male  64.0             0              1          Yes   \n",
       "17  34120    Male  75.0             1              0          Yes   \n",
       "18  27458  Female  60.0             0              0           No   \n",
       "19  25226    Male  57.0             0              1           No   \n",
       "\n",
       "        work_type Residence_type  avg_glucose_level   bmi   smoking_status  \\\n",
       "0         Private          Urban             228.69  36.6  formerly smoked   \n",
       "1   Self-employed          Rural             202.21   NaN     never smoked   \n",
       "2         Private          Rural             105.92  32.5     never smoked   \n",
       "3         Private          Urban             171.23  34.4           smokes   \n",
       "4   Self-employed          Rural             174.12  24.0     never smoked   \n",
       "5         Private          Urban             186.21  29.0  formerly smoked   \n",
       "6         Private          Rural              70.09  27.4     never smoked   \n",
       "7         Private          Urban              94.39  22.8     never smoked   \n",
       "8         Private          Rural              76.15   NaN          Unknown   \n",
       "9         Private          Urban              58.57  24.2          Unknown   \n",
       "10        Private          Rural              80.43  29.7     never smoked   \n",
       "11       Govt_job          Rural             120.46  36.8           smokes   \n",
       "12        Private          Urban             104.51  27.3           smokes   \n",
       "13        Private          Urban             219.84   NaN          Unknown   \n",
       "14        Private          Urban             214.09  28.2     never smoked   \n",
       "15  Self-employed          Rural             167.41  30.9     never smoked   \n",
       "16        Private          Urban             191.61  37.5           smokes   \n",
       "17        Private          Urban             221.29  25.8           smokes   \n",
       "18        Private          Urban              89.22  37.8     never smoked   \n",
       "19       Govt_job          Urban             217.08   NaN          Unknown   \n",
       "\n",
       "    stroke  \n",
       "0        1  \n",
       "1        1  \n",
       "2        1  \n",
       "3        1  \n",
       "4        1  \n",
       "5        1  \n",
       "6        1  \n",
       "7        1  \n",
       "8        1  \n",
       "9        1  \n",
       "10       1  \n",
       "11       1  \n",
       "12       1  \n",
       "13       1  \n",
       "14       1  \n",
       "15       1  \n",
       "16       1  \n",
       "17       1  \n",
       "18       1  \n",
       "19       1  "
      ],
      "text/html": [
       "\n",
       "  <div id=\"df-6cef57f3-4624-4348-bdae-6803a7c70fd2\">\n",
       "    <div class=\"colab-df-container\">\n",
       "      <div>\n",
       "<style scoped>\n",
       "    .dataframe tbody tr th:only-of-type {\n",
       "        vertical-align: middle;\n",
       "    }\n",
       "\n",
       "    .dataframe tbody tr th {\n",
       "        vertical-align: top;\n",
       "    }\n",
       "\n",
       "    .dataframe thead th {\n",
       "        text-align: right;\n",
       "    }\n",
       "</style>\n",
       "<table border=\"1\" class=\"dataframe\">\n",
       "  <thead>\n",
       "    <tr style=\"text-align: right;\">\n",
       "      <th></th>\n",
       "      <th>id</th>\n",
       "      <th>gender</th>\n",
       "      <th>age</th>\n",
       "      <th>hypertension</th>\n",
       "      <th>heart_disease</th>\n",
       "      <th>ever_married</th>\n",
       "      <th>work_type</th>\n",
       "      <th>Residence_type</th>\n",
       "      <th>avg_glucose_level</th>\n",
       "      <th>bmi</th>\n",
       "      <th>smoking_status</th>\n",
       "      <th>stroke</th>\n",
       "    </tr>\n",
       "  </thead>\n",
       "  <tbody>\n",
       "    <tr>\n",
       "      <th>0</th>\n",
       "      <td>9046</td>\n",
       "      <td>Male</td>\n",
       "      <td>67.0</td>\n",
       "      <td>0</td>\n",
       "      <td>1</td>\n",
       "      <td>Yes</td>\n",
       "      <td>Private</td>\n",
       "      <td>Urban</td>\n",
       "      <td>228.69</td>\n",
       "      <td>36.6</td>\n",
       "      <td>formerly smoked</td>\n",
       "      <td>1</td>\n",
       "    </tr>\n",
       "    <tr>\n",
       "      <th>1</th>\n",
       "      <td>51676</td>\n",
       "      <td>Female</td>\n",
       "      <td>61.0</td>\n",
       "      <td>0</td>\n",
       "      <td>0</td>\n",
       "      <td>Yes</td>\n",
       "      <td>Self-employed</td>\n",
       "      <td>Rural</td>\n",
       "      <td>202.21</td>\n",
       "      <td>NaN</td>\n",
       "      <td>never smoked</td>\n",
       "      <td>1</td>\n",
       "    </tr>\n",
       "    <tr>\n",
       "      <th>2</th>\n",
       "      <td>31112</td>\n",
       "      <td>Male</td>\n",
       "      <td>80.0</td>\n",
       "      <td>0</td>\n",
       "      <td>1</td>\n",
       "      <td>Yes</td>\n",
       "      <td>Private</td>\n",
       "      <td>Rural</td>\n",
       "      <td>105.92</td>\n",
       "      <td>32.5</td>\n",
       "      <td>never smoked</td>\n",
       "      <td>1</td>\n",
       "    </tr>\n",
       "    <tr>\n",
       "      <th>3</th>\n",
       "      <td>60182</td>\n",
       "      <td>Female</td>\n",
       "      <td>49.0</td>\n",
       "      <td>0</td>\n",
       "      <td>0</td>\n",
       "      <td>Yes</td>\n",
       "      <td>Private</td>\n",
       "      <td>Urban</td>\n",
       "      <td>171.23</td>\n",
       "      <td>34.4</td>\n",
       "      <td>smokes</td>\n",
       "      <td>1</td>\n",
       "    </tr>\n",
       "    <tr>\n",
       "      <th>4</th>\n",
       "      <td>1665</td>\n",
       "      <td>Female</td>\n",
       "      <td>79.0</td>\n",
       "      <td>1</td>\n",
       "      <td>0</td>\n",
       "      <td>Yes</td>\n",
       "      <td>Self-employed</td>\n",
       "      <td>Rural</td>\n",
       "      <td>174.12</td>\n",
       "      <td>24.0</td>\n",
       "      <td>never smoked</td>\n",
       "      <td>1</td>\n",
       "    </tr>\n",
       "    <tr>\n",
       "      <th>5</th>\n",
       "      <td>56669</td>\n",
       "      <td>Male</td>\n",
       "      <td>81.0</td>\n",
       "      <td>0</td>\n",
       "      <td>0</td>\n",
       "      <td>Yes</td>\n",
       "      <td>Private</td>\n",
       "      <td>Urban</td>\n",
       "      <td>186.21</td>\n",
       "      <td>29.0</td>\n",
       "      <td>formerly smoked</td>\n",
       "      <td>1</td>\n",
       "    </tr>\n",
       "    <tr>\n",
       "      <th>6</th>\n",
       "      <td>53882</td>\n",
       "      <td>Male</td>\n",
       "      <td>74.0</td>\n",
       "      <td>1</td>\n",
       "      <td>1</td>\n",
       "      <td>Yes</td>\n",
       "      <td>Private</td>\n",
       "      <td>Rural</td>\n",
       "      <td>70.09</td>\n",
       "      <td>27.4</td>\n",
       "      <td>never smoked</td>\n",
       "      <td>1</td>\n",
       "    </tr>\n",
       "    <tr>\n",
       "      <th>7</th>\n",
       "      <td>10434</td>\n",
       "      <td>Female</td>\n",
       "      <td>69.0</td>\n",
       "      <td>0</td>\n",
       "      <td>0</td>\n",
       "      <td>No</td>\n",
       "      <td>Private</td>\n",
       "      <td>Urban</td>\n",
       "      <td>94.39</td>\n",
       "      <td>22.8</td>\n",
       "      <td>never smoked</td>\n",
       "      <td>1</td>\n",
       "    </tr>\n",
       "    <tr>\n",
       "      <th>8</th>\n",
       "      <td>27419</td>\n",
       "      <td>Female</td>\n",
       "      <td>59.0</td>\n",
       "      <td>0</td>\n",
       "      <td>0</td>\n",
       "      <td>Yes</td>\n",
       "      <td>Private</td>\n",
       "      <td>Rural</td>\n",
       "      <td>76.15</td>\n",
       "      <td>NaN</td>\n",
       "      <td>Unknown</td>\n",
       "      <td>1</td>\n",
       "    </tr>\n",
       "    <tr>\n",
       "      <th>9</th>\n",
       "      <td>60491</td>\n",
       "      <td>Female</td>\n",
       "      <td>78.0</td>\n",
       "      <td>0</td>\n",
       "      <td>0</td>\n",
       "      <td>Yes</td>\n",
       "      <td>Private</td>\n",
       "      <td>Urban</td>\n",
       "      <td>58.57</td>\n",
       "      <td>24.2</td>\n",
       "      <td>Unknown</td>\n",
       "      <td>1</td>\n",
       "    </tr>\n",
       "    <tr>\n",
       "      <th>10</th>\n",
       "      <td>12109</td>\n",
       "      <td>Female</td>\n",
       "      <td>81.0</td>\n",
       "      <td>1</td>\n",
       "      <td>0</td>\n",
       "      <td>Yes</td>\n",
       "      <td>Private</td>\n",
       "      <td>Rural</td>\n",
       "      <td>80.43</td>\n",
       "      <td>29.7</td>\n",
       "      <td>never smoked</td>\n",
       "      <td>1</td>\n",
       "    </tr>\n",
       "    <tr>\n",
       "      <th>11</th>\n",
       "      <td>12095</td>\n",
       "      <td>Female</td>\n",
       "      <td>61.0</td>\n",
       "      <td>0</td>\n",
       "      <td>1</td>\n",
       "      <td>Yes</td>\n",
       "      <td>Govt_job</td>\n",
       "      <td>Rural</td>\n",
       "      <td>120.46</td>\n",
       "      <td>36.8</td>\n",
       "      <td>smokes</td>\n",
       "      <td>1</td>\n",
       "    </tr>\n",
       "    <tr>\n",
       "      <th>12</th>\n",
       "      <td>12175</td>\n",
       "      <td>Female</td>\n",
       "      <td>54.0</td>\n",
       "      <td>0</td>\n",
       "      <td>0</td>\n",
       "      <td>Yes</td>\n",
       "      <td>Private</td>\n",
       "      <td>Urban</td>\n",
       "      <td>104.51</td>\n",
       "      <td>27.3</td>\n",
       "      <td>smokes</td>\n",
       "      <td>1</td>\n",
       "    </tr>\n",
       "    <tr>\n",
       "      <th>13</th>\n",
       "      <td>8213</td>\n",
       "      <td>Male</td>\n",
       "      <td>78.0</td>\n",
       "      <td>0</td>\n",
       "      <td>1</td>\n",
       "      <td>Yes</td>\n",
       "      <td>Private</td>\n",
       "      <td>Urban</td>\n",
       "      <td>219.84</td>\n",
       "      <td>NaN</td>\n",
       "      <td>Unknown</td>\n",
       "      <td>1</td>\n",
       "    </tr>\n",
       "    <tr>\n",
       "      <th>14</th>\n",
       "      <td>5317</td>\n",
       "      <td>Female</td>\n",
       "      <td>79.0</td>\n",
       "      <td>0</td>\n",
       "      <td>1</td>\n",
       "      <td>Yes</td>\n",
       "      <td>Private</td>\n",
       "      <td>Urban</td>\n",
       "      <td>214.09</td>\n",
       "      <td>28.2</td>\n",
       "      <td>never smoked</td>\n",
       "      <td>1</td>\n",
       "    </tr>\n",
       "    <tr>\n",
       "      <th>15</th>\n",
       "      <td>58202</td>\n",
       "      <td>Female</td>\n",
       "      <td>50.0</td>\n",
       "      <td>1</td>\n",
       "      <td>0</td>\n",
       "      <td>Yes</td>\n",
       "      <td>Self-employed</td>\n",
       "      <td>Rural</td>\n",
       "      <td>167.41</td>\n",
       "      <td>30.9</td>\n",
       "      <td>never smoked</td>\n",
       "      <td>1</td>\n",
       "    </tr>\n",
       "    <tr>\n",
       "      <th>16</th>\n",
       "      <td>56112</td>\n",
       "      <td>Male</td>\n",
       "      <td>64.0</td>\n",
       "      <td>0</td>\n",
       "      <td>1</td>\n",
       "      <td>Yes</td>\n",
       "      <td>Private</td>\n",
       "      <td>Urban</td>\n",
       "      <td>191.61</td>\n",
       "      <td>37.5</td>\n",
       "      <td>smokes</td>\n",
       "      <td>1</td>\n",
       "    </tr>\n",
       "    <tr>\n",
       "      <th>17</th>\n",
       "      <td>34120</td>\n",
       "      <td>Male</td>\n",
       "      <td>75.0</td>\n",
       "      <td>1</td>\n",
       "      <td>0</td>\n",
       "      <td>Yes</td>\n",
       "      <td>Private</td>\n",
       "      <td>Urban</td>\n",
       "      <td>221.29</td>\n",
       "      <td>25.8</td>\n",
       "      <td>smokes</td>\n",
       "      <td>1</td>\n",
       "    </tr>\n",
       "    <tr>\n",
       "      <th>18</th>\n",
       "      <td>27458</td>\n",
       "      <td>Female</td>\n",
       "      <td>60.0</td>\n",
       "      <td>0</td>\n",
       "      <td>0</td>\n",
       "      <td>No</td>\n",
       "      <td>Private</td>\n",
       "      <td>Urban</td>\n",
       "      <td>89.22</td>\n",
       "      <td>37.8</td>\n",
       "      <td>never smoked</td>\n",
       "      <td>1</td>\n",
       "    </tr>\n",
       "    <tr>\n",
       "      <th>19</th>\n",
       "      <td>25226</td>\n",
       "      <td>Male</td>\n",
       "      <td>57.0</td>\n",
       "      <td>0</td>\n",
       "      <td>1</td>\n",
       "      <td>No</td>\n",
       "      <td>Govt_job</td>\n",
       "      <td>Urban</td>\n",
       "      <td>217.08</td>\n",
       "      <td>NaN</td>\n",
       "      <td>Unknown</td>\n",
       "      <td>1</td>\n",
       "    </tr>\n",
       "  </tbody>\n",
       "</table>\n",
       "</div>\n",
       "      <button class=\"colab-df-convert\" onclick=\"convertToInteractive('df-6cef57f3-4624-4348-bdae-6803a7c70fd2')\"\n",
       "              title=\"Convert this dataframe to an interactive table.\"\n",
       "              style=\"display:none;\">\n",
       "        \n",
       "  <svg xmlns=\"http://www.w3.org/2000/svg\" height=\"24px\"viewBox=\"0 0 24 24\"\n",
       "       width=\"24px\">\n",
       "    <path d=\"M0 0h24v24H0V0z\" fill=\"none\"/>\n",
       "    <path d=\"M18.56 5.44l.94 2.06.94-2.06 2.06-.94-2.06-.94-.94-2.06-.94 2.06-2.06.94zm-11 1L8.5 8.5l.94-2.06 2.06-.94-2.06-.94L8.5 2.5l-.94 2.06-2.06.94zm10 10l.94 2.06.94-2.06 2.06-.94-2.06-.94-.94-2.06-.94 2.06-2.06.94z\"/><path d=\"M17.41 7.96l-1.37-1.37c-.4-.4-.92-.59-1.43-.59-.52 0-1.04.2-1.43.59L10.3 9.45l-7.72 7.72c-.78.78-.78 2.05 0 2.83L4 21.41c.39.39.9.59 1.41.59.51 0 1.02-.2 1.41-.59l7.78-7.78 2.81-2.81c.8-.78.8-2.07 0-2.86zM5.41 20L4 18.59l7.72-7.72 1.47 1.35L5.41 20z\"/>\n",
       "  </svg>\n",
       "      </button>\n",
       "      \n",
       "  <style>\n",
       "    .colab-df-container {\n",
       "      display:flex;\n",
       "      flex-wrap:wrap;\n",
       "      gap: 12px;\n",
       "    }\n",
       "\n",
       "    .colab-df-convert {\n",
       "      background-color: #E8F0FE;\n",
       "      border: none;\n",
       "      border-radius: 50%;\n",
       "      cursor: pointer;\n",
       "      display: none;\n",
       "      fill: #1967D2;\n",
       "      height: 32px;\n",
       "      padding: 0 0 0 0;\n",
       "      width: 32px;\n",
       "    }\n",
       "\n",
       "    .colab-df-convert:hover {\n",
       "      background-color: #E2EBFA;\n",
       "      box-shadow: 0px 1px 2px rgba(60, 64, 67, 0.3), 0px 1px 3px 1px rgba(60, 64, 67, 0.15);\n",
       "      fill: #174EA6;\n",
       "    }\n",
       "\n",
       "    [theme=dark] .colab-df-convert {\n",
       "      background-color: #3B4455;\n",
       "      fill: #D2E3FC;\n",
       "    }\n",
       "\n",
       "    [theme=dark] .colab-df-convert:hover {\n",
       "      background-color: #434B5C;\n",
       "      box-shadow: 0px 1px 3px 1px rgba(0, 0, 0, 0.15);\n",
       "      filter: drop-shadow(0px 1px 2px rgba(0, 0, 0, 0.3));\n",
       "      fill: #FFFFFF;\n",
       "    }\n",
       "  </style>\n",
       "\n",
       "      <script>\n",
       "        const buttonEl =\n",
       "          document.querySelector('#df-6cef57f3-4624-4348-bdae-6803a7c70fd2 button.colab-df-convert');\n",
       "        buttonEl.style.display =\n",
       "          google.colab.kernel.accessAllowed ? 'block' : 'none';\n",
       "\n",
       "        async function convertToInteractive(key) {\n",
       "          const element = document.querySelector('#df-6cef57f3-4624-4348-bdae-6803a7c70fd2');\n",
       "          const dataTable =\n",
       "            await google.colab.kernel.invokeFunction('convertToInteractive',\n",
       "                                                     [key], {});\n",
       "          if (!dataTable) return;\n",
       "\n",
       "          const docLinkHtml = 'Like what you see? Visit the ' +\n",
       "            '<a target=\"_blank\" href=https://colab.research.google.com/notebooks/data_table.ipynb>data table notebook</a>'\n",
       "            + ' to learn more about interactive tables.';\n",
       "          element.innerHTML = '';\n",
       "          dataTable['output_type'] = 'display_data';\n",
       "          await google.colab.output.renderOutput(dataTable, element);\n",
       "          const docLink = document.createElement('div');\n",
       "          docLink.innerHTML = docLinkHtml;\n",
       "          element.appendChild(docLink);\n",
       "        }\n",
       "      </script>\n",
       "    </div>\n",
       "  </div>\n",
       "  "
      ]
     },
     "metadata": {},
     "execution_count": 223
    }
   ]
  },
  {
   "cell_type": "markdown",
   "id": "fdd03879",
   "metadata": {
    "id": "fdd03879"
   },
   "source": [
    "### Data Loading\n",
    "\n",
    "Bagian berikut berisi proses data loading (boleh dengan file upload atau dengan mount drive), jangan lupa tampilkan 20 baris data teratas!"
   ]
  },
  {
   "cell_type": "markdown",
   "id": "3f7db2dd",
   "metadata": {
    "id": "3f7db2dd"
   },
   "source": [
    "### Data Cleansing\n",
    "\n",
    "Bagian berikut berisi proses pembersihan data (jika diperlukan, minimal cek apakah ada data yang kosong atau duplikat)"
   ]
  },
  {
   "cell_type": "code",
   "execution_count": 224,
   "id": "b4b3c86c",
   "metadata": {
    "id": "b4b3c86c",
    "colab": {
     "base_uri": "https://localhost:8080/"
    },
    "outputId": "92edc089-5cef-4547-ed70-087c60ef7bd6"
   },
   "outputs": [
    {
     "output_type": "execute_result",
     "data": {
      "text/plain": [
       "bmi    201\n",
       "dtype: int64"
      ]
     },
     "metadata": {},
     "execution_count": 224
    }
   ],
   "source": [
    "#bersihkan dataset menggunakan metode yang sudah dipelajari\n",
    "miss_value = df_stroke.isnull().sum().sort_values(ascending=False)\n",
    "miss_value[miss_value > 0]\n"
   ]
  },
  {
   "cell_type": "code",
   "source": [
    "#melihat berapa banyak data yang bernilai nan/kosong\n",
    "df_stroke['bmi'].value_counts(dropna=False)"
   ],
   "metadata": {
    "colab": {
     "base_uri": "https://localhost:8080/"
    },
    "id": "VxmIKKqA8527",
    "outputId": "11f89dfc-efaf-4b8b-d847-bba9ff0e8ac9"
   },
   "id": "VxmIKKqA8527",
   "execution_count": 225,
   "outputs": [
    {
     "output_type": "execute_result",
     "data": {
      "text/plain": [
       "NaN     201\n",
       "28.7     41\n",
       "28.4     38\n",
       "27.6     37\n",
       "26.7     37\n",
       "       ... \n",
       "11.5      1\n",
       "40.6      1\n",
       "53.9      1\n",
       "97.6      1\n",
       "14.9      1\n",
       "Name: bmi, Length: 419, dtype: int64"
      ]
     },
     "metadata": {},
     "execution_count": 225
    }
   ]
  },
  {
   "cell_type": "code",
   "source": [
    "sns.boxplot(data=df_stroke, x='bmi')"
   ],
   "metadata": {
    "colab": {
     "base_uri": "https://localhost:8080/",
     "height": 466
    },
    "id": "_pq25yRE9A-d",
    "outputId": "2513e0ea-9f82-4ed1-e996-5ae6db6f5518"
   },
   "id": "_pq25yRE9A-d",
   "execution_count": 226,
   "outputs": [
    {
     "output_type": "execute_result",
     "data": {
      "text/plain": [
       "<Axes: xlabel='bmi'>"
      ]
     },
     "metadata": {},
     "execution_count": 226
    },
    {
     "output_type": "display_data",
     "data": {
      "text/plain": [
       "<Figure size 640x480 with 1 Axes>"
      ],
      "image/png": "[encoded data removed]"
     },
     "metadata": {}
    }
   ]
  },
  {
   "cell_type": "code",
   "source": [
    "med_bmi = df_stroke['bmi'].median()\n",
    "print(med_bmi)"
   ],
   "metadata": {
    "colab": {
     "base_uri": "https://localhost:8080/"
    },
    "id": "n0Cv5vvw9CZA",
    "outputId": "dd299884-e764-45a5-d839-68d58fbb0483"
   },
   "id": "n0Cv5vvw9CZA",
   "execution_count": 227,
   "outputs": [
    {
     "output_type": "stream",
     "name": "stdout",
     "text": [
      "28.1\n"
     ]
    }
   ]
  },
  {
   "cell_type": "code",
   "source": [
    "df_stroke['bmi'] = df_stroke['bmi'].fillna(med_bmi)\n",
    "df_stroke.bmi.value_counts(dropna=False)"
   ],
   "metadata": {
    "colab": {
     "base_uri": "https://localhost:8080/"
    },
    "id": "ze6X_o2a9GBT",
    "outputId": "b3b181d4-7495-4fba-99e4-7683afe41704"
   },
   "id": "ze6X_o2a9GBT",
   "execution_count": 228,
   "outputs": [
    {
     "output_type": "execute_result",
     "data": {
      "text/plain": [
       "28.1    230\n",
       "28.7     41\n",
       "28.4     38\n",
       "26.7     37\n",
       "27.6     37\n",
       "       ... \n",
       "48.7      1\n",
       "49.2      1\n",
       "51.0      1\n",
       "49.4      1\n",
       "14.9      1\n",
       "Name: bmi, Length: 418, dtype: int64"
      ]
     },
     "metadata": {},
     "execution_count": 228
    }
   ]
  },
  {
   "cell_type": "code",
   "source": [
    "sns.boxplot(data=df_stroke, x='bmi')\n",
    "df_stroke.head(20)"
   ],
   "metadata": {
    "colab": {
     "base_uri": "https://localhost:8080/",
     "height": 1000
    },
    "id": "cm7Ht_tk9JR5",
    "outputId": "0e679b14-25ae-4236-9255-55126663a7b8"
   },
   "id": "cm7Ht_tk9JR5",
   "execution_count": 229,
   "outputs": [
    {
     "output_type": "execute_result",
     "data": {
      "text/plain": [
       "       id  gender   age  hypertension  heart_disease ever_married  \\\n",
       "0    9046    Male  67.0             0              1          Yes   \n",
       "1   51676  Female  61.0             0              0          Yes   \n",
       "2   31112    Male  80.0             0              1          Yes   \n",
       "3   60182  Female  49.0             0              0          Yes   \n",
       "4    1665  Female  79.0             1              0          Yes   \n",
       "5   56669    Male  81.0             0              0          Yes   \n",
       "6   53882    Male  74.0             1              1          Yes   \n",
       "7   10434  Female  69.0             0              0           No   \n",
       "8   27419  Female  59.0             0              0          Yes   \n",
       "9   60491  Female  78.0             0              0          Yes   \n",
       "10  12109  Female  81.0             1              0          Yes   \n",
       "11  12095  Female  61.0             0              1          Yes   \n",
       "12  12175  Female  54.0             0              0          Yes   \n",
       "13   8213    Male  78.0             0              1          Yes   \n",
       "14   5317  Female  79.0             0              1          Yes   \n",
       "15  58202  Female  50.0             1              0          Yes   \n",
       "16  56112    Male  64.0             0              1          Yes   \n",
       "17  34120    Male  75.0             1              0          Yes   \n",
       "18  27458  Female  60.0             0              0           No   \n",
       "19  25226    Male  57.0             0              1           No   \n",
       "\n",
       "        work_type Residence_type  avg_glucose_level   bmi   smoking_status  \\\n",
       "0         Private          Urban             228.69  36.6  formerly smoked   \n",
       "1   Self-employed          Rural             202.21  28.1     never smoked   \n",
       "2         Private          Rural             105.92  32.5     never smoked   \n",
       "3         Private          Urban             171.23  34.4           smokes   \n",
       "4   Self-employed          Rural             174.12  24.0     never smoked   \n",
       "5         Private          Urban             186.21  29.0  formerly smoked   \n",
       "6         Private          Rural              70.09  27.4     never smoked   \n",
       "7         Private          Urban              94.39  22.8     never smoked   \n",
       "8         Private          Rural              76.15  28.1          Unknown   \n",
       "9         Private          Urban              58.57  24.2          Unknown   \n",
       "10        Private          Rural              80.43  29.7     never smoked   \n",
       "11       Govt_job          Rural             120.46  36.8           smokes   \n",
       "12        Private          Urban             104.51  27.3           smokes   \n",
       "13        Private          Urban             219.84  28.1          Unknown   \n",
       "14        Private          Urban             214.09  28.2     never smoked   \n",
       "15  Self-employed          Rural             167.41  30.9     never smoked   \n",
       "16        Private          Urban             191.61  37.5           smokes   \n",
       "17        Private          Urban             221.29  25.8           smokes   \n",
       "18        Private          Urban              89.22  37.8     never smoked   \n",
       "19       Govt_job          Urban             217.08  28.1          Unknown   \n",
       "\n",
       "    stroke  \n",
       "0        1  \n",
       "1        1  \n",
       "2        1  \n",
       "3        1  \n",
       "4        1  \n",
       "5        1  \n",
       "6        1  \n",
       "7        1  \n",
       "8        1  \n",
       "9        1  \n",
       "10       1  \n",
       "11       1  \n",
       "12       1  \n",
       "13       1  \n",
       "14       1  \n",
       "15       1  \n",
       "16       1  \n",
       "17       1  \n",
       "18       1  \n",
       "19       1  "
      ],
      "text/html": [
       "\n",
       "  <div id=\"df-16c73f99-a15e-4ef3-807a-85f4e4d05917\">\n",
       "    <div class=\"colab-df-container\">\n",
       "      <div>\n",
       "<style scoped>\n",
       "    .dataframe tbody tr th:only-of-type {\n",
       "        vertical-align: middle;\n",
       "    }\n",
       "\n",
       "    .dataframe tbody tr th {\n",
       "        vertical-align: top;\n",
       "    }\n",
       "\n",
       "    .dataframe thead th {\n",
       "        text-align: right;\n",
       "    }\n",
       "</style>\n",
       "<table border=\"1\" class=\"dataframe\">\n",
       "  <thead>\n",
       "    <tr style=\"text-align: right;\">\n",
       "      <th></th>\n",
       "      <th>id</th>\n",
       "      <th>gender</th>\n",
       "      <th>age</th>\n",
       "      <th>hypertension</th>\n",
       "      <th>heart_disease</th>\n",
       "      <th>ever_married</th>\n",
       "      <th>work_type</th>\n",
       "      <th>Residence_type</th>\n",
       "      <th>avg_glucose_level</th>\n",
       "      <th>bmi</th>\n",
       "      <th>smoking_status</th>\n",
       "      <th>stroke</th>\n",
       "    </tr>\n",
       "  </thead>\n",
       "  <tbody>\n",
       "    <tr>\n",
       "      <th>0</th>\n",
       "      <td>9046</td>\n",
       "      <td>Male</td>\n",
       "      <td>67.0</td>\n",
       "      <td>0</td>\n",
       "      <td>1</td>\n",
       "      <td>Yes</td>\n",
       "      <td>Private</td>\n",
       "      <td>Urban</td>\n",
       "      <td>228.69</td>\n",
       "      <td>36.6</td>\n",
       "      <td>formerly smoked</td>\n",
       "      <td>1</td>\n",
       "    </tr>\n",
       "    <tr>\n",
       "      <th>1</th>\n",
       "      <td>51676</td>\n",
       "      <td>Female</td>\n",
       "      <td>61.0</td>\n",
       "      <td>0</td>\n",
       "      <td>0</td>\n",
       "      <td>Yes</td>\n",
       "      <td>Self-employed</td>\n",
       "      <td>Rural</td>\n",
       "      <td>202.21</td>\n",
       "      <td>28.1</td>\n",
       "      <td>never smoked</td>\n",
       "      <td>1</td>\n",
       "    </tr>\n",
       "    <tr>\n",
       "      <th>2</th>\n",
       "      <td>31112</td>\n",
       "      <td>Male</td>\n",
       "      <td>80.0</td>\n",
       "      <td>0</td>\n",
       "      <td>1</td>\n",
       "      <td>Yes</td>\n",
       "      <td>Private</td>\n",
       "      <td>Rural</td>\n",
       "      <td>105.92</td>\n",
       "      <td>32.5</td>\n",
       "      <td>never smoked</td>\n",
       "      <td>1</td>\n",
       "    </tr>\n",
       "    <tr>\n",
       "      <th>3</th>\n",
       "      <td>60182</td>\n",
       "      <td>Female</td>\n",
       "      <td>49.0</td>\n",
       "      <td>0</td>\n",
       "      <td>0</td>\n",
       "      <td>Yes</td>\n",
       "      <td>Private</td>\n",
       "      <td>Urban</td>\n",
       "      <td>171.23</td>\n",
       "      <td>34.4</td>\n",
       "      <td>smokes</td>\n",
       "      <td>1</td>\n",
       "    </tr>\n",
       "    <tr>\n",
       "      <th>4</th>\n",
       "      <td>1665</td>\n",
       "      <td>Female</td>\n",
       "      <td>79.0</td>\n",
       "      <td>1</td>\n",
       "      <td>0</td>\n",
       "      <td>Yes</td>\n",
       "      <td>Self-employed</td>\n",
       "      <td>Rural</td>\n",
       "      <td>174.12</td>\n",
       "      <td>24.0</td>\n",
       "      <td>never smoked</td>\n",
       "      <td>1</td>\n",
       "    </tr>\n",
       "    <tr>\n",
       "      <th>5</th>\n",
       "      <td>56669</td>\n",
       "      <td>Male</td>\n",
       "      <td>81.0</td>\n",
       "      <td>0</td>\n",
       "      <td>0</td>\n",
       "      <td>Yes</td>\n",
       "      <td>Private</td>\n",
       "      <td>Urban</td>\n",
       "      <td>186.21</td>\n",
       "      <td>29.0</td>\n",
       "      <td>formerly smoked</td>\n",
       "      <td>1</td>\n",
       "    </tr>\n",
       "    <tr>\n",
       "      <th>6</th>\n",
       "      <td>53882</td>\n",
       "      <td>Male</td>\n",
       "      <td>74.0</td>\n",
       "      <td>1</td>\n",
       "      <td>1</td>\n",
       "      <td>Yes</td>\n",
       "      <td>Private</td>\n",
       "      <td>Rural</td>\n",
       "      <td>70.09</td>\n",
       "      <td>27.4</td>\n",
       "      <td>never smoked</td>\n",
       "      <td>1</td>\n",
       "    </tr>\n",
       "    <tr>\n",
       "      <th>7</th>\n",
       "      <td>10434</td>\n",
       "      <td>Female</td>\n",
       "      <td>69.0</td>\n",
       "      <td>0</td>\n",
       "      <td>0</td>\n",
       "      <td>No</td>\n",
       "      <td>Private</td>\n",
       "      <td>Urban</td>\n",
       "      <td>94.39</td>\n",
       "      <td>22.8</td>\n",
       "      <td>never smoked</td>\n",
       "      <td>1</td>\n",
       "    </tr>\n",
       "    <tr>\n",
       "      <th>8</th>\n",
       "      <td>27419</td>\n",
       "      <td>Female</td>\n",
       "      <td>59.0</td>\n",
       "      <td>0</td>\n",
       "      <td>0</td>\n",
       "      <td>Yes</td>\n",
       "      <td>Private</td>\n",
       "      <td>Rural</td>\n",
       "      <td>76.15</td>\n",
       "      <td>28.1</td>\n",
       "      <td>Unknown</td>\n",
       "      <td>1</td>\n",
       "    </tr>\n",
       "    <tr>\n",
       "      <th>9</th>\n",
       "      <td>60491</td>\n",
       "      <td>Female</td>\n",
       "      <td>78.0</td>\n",
       "      <td>0</td>\n",
       "      <td>0</td>\n",
       "      <td>Yes</td>\n",
       "      <td>Private</td>\n",
       "      <td>Urban</td>\n",
       "      <td>58.57</td>\n",
       "      <td>24.2</td>\n",
       "      <td>Unknown</td>\n",
       "      <td>1</td>\n",
       "    </tr>\n",
       "    <tr>\n",
       "      <th>10</th>\n",
       "      <td>12109</td>\n",
       "      <td>Female</td>\n",
       "      <td>81.0</td>\n",
       "      <td>1</td>\n",
       "      <td>0</td>\n",
       "      <td>Yes</td>\n",
       "      <td>Private</td>\n",
       "      <td>Rural</td>\n",
       "      <td>80.43</td>\n",
       "      <td>29.7</td>\n",
       "      <td>never smoked</td>\n",
       "      <td>1</td>\n",
       "    </tr>\n",
       "    <tr>\n",
       "      <th>11</th>\n",
       "      <td>12095</td>\n",
       "      <td>Female</td>\n",
       "      <td>61.0</td>\n",
       "      <td>0</td>\n",
       "      <td>1</td>\n",
       "      <td>Yes</td>\n",
       "      <td>Govt_job</td>\n",
       "      <td>Rural</td>\n",
       "      <td>120.46</td>\n",
       "      <td>36.8</td>\n",
       "      <td>smokes</td>\n",
       "      <td>1</td>\n",
       "    </tr>\n",
       "    <tr>\n",
       "      <th>12</th>\n",
       "      <td>12175</td>\n",
       "      <td>Female</td>\n",
       "      <td>54.0</td>\n",
       "      <td>0</td>\n",
       "      <td>0</td>\n",
       "      <td>Yes</td>\n",
       "      <td>Private</td>\n",
       "      <td>Urban</td>\n",
       "      <td>104.51</td>\n",
       "      <td>27.3</td>\n",
       "      <td>smokes</td>\n",
       "      <td>1</td>\n",
       "    </tr>\n",
       "    <tr>\n",
       "      <th>13</th>\n",
       "      <td>8213</td>\n",
       "      <td>Male</td>\n",
       "      <td>78.0</td>\n",
       "      <td>0</td>\n",
       "      <td>1</td>\n",
       "      <td>Yes</td>\n",
       "      <td>Private</td>\n",
       "      <td>Urban</td>\n",
       "      <td>219.84</td>\n",
       "      <td>28.1</td>\n",
       "      <td>Unknown</td>\n",
       "      <td>1</td>\n",
       "    </tr>\n",
       "    <tr>\n",
       "      <th>14</th>\n",
       "      <td>5317</td>\n",
       "      <td>Female</td>\n",
       "      <td>79.0</td>\n",
       "      <td>0</td>\n",
       "      <td>1</td>\n",
       "      <td>Yes</td>\n",
       "      <td>Private</td>\n",
       "      <td>Urban</td>\n",
       "      <td>214.09</td>\n",
       "      <td>28.2</td>\n",
       "      <td>never smoked</td>\n",
       "      <td>1</td>\n",
       "    </tr>\n",
       "    <tr>\n",
       "      <th>15</th>\n",
       "      <td>58202</td>\n",
       "      <td>Female</td>\n",
       "      <td>50.0</td>\n",
       "      <td>1</td>\n",
       "      <td>0</td>\n",
       "      <td>Yes</td>\n",
       "      <td>Self-employed</td>\n",
       "      <td>Rural</td>\n",
       "      <td>167.41</td>\n",
       "      <td>30.9</td>\n",
       "      <td>never smoked</td>\n",
       "      <td>1</td>\n",
       "    </tr>\n",
       "    <tr>\n",
       "      <th>16</th>\n",
       "      <td>56112</td>\n",
       "      <td>Male</td>\n",
       "      <td>64.0</td>\n",
       "      <td>0</td>\n",
       "      <td>1</td>\n",
       "      <td>Yes</td>\n",
       "      <td>Private</td>\n",
       "      <td>Urban</td>\n",
       "      <td>191.61</td>\n",
       "      <td>37.5</td>\n",
       "      <td>smokes</td>\n",
       "      <td>1</td>\n",
       "    </tr>\n",
       "    <tr>\n",
       "      <th>17</th>\n",
       "      <td>34120</td>\n",
       "      <td>Male</td>\n",
       "      <td>75.0</td>\n",
       "      <td>1</td>\n",
       "      <td>0</td>\n",
       "      <td>Yes</td>\n",
       "      <td>Private</td>\n",
       "      <td>Urban</td>\n",
       "      <td>221.29</td>\n",
       "      <td>25.8</td>\n",
       "      <td>smokes</td>\n",
       "      <td>1</td>\n",
       "    </tr>\n",
       "    <tr>\n",
       "      <th>18</th>\n",
       "      <td>27458</td>\n",
       "      <td>Female</td>\n",
       "      <td>60.0</td>\n",
       "      <td>0</td>\n",
       "      <td>0</td>\n",
       "      <td>No</td>\n",
       "      <td>Private</td>\n",
       "      <td>Urban</td>\n",
       "      <td>89.22</td>\n",
       "      <td>37.8</td>\n",
       "      <td>never smoked</td>\n",
       "      <td>1</td>\n",
       "    </tr>\n",
       "    <tr>\n",
       "      <th>19</th>\n",
       "      <td>25226</td>\n",
       "      <td>Male</td>\n",
       "      <td>57.0</td>\n",
       "      <td>0</td>\n",
       "      <td>1</td>\n",
       "      <td>No</td>\n",
       "      <td>Govt_job</td>\n",
       "      <td>Urban</td>\n",
       "      <td>217.08</td>\n",
       "      <td>28.1</td>\n",
       "      <td>Unknown</td>\n",
       "      <td>1</td>\n",
       "    </tr>\n",
       "  </tbody>\n",
       "</table>\n",
       "</div>\n",
       "      <button class=\"colab-df-convert\" onclick=\"convertToInteractive('df-16c73f99-a15e-4ef3-807a-85f4e4d05917')\"\n",
       "              title=\"Convert this dataframe to an interactive table.\"\n",
       "              style=\"display:none;\">\n",
       "        \n",
       "  <svg xmlns=\"http://www.w3.org/2000/svg\" height=\"24px\"viewBox=\"0 0 24 24\"\n",
       "       width=\"24px\">\n",
       "    <path d=\"M0 0h24v24H0V0z\" fill=\"none\"/>\n",
       "    <path d=\"M18.56 5.44l.94 2.06.94-2.06 2.06-.94-2.06-.94-.94-2.06-.94 2.06-2.06.94zm-11 1L8.5 8.5l.94-2.06 2.06-.94-2.06-.94L8.5 2.5l-.94 2.06-2.06.94zm10 10l.94 2.06.94-2.06 2.06-.94-2.06-.94-.94-2.06-.94 2.06-2.06.94z\"/><path d=\"M17.41 7.96l-1.37-1.37c-.4-.4-.92-.59-1.43-.59-.52 0-1.04.2-1.43.59L10.3 9.45l-7.72 7.72c-.78.78-.78 2.05 0 2.83L4 21.41c.39.39.9.59 1.41.59.51 0 1.02-.2 1.41-.59l7.78-7.78 2.81-2.81c.8-.78.8-2.07 0-2.86zM5.41 20L4 18.59l7.72-7.72 1.47 1.35L5.41 20z\"/>\n",
       "  </svg>\n",
       "      </button>\n",
       "      \n",
       "  <style>\n",
       "    .colab-df-container {\n",
       "      display:flex;\n",
       "      flex-wrap:wrap;\n",
       "      gap: 12px;\n",
       "    }\n",
       "\n",
       "    .colab-df-convert {\n",
       "      background-color: #E8F0FE;\n",
       "      border: none;\n",
       "      border-radius: 50%;\n",
       "      cursor: pointer;\n",
       "      display: none;\n",
       "      fill: #1967D2;\n",
       "      height: 32px;\n",
       "      padding: 0 0 0 0;\n",
       "      width: 32px;\n",
       "    }\n",
       "\n",
       "    .colab-df-convert:hover {\n",
       "      background-color: #E2EBFA;\n",
       "      box-shadow: 0px 1px 2px rgba(60, 64, 67, 0.3), 0px 1px 3px 1px rgba(60, 64, 67, 0.15);\n",
       "      fill: #174EA6;\n",
       "    }\n",
       "\n",
       "    [theme=dark] .colab-df-convert {\n",
       "      background-color: #3B4455;\n",
       "      fill: #D2E3FC;\n",
       "    }\n",
       "\n",
       "    [theme=dark] .colab-df-convert:hover {\n",
       "      background-color: #434B5C;\n",
       "      box-shadow: 0px 1px 3px 1px rgba(0, 0, 0, 0.15);\n",
       "      filter: drop-shadow(0px 1px 2px rgba(0, 0, 0, 0.3));\n",
       "      fill: #FFFFFF;\n",
       "    }\n",
       "  </style>\n",
       "\n",
       "      <script>\n",
       "        const buttonEl =\n",
       "          document.querySelector('#df-16c73f99-a15e-4ef3-807a-85f4e4d05917 button.colab-df-convert');\n",
       "        buttonEl.style.display =\n",
       "          google.colab.kernel.accessAllowed ? 'block' : 'none';\n",
       "\n",
       "        async function convertToInteractive(key) {\n",
       "          const element = document.querySelector('#df-16c73f99-a15e-4ef3-807a-85f4e4d05917');\n",
       "          const dataTable =\n",
       "            await google.colab.kernel.invokeFunction('convertToInteractive',\n",
       "                                                     [key], {});\n",
       "          if (!dataTable) return;\n",
       "\n",
       "          const docLinkHtml = 'Like what you see? Visit the ' +\n",
       "            '<a target=\"_blank\" href=https://colab.research.google.com/notebooks/data_table.ipynb>data table notebook</a>'\n",
       "            + ' to learn more about interactive tables.';\n",
       "          element.innerHTML = '';\n",
       "          dataTable['output_type'] = 'display_data';\n",
       "          await google.colab.output.renderOutput(dataTable, element);\n",
       "          const docLink = document.createElement('div');\n",
       "          docLink.innerHTML = docLinkHtml;\n",
       "          element.appendChild(docLink);\n",
       "        }\n",
       "      </script>\n",
       "    </div>\n",
       "  </div>\n",
       "  "
      ]
     },
     "metadata": {},
     "execution_count": 229
    },
    {
     "output_type": "display_data",
     "data": {
      "text/plain": [
       "<Figure size 640x480 with 1 Axes>"
      ],
      "image/png": "[encoded data removed]"
     },
     "metadata": {}
    }
   ]
  },
  {
   "cell_type": "code",
   "source": [
    "cols = ['id', 'gender', 'age', 'hypertension', 'heart_disease', 'ever_married', 'work_type', 'Residence_type',\n",
    "        'avg_glucose_level', 'bmi', 'smoking_status', 'stroke']\n",
    "df_stroke = df_stroke[cols]\n",
    "df_stroke.columns = df_stroke.columns.str.lower()\n",
    "df_stroke.head(20)"
   ],
   "metadata": {
    "colab": {
     "base_uri": "https://localhost:8080/",
     "height": 677
    },
    "id": "icvSqQ9i9O9s",
    "outputId": "1456d722-eff3-4555-faa8-7d8d91e22872"
   },
   "id": "icvSqQ9i9O9s",
   "execution_count": 230,
   "outputs": [
    {
     "output_type": "execute_result",
     "data": {
      "text/plain": [
       "       id  gender   age  hypertension  heart_disease ever_married  \\\n",
       "0    9046    Male  67.0             0              1          Yes   \n",
       "1   51676  Female  61.0             0              0          Yes   \n",
       "2   31112    Male  80.0             0              1          Yes   \n",
       "3   60182  Female  49.0             0              0          Yes   \n",
       "4    1665  Female  79.0             1              0          Yes   \n",
       "5   56669    Male  81.0             0              0          Yes   \n",
       "6   53882    Male  74.0             1              1          Yes   \n",
       "7   10434  Female  69.0             0              0           No   \n",
       "8   27419  Female  59.0             0              0          Yes   \n",
       "9   60491  Female  78.0             0              0          Yes   \n",
       "10  12109  Female  81.0             1              0          Yes   \n",
       "11  12095  Female  61.0             0              1          Yes   \n",
       "12  12175  Female  54.0             0              0          Yes   \n",
       "13   8213    Male  78.0             0              1          Yes   \n",
       "14   5317  Female  79.0             0              1          Yes   \n",
       "15  58202  Female  50.0             1              0          Yes   \n",
       "16  56112    Male  64.0             0              1          Yes   \n",
       "17  34120    Male  75.0             1              0          Yes   \n",
       "18  27458  Female  60.0             0              0           No   \n",
       "19  25226    Male  57.0             0              1           No   \n",
       "\n",
       "        work_type residence_type  avg_glucose_level   bmi   smoking_status  \\\n",
       "0         Private          Urban             228.69  36.6  formerly smoked   \n",
       "1   Self-employed          Rural             202.21  28.1     never smoked   \n",
       "2         Private          Rural             105.92  32.5     never smoked   \n",
       "3         Private          Urban             171.23  34.4           smokes   \n",
       "4   Self-employed          Rural             174.12  24.0     never smoked   \n",
       "5         Private          Urban             186.21  29.0  formerly smoked   \n",
       "6         Private          Rural              70.09  27.4     never smoked   \n",
       "7         Private          Urban              94.39  22.8     never smoked   \n",
       "8         Private          Rural              76.15  28.1          Unknown   \n",
       "9         Private          Urban              58.57  24.2          Unknown   \n",
       "10        Private          Rural              80.43  29.7     never smoked   \n",
       "11       Govt_job          Rural             120.46  36.8           smokes   \n",
       "12        Private          Urban             104.51  27.3           smokes   \n",
       "13        Private          Urban             219.84  28.1          Unknown   \n",
       "14        Private          Urban             214.09  28.2     never smoked   \n",
       "15  Self-employed          Rural             167.41  30.9     never smoked   \n",
       "16        Private          Urban             191.61  37.5           smokes   \n",
       "17        Private          Urban             221.29  25.8           smokes   \n",
       "18        Private          Urban              89.22  37.8     never smoked   \n",
       "19       Govt_job          Urban             217.08  28.1          Unknown   \n",
       "\n",
       "    stroke  \n",
       "0        1  \n",
       "1        1  \n",
       "2        1  \n",
       "3        1  \n",
       "4        1  \n",
       "5        1  \n",
       "6        1  \n",
       "7        1  \n",
       "8        1  \n",
       "9        1  \n",
       "10       1  \n",
       "11       1  \n",
       "12       1  \n",
       "13       1  \n",
       "14       1  \n",
       "15       1  \n",
       "16       1  \n",
       "17       1  \n",
       "18       1  \n",
       "19       1  "
      ],
      "text/html": [
       "\n",
       "  <div id=\"df-f9fe6b9a-f699-4888-a850-21a41d001246\">\n",
       "    <div class=\"colab-df-container\">\n",
       "      <div>\n",
       "<style scoped>\n",
       "    .dataframe tbody tr th:only-of-type {\n",
       "        vertical-align: middle;\n",
       "    }\n",
       "\n",
       "    .dataframe tbody tr th {\n",
       "        vertical-align: top;\n",
       "    }\n",
       "\n",
       "    .dataframe thead th {\n",
       "        text-align: right;\n",
       "    }\n",
       "</style>\n",
       "<table border=\"1\" class=\"dataframe\">\n",
       "  <thead>\n",
       "    <tr style=\"text-align: right;\">\n",
       "      <th></th>\n",
       "      <th>id</th>\n",
       "      <th>gender</th>\n",
       "      <th>age</th>\n",
       "      <th>hypertension</th>\n",
       "      <th>heart_disease</th>\n",
       "      <th>ever_married</th>\n",
       "      <th>work_type</th>\n",
       "      <th>residence_type</th>\n",
       "      <th>avg_glucose_level</th>\n",
       "      <th>bmi</th>\n",
       "      <th>smoking_status</th>\n",
       "      <th>stroke</th>\n",
       "    </tr>\n",
       "  </thead>\n",
       "  <tbody>\n",
       "    <tr>\n",
       "      <th>0</th>\n",
       "      <td>9046</td>\n",
       "      <td>Male</td>\n",
       "      <td>67.0</td>\n",
       "      <td>0</td>\n",
       "      <td>1</td>\n",
       "      <td>Yes</td>\n",
       "      <td>Private</td>\n",
       "      <td>Urban</td>\n",
       "      <td>228.69</td>\n",
       "      <td>36.6</td>\n",
       "      <td>formerly smoked</td>\n",
       "      <td>1</td>\n",
       "    </tr>\n",
       "    <tr>\n",
       "      <th>1</th>\n",
       "      <td>51676</td>\n",
       "      <td>Female</td>\n",
       "      <td>61.0</td>\n",
       "      <td>0</td>\n",
       "      <td>0</td>\n",
       "      <td>Yes</td>\n",
       "      <td>Self-employed</td>\n",
       "      <td>Rural</td>\n",
       "      <td>202.21</td>\n",
       "      <td>28.1</td>\n",
       "      <td>never smoked</td>\n",
       "      <td>1</td>\n",
       "    </tr>\n",
       "    <tr>\n",
       "      <th>2</th>\n",
       "      <td>31112</td>\n",
       "      <td>Male</td>\n",
       "      <td>80.0</td>\n",
       "      <td>0</td>\n",
       "      <td>1</td>\n",
       "      <td>Yes</td>\n",
       "      <td>Private</td>\n",
       "      <td>Rural</td>\n",
       "      <td>105.92</td>\n",
       "      <td>32.5</td>\n",
       "      <td>never smoked</td>\n",
       "      <td>1</td>\n",
       "    </tr>\n",
       "    <tr>\n",
       "      <th>3</th>\n",
       "      <td>60182</td>\n",
       "      <td>Female</td>\n",
       "      <td>49.0</td>\n",
       "      <td>0</td>\n",
       "      <td>0</td>\n",
       "      <td>Yes</td>\n",
       "      <td>Private</td>\n",
       "      <td>Urban</td>\n",
       "      <td>171.23</td>\n",
       "      <td>34.4</td>\n",
       "      <td>smokes</td>\n",
       "      <td>1</td>\n",
       "    </tr>\n",
       "    <tr>\n",
       "      <th>4</th>\n",
       "      <td>1665</td>\n",
       "      <td>Female</td>\n",
       "      <td>79.0</td>\n",
       "      <td>1</td>\n",
       "      <td>0</td>\n",
       "      <td>Yes</td>\n",
       "      <td>Self-employed</td>\n",
       "      <td>Rural</td>\n",
       "      <td>174.12</td>\n",
       "      <td>24.0</td>\n",
       "      <td>never smoked</td>\n",
       "      <td>1</td>\n",
       "    </tr>\n",
       "    <tr>\n",
       "      <th>5</th>\n",
       "      <td>56669</td>\n",
       "      <td>Male</td>\n",
       "      <td>81.0</td>\n",
       "      <td>0</td>\n",
       "      <td>0</td>\n",
       "      <td>Yes</td>\n",
       "      <td>Private</td>\n",
       "      <td>Urban</td>\n",
       "      <td>186.21</td>\n",
       "      <td>29.0</td>\n",
       "      <td>formerly smoked</td>\n",
       "      <td>1</td>\n",
       "    </tr>\n",
       "    <tr>\n",
       "      <th>6</th>\n",
       "      <td>53882</td>\n",
       "      <td>Male</td>\n",
       "      <td>74.0</td>\n",
       "      <td>1</td>\n",
       "      <td>1</td>\n",
       "      <td>Yes</td>\n",
       "      <td>Private</td>\n",
       "      <td>Rural</td>\n",
       "      <td>70.09</td>\n",
       "      <td>27.4</td>\n",
       "      <td>never smoked</td>\n",
       "      <td>1</td>\n",
       "    </tr>\n",
       "    <tr>\n",
       "      <th>7</th>\n",
       "      <td>10434</td>\n",
       "      <td>Female</td>\n",
       "      <td>69.0</td>\n",
       "      <td>0</td>\n",
       "      <td>0</td>\n",
       "      <td>No</td>\n",
       "      <td>Private</td>\n",
       "      <td>Urban</td>\n",
       "      <td>94.39</td>\n",
       "      <td>22.8</td>\n",
       "      <td>never smoked</td>\n",
       "      <td>1</td>\n",
       "    </tr>\n",
       "    <tr>\n",
       "      <th>8</th>\n",
       "      <td>27419</td>\n",
       "      <td>Female</td>\n",
       "      <td>59.0</td>\n",
       "      <td>0</td>\n",
       "      <td>0</td>\n",
       "      <td>Yes</td>\n",
       "      <td>Private</td>\n",
       "      <td>Rural</td>\n",
       "      <td>76.15</td>\n",
       "      <td>28.1</td>\n",
       "      <td>Unknown</td>\n",
       "      <td>1</td>\n",
       "    </tr>\n",
       "    <tr>\n",
       "      <th>9</th>\n",
       "      <td>60491</td>\n",
       "      <td>Female</td>\n",
       "      <td>78.0</td>\n",
       "      <td>0</td>\n",
       "      <td>0</td>\n",
       "      <td>Yes</td>\n",
       "      <td>Private</td>\n",
       "      <td>Urban</td>\n",
       "      <td>58.57</td>\n",
       "      <td>24.2</td>\n",
       "      <td>Unknown</td>\n",
       "      <td>1</td>\n",
       "    </tr>\n",
       "    <tr>\n",
       "      <th>10</th>\n",
       "      <td>12109</td>\n",
       "      <td>Female</td>\n",
       "      <td>81.0</td>\n",
       "      <td>1</td>\n",
       "      <td>0</td>\n",
       "      <td>Yes</td>\n",
       "      <td>Private</td>\n",
       "      <td>Rural</td>\n",
       "      <td>80.43</td>\n",
       "      <td>29.7</td>\n",
       "      <td>never smoked</td>\n",
       "      <td>1</td>\n",
       "    </tr>\n",
       "    <tr>\n",
       "      <th>11</th>\n",
       "      <td>12095</td>\n",
       "      <td>Female</td>\n",
       "      <td>61.0</td>\n",
       "      <td>0</td>\n",
       "      <td>1</td>\n",
       "      <td>Yes</td>\n",
       "      <td>Govt_job</td>\n",
       "      <td>Rural</td>\n",
       "      <td>120.46</td>\n",
       "      <td>36.8</td>\n",
       "      <td>smokes</td>\n",
       "      <td>1</td>\n",
       "    </tr>\n",
       "    <tr>\n",
       "      <th>12</th>\n",
       "      <td>12175</td>\n",
       "      <td>Female</td>\n",
       "      <td>54.0</td>\n",
       "      <td>0</td>\n",
       "      <td>0</td>\n",
       "      <td>Yes</td>\n",
       "      <td>Private</td>\n",
       "      <td>Urban</td>\n",
       "      <td>104.51</td>\n",
       "      <td>27.3</td>\n",
       "      <td>smokes</td>\n",
       "      <td>1</td>\n",
       "    </tr>\n",
       "    <tr>\n",
       "      <th>13</th>\n",
       "      <td>8213</td>\n",
       "      <td>Male</td>\n",
       "      <td>78.0</td>\n",
       "      <td>0</td>\n",
       "      <td>1</td>\n",
       "      <td>Yes</td>\n",
       "      <td>Private</td>\n",
       "      <td>Urban</td>\n",
       "      <td>219.84</td>\n",
       "      <td>28.1</td>\n",
       "      <td>Unknown</td>\n",
       "      <td>1</td>\n",
       "    </tr>\n",
       "    <tr>\n",
       "      <th>14</th>\n",
       "      <td>5317</td>\n",
       "      <td>Female</td>\n",
       "      <td>79.0</td>\n",
       "      <td>0</td>\n",
       "      <td>1</td>\n",
       "      <td>Yes</td>\n",
       "      <td>Private</td>\n",
       "      <td>Urban</td>\n",
       "      <td>214.09</td>\n",
       "      <td>28.2</td>\n",
       "      <td>never smoked</td>\n",
       "      <td>1</td>\n",
       "    </tr>\n",
       "    <tr>\n",
       "      <th>15</th>\n",
       "      <td>58202</td>\n",
       "      <td>Female</td>\n",
       "      <td>50.0</td>\n",
       "      <td>1</td>\n",
       "      <td>0</td>\n",
       "      <td>Yes</td>\n",
       "      <td>Self-employed</td>\n",
       "      <td>Rural</td>\n",
       "      <td>167.41</td>\n",
       "      <td>30.9</td>\n",
       "      <td>never smoked</td>\n",
       "      <td>1</td>\n",
       "    </tr>\n",
       "    <tr>\n",
       "      <th>16</th>\n",
       "      <td>56112</td>\n",
       "      <td>Male</td>\n",
       "      <td>64.0</td>\n",
       "      <td>0</td>\n",
       "      <td>1</td>\n",
       "      <td>Yes</td>\n",
       "      <td>Private</td>\n",
       "      <td>Urban</td>\n",
       "      <td>191.61</td>\n",
       "      <td>37.5</td>\n",
       "      <td>smokes</td>\n",
       "      <td>1</td>\n",
       "    </tr>\n",
       "    <tr>\n",
       "      <th>17</th>\n",
       "      <td>34120</td>\n",
       "      <td>Male</td>\n",
       "      <td>75.0</td>\n",
       "      <td>1</td>\n",
       "      <td>0</td>\n",
       "      <td>Yes</td>\n",
       "      <td>Private</td>\n",
       "      <td>Urban</td>\n",
       "      <td>221.29</td>\n",
       "      <td>25.8</td>\n",
       "      <td>smokes</td>\n",
       "      <td>1</td>\n",
       "    </tr>\n",
       "    <tr>\n",
       "      <th>18</th>\n",
       "      <td>27458</td>\n",
       "      <td>Female</td>\n",
       "      <td>60.0</td>\n",
       "      <td>0</td>\n",
       "      <td>0</td>\n",
       "      <td>No</td>\n",
       "      <td>Private</td>\n",
       "      <td>Urban</td>\n",
       "      <td>89.22</td>\n",
       "      <td>37.8</td>\n",
       "      <td>never smoked</td>\n",
       "      <td>1</td>\n",
       "    </tr>\n",
       "    <tr>\n",
       "      <th>19</th>\n",
       "      <td>25226</td>\n",
       "      <td>Male</td>\n",
       "      <td>57.0</td>\n",
       "      <td>0</td>\n",
       "      <td>1</td>\n",
       "      <td>No</td>\n",
       "      <td>Govt_job</td>\n",
       "      <td>Urban</td>\n",
       "      <td>217.08</td>\n",
       "      <td>28.1</td>\n",
       "      <td>Unknown</td>\n",
       "      <td>1</td>\n",
       "    </tr>\n",
       "  </tbody>\n",
       "</table>\n",
       "</div>\n",
       "      <button class=\"colab-df-convert\" onclick=\"convertToInteractive('df-f9fe6b9a-f699-4888-a850-21a41d001246')\"\n",
       "              title=\"Convert this dataframe to an interactive table.\"\n",
       "              style=\"display:none;\">\n",
       "        \n",
       "  <svg xmlns=\"http://www.w3.org/2000/svg\" height=\"24px\"viewBox=\"0 0 24 24\"\n",
       "       width=\"24px\">\n",
       "    <path d=\"M0 0h24v24H0V0z\" fill=\"none\"/>\n",
       "    <path d=\"M18.56 5.44l.94 2.06.94-2.06 2.06-.94-2.06-.94-.94-2.06-.94 2.06-2.06.94zm-11 1L8.5 8.5l.94-2.06 2.06-.94-2.06-.94L8.5 2.5l-.94 2.06-2.06.94zm10 10l.94 2.06.94-2.06 2.06-.94-2.06-.94-.94-2.06-.94 2.06-2.06.94z\"/><path d=\"M17.41 7.96l-1.37-1.37c-.4-.4-.92-.59-1.43-.59-.52 0-1.04.2-1.43.59L10.3 9.45l-7.72 7.72c-.78.78-.78 2.05 0 2.83L4 21.41c.39.39.9.59 1.41.59.51 0 1.02-.2 1.41-.59l7.78-7.78 2.81-2.81c.8-.78.8-2.07 0-2.86zM5.41 20L4 18.59l7.72-7.72 1.47 1.35L5.41 20z\"/>\n",
       "  </svg>\n",
       "      </button>\n",
       "      \n",
       "  <style>\n",
       "    .colab-df-container {\n",
       "      display:flex;\n",
       "      flex-wrap:wrap;\n",
       "      gap: 12px;\n",
       "    }\n",
       "\n",
       "    .colab-df-convert {\n",
       "      background-color: #E8F0FE;\n",
       "      border: none;\n",
       "      border-radius: 50%;\n",
       "      cursor: pointer;\n",
       "      display: none;\n",
       "      fill: #1967D2;\n",
       "      height: 32px;\n",
       "      padding: 0 0 0 0;\n",
       "      width: 32px;\n",
       "    }\n",
       "\n",
       "    .colab-df-convert:hover {\n",
       "      background-color: #E2EBFA;\n",
       "      box-shadow: 0px 1px 2px rgba(60, 64, 67, 0.3), 0px 1px 3px 1px rgba(60, 64, 67, 0.15);\n",
       "      fill: #174EA6;\n",
       "    }\n",
       "\n",
       "    [theme=dark] .colab-df-convert {\n",
       "      background-color: #3B4455;\n",
       "      fill: #D2E3FC;\n",
       "    }\n",
       "\n",
       "    [theme=dark] .colab-df-convert:hover {\n",
       "      background-color: #434B5C;\n",
       "      box-shadow: 0px 1px 3px 1px rgba(0, 0, 0, 0.15);\n",
       "      filter: drop-shadow(0px 1px 2px rgba(0, 0, 0, 0.3));\n",
       "      fill: #FFFFFF;\n",
       "    }\n",
       "  </style>\n",
       "\n",
       "      <script>\n",
       "        const buttonEl =\n",
       "          document.querySelector('#df-f9fe6b9a-f699-4888-a850-21a41d001246 button.colab-df-convert');\n",
       "        buttonEl.style.display =\n",
       "          google.colab.kernel.accessAllowed ? 'block' : 'none';\n",
       "\n",
       "        async function convertToInteractive(key) {\n",
       "          const element = document.querySelector('#df-f9fe6b9a-f699-4888-a850-21a41d001246');\n",
       "          const dataTable =\n",
       "            await google.colab.kernel.invokeFunction('convertToInteractive',\n",
       "                                                     [key], {});\n",
       "          if (!dataTable) return;\n",
       "\n",
       "          const docLinkHtml = 'Like what you see? Visit the ' +\n",
       "            '<a target=\"_blank\" href=https://colab.research.google.com/notebooks/data_table.ipynb>data table notebook</a>'\n",
       "            + ' to learn more about interactive tables.';\n",
       "          element.innerHTML = '';\n",
       "          dataTable['output_type'] = 'display_data';\n",
       "          await google.colab.output.renderOutput(dataTable, element);\n",
       "          const docLink = document.createElement('div');\n",
       "          docLink.innerHTML = docLinkHtml;\n",
       "          element.appendChild(docLink);\n",
       "        }\n",
       "      </script>\n",
       "    </div>\n",
       "  </div>\n",
       "  "
      ]
     },
     "metadata": {},
     "execution_count": 230
    }
   ]
  },
  {
   "cell_type": "code",
   "source": [
    "df_stroke.info()\n",
    "df_stroke.describe()"
   ],
   "metadata": {
    "colab": {
     "base_uri": "https://localhost:8080/",
     "height": 630
    },
    "id": "jHhIliMX9SXn",
    "outputId": "1b629c51-4b55-4a82-b022-dc7c446ed7cb"
   },
   "id": "jHhIliMX9SXn",
   "execution_count": 231,
   "outputs": [
    {
     "output_type": "stream",
     "name": "stdout",
     "text": [
      "<class 'pandas.core.frame.DataFrame'>\n",
      "RangeIndex: 5110 entries, 0 to 5109\n",
      "Data columns (total 12 columns):\n",
      " #   Column             Non-Null Count  Dtype  \n",
      "---  ------             --------------  -----  \n",
      " 0   id                 5110 non-null   int64  \n",
      " 1   gender             5110 non-null   object \n",
      " 2   age                5110 non-null   float64\n",
      " 3   hypertension       5110 non-null   int64  \n",
      " 4   heart_disease      5110 non-null   int64  \n",
      " 5   ever_married       5110 non-null   object \n",
      " 6   work_type          5110 non-null   object \n",
      " 7   residence_type     5110 non-null   object \n",
      " 8   avg_glucose_level  5110 non-null   float64\n",
      " 9   bmi                5110 non-null   float64\n",
      " 10  smoking_status     5110 non-null   object \n",
      " 11  stroke             5110 non-null   int64  \n",
      "dtypes: float64(3), int64(4), object(5)\n",
      "memory usage: 479.2+ KB\n"
     ]
    },
    {
     "output_type": "execute_result",
     "data": {
      "text/plain": [
       "                 id          age  hypertension  heart_disease  \\\n",
       "count   5110.000000  5110.000000   5110.000000    5110.000000   \n",
       "mean   36517.829354    43.226614      0.097456       0.054012   \n",
       "std    21161.721625    22.612647      0.296607       0.226063   \n",
       "min       67.000000     0.080000      0.000000       0.000000   \n",
       "25%    17741.250000    25.000000      0.000000       0.000000   \n",
       "50%    36932.000000    45.000000      0.000000       0.000000   \n",
       "75%    54682.000000    61.000000      0.000000       0.000000   \n",
       "max    72940.000000    82.000000      1.000000       1.000000   \n",
       "\n",
       "       avg_glucose_level          bmi       stroke  \n",
       "count        5110.000000  5110.000000  5110.000000  \n",
       "mean          106.147677    28.862035     0.048728  \n",
       "std            45.283560     7.699562     0.215320  \n",
       "min            55.120000    10.300000     0.000000  \n",
       "25%            77.245000    23.800000     0.000000  \n",
       "50%            91.885000    28.100000     0.000000  \n",
       "75%           114.090000    32.800000     0.000000  \n",
       "max           271.740000    97.600000     1.000000  "
      ],
      "text/html": [
       "\n",
       "  <div id=\"df-c6ee2a7a-b9ff-4637-902c-99180d7b2f20\">\n",
       "    <div class=\"colab-df-container\">\n",
       "      <div>\n",
       "<style scoped>\n",
       "    .dataframe tbody tr th:only-of-type {\n",
       "        vertical-align: middle;\n",
       "    }\n",
       "\n",
       "    .dataframe tbody tr th {\n",
       "        vertical-align: top;\n",
       "    }\n",
       "\n",
       "    .dataframe thead th {\n",
       "        text-align: right;\n",
       "    }\n",
       "</style>\n",
       "<table border=\"1\" class=\"dataframe\">\n",
       "  <thead>\n",
       "    <tr style=\"text-align: right;\">\n",
       "      <th></th>\n",
       "      <th>id</th>\n",
       "      <th>age</th>\n",
       "      <th>hypertension</th>\n",
       "      <th>heart_disease</th>\n",
       "      <th>avg_glucose_level</th>\n",
       "      <th>bmi</th>\n",
       "      <th>stroke</th>\n",
       "    </tr>\n",
       "  </thead>\n",
       "  <tbody>\n",
       "    <tr>\n",
       "      <th>count</th>\n",
       "      <td>5110.000000</td>\n",
       "      <td>5110.000000</td>\n",
       "      <td>5110.000000</td>\n",
       "      <td>5110.000000</td>\n",
       "      <td>5110.000000</td>\n",
       "      <td>5110.000000</td>\n",
       "      <td>5110.000000</td>\n",
       "    </tr>\n",
       "    <tr>\n",
       "      <th>mean</th>\n",
       "      <td>36517.829354</td>\n",
       "      <td>43.226614</td>\n",
       "      <td>0.097456</td>\n",
       "      <td>0.054012</td>\n",
       "      <td>106.147677</td>\n",
       "      <td>28.862035</td>\n",
       "      <td>0.048728</td>\n",
       "    </tr>\n",
       "    <tr>\n",
       "      <th>std</th>\n",
       "      <td>21161.721625</td>\n",
       "      <td>22.612647</td>\n",
       "      <td>0.296607</td>\n",
       "      <td>0.226063</td>\n",
       "      <td>45.283560</td>\n",
       "      <td>7.699562</td>\n",
       "      <td>0.215320</td>\n",
       "    </tr>\n",
       "    <tr>\n",
       "      <th>min</th>\n",
       "      <td>67.000000</td>\n",
       "      <td>0.080000</td>\n",
       "      <td>0.000000</td>\n",
       "      <td>0.000000</td>\n",
       "      <td>55.120000</td>\n",
       "      <td>10.300000</td>\n",
       "      <td>0.000000</td>\n",
       "    </tr>\n",
       "    <tr>\n",
       "      <th>25%</th>\n",
       "      <td>17741.250000</td>\n",
       "      <td>25.000000</td>\n",
       "      <td>0.000000</td>\n",
       "      <td>0.000000</td>\n",
       "      <td>77.245000</td>\n",
       "      <td>23.800000</td>\n",
       "      <td>0.000000</td>\n",
       "    </tr>\n",
       "    <tr>\n",
       "      <th>50%</th>\n",
       "      <td>36932.000000</td>\n",
       "      <td>45.000000</td>\n",
       "      <td>0.000000</td>\n",
       "      <td>0.000000</td>\n",
       "      <td>91.885000</td>\n",
       "      <td>28.100000</td>\n",
       "      <td>0.000000</td>\n",
       "    </tr>\n",
       "    <tr>\n",
       "      <th>75%</th>\n",
       "      <td>54682.000000</td>\n",
       "      <td>61.000000</td>\n",
       "      <td>0.000000</td>\n",
       "      <td>0.000000</td>\n",
       "      <td>114.090000</td>\n",
       "      <td>32.800000</td>\n",
       "      <td>0.000000</td>\n",
       "    </tr>\n",
       "    <tr>\n",
       "      <th>max</th>\n",
       "      <td>72940.000000</td>\n",
       "      <td>82.000000</td>\n",
       "      <td>1.000000</td>\n",
       "      <td>1.000000</td>\n",
       "      <td>271.740000</td>\n",
       "      <td>97.600000</td>\n",
       "      <td>1.000000</td>\n",
       "    </tr>\n",
       "  </tbody>\n",
       "</table>\n",
       "</div>\n",
       "      <button class=\"colab-df-convert\" onclick=\"convertToInteractive('df-c6ee2a7a-b9ff-4637-902c-99180d7b2f20')\"\n",
       "              title=\"Convert this dataframe to an interactive table.\"\n",
       "              style=\"display:none;\">\n",
       "        \n",
       "  <svg xmlns=\"http://www.w3.org/2000/svg\" height=\"24px\"viewBox=\"0 0 24 24\"\n",
       "       width=\"24px\">\n",
       "    <path d=\"M0 0h24v24H0V0z\" fill=\"none\"/>\n",
       "    <path d=\"M18.56 5.44l.94 2.06.94-2.06 2.06-.94-2.06-.94-.94-2.06-.94 2.06-2.06.94zm-11 1L8.5 8.5l.94-2.06 2.06-.94-2.06-.94L8.5 2.5l-.94 2.06-2.06.94zm10 10l.94 2.06.94-2.06 2.06-.94-2.06-.94-.94-2.06-.94 2.06-2.06.94z\"/><path d=\"M17.41 7.96l-1.37-1.37c-.4-.4-.92-.59-1.43-.59-.52 0-1.04.2-1.43.59L10.3 9.45l-7.72 7.72c-.78.78-.78 2.05 0 2.83L4 21.41c.39.39.9.59 1.41.59.51 0 1.02-.2 1.41-.59l7.78-7.78 2.81-2.81c.8-.78.8-2.07 0-2.86zM5.41 20L4 18.59l7.72-7.72 1.47 1.35L5.41 20z\"/>\n",
       "  </svg>\n",
       "      </button>\n",
       "      \n",
       "  <style>\n",
       "    .colab-df-container {\n",
       "      display:flex;\n",
       "      flex-wrap:wrap;\n",
       "      gap: 12px;\n",
       "    }\n",
       "\n",
       "    .colab-df-convert {\n",
       "      background-color: #E8F0FE;\n",
       "      border: none;\n",
       "      border-radius: 50%;\n",
       "      cursor: pointer;\n",
       "      display: none;\n",
       "      fill: #1967D2;\n",
       "      height: 32px;\n",
       "      padding: 0 0 0 0;\n",
       "      width: 32px;\n",
       "    }\n",
       "\n",
       "    .colab-df-convert:hover {\n",
       "      background-color: #E2EBFA;\n",
       "      box-shadow: 0px 1px 2px rgba(60, 64, 67, 0.3), 0px 1px 3px 1px rgba(60, 64, 67, 0.15);\n",
       "      fill: #174EA6;\n",
       "    }\n",
       "\n",
       "    [theme=dark] .colab-df-convert {\n",
       "      background-color: #3B4455;\n",
       "      fill: #D2E3FC;\n",
       "    }\n",
       "\n",
       "    [theme=dark] .colab-df-convert:hover {\n",
       "      background-color: #434B5C;\n",
       "      box-shadow: 0px 1px 3px 1px rgba(0, 0, 0, 0.15);\n",
       "      filter: drop-shadow(0px 1px 2px rgba(0, 0, 0, 0.3));\n",
       "      fill: #FFFFFF;\n",
       "    }\n",
       "  </style>\n",
       "\n",
       "      <script>\n",
       "        const buttonEl =\n",
       "          document.querySelector('#df-c6ee2a7a-b9ff-4637-902c-99180d7b2f20 button.colab-df-convert');\n",
       "        buttonEl.style.display =\n",
       "          google.colab.kernel.accessAllowed ? 'block' : 'none';\n",
       "\n",
       "        async function convertToInteractive(key) {\n",
       "          const element = document.querySelector('#df-c6ee2a7a-b9ff-4637-902c-99180d7b2f20');\n",
       "          const dataTable =\n",
       "            await google.colab.kernel.invokeFunction('convertToInteractive',\n",
       "                                                     [key], {});\n",
       "          if (!dataTable) return;\n",
       "\n",
       "          const docLinkHtml = 'Like what you see? Visit the ' +\n",
       "            '<a target=\"_blank\" href=https://colab.research.google.com/notebooks/data_table.ipynb>data table notebook</a>'\n",
       "            + ' to learn more about interactive tables.';\n",
       "          element.innerHTML = '';\n",
       "          dataTable['output_type'] = 'display_data';\n",
       "          await google.colab.output.renderOutput(dataTable, element);\n",
       "          const docLink = document.createElement('div');\n",
       "          docLink.innerHTML = docLinkHtml;\n",
       "          element.appendChild(docLink);\n",
       "        }\n",
       "      </script>\n",
       "    </div>\n",
       "  </div>\n",
       "  "
      ]
     },
     "metadata": {},
     "execution_count": 231
    }
   ]
  },
  {
   "cell_type": "code",
   "source": [
    "df_stroke.head()\n",
    "print(df_stroke.shape)\n",
    "cols_to_check = ['id', 'gender', 'age', 'hypertension', 'heart_disease', 'ever_married', 'work_type', 'residence_type',\n",
    "                 'avg_glucose_level', 'bmi', 'smoking_status', 'stroke']\n",
    "df_check = df_stroke[~df_stroke[cols_to_check].duplicated(keep='last')]\n",
    "df_check.shape"
   ],
   "metadata": {
    "colab": {
     "base_uri": "https://localhost:8080/"
    },
    "id": "WPLATv439WVs",
    "outputId": "61434835-1e73-4803-9a38-815739e55f51"
   },
   "id": "WPLATv439WVs",
   "execution_count": 232,
   "outputs": [
    {
     "output_type": "stream",
     "name": "stdout",
     "text": [
      "(5110, 12)\n"
     ]
    },
    {
     "output_type": "execute_result",
     "data": {
      "text/plain": [
       "(5110, 12)"
      ]
     },
     "metadata": {},
     "execution_count": 232
    }
   ]
  },
  {
   "cell_type": "code",
   "source": [
    "duplicate = df_stroke.duplicated()\n",
    "df_stroke.loc[duplicate == True]"
   ],
   "metadata": {
    "colab": {
     "base_uri": "https://localhost:8080/",
     "height": 49
    },
    "id": "tNrLMEEY9hTR",
    "outputId": "1bb9dd5a-7014-4cb3-d593-a0c9f82ecc5f"
   },
   "id": "tNrLMEEY9hTR",
   "execution_count": 233,
   "outputs": [
    {
     "output_type": "execute_result",
     "data": {
      "text/plain": [
       "Empty DataFrame\n",
       "Columns: [id, gender, age, hypertension, heart_disease, ever_married, work_type, residence_type, avg_glucose_level, bmi, smoking_status, stroke]\n",
       "Index: []"
      ],
      "text/html": [
       "\n",
       "  <div id=\"df-f98794ef-1a5b-4a3e-a81d-f0e9c1255f56\">\n",
       "    <div class=\"colab-df-container\">\n",
       "      <div>\n",
       "<style scoped>\n",
       "    .dataframe tbody tr th:only-of-type {\n",
       "        vertical-align: middle;\n",
       "    }\n",
       "\n",
       "    .dataframe tbody tr th {\n",
       "        vertical-align: top;\n",
       "    }\n",
       "\n",
       "    .dataframe thead th {\n",
       "        text-align: right;\n",
       "    }\n",
       "</style>\n",
       "<table border=\"1\" class=\"dataframe\">\n",
       "  <thead>\n",
       "    <tr style=\"text-align: right;\">\n",
       "      <th></th>\n",
       "      <th>id</th>\n",
       "      <th>gender</th>\n",
       "      <th>age</th>\n",
       "      <th>hypertension</th>\n",
       "      <th>heart_disease</th>\n",
       "      <th>ever_married</th>\n",
       "      <th>work_type</th>\n",
       "      <th>residence_type</th>\n",
       "      <th>avg_glucose_level</th>\n",
       "      <th>bmi</th>\n",
       "      <th>smoking_status</th>\n",
       "      <th>stroke</th>\n",
       "    </tr>\n",
       "  </thead>\n",
       "  <tbody>\n",
       "  </tbody>\n",
       "</table>\n",
       "</div>\n",
       "      <button class=\"colab-df-convert\" onclick=\"convertToInteractive('df-f98794ef-1a5b-4a3e-a81d-f0e9c1255f56')\"\n",
       "              title=\"Convert this dataframe to an interactive table.\"\n",
       "              style=\"display:none;\">\n",
       "        \n",
       "  <svg xmlns=\"http://www.w3.org/2000/svg\" height=\"24px\"viewBox=\"0 0 24 24\"\n",
       "       width=\"24px\">\n",
       "    <path d=\"M0 0h24v24H0V0z\" fill=\"none\"/>\n",
       "    <path d=\"M18.56 5.44l.94 2.06.94-2.06 2.06-.94-2.06-.94-.94-2.06-.94 2.06-2.06.94zm-11 1L8.5 8.5l.94-2.06 2.06-.94-2.06-.94L8.5 2.5l-.94 2.06-2.06.94zm10 10l.94 2.06.94-2.06 2.06-.94-2.06-.94-.94-2.06-.94 2.06-2.06.94z\"/><path d=\"M17.41 7.96l-1.37-1.37c-.4-.4-.92-.59-1.43-.59-.52 0-1.04.2-1.43.59L10.3 9.45l-7.72 7.72c-.78.78-.78 2.05 0 2.83L4 21.41c.39.39.9.59 1.41.59.51 0 1.02-.2 1.41-.59l7.78-7.78 2.81-2.81c.8-.78.8-2.07 0-2.86zM5.41 20L4 18.59l7.72-7.72 1.47 1.35L5.41 20z\"/>\n",
       "  </svg>\n",
       "      </button>\n",
       "      \n",
       "  <style>\n",
       "    .colab-df-container {\n",
       "      display:flex;\n",
       "      flex-wrap:wrap;\n",
       "      gap: 12px;\n",
       "    }\n",
       "\n",
       "    .colab-df-convert {\n",
       "      background-color: #E8F0FE;\n",
       "      border: none;\n",
       "      border-radius: 50%;\n",
       "      cursor: pointer;\n",
       "      display: none;\n",
       "      fill: #1967D2;\n",
       "      height: 32px;\n",
       "      padding: 0 0 0 0;\n",
       "      width: 32px;\n",
       "    }\n",
       "\n",
       "    .colab-df-convert:hover {\n",
       "      background-color: #E2EBFA;\n",
       "      box-shadow: 0px 1px 2px rgba(60, 64, 67, 0.3), 0px 1px 3px 1px rgba(60, 64, 67, 0.15);\n",
       "      fill: #174EA6;\n",
       "    }\n",
       "\n",
       "    [theme=dark] .colab-df-convert {\n",
       "      background-color: #3B4455;\n",
       "      fill: #D2E3FC;\n",
       "    }\n",
       "\n",
       "    [theme=dark] .colab-df-convert:hover {\n",
       "      background-color: #434B5C;\n",
       "      box-shadow: 0px 1px 3px 1px rgba(0, 0, 0, 0.15);\n",
       "      filter: drop-shadow(0px 1px 2px rgba(0, 0, 0, 0.3));\n",
       "      fill: #FFFFFF;\n",
       "    }\n",
       "  </style>\n",
       "\n",
       "      <script>\n",
       "        const buttonEl =\n",
       "          document.querySelector('#df-f98794ef-1a5b-4a3e-a81d-f0e9c1255f56 button.colab-df-convert');\n",
       "        buttonEl.style.display =\n",
       "          google.colab.kernel.accessAllowed ? 'block' : 'none';\n",
       "\n",
       "        async function convertToInteractive(key) {\n",
       "          const element = document.querySelector('#df-f98794ef-1a5b-4a3e-a81d-f0e9c1255f56');\n",
       "          const dataTable =\n",
       "            await google.colab.kernel.invokeFunction('convertToInteractive',\n",
       "                                                     [key], {});\n",
       "          if (!dataTable) return;\n",
       "\n",
       "          const docLinkHtml = 'Like what you see? Visit the ' +\n",
       "            '<a target=\"_blank\" href=https://colab.research.google.com/notebooks/data_table.ipynb>data table notebook</a>'\n",
       "            + ' to learn more about interactive tables.';\n",
       "          element.innerHTML = '';\n",
       "          dataTable['output_type'] = 'display_data';\n",
       "          await google.colab.output.renderOutput(dataTable, element);\n",
       "          const docLink = document.createElement('div');\n",
       "          docLink.innerHTML = docLinkHtml;\n",
       "          element.appendChild(docLink);\n",
       "        }\n",
       "      </script>\n",
       "    </div>\n",
       "  </div>\n",
       "  "
      ]
     },
     "metadata": {},
     "execution_count": 233
    }
   ]
  },
  {
   "cell_type": "markdown",
   "id": "9ba96a3b",
   "metadata": {
    "id": "9ba96a3b"
   },
   "source": [
    "### Data Visualization\n",
    "\n",
    "Dalam proses visualisasi data, silahkan visualisasikan feature menggunakan plot yang sesuai agar mendapat insight dari data dengan menjawab pertanyaan-pertanyaan berikut:\n",
    "\n",
    "    untuk sub A:\n",
    "    1. Bagaimana komposisi jumlah pasien laki-laki dan perempuan?\n",
    "    2. Bagaimana sebaran usia antara kelompok pasien yang menderita hipertensi dan yang sehat?\n",
    "    3. Bagaimana perbandingan sebaran nilai rerata glukosa dalam darah antara pasien yang stroke dengan yang sehat?\n",
    "\n",
    "    untuk sub B:\n",
    "    1. Bagaimana komposisi jumlah pasien yang tinggal di urban dan rural?\n",
    "    2. Bagaimana sebaran nilai BMI antara kelompok pasien yang menderita penyakit jantung dan yang sehat?\n",
    "    3. Bagaimana perbandingan jumlah pasien yang menderita stroke dengan yang sehat berdasarkan status merokok?"
   ]
  },
  {
   "cell_type": "markdown",
   "source": [
    "1. Bagaimana komposisi jumlah pasien yang tinggal di urban dan rural?\n",
    "- Plot 1: Pada data stroke terdapat 2600 pasien yang tinggal di Urban dan 2500 pasien yang tinggal di Rural. Komposisi jumlah pasiennya banyak yang di rural.\n",
    "- Plot 2: Komposisi jumlah pasien pada data stroke yang tinggal di Urban dan Rural, pasien yang tinggal di Urban lebih rentan terkena penyakit stroke dibandingkan pasien yang tinggal di Rural."
   ],
   "metadata": {
    "id": "dcKZjxZu9p57"
   },
   "id": "dcKZjxZu9p57"
  },
  {
   "cell_type": "code",
   "execution_count": 234,
   "id": "26979625",
   "metadata": {
    "id": "26979625",
    "colab": {
     "base_uri": "https://localhost:8080/",
     "height": 993
    },
    "outputId": "f1bd5271-2b22-468f-cb5b-fb2d6dcfea9f"
   },
   "outputs": [
    {
     "output_type": "execute_result",
     "data": {
      "text/plain": [
       "<seaborn.axisgrid.FacetGrid at 0x7f4ad4b136a0>"
      ]
     },
     "metadata": {},
     "execution_count": 234
    },
    {
     "output_type": "display_data",
     "data": {
      "text/plain": [
       "<Figure size 1000x500 with 1 Axes>"
      ],
      "image/png": "[encoded data removed]"
     },
     "metadata": {}
    },
    {
     "output_type": "display_data",
     "data": {
      "text/plain": [
       "<Figure size 500x500 with 1 Axes>"
      ],
      "image/png": "[encoded data removed]"
     },
     "metadata": {}
    }
   ],
   "source": [
    "#visualisasi fitur menggunakan metode yang sudah dipelajari\n",
    "plt.figure(figsize=(10, 5))\n",
    "sns.countplot(x='residence_type', data=df_stroke)\n",
    "plt.title(\"Komposisi jumlah pasien laki laki dan perempuan\")\n",
    "sns.catplot(data=df_stroke, x='residence_type', y='stroke', kind='bar')\n"
   ]
  },
  {
   "cell_type": "markdown",
   "source": [
    "2. Bagaimana sebaran nilai BMI antara kelompok pasien yang menderita penyakit jantung dan yang sehat?\n",
    "- Pada nilai BMI terdapat 2 jenis kelompok yaitu kelompok yang menderita penyakit jantung dan kelompok yang sehat, nilai BMI kelompok yang menderita penyakit jantung lebih sedikit dibandingkan dengan kelompok yang sehat"
   ],
   "metadata": {
    "id": "PsQ_29Gm_Bw4"
   },
   "id": "PsQ_29Gm_Bw4"
  },
  {
   "cell_type": "code",
   "source": [
    "#visualisasi fitur menggunakan metode yang sudah dipelajari\n",
    "plt.figure(figsize=(10, 5))\n",
    "sns.histplot(data=df_stroke, x='bmi', hue='heart_disease', multiple='stack')\n",
    "plt.title(\"Sebaran nilai bmi kelompok pasien yang menderita penyakit jantung dan yang sehat\")\n",
    "plt.show()\n",
    "sns.catplot(data=df_stroke, x='heart_disease', y='bmi', kind='box')\n",
    "plt.title(\"Sebaran nilai bmi kelompok pasien yang menderita penyakit jantung dan yang sehat\")\n",
    "plt.show()"
   ],
   "metadata": {
    "colab": {
     "base_uri": "https://localhost:8080/",
     "height": 999
    },
    "id": "7_eCoLht_mjq",
    "outputId": "b87d42a1-f467-4dea-ffdb-62157f728c85"
   },
   "id": "7_eCoLht_mjq",
   "execution_count": 235,
   "outputs": [
    {
     "output_type": "display_data",
     "data": {
      "text/plain": [
       "<Figure size 1000x500 with 1 Axes>"
      ],
      "image/png": "[encoded data removed]"
     },
     "metadata": {}
    },
    {
     "output_type": "display_data",
     "data": {
      "text/plain": [
       "<Figure size 500x500 with 1 Axes>"
      ],
      "image/png": "[encoded data removed]"
     },
     "metadata": {}
    }
   ]
  },
  {
   "cell_type": "markdown",
   "source": [
    "3. Bagaimana perbandingan jumlah pasien yang menderita stroke dengan yang sehat berdasarkan status merokok?\n",
    "- Dapat disimpulkan dari plot bahwa jumlah pasien yang menderita stroke dulunya sering merokok dan sampai sekarang masih merokok"
   ],
   "metadata": {
    "id": "oKOACkyw_v2S"
   },
   "id": "oKOACkyw_v2S"
  },
  {
   "cell_type": "code",
   "source": [
    "#visualisasi fitur menggunakan metode yang sudah dipelajari\n",
    "plt.figure(figsize=(10, 5))\n",
    "sns.catplot(data=df_stroke, x='stroke', y='smoking_status', kind='bar')\n",
    "plt.title(\"Perbandingan jumlah pasien stroke dengan yang sehat\")\n",
    "plt.show()"
   ],
   "metadata": {
    "colab": {
     "base_uri": "https://localhost:8080/",
     "height": 546
    },
    "id": "0sqQvxn6AXNE",
    "outputId": "2e1a42d4-6e90-4467-f3be-7d4a5b3ce19c"
   },
   "id": "0sqQvxn6AXNE",
   "execution_count": 236,
   "outputs": [
    {
     "output_type": "display_data",
     "data": {
      "text/plain": [
       "<Figure size 1000x500 with 0 Axes>"
      ]
     },
     "metadata": {}
    },
    {
     "output_type": "display_data",
     "data": {
      "text/plain": [
       "<Figure size 500x500 with 1 Axes>"
      ],
      "image/png": "[encoded data removed]"
     },
     "metadata": {}
    }
   ]
  },
  {
   "cell_type": "markdown",
   "id": "85cce0d7",
   "metadata": {
    "id": "85cce0d7"
   },
   "source": [
    "### Deskripsi Data Visualization\n",
    "Berikan keterangan atau deskripsi singkat mengenai informasi yang diperoleh dari visualisasi data tersebut. Jawablah pertanyaan di atas pada cell markdown ini!\n",
    "\n",
    "1. Bagaimana komposisi jumlah pasien yang tinggal di urban dan rural?\n",
    "- Plot 1: Pada data stroke terdapat 2600 pasien yang tinggal di Urban dan 2500 pasien yang tinggal di Rural. Komposisi jumlah pasiennya banyak yang di rural.\n",
    "- Plot 2: Komposisi jumlah pasien pada data stroke yang tinggal di Urban dan Rural, pasien yang tinggal di Urban lebih rentan terkena penyakit stroke dibandingkan pasien yang tinggal di Rural.\n",
    "\n",
    "2. Bagaimana sebaran nilai BMI antara kelompok pasien yang menderita penyakit jantung dan yang sehat?\n",
    "- Pada nilai BMI terdapat 2 jenis kelompok yaitu kelompok yang menderita penyakit jantung dan kelompok yang sehat, nilai BMI kelompok yang menderita penyakit jantung lebih sedikit dibandingkan dengan kelompok yang sehat\n",
    "\n",
    "3. Bagaimana perbandingan jumlah pasien yang menderita stroke dengan yang sehat berdasarkan status merokok?\n",
    "- Dapat disimpulkan dari plot bahwa jumlah pasien yang menderita stroke dulunya sering merokok dan sampai sekarang masih merokok"
   ]
  },
  {
   "cell_type": "markdown",
   "id": "Gy-ujRobNBea",
   "metadata": {
    "id": "Gy-ujRobNBea"
   },
   "source": [
    "### Data Preparation and Scaling\n",
    "\n",
    "Lakukan train-test split dan data scaling dengan ketentuan:  \n",
    "\n",
    "    Untuk sub A: random_state train_test_split gunakan 2 digit terakhir NPM terbesar di sub kelompok, gunakan StandardScaler  \n",
    "\n",
    "    Untuk sub B: random_state train_test_split gunakan 2 digit terakhir NPM terkecil di sub kelompok,gunakan MinMaxScaler "
   ]
  },
  {
   "cell_type": "code",
   "execution_count": 237,
   "id": "ALwqKZhLNCDs",
   "metadata": {
    "id": "ALwqKZhLNCDs",
    "colab": {
     "base_uri": "https://localhost:8080/"
    },
    "outputId": "20ef8c9c-9b00-4573-d7aa-9dfdf61b3c61"
   },
   "outputs": [
    {
     "output_type": "stream",
     "name": "stdout",
     "text": [
      "(3577, 11)\n",
      "(1533, 11)\n"
     ]
    }
   ],
   "source": [
    "#train-test split dan data scaling\n",
    "#NPM terkecil : Veno (0816)\n",
    "\n",
    "x = df_stroke.drop('stroke', axis=1)\n",
    "y = df_stroke['stroke']\n",
    "\n",
    "x_train, x_test, y_train, y_test = train_test_split(x, y, test_size=0.3, random_state=16)\n",
    "print(x_train.shape)\n",
    "print(x_test.shape)"
   ]
  },
  {
   "cell_type": "code",
   "source": [
    "cols_category = ['gender', 'ever_married', 'work_type', 'residence_type', 'smoking_status']\n",
    "\n",
    "Transformer = make_column_transformer(\n",
    "    (OneHotEncoder(), cols_category),\n",
    "    remainder='passthrough'\n",
    ")\n",
    "\n",
    "x_train_enc = Transformer.fit_transform(x_train)\n",
    "x_test_enc = Transformer.transform(x_test)\n",
    "\n",
    "df_train_enc = pd.DataFrame(x_train_enc, columns=Transformer.get_feature_names_out())\n",
    "df_test_enc = pd.DataFrame(x_test_enc, columns=Transformer.get_feature_names_out())\n",
    "\n",
    "df_train_enc.head(10)\n",
    "df_test_enc.head(10)"
   ],
   "metadata": {
    "colab": {
     "base_uri": "https://localhost:8080/",
     "height": 474
    },
    "id": "2k3rssWfCjx9",
    "outputId": "19a0dc89-e2df-4451-de2c-fb7600556cc5"
   },
   "id": "2k3rssWfCjx9",
   "execution_count": 238,
   "outputs": [
    {
     "output_type": "execute_result",
     "data": {
      "text/plain": [
       "   onehotencoder__gender_Female  onehotencoder__gender_Male  \\\n",
       "0                           0.0                         1.0   \n",
       "1                           1.0                         0.0   \n",
       "2                           1.0                         0.0   \n",
       "3                           0.0                         1.0   \n",
       "4                           1.0                         0.0   \n",
       "5                           1.0                         0.0   \n",
       "6                           0.0                         1.0   \n",
       "7                           1.0                         0.0   \n",
       "8                           0.0                         1.0   \n",
       "9                           1.0                         0.0   \n",
       "\n",
       "   onehotencoder__gender_Other  onehotencoder__ever_married_No  \\\n",
       "0                          0.0                             0.0   \n",
       "1                          0.0                             0.0   \n",
       "2                          0.0                             0.0   \n",
       "3                          0.0                             0.0   \n",
       "4                          0.0                             1.0   \n",
       "5                          0.0                             1.0   \n",
       "6                          0.0                             1.0   \n",
       "7                          0.0                             0.0   \n",
       "8                          0.0                             0.0   \n",
       "9                          0.0                             1.0   \n",
       "\n",
       "   onehotencoder__ever_married_Yes  onehotencoder__work_type_Govt_job  \\\n",
       "0                              1.0                                0.0   \n",
       "1                              1.0                                0.0   \n",
       "2                              1.0                                1.0   \n",
       "3                              1.0                                0.0   \n",
       "4                              0.0                                0.0   \n",
       "5                              0.0                                0.0   \n",
       "6                              0.0                                0.0   \n",
       "7                              1.0                                0.0   \n",
       "8                              1.0                                0.0   \n",
       "9                              0.0                                0.0   \n",
       "\n",
       "   onehotencoder__work_type_Never_worked  onehotencoder__work_type_Private  \\\n",
       "0                                    0.0                               1.0   \n",
       "1                                    0.0                               1.0   \n",
       "2                                    0.0                               0.0   \n",
       "3                                    0.0                               1.0   \n",
       "4                                    0.0                               0.0   \n",
       "5                                    0.0                               1.0   \n",
       "6                                    0.0                               1.0   \n",
       "7                                    0.0                               1.0   \n",
       "8                                    0.0                               1.0   \n",
       "9                                    0.0                               0.0   \n",
       "\n",
       "   onehotencoder__work_type_Self-employed  onehotencoder__work_type_children  \\\n",
       "0                                     0.0                                0.0   \n",
       "1                                     0.0                                0.0   \n",
       "2                                     0.0                                0.0   \n",
       "3                                     0.0                                0.0   \n",
       "4                                     0.0                                1.0   \n",
       "5                                     0.0                                0.0   \n",
       "6                                     0.0                                0.0   \n",
       "7                                     0.0                                0.0   \n",
       "8                                     0.0                                0.0   \n",
       "9                                     0.0                                1.0   \n",
       "\n",
       "   ...  onehotencoder__smoking_status_Unknown  \\\n",
       "0  ...                                    0.0   \n",
       "1  ...                                    0.0   \n",
       "2  ...                                    1.0   \n",
       "3  ...                                    0.0   \n",
       "4  ...                                    1.0   \n",
       "5  ...                                    0.0   \n",
       "6  ...                                    1.0   \n",
       "7  ...                                    0.0   \n",
       "8  ...                                    0.0   \n",
       "9  ...                                    1.0   \n",
       "\n",
       "   onehotencoder__smoking_status_formerly smoked  \\\n",
       "0                                            1.0   \n",
       "1                                            1.0   \n",
       "2                                            0.0   \n",
       "3                                            0.0   \n",
       "4                                            0.0   \n",
       "5                                            0.0   \n",
       "6                                            0.0   \n",
       "7                                            0.0   \n",
       "8                                            0.0   \n",
       "9                                            0.0   \n",
       "\n",
       "   onehotencoder__smoking_status_never smoked  \\\n",
       "0                                         0.0   \n",
       "1                                         0.0   \n",
       "2                                         0.0   \n",
       "3                                         0.0   \n",
       "4                                         0.0   \n",
       "5                                         0.0   \n",
       "6                                         0.0   \n",
       "7                                         0.0   \n",
       "8                                         0.0   \n",
       "9                                         0.0   \n",
       "\n",
       "   onehotencoder__smoking_status_smokes  remainder__id  remainder__age  \\\n",
       "0                                   0.0        68627.0           80.00   \n",
       "1                                   0.0        40460.0           68.00   \n",
       "2                                   0.0         1231.0           62.00   \n",
       "3                                   1.0        68003.0           46.00   \n",
       "4                                   0.0         2538.0            5.00   \n",
       "5                                   1.0        11573.0           19.00   \n",
       "6                                   0.0        24421.0           30.00   \n",
       "7                                   1.0        56277.0           38.00   \n",
       "8                                   1.0        53660.0           57.00   \n",
       "9                                   0.0        40951.0            1.24   \n",
       "\n",
       "   remainder__hypertension  remainder__heart_disease  \\\n",
       "0                      1.0                       1.0   \n",
       "1                      1.0                       1.0   \n",
       "2                      0.0                       0.0   \n",
       "3                      1.0                       0.0   \n",
       "4                      0.0                       0.0   \n",
       "5                      0.0                       0.0   \n",
       "6                      0.0                       0.0   \n",
       "7                      0.0                       0.0   \n",
       "8                      0.0                       0.0   \n",
       "9                      0.0                       0.0   \n",
       "\n",
       "   remainder__avg_glucose_level  remainder__bmi  \n",
       "0                        175.29            31.5  \n",
       "1                        247.51            40.5  \n",
       "2                         73.44            23.4  \n",
       "3                         73.72            28.1  \n",
       "4                        105.18            28.1  \n",
       "5                         72.39            28.1  \n",
       "6                        113.08            41.8  \n",
       "7                         83.80            24.2  \n",
       "8                        108.53            19.4  \n",
       "9                         77.33            19.2  \n",
       "\n",
       "[10 rows x 22 columns]"
      ],
      "text/html": [
       "\n",
       "  <div id=\"df-b360bb9d-5055-4012-88e7-4d570d67945a\">\n",
       "    <div class=\"colab-df-container\">\n",
       "      <div>\n",
       "<style scoped>\n",
       "    .dataframe tbody tr th:only-of-type {\n",
       "        vertical-align: middle;\n",
       "    }\n",
       "\n",
       "    .dataframe tbody tr th {\n",
       "        vertical-align: top;\n",
       "    }\n",
       "\n",
       "    .dataframe thead th {\n",
       "        text-align: right;\n",
       "    }\n",
       "</style>\n",
       "<table border=\"1\" class=\"dataframe\">\n",
       "  <thead>\n",
       "    <tr style=\"text-align: right;\">\n",
       "      <th></th>\n",
       "      <th>onehotencoder__gender_Female</th>\n",
       "      <th>onehotencoder__gender_Male</th>\n",
       "      <th>onehotencoder__gender_Other</th>\n",
       "      <th>onehotencoder__ever_married_No</th>\n",
       "      <th>onehotencoder__ever_married_Yes</th>\n",
       "      <th>onehotencoder__work_type_Govt_job</th>\n",
       "      <th>onehotencoder__work_type_Never_worked</th>\n",
       "      <th>onehotencoder__work_type_Private</th>\n",
       "      <th>onehotencoder__work_type_Self-employed</th>\n",
       "      <th>onehotencoder__work_type_children</th>\n",
       "      <th>...</th>\n",
       "      <th>onehotencoder__smoking_status_Unknown</th>\n",
       "      <th>onehotencoder__smoking_status_formerly smoked</th>\n",
       "      <th>onehotencoder__smoking_status_never smoked</th>\n",
       "      <th>onehotencoder__smoking_status_smokes</th>\n",
       "      <th>remainder__id</th>\n",
       "      <th>remainder__age</th>\n",
       "      <th>remainder__hypertension</th>\n",
       "      <th>remainder__heart_disease</th>\n",
       "      <th>remainder__avg_glucose_level</th>\n",
       "      <th>remainder__bmi</th>\n",
       "    </tr>\n",
       "  </thead>\n",
       "  <tbody>\n",
       "    <tr>\n",
       "      <th>0</th>\n",
       "      <td>0.0</td>\n",
       "      <td>1.0</td>\n",
       "      <td>0.0</td>\n",
       "      <td>0.0</td>\n",
       "      <td>1.0</td>\n",
       "      <td>0.0</td>\n",
       "      <td>0.0</td>\n",
       "      <td>1.0</td>\n",
       "      <td>0.0</td>\n",
       "      <td>0.0</td>\n",
       "      <td>...</td>\n",
       "      <td>0.0</td>\n",
       "      <td>1.0</td>\n",
       "      <td>0.0</td>\n",
       "      <td>0.0</td>\n",
       "      <td>68627.0</td>\n",
       "      <td>80.00</td>\n",
       "      <td>1.0</td>\n",
       "      <td>1.0</td>\n",
       "      <td>175.29</td>\n",
       "      <td>31.5</td>\n",
       "    </tr>\n",
       "    <tr>\n",
       "      <th>1</th>\n",
       "      <td>1.0</td>\n",
       "      <td>0.0</td>\n",
       "      <td>0.0</td>\n",
       "      <td>0.0</td>\n",
       "      <td>1.0</td>\n",
       "      <td>0.0</td>\n",
       "      <td>0.0</td>\n",
       "      <td>1.0</td>\n",
       "      <td>0.0</td>\n",
       "      <td>0.0</td>\n",
       "      <td>...</td>\n",
       "      <td>0.0</td>\n",
       "      <td>1.0</td>\n",
       "      <td>0.0</td>\n",
       "      <td>0.0</td>\n",
       "      <td>40460.0</td>\n",
       "      <td>68.00</td>\n",
       "      <td>1.0</td>\n",
       "      <td>1.0</td>\n",
       "      <td>247.51</td>\n",
       "      <td>40.5</td>\n",
       "    </tr>\n",
       "    <tr>\n",
       "      <th>2</th>\n",
       "      <td>1.0</td>\n",
       "      <td>0.0</td>\n",
       "      <td>0.0</td>\n",
       "      <td>0.0</td>\n",
       "      <td>1.0</td>\n",
       "      <td>1.0</td>\n",
       "      <td>0.0</td>\n",
       "      <td>0.0</td>\n",
       "      <td>0.0</td>\n",
       "      <td>0.0</td>\n",
       "      <td>...</td>\n",
       "      <td>1.0</td>\n",
       "      <td>0.0</td>\n",
       "      <td>0.0</td>\n",
       "      <td>0.0</td>\n",
       "      <td>1231.0</td>\n",
       "      <td>62.00</td>\n",
       "      <td>0.0</td>\n",
       "      <td>0.0</td>\n",
       "      <td>73.44</td>\n",
       "      <td>23.4</td>\n",
       "    </tr>\n",
       "    <tr>\n",
       "      <th>3</th>\n",
       "      <td>0.0</td>\n",
       "      <td>1.0</td>\n",
       "      <td>0.0</td>\n",
       "      <td>0.0</td>\n",
       "      <td>1.0</td>\n",
       "      <td>0.0</td>\n",
       "      <td>0.0</td>\n",
       "      <td>1.0</td>\n",
       "      <td>0.0</td>\n",
       "      <td>0.0</td>\n",
       "      <td>...</td>\n",
       "      <td>0.0</td>\n",
       "      <td>0.0</td>\n",
       "      <td>0.0</td>\n",
       "      <td>1.0</td>\n",
       "      <td>68003.0</td>\n",
       "      <td>46.00</td>\n",
       "      <td>1.0</td>\n",
       "      <td>0.0</td>\n",
       "      <td>73.72</td>\n",
       "      <td>28.1</td>\n",
       "    </tr>\n",
       "    <tr>\n",
       "      <th>4</th>\n",
       "      <td>1.0</td>\n",
       "      <td>0.0</td>\n",
       "      <td>0.0</td>\n",
       "      <td>1.0</td>\n",
       "      <td>0.0</td>\n",
       "      <td>0.0</td>\n",
       "      <td>0.0</td>\n",
       "      <td>0.0</td>\n",
       "      <td>0.0</td>\n",
       "      <td>1.0</td>\n",
       "      <td>...</td>\n",
       "      <td>1.0</td>\n",
       "      <td>0.0</td>\n",
       "      <td>0.0</td>\n",
       "      <td>0.0</td>\n",
       "      <td>2538.0</td>\n",
       "      <td>5.00</td>\n",
       "      <td>0.0</td>\n",
       "      <td>0.0</td>\n",
       "      <td>105.18</td>\n",
       "      <td>28.1</td>\n",
       "    </tr>\n",
       "    <tr>\n",
       "      <th>5</th>\n",
       "      <td>1.0</td>\n",
       "      <td>0.0</td>\n",
       "      <td>0.0</td>\n",
       "      <td>1.0</td>\n",
       "      <td>0.0</td>\n",
       "      <td>0.0</td>\n",
       "      <td>0.0</td>\n",
       "      <td>1.0</td>\n",
       "      <td>0.0</td>\n",
       "      <td>0.0</td>\n",
       "      <td>...</td>\n",
       "      <td>0.0</td>\n",
       "      <td>0.0</td>\n",
       "      <td>0.0</td>\n",
       "      <td>1.0</td>\n",
       "      <td>11573.0</td>\n",
       "      <td>19.00</td>\n",
       "      <td>0.0</td>\n",
       "      <td>0.0</td>\n",
       "      <td>72.39</td>\n",
       "      <td>28.1</td>\n",
       "    </tr>\n",
       "    <tr>\n",
       "      <th>6</th>\n",
       "      <td>0.0</td>\n",
       "      <td>1.0</td>\n",
       "      <td>0.0</td>\n",
       "      <td>1.0</td>\n",
       "      <td>0.0</td>\n",
       "      <td>0.0</td>\n",
       "      <td>0.0</td>\n",
       "      <td>1.0</td>\n",
       "      <td>0.0</td>\n",
       "      <td>0.0</td>\n",
       "      <td>...</td>\n",
       "      <td>1.0</td>\n",
       "      <td>0.0</td>\n",
       "      <td>0.0</td>\n",
       "      <td>0.0</td>\n",
       "      <td>24421.0</td>\n",
       "      <td>30.00</td>\n",
       "      <td>0.0</td>\n",
       "      <td>0.0</td>\n",
       "      <td>113.08</td>\n",
       "      <td>41.8</td>\n",
       "    </tr>\n",
       "    <tr>\n",
       "      <th>7</th>\n",
       "      <td>1.0</td>\n",
       "      <td>0.0</td>\n",
       "      <td>0.0</td>\n",
       "      <td>0.0</td>\n",
       "      <td>1.0</td>\n",
       "      <td>0.0</td>\n",
       "      <td>0.0</td>\n",
       "      <td>1.0</td>\n",
       "      <td>0.0</td>\n",
       "      <td>0.0</td>\n",
       "      <td>...</td>\n",
       "      <td>0.0</td>\n",
       "      <td>0.0</td>\n",
       "      <td>0.0</td>\n",
       "      <td>1.0</td>\n",
       "      <td>56277.0</td>\n",
       "      <td>38.00</td>\n",
       "      <td>0.0</td>\n",
       "      <td>0.0</td>\n",
       "      <td>83.80</td>\n",
       "      <td>24.2</td>\n",
       "    </tr>\n",
       "    <tr>\n",
       "      <th>8</th>\n",
       "      <td>0.0</td>\n",
       "      <td>1.0</td>\n",
       "      <td>0.0</td>\n",
       "      <td>0.0</td>\n",
       "      <td>1.0</td>\n",
       "      <td>0.0</td>\n",
       "      <td>0.0</td>\n",
       "      <td>1.0</td>\n",
       "      <td>0.0</td>\n",
       "      <td>0.0</td>\n",
       "      <td>...</td>\n",
       "      <td>0.0</td>\n",
       "      <td>0.0</td>\n",
       "      <td>0.0</td>\n",
       "      <td>1.0</td>\n",
       "      <td>53660.0</td>\n",
       "      <td>57.00</td>\n",
       "      <td>0.0</td>\n",
       "      <td>0.0</td>\n",
       "      <td>108.53</td>\n",
       "      <td>19.4</td>\n",
       "    </tr>\n",
       "    <tr>\n",
       "      <th>9</th>\n",
       "      <td>1.0</td>\n",
       "      <td>0.0</td>\n",
       "      <td>0.0</td>\n",
       "      <td>1.0</td>\n",
       "      <td>0.0</td>\n",
       "      <td>0.0</td>\n",
       "      <td>0.0</td>\n",
       "      <td>0.0</td>\n",
       "      <td>0.0</td>\n",
       "      <td>1.0</td>\n",
       "      <td>...</td>\n",
       "      <td>1.0</td>\n",
       "      <td>0.0</td>\n",
       "      <td>0.0</td>\n",
       "      <td>0.0</td>\n",
       "      <td>40951.0</td>\n",
       "      <td>1.24</td>\n",
       "      <td>0.0</td>\n",
       "      <td>0.0</td>\n",
       "      <td>77.33</td>\n",
       "      <td>19.2</td>\n",
       "    </tr>\n",
       "  </tbody>\n",
       "</table>\n",
       "<p>10 rows × 22 columns</p>\n",
       "</div>\n",
       "      <button class=\"colab-df-convert\" onclick=\"convertToInteractive('df-b360bb9d-5055-4012-88e7-4d570d67945a')\"\n",
       "              title=\"Convert this dataframe to an interactive table.\"\n",
       "              style=\"display:none;\">\n",
       "        \n",
       "  <svg xmlns=\"http://www.w3.org/2000/svg\" height=\"24px\"viewBox=\"0 0 24 24\"\n",
       "       width=\"24px\">\n",
       "    <path d=\"M0 0h24v24H0V0z\" fill=\"none\"/>\n",
       "    <path d=\"M18.56 5.44l.94 2.06.94-2.06 2.06-.94-2.06-.94-.94-2.06-.94 2.06-2.06.94zm-11 1L8.5 8.5l.94-2.06 2.06-.94-2.06-.94L8.5 2.5l-.94 2.06-2.06.94zm10 10l.94 2.06.94-2.06 2.06-.94-2.06-.94-.94-2.06-.94 2.06-2.06.94z\"/><path d=\"M17.41 7.96l-1.37-1.37c-.4-.4-.92-.59-1.43-.59-.52 0-1.04.2-1.43.59L10.3 9.45l-7.72 7.72c-.78.78-.78 2.05 0 2.83L4 21.41c.39.39.9.59 1.41.59.51 0 1.02-.2 1.41-.59l7.78-7.78 2.81-2.81c.8-.78.8-2.07 0-2.86zM5.41 20L4 18.59l7.72-7.72 1.47 1.35L5.41 20z\"/>\n",
       "  </svg>\n",
       "      </button>\n",
       "      \n",
       "  <style>\n",
       "    .colab-df-container {\n",
       "      display:flex;\n",
       "      flex-wrap:wrap;\n",
       "      gap: 12px;\n",
       "    }\n",
       "\n",
       "    .colab-df-convert {\n",
       "      background-color: #E8F0FE;\n",
       "      border: none;\n",
       "      border-radius: 50%;\n",
       "      cursor: pointer;\n",
       "      display: none;\n",
       "      fill: #1967D2;\n",
       "      height: 32px;\n",
       "      padding: 0 0 0 0;\n",
       "      width: 32px;\n",
       "    }\n",
       "\n",
       "    .colab-df-convert:hover {\n",
       "      background-color: #E2EBFA;\n",
       "      box-shadow: 0px 1px 2px rgba(60, 64, 67, 0.3), 0px 1px 3px 1px rgba(60, 64, 67, 0.15);\n",
       "      fill: #174EA6;\n",
       "    }\n",
       "\n",
       "    [theme=dark] .colab-df-convert {\n",
       "      background-color: #3B4455;\n",
       "      fill: #D2E3FC;\n",
       "    }\n",
       "\n",
       "    [theme=dark] .colab-df-convert:hover {\n",
       "      background-color: #434B5C;\n",
       "      box-shadow: 0px 1px 3px 1px rgba(0, 0, 0, 0.15);\n",
       "      filter: drop-shadow(0px 1px 2px rgba(0, 0, 0, 0.3));\n",
       "      fill: #FFFFFF;\n",
       "    }\n",
       "  </style>\n",
       "\n",
       "      <script>\n",
       "        const buttonEl =\n",
       "          document.querySelector('#df-b360bb9d-5055-4012-88e7-4d570d67945a button.colab-df-convert');\n",
       "        buttonEl.style.display =\n",
       "          google.colab.kernel.accessAllowed ? 'block' : 'none';\n",
       "\n",
       "        async function convertToInteractive(key) {\n",
       "          const element = document.querySelector('#df-b360bb9d-5055-4012-88e7-4d570d67945a');\n",
       "          const dataTable =\n",
       "            await google.colab.kernel.invokeFunction('convertToInteractive',\n",
       "                                                     [key], {});\n",
       "          if (!dataTable) return;\n",
       "\n",
       "          const docLinkHtml = 'Like what you see? Visit the ' +\n",
       "            '<a target=\"_blank\" href=https://colab.research.google.com/notebooks/data_table.ipynb>data table notebook</a>'\n",
       "            + ' to learn more about interactive tables.';\n",
       "          element.innerHTML = '';\n",
       "          dataTable['output_type'] = 'display_data';\n",
       "          await google.colab.output.renderOutput(dataTable, element);\n",
       "          const docLink = document.createElement('div');\n",
       "          docLink.innerHTML = docLinkHtml;\n",
       "          element.appendChild(docLink);\n",
       "        }\n",
       "      </script>\n",
       "    </div>\n",
       "  </div>\n",
       "  "
      ]
     },
     "metadata": {},
     "execution_count": 238
    }
   ]
  },
  {
   "cell_type": "code",
   "source": [
    "mm_scaler = MinMaxScaler()\n",
    "\n",
    "mm_scaler.fit(x_train_enc)\n",
    "x_train_mmscaled = mm_scaler.transform(x_train_enc)\n",
    "x_test_mmscaled = mm_scaler.transform(x_test_enc)\n",
    "\n",
    "print('X_train per-feature minimum sebelum scaling :\\n {}', format(x_train_enc.min(axis=0)))\n",
    "print('X_train per-feature maximum sebelum scaling :\\n {}', format(x_train_enc.max(axis=0)))\n",
    "print('X_train per-feature minimum setelah scaling :\\n {}', format(x_train_mmscaled.min(axis=0)))\n",
    "print('X_train per-feature maximum setelah scaling :\\n {}', format(x_train_mmscaled.max(axis=0)))"
   ],
   "metadata": {
    "colab": {
     "base_uri": "https://localhost:8080/"
    },
    "id": "0njZrsxqCuAC",
    "outputId": "e16ea9a5-2536-4edb-cf7e-99b70d432b2f"
   },
   "id": "0njZrsxqCuAC",
   "execution_count": 239,
   "outputs": [
    {
     "output_type": "stream",
     "name": "stdout",
     "text": [
      "X_train per-feature minimum sebelum scaling :\n",
      " {} [ 0.    0.    0.    0.    0.    0.    0.    0.    0.    0.    0.    0.\n",
      "  0.    0.    0.    0.   67.    0.08  0.    0.   55.12 11.3 ]\n",
      "X_train per-feature maximum sebelum scaling :\n",
      " {} [1.0000e+00 1.0000e+00 1.0000e+00 1.0000e+00 1.0000e+00 1.0000e+00\n",
      " 1.0000e+00 1.0000e+00 1.0000e+00 1.0000e+00 1.0000e+00 1.0000e+00\n",
      " 1.0000e+00 1.0000e+00 1.0000e+00 1.0000e+00 7.2940e+04 8.2000e+01\n",
      " 1.0000e+00 1.0000e+00 2.7174e+02 9.7600e+01]\n",
      "X_train per-feature minimum setelah scaling :\n",
      " {} [0. 0. 0. 0. 0. 0. 0. 0. 0. 0. 0. 0. 0. 0. 0. 0. 0. 0. 0. 0. 0. 0.]\n",
      "X_train per-feature maximum setelah scaling :\n",
      " {} [1. 1. 1. 1. 1. 1. 1. 1. 1. 1. 1. 1. 1. 1. 1. 1. 1. 1. 1. 1. 1. 1.]\n"
     ]
    }
   ]
  },
  {
   "cell_type": "markdown",
   "id": "72fb8fbb",
   "metadata": {
    "id": "72fb8fbb"
   },
   "source": [
    "### Feature Selection\n",
    "\n",
    "Melakukan feature selection menggunakan metode statistik univariat dan SelectFromModel untuk dibandingkan. Untuk jumlah feature, silahkan bereksperimen untuk mendapatkan jumlah performa model terbaik.\n",
    "\n",
    "    Untuk sub A: gunakan SelectKBest dan RFE dengan ketentuan:\n",
    "    jumlah feature minimal 5 dan model menggunakan RandomForestClassifier(n_estimators=100, random_state=dua digit terakhir NPM terkecil dalam sub kelompok).\n",
    "    Terapkan SelectKBest dan RFE pada dataset yang belum diubah dan sudah diubah dengan StandardScaler. \n",
    "\n",
    "    Untuk sub B: gunakan SelectPercentile dan SelectFromModel dengan ketentuan:\n",
    "    persentil minimal 30% dan model menggunakan RandomForestClassifier(n_estimators=200, random_state=dua digit terakhir NPM terbesar dalam sub kelompok).\n",
    "    Terapkan SelectPercentile dan SelectFromModel pada dataset yang belum diubah dan sudah diubah dengan MinMaxScaler."
   ]
  },
  {
   "cell_type": "code",
   "execution_count": 240,
   "id": "a43d9549",
   "metadata": {
    "id": "a43d9549",
    "colab": {
     "base_uri": "https://localhost:8080/"
    },
    "outputId": "028fa895-9315-4023-e8ab-2af1fff39584"
   },
   "outputs": [
    {
     "output_type": "stream",
     "name": "stdout",
     "text": [
      "X_train_Belum diubah : (3577, 22) \n",
      "X_train_Select percentile: (3577, 7)\n",
      "\n",
      "X_test_Awal belum diubah : (1533, 22)\n",
      "X_test_Select_Percentile : (1533, 7)\n"
     ]
    }
   ],
   "source": [
    "#NPM terbesar : Jean (1427)\n",
    "#Select percentile data belum diubah\n",
    "SP = SelectPercentile(percentile=30)\n",
    "SP.fit(x_train_enc, y_train)\n",
    "\n",
    "x_train_sp = SP.transform(x_train_enc)\n",
    "x_test_sp = SP.transform(x_test_enc)\n",
    "\n",
    "print(\"X_train_Belum diubah : {} \".format(x_train_enc.shape))\n",
    "print(\"X_train_Select percentile: {}\".format(x_train_sp.shape))\n",
    "\n",
    "print(\"\\nX_test_Awal belum diubah : {}\".format(x_test_enc.shape))\n",
    "print(\"X_test_Select_Percentile : {}\".format(x_test_sp.shape))\n"
   ]
  },
  {
   "cell_type": "code",
   "source": [
    "mask = SP.get_support()\n",
    "#mengambil feature yang mau diambil\n",
    "\n",
    "print(\"Feature yang diambil : \", df_train_enc.columns[mask].values)\n",
    "\n",
    "plt.matshow(mask.reshape(1, -1), cmap='gray_r')\n",
    "plt.xlabel(\"Indeks feature\")\n",
    "plt.yticks(())"
   ],
   "metadata": {
    "colab": {
     "base_uri": "https://localhost:8080/",
     "height": 226
    },
    "id": "khaRT8yZEZfB",
    "outputId": "8ff0c84e-945e-4410-b877-12d23a893f68"
   },
   "id": "khaRT8yZEZfB",
   "execution_count": 241,
   "outputs": [
    {
     "output_type": "stream",
     "name": "stdout",
     "text": [
      "Feature yang diambil :  ['onehotencoder__ever_married_No' 'onehotencoder__ever_married_Yes'\n",
      " 'onehotencoder__work_type_children' 'remainder__age'\n",
      " 'remainder__hypertension' 'remainder__heart_disease'\n",
      " 'remainder__avg_glucose_level']\n"
     ]
    },
    {
     "output_type": "execute_result",
     "data": {
      "text/plain": [
       "([], [])"
      ]
     },
     "metadata": {},
     "execution_count": 241
    },
    {
     "output_type": "display_data",
     "data": {
      "text/plain": [
       "<Figure size 1600x200 with 1 Axes>"
      ],
      "image/png": "[encoded data removed]"
     },
     "metadata": {}
    }
   ]
  },
  {
   "cell_type": "code",
   "source": [
    "#Select percentile data sudah di scaling menggunakan MinMax Scaler\n",
    "\n",
    "SP = SelectPercentile(percentile=30)\n",
    "SP.fit(x_train_mmscaled, y_train)\n",
    "\n",
    "x_train_sp = SP.transform(x_train_mmscaled)\n",
    "x_test_sp = SP.transform(x_test_mmscaled)\n",
    "\n",
    "print(\"X_train_Awal minMax Scaler : {} \".format(x_train_enc.shape))\n",
    "print(\"X_train_Select percentile: {}\".format(x_train_sp.shape))\n",
    "\n",
    "print(\"\\nX_test_Awal minMax Scaler : {}\".format(x_test_mmscaled.shape))\n",
    "print(\"X_test_Select_Percentile : {}\".format(x_test_sp.shape))"
   ],
   "metadata": {
    "colab": {
     "base_uri": "https://localhost:8080/"
    },
    "id": "_dquR4vwFXSo",
    "outputId": "4078a32b-81a1-471c-e5a0-a78750854274"
   },
   "id": "_dquR4vwFXSo",
   "execution_count": 242,
   "outputs": [
    {
     "output_type": "stream",
     "name": "stdout",
     "text": [
      "X_train_Awal minMax Scaler : (3577, 22) \n",
      "X_train_Select percentile: (3577, 7)\n",
      "\n",
      "X_test_Awal minMax Scaler : (1533, 22)\n",
      "X_test_Select_Percentile : (1533, 7)\n"
     ]
    }
   ]
  },
  {
   "cell_type": "code",
   "source": [
    "mask = SP.get_support()\n",
    "\n",
    "print(\"Feature yang dipilih : \", df_train_enc.columns[mask].values)\n",
    "\n",
    "plt.matshow(mask.reshape(1, -1), cmap='gray_r')\n",
    "plt.xlabel(\"Indeks feature\")\n",
    "plt.yticks(())"
   ],
   "metadata": {
    "colab": {
     "base_uri": "https://localhost:8080/",
     "height": 226
    },
    "id": "BDPaZ3LeFyHT",
    "outputId": "7ef4b6fd-f336-4c20-baf0-f07d773511f6"
   },
   "id": "BDPaZ3LeFyHT",
   "execution_count": 243,
   "outputs": [
    {
     "output_type": "stream",
     "name": "stdout",
     "text": [
      "Feature yang dipilih :  ['onehotencoder__ever_married_No' 'onehotencoder__ever_married_Yes'\n",
      " 'onehotencoder__work_type_children' 'remainder__age'\n",
      " 'remainder__hypertension' 'remainder__heart_disease'\n",
      " 'remainder__avg_glucose_level']\n"
     ]
    },
    {
     "output_type": "execute_result",
     "data": {
      "text/plain": [
       "([], [])"
      ]
     },
     "metadata": {},
     "execution_count": 243
    },
    {
     "output_type": "display_data",
     "data": {
      "text/plain": [
       "<Figure size 1600x200 with 1 Axes>"
      ],
      "image/png": "[encoded data removed]"
     },
     "metadata": {}
    }
   ]
  },
  {
   "cell_type": "code",
   "source": [
    "#Select From Model Data Belum Diubah\n",
    "\n",
    "SelectM = SelectFromModel(\n",
    "    RandomForestClassifier(n_estimators=200, random_state=27),\n",
    "    threshold='median'\n",
    ")\n",
    "\n",
    "SelectM.fit(x_train_enc, y_train)\n",
    "x_train_smodel = SelectM.transform(x_train_enc)\n",
    "x_test_smodel = SelectM.transform(x_test_enc)\n",
    "\n",
    "print(\"X_train_Awal belum diubah : {}\".format(x_train_enc.shape))\n",
    "print(\"X_train_Select_From_Model : {}\\n\".format(x_train_smodel.shape))\n",
    "\n",
    "print(\"X_test_Awal belum diubah : {}\".format(x_test_enc.shape))\n",
    "print(\"X_test_Select_From_Model : {}\".format(x_test_smodel.shape))"
   ],
   "metadata": {
    "colab": {
     "base_uri": "https://localhost:8080/"
    },
    "id": "GdhCSTSFF3YU",
    "outputId": "7c14c46c-d843-4000-e0b1-4b5914d98758"
   },
   "id": "GdhCSTSFF3YU",
   "execution_count": 244,
   "outputs": [
    {
     "output_type": "stream",
     "name": "stdout",
     "text": [
      "X_train_Awal belum diubah : (3577, 22)\n",
      "X_train_Select_From_Model : (3577, 11)\n",
      "\n",
      "X_test_Awal belum diubah : (1533, 22)\n",
      "X_test_Select_From_Model : (1533, 11)\n"
     ]
    }
   ]
  },
  {
   "cell_type": "code",
   "execution_count": null,
   "outputs": [],
   "source": [
    "mask = SelectM.get_support()\n",
    "\n",
    "print(\"Feature yang dipilih : \", df_train_enc.columns[mask].values)\n",
    "\n",
    "plt.matshow(mask.reshape(1, -1), cmap='gray_r')\n",
    "plt.xlabel(\"indeks feature\")\n",
    "plt.yticks(())  #%% md\n",
    "# Proyek UTS PMDPM"
   ],
   "metadata": {
    "collapsed": false
   }
  },
  {
   "cell_type": "markdown",
   "source": [
    "## Studi Kasus\n",
    "\n",
    "Dataset: Stroke Prediction Dataset (https://www.kaggle.com/datasets/fedesoriano/stroke-prediction-dataset)\n",
    "\n",
    "Deskripsi: Menurut WHO, stroke adalah penyebab kematian nomor 2 di dunia, sekitar 11% dari total kematian. Dataset ini digunakan untuk memprediksi apakah pasien memiliki kemungkinan terkena stroke berdasarkan input seperti gender, usia, penyakit bawaan, dan status merokok [3]. Setiap baris data menyediakan informasi relevan mengenai pasien.\n",
    "\n",
    "Informasi atribut:\n",
    "\n",
    "1) id: unique identifier\n",
    "\n",
    "2) gender: \"Male\", \"Female\" or \"Other\"\n",
    "\n",
    "3) age: age of the patient\n",
    "\n",
    "4) hypertension: 0 if the patient doesn't have hypertension, 1 if the patient has hypertension\n",
    "\n",
    "5) heart_disease: 0 if the patient doesn't have any heart diseases, 1 if the patient has a heart disease\n",
    "\n",
    "6) ever_married: \"No\" or \"Yes\"\n",
    "\n",
    "7) work_type: \"children\", \"Govt_jov\", \"Never_worked\", \"Private\" or \"Self-employed\"\n",
    "\n",
    "8) Residence_type: \"Rural\" or \"Urban\"\n",
    "\n",
    "9) avg_glucose_level: average glucose level in blood\n",
    "\n",
    "10) bmi: body mass index\n",
    "\n",
    "11) smoking_status: \"formerly smoked\", \"never smoked\", \"smokes\" or \"Unknown\"*\n",
    "\n",
    "12) stroke: 1 if the patient had a stroke or 0 if not\n",
    "\n",
    "*Note: \"Unknown\" in smoking_status means that the information is unavailable for this patient"
   ],
   "metadata": {
    "collapsed": false
   }
  },
  {
   "cell_type": "markdown",
   "source": [
    "## Penjelasan Tugas\n",
    "\n",
    "Terapkan pemrosesan dataset dari loading, data cleansing (jika perlu), data scaling, feature selection, hingga evaluasi model secara sederhana menggunakan code yang sudah dipelajari dalam latihan-latihan dan tugas."
   ],
   "metadata": {
    "collapsed": false
   }
  },
  {
   "cell_type": "markdown",
   "source": [
    "### Inisialisasi\n",
    "\n",
    "Bagian berikut berisi import library yang dibutuhkan"
   ],
   "metadata": {
    "collapsed": false
   }
  },
  {
   "cell_type": "code",
   "execution_count": null,
   "outputs": [],
   "source": [
    "import pandas as pd\n",
    "import numpy as np\n",
    "import matplotlib.pyplot as plt\n",
    "import seaborn as sns\n",
    "from sklearn.preprocessing import OneHotEncoder\n",
    "from sklearn.compose import make_column_transformer\n",
    "from sklearn.model_selection import train_test_split\n",
    "from sklearn.preprocessing import MinMaxScaler\n",
    "from sklearn.feature_selection import SelectPercentile\n",
    "from sklearn.neighbors import KNeighborsClassifier\n",
    "from sklearn.svm import SVC\n",
    "from sklearn.feature_selection import SelectFromModel\n",
    "from sklearn.ensemble import RandomForestClassifier\n",
    "\n",
    "#loading data yang akan diolah\n",
    "from google.colab import files\n",
    "\n",
    "uploaded = files.upload()\n",
    "\n",
    "df_stroke = pd.read_csv('healthcare-dataset-stroke-data.csv')\n",
    "#menampilkan 20 baris data teratas\n",
    "df_stroke.head(20)"
   ],
   "metadata": {
    "collapsed": false
   }
  },
  {
   "cell_type": "markdown",
   "source": [
    "### Data Loading\n",
    "\n",
    "Bagian berikut berisi proses data loading (boleh dengan file upload atau dengan mount drive), jangan lupa tampilkan 20 baris data teratas!"
   ],
   "metadata": {
    "collapsed": false
   }
  },
  {
   "cell_type": "markdown",
   "source": [
    "### Data Cleansing\n",
    "\n",
    "Bagian berikut berisi proses pembersihan data (jika diperlukan, minimal cek apakah ada data yang kosong atau duplikat)"
   ],
   "metadata": {
    "collapsed": false
   }
  },
  {
   "cell_type": "code",
   "execution_count": null,
   "outputs": [],
   "source": [
    "#bersihkan dataset menggunakan metode yang sudah dipelajari\n",
    "miss_value = df_stroke.isnull().sum().sort_values(ascending=False)\n",
    "miss_value[miss_value > 0]\n"
   ],
   "metadata": {
    "collapsed": false
   }
  },
  {
   "cell_type": "code",
   "execution_count": null,
   "outputs": [],
   "source": [
    "#melihat berapa banyak data yang bernilai nan/kosong\n",
    "df_stroke['bmi'].value_counts(dropna=False)"
   ],
   "metadata": {
    "collapsed": false
   }
  },
  {
   "cell_type": "code",
   "execution_count": null,
   "outputs": [],
   "source": [
    "sns.boxplot(data=df_stroke, x='bmi')"
   ],
   "metadata": {
    "collapsed": false
   }
  },
  {
   "cell_type": "code",
   "execution_count": null,
   "outputs": [],
   "source": [
    "med_bmi = df_stroke['bmi'].median()\n",
    "print(med_bmi)"
   ],
   "metadata": {
    "collapsed": false
   }
  },
  {
   "cell_type": "code",
   "execution_count": null,
   "outputs": [],
   "source": [
    "df_stroke['bmi'] = df_stroke['bmi'].fillna(med_bmi)\n",
    "df_stroke.bmi.value_counts(dropna=False)"
   ],
   "metadata": {
    "collapsed": false
   }
  },
  {
   "cell_type": "code",
   "execution_count": null,
   "outputs": [],
   "source": [
    "sns.boxplot(data=df_stroke, x='bmi')\n",
    "df_stroke.head(20)"
   ],
   "metadata": {
    "collapsed": false
   }
  },
  {
   "cell_type": "code",
   "execution_count": null,
   "outputs": [],
   "source": [
    "cols = ['id', 'gender', 'age', 'hypertension', 'heart_disease', 'ever_married', 'work_type', 'Residence_type',\n",
    "        'avg_glucose_level', 'bmi', 'smoking_status', 'stroke']\n",
    "df_stroke = df_stroke[cols]\n",
    "df_stroke.columns = df_stroke.columns.str.lower()\n",
    "df_stroke.head(20)"
   ],
   "metadata": {
    "collapsed": false
   }
  },
  {
   "cell_type": "code",
   "execution_count": null,
   "outputs": [],
   "source": [
    "df_stroke.info()\n",
    "df_stroke.describe()"
   ],
   "metadata": {
    "collapsed": false
   }
  },
  {
   "cell_type": "code",
   "execution_count": null,
   "outputs": [],
   "source": [
    "df_stroke.head()\n",
    "print(df_stroke.shape)\n",
    "cols_to_check = ['id', 'gender', 'age', 'hypertension', 'heart_disease', 'ever_married', 'work_type', 'residence_type',\n",
    "                 'avg_glucose_level', 'bmi', 'smoking_status', 'stroke']\n",
    "df_check = df_stroke[~df_stroke[cols_to_check].duplicated(keep='last')]\n",
    "df_check.shape"
   ],
   "metadata": {
    "collapsed": false
   }
  },
  {
   "cell_type": "code",
   "execution_count": null,
   "outputs": [],
   "source": [
    "duplicate = df_stroke.duplicated()\n",
    "df_stroke.loc[duplicate == True]"
   ],
   "metadata": {
    "collapsed": false
   }
  },
  {
   "cell_type": "markdown",
   "source": [
    "### Data Visualization\n",
    "\n",
    "Dalam proses visualisasi data, silahkan visualisasikan feature menggunakan plot yang sesuai agar mendapat insight dari data dengan menjawab pertanyaan-pertanyaan berikut:\n",
    "\n",
    "    untuk sub A:\n",
    "    1. Bagaimana komposisi jumlah pasien laki-laki dan perempuan?\n",
    "    2. Bagaimana sebaran usia antara kelompok pasien yang menderita hipertensi dan yang sehat?\n",
    "    3. Bagaimana perbandingan sebaran nilai rerata glukosa dalam darah antara pasien yang stroke dengan yang sehat?\n",
    "\n",
    "    untuk sub B:\n",
    "    1. Bagaimana komposisi jumlah pasien yang tinggal di urban dan rural?\n",
    "    2. Bagaimana sebaran nilai BMI antara kelompok pasien yang menderita penyakit jantung dan yang sehat?\n",
    "    3. Bagaimana perbandingan jumlah pasien yang menderita stroke dengan yang sehat berdasarkan status merokok?"
   ],
   "metadata": {
    "collapsed": false
   }
  },
  {
   "cell_type": "markdown",
   "source": [
    "1. Bagaimana komposisi jumlah pasien yang tinggal di urban dan rural?\n",
    "- Plot 1: Pada data stroke terdapat 2600 pasien yang tinggal di Urban dan 2500 pasien yang tinggal di Rural. Komposisi jumlah pasiennya banyak yang di rural.\n",
    "- Plot 2: Komposisi jumlah pasien pada data stroke yang tinggal di Urban dan Rural, pasien yang tinggal di Urban lebih rentan terkena penyakit stroke dibandingkan pasien yang tinggal di Rural."
   ],
   "metadata": {
    "collapsed": false
   }
  },
  {
   "cell_type": "code",
   "execution_count": null,
   "outputs": [],
   "source": [
    "#visualisasi fitur menggunakan metode yang sudah dipelajari\n",
    "plt.figure(figsize=(10, 5))\n",
    "sns.countplot(x='residence_type', data=df_stroke)\n",
    "plt.title(\"Komposisi jumlah pasien laki laki dan perempuan\")\n",
    "sns.catplot(data=df_stroke, x='residence_type', y='stroke', kind='bar')\n"
   ],
   "metadata": {
    "collapsed": false
   }
  },
  {
   "cell_type": "markdown",
   "source": [
    "2. Bagaimana sebaran nilai BMI antara kelompok pasien yang menderita penyakit jantung dan yang sehat?\n",
    "- Pada nilai BMI terdapat 2 jenis kelompok yaitu kelompok yang menderita penyakit jantung dan kelompok yang sehat, nilai BMI kelompok yang menderita penyakit jantung lebih sedikit dibandingkan dengan kelompok yang sehat"
   ],
   "metadata": {
    "collapsed": false
   }
  },
  {
   "cell_type": "code",
   "execution_count": null,
   "outputs": [],
   "source": [
    "#visualisasi fitur menggunakan metode yang sudah dipelajari\n",
    "plt.figure(figsize=(10, 5))\n",
    "sns.histplot(data=df_stroke, x='bmi', hue='heart_disease', multiple='stack')\n",
    "plt.title(\"Sebaran nilai bmi kelompok pasien yang menderita penyakit jantung dan yang sehat\")\n",
    "plt.show()\n",
    "sns.catplot(data=df_stroke, x='heart_disease', y='bmi', kind='box')\n",
    "plt.title(\"Sebaran nilai bmi kelompok pasien yang menderita penyakit jantung dan yang sehat\")\n",
    "plt.show()"
   ],
   "metadata": {
    "collapsed": false
   }
  },
  {
   "cell_type": "markdown",
   "source": [
    "3. Bagaimana perbandingan jumlah pasien yang menderita stroke dengan yang sehat berdasarkan status merokok?\n",
    "- Dapat disimpulkan dari plot bahwa jumlah pasien yang menderita stroke dulunya sering merokok dan sampai sekarang masih merokok"
   ],
   "metadata": {
    "collapsed": false
   }
  },
  {
   "cell_type": "code",
   "execution_count": null,
   "outputs": [],
   "source": [
    "#visualisasi fitur menggunakan metode yang sudah dipelajari\n",
    "plt.figure(figsize=(10, 5))\n",
    "sns.catplot(data=df_stroke, x='stroke', y='smoking_status', kind='bar')\n",
    "plt.title(\"Perbandingan jumlah pasien stroke dengan yang sehat\")\n",
    "plt.show()"
   ],
   "metadata": {
    "collapsed": false
   }
  },
  {
   "cell_type": "markdown",
   "source": [
    "### Deskripsi Data Visualization\n",
    "Berikan keterangan atau deskripsi singkat mengenai informasi yang diperoleh dari visualisasi data tersebut. Jawablah pertanyaan di atas pada cell markdown ini!\n",
    "\n",
    "1. Bagaimana komposisi jumlah pasien yang tinggal di urban dan rural?\n",
    "- Plot 1: Pada data stroke terdapat 2600 pasien yang tinggal di Urban dan 2500 pasien yang tinggal di Rural. Komposisi jumlah pasiennya banyak yang di rural.\n",
    "- Plot 2: Komposisi jumlah pasien pada data stroke yang tinggal di Urban dan Rural, pasien yang tinggal di Urban lebih rentan terkena penyakit stroke dibandingkan pasien yang tinggal di Rural.\n",
    "\n",
    "2. Bagaimana sebaran nilai BMI antara kelompok pasien yang menderita penyakit jantung dan yang sehat?\n",
    "- Pada nilai BMI terdapat 2 jenis kelompok yaitu kelompok yang menderita penyakit jantung dan kelompok yang sehat, nilai BMI kelompok yang menderita penyakit jantung lebih sedikit dibandingkan dengan kelompok yang sehat\n",
    "\n",
    "3. Bagaimana perbandingan jumlah pasien yang menderita stroke dengan yang sehat berdasarkan status merokok?\n",
    "- Dapat disimpulkan dari plot bahwa jumlah pasien yang menderita stroke dulunya sering merokok dan sampai sekarang masih merokok"
   ],
   "metadata": {
    "collapsed": false
   }
  },
  {
   "cell_type": "markdown",
   "source": [
    "### Data Preparation and Scaling\n",
    "\n",
    "Lakukan train-test split dan data scaling dengan ketentuan:\n",
    "\n",
    "    Untuk sub A: random_state train_test_split gunakan 2 digit terakhir NPM terbesar di sub kelompok, gunakan StandardScaler\n",
    "\n",
    "    Untuk sub B: random_state train_test_split gunakan 2 digit terakhir NPM terkecil di sub kelompok,gunakan MinMaxScaler"
   ],
   "metadata": {
    "collapsed": false
   }
  },
  {
   "cell_type": "code",
   "execution_count": null,
   "outputs": [],
   "source": [
    "#train-test split dan data scaling\n",
    "#NPM terkecil : Veno (0816)\n",
    "\n",
    "x = df_stroke.drop('stroke', axis=1)\n",
    "y = df_stroke['stroke']\n",
    "\n",
    "x_train, x_test, y_train, y_test = train_test_split(x, y, test_size=0.3, random_state=16)\n",
    "print(x_train.shape)\n",
    "print(x_test.shape)"
   ],
   "metadata": {
    "collapsed": false
   }
  },
  {
   "cell_type": "code",
   "execution_count": null,
   "outputs": [],
   "source": [
    "cols_category = ['gender', 'ever_married', 'work_type', 'residence_type', 'smoking_status']\n",
    "\n",
    "Transformer = make_column_transformer(\n",
    "    (OneHotEncoder(), cols_category),\n",
    "    remainder='passthrough'\n",
    ")\n",
    "\n",
    "x_train_enc = Transformer.fit_transform(x_train)\n",
    "x_test_enc = Transformer.transform(x_test)\n",
    "\n",
    "df_train_enc = pd.DataFrame(x_train_enc, columns=Transformer.get_feature_names_out())\n",
    "df_test_enc = pd.DataFrame(x_test_enc, columns=Transformer.get_feature_names_out())\n",
    "\n",
    "df_train_enc.head(10)\n",
    "df_test_enc.head(10)"
   ],
   "metadata": {
    "collapsed": false
   }
  },
  {
   "cell_type": "code",
   "execution_count": null,
   "outputs": [],
   "source": [
    "mm_scaler = MinMaxScaler()\n",
    "\n",
    "mm_scaler.fit(x_train_enc)\n",
    "x_train_mmscaled = mm_scaler.transform(x_train_enc)\n",
    "x_test_mmscaled = mm_scaler.transform(x_test_enc)\n",
    "\n",
    "print('X_train per-feature minimum sebelum scaling :\\n {}', format(x_train_enc.min(axis=0)))\n",
    "print('X_train per-feature maximum sebelum scaling :\\n {}', format(x_train_enc.max(axis=0)))\n",
    "print('X_train per-feature minimum setelah scaling :\\n {}', format(x_train_mmscaled.min(axis=0)))\n",
    "print('X_train per-feature maximum setelah scaling :\\n {}', format(x_train_mmscaled.max(axis=0)))"
   ],
   "metadata": {
    "collapsed": false
   }
  },
  {
   "cell_type": "markdown",
   "source": [
    "### Feature Selection\n",
    "\n",
    "Melakukan feature selection menggunakan metode statistik univariat dan SelectFromModel untuk dibandingkan. Untuk jumlah feature, silahkan bereksperimen untuk mendapatkan jumlah performa model terbaik.\n",
    "\n",
    "    Untuk sub A: gunakan SelectKBest dan RFE dengan ketentuan:\n",
    "    jumlah feature minimal 5 dan model menggunakan RandomForestClassifier(n_estimators=100, random_state=dua digit terakhir NPM terkecil dalam sub kelompok).\n",
    "    Terapkan SelectKBest dan RFE pada dataset yang belum diubah dan sudah diubah dengan StandardScaler.\n",
    "\n",
    "    Untuk sub B: gunakan SelectPercentile dan SelectFromModel dengan ketentuan:\n",
    "    persentil minimal 30% dan model menggunakan RandomForestClassifier(n_estimators=200, random_state=dua digit terakhir NPM terbesar dalam sub kelompok).\n",
    "    Terapkan SelectPercentile dan SelectFromModel pada dataset yang belum diubah dan sudah diubah dengan MinMaxScaler."
   ],
   "metadata": {
    "collapsed": false
   }
  },
  {
   "cell_type": "code",
   "execution_count": null,
   "outputs": [],
   "source": [
    "#NPM terbesar : Jean (1427)\n",
    "#Select percentile data belum diubah\n",
    "SP = SelectPercentile(percentile=30)\n",
    "SP.fit(x_train_enc, y_train)\n",
    "\n",
    "x_train_sp = SP.transform(x_train_enc)\n",
    "x_test_sp = SP.transform(x_test_enc)\n",
    "\n",
    "print(\"X_train_Belum diubah : {} \".format(x_train_enc.shape))\n",
    "print(\"X_train_Select percentile: {}\".format(x_train_sp.shape))\n",
    "\n",
    "print(\"\\nX_test_Awal belum diubah : {}\".format(x_test_enc.shape))\n",
    "print(\"X_test_Select_Percentile : {}\".format(x_test_sp.shape))\n"
   ],
   "metadata": {
    "collapsed": false
   }
  },
  {
   "cell_type": "code",
   "execution_count": null,
   "outputs": [],
   "source": [
    "mask = SP.get_support()\n",
    "#mengambil feature yang mau diambil\n",
    "\n",
    "print(\"Feature yang diambil : \", df_train_enc.columns[mask].values)\n",
    "\n",
    "plt.matshow(mask.reshape(1, -1), cmap='gray_r')\n",
    "plt.xlabel(\"Indeks feature\")\n",
    "plt.yticks(())"
   ],
   "metadata": {
    "collapsed": false
   }
  },
  {
   "cell_type": "code",
   "execution_count": null,
   "outputs": [],
   "source": [
    "#Select percentile data sudah di scaling menggunakan MinMax Scaler\n",
    "\n",
    "SP = SelectPercentile(percentile=30)\n",
    "SP.fit(x_train_mmscaled, y_train)\n",
    "\n",
    "x_train_sp = SP.transform(x_train_mmscaled)\n",
    "x_test_sp = SP.transform(x_test_mmscaled)\n",
    "\n",
    "print(\"X_train_Awal minMax Scaler : {} \".format(x_train_enc.shape))\n",
    "print(\"X_train_Select percentile: {}\".format(x_train_sp.shape))\n",
    "\n",
    "print(\"\\nX_test_Awal minMax Scaler : {}\".format(x_test_mmscaled.shape))\n",
    "print(\"X_test_Select_Percentile : {}\".format(x_test_sp.shape))"
   ],
   "metadata": {
    "collapsed": false
   }
  },
  {
   "cell_type": "code",
   "execution_count": null,
   "outputs": [],
   "source": [
    "mask = SP.get_support()\n",
    "\n",
    "print(\"Feature yang dipilih : \", df_train_enc.columns[mask].values)\n",
    "\n",
    "plt.matshow(mask.reshape(1, -1), cmap='gray_r')\n",
    "plt.xlabel(\"Indeks feature\")\n",
    "plt.yticks(())"
   ],
   "metadata": {
    "collapsed": false
   }
  },
  {
   "cell_type": "code",
   "execution_count": null,
   "outputs": [],
   "source": [
    "#Select From Model Data Belum Diubah\n",
    "\n",
    "SelectM = SelectFromModel(\n",
    "    RandomForestClassifier(n_estimators=200, random_state=27),\n",
    "    threshold='median'\n",
    ")\n",
    "\n",
    "SelectM.fit(x_train_enc, y_train)\n",
    "x_train_smodel = SelectM.transform(x_train_enc)\n",
    "x_test_smodel = SelectM.transform(x_test_enc)\n",
    "\n",
    "print(\"X_train_Awal belum diubah : {}\".format(x_train_enc.shape))\n",
    "print(\"X_train_Select_From_Model : {}\\n\".format(x_train_smodel.shape))\n",
    "\n",
    "print(\"X_test_Awal belum diubah : {}\".format(x_test_enc.shape))\n",
    "print(\"X_test_Select_From_Model : {}\".format(x_test_smodel.shape))"
   ],
   "metadata": {
    "collapsed": false
   }
  },
  {
   "cell_type": "code",
   "execution_count": null,
   "outputs": [],
   "source": [
    "mask = SelectM.get_support()\n",
    "\n",
    "print(\"Feature yang dipilih : \", df_train_enc.columns[mask].values)\n",
    "\n",
    "plt.matshow(mask.reshape(1, -1), cmap='gray_r')\n",
    "plt.xlabel(\"indeks feature\")\n",
    "plt.yticks(())"
   ],
   "metadata": {
    "collapsed": false
   }
  },
  {
   "cell_type": "code",
   "execution_count": null,
   "outputs": [],
   "source": [
    "#Select From Model Data Sudah Discaling menggunakan Minmax Scaler\n",
    "\n",
    "SelectM = SelectFromModel(\n",
    "    RandomForestClassifier(n_estimators=200, random_state=27),\n",
    "    threshold='median'\n",
    ")\n",
    "\n",
    "SelectM.fit(x_train_mmscaled, y_train)\n",
    "x_train_smodel = SelectM.transform(x_train_mmscaled)\n",
    "x_test_smodel = SelectM.transform(x_test_mmscaled)\n",
    "\n",
    "print(\"X_train_Awal Minmax Scaler : {}\".format(x_train_mmscaled.shape))\n",
    "print(\"X_train_Select_From_Model : {}\".format(x_train_smodel.shape))\n",
    "print(\"\\nX_test_Awal Minmax Scaler : {}\".format(x_test_mmscaled.shape))\n",
    "print(\"X_test_Select_From_Model : {}\".format(x_test_smodel.shape))"
   ],
   "metadata": {
    "collapsed": false
   }
  },
  {
   "cell_type": "code",
   "execution_count": null,
   "outputs": [],
   "source": [
    "mask = SelectM.get_support()\n",
    "print(\"Feature yang terpilih : \", df_train_enc.columns[mask].values)\n",
    "\n",
    "plt.matshow(mask.reshape(1, -1), cmap='gray_r')\n",
    "plt.xlabel(\"indeks feature\")\n",
    "plt.yticks(())"
   ],
   "metadata": {
    "collapsed": false
   }
  },
  {
   "cell_type": "code",
   "execution_count": null,
   "outputs": [],
   "source": [
    "def plot_feature_importances(classifier, dataset, feat_names):\n",
    "    n_feat = dataset.shape[1]\n",
    "    plt.barh(range(n_feat), classifier.feature_importances_, align='center')\n",
    "    plt.yticks(np.arange(n_feat), feat_names)\n",
    "    plt.xlabel('Feature Importances')\n",
    "    plt.ylabel('Features')\n",
    "    plt.ylim(-1, n_feat)\n",
    "    plt.show()\n",
    "\n",
    "\n",
    "plot_feature_importances(SelectM.estimator_, df_train_enc, df_train_enc.columns)"
   ],
   "metadata": {
    "collapsed": false
   }
  },
  {
   "cell_type": "markdown",
   "source": [
    "### Modelling\n",
    "\n",
    "Menggunakan 2 algoritme pembelajaran mesin untuk klasifikasi. Eksplorasi pengaturan parameter yang ada pada algoritme yang akan Anda gunakan, tidak terbatas pada 1-2 parameter saja supaya optimal (selain random_state). Silahkan bereksperimen untuk parameter seperti n_estimators, max_depth, dll. agar mendapat akurasi terbaik.\n",
    "\n",
    "Ketentuan:\n",
    "\n",
    "    Sub A:\n",
    "    1. DecisionTreeClassifier(random_state= dua digit terakhir NPM terbesar dalam sub kelompok, max_depth=bebas,criterion='entropy')\n",
    "    2. LogisticRegression(C=bebas, max_iter=10000, class_weight='balanced')`\n",
    "\n",
    "    Sub B:\n",
    "    1. K-Nearest Neighbors(n_neighbors=bebas, weights='distance')\n",
    "    2. LinearSVC(C=bebas, class_weight='balanced')\n",
    "\n",
    "Total ada 6 model yang harus diuji dengan rincian:\n",
    "\n",
    "<table>\n",
    "<thead>\n",
    "  <tr>\n",
    "    <th>Sub kelompok</th>\n",
    "    <th>Scaler</th>\n",
    "    <th>Feature Selection</th>\n",
    "    <th>Model</th>\n",
    "    <th>Kombinasi Pengujian Training Set dan Test Set</th>\n",
    "  </tr>\n",
    "</thead>\n",
    "<tbody>\n",
    "  <tr>\n",
    "    <td>A</td>\n",
    "    <td>StandardScaler</td>\n",
    "    <td>SelectKBest</td>\n",
    "    <td>Decision Tree</td>\n",
    "    <td>StandardScaler+DecisionTree | StandardScaler+SelectKBest+DecisionTree</td>\n",
    "  </tr>\n",
    "  <tr>\n",
    "    <td>A</td>\n",
    "    <td>StandardScaler</td>\n",
    "    <td>SelectKBest</td>\n",
    "    <td>LogisticRegression</td>\n",
    "    <td>StandardScaler+LogisticRegression | StandardScaler+SelectKBest+LogisticRegression</td>\n",
    "  </tr>\n",
    "  <tr>\n",
    "    <td>A</td>\n",
    "    <td>StandardScaler</td>\n",
    "    <td>RFE</td>\n",
    "    <td>Decision Tree</td>\n",
    "    <td>StandardScaler+RFE+DecisionTree</td>\n",
    "  </tr>\n",
    "  <tr>\n",
    "    <td>A</td>\n",
    "    <td>StandardScaler</td>\n",
    "    <td>RFE</td>\n",
    "    <td>LogisticRegression</td>\n",
    "    <td>StandardScaler+RFE+LogisticRegression</td>\n",
    "  </tr>\n",
    "  <tr>\n",
    "    <td>B</td>\n",
    "    <td>MinMaxScaler</td>\n",
    "    <td>SelectPercentile</td>\n",
    "    <td>KNN</td>\n",
    "    <td>MinMaxScaler+KNN | MinMaxScaler+SelectPercentile+KNN</td>\n",
    "  </tr>\n",
    "  <tr>\n",
    "    <td>B</td>\n",
    "    <td>MinMaxScaler</td>\n",
    "    <td>SelectPercentile</td>\n",
    "    <td>LinearSVC</td>\n",
    "    <td>MinMaxScaler+LinearSVC | MinMaxScaler+SelectPercentile+LinearSVC</td>\n",
    "  </tr>\n",
    "  <tr>\n",
    "    <td>B</td>\n",
    "    <td>MinMaxScaler</td>\n",
    "    <td>SelectFromModel</td>\n",
    "    <td>KNN</td>\n",
    "    <td>MinMaxScaler+SelectPercentile+KNN</td>\n",
    "  </tr>\n",
    "  <tr>\n",
    "    <td>B</td>\n",
    "    <td>MinMaxScaler</td>\n",
    "    <td>SelectFromModel</td>\n",
    "    <td>LinearSVC</td>\n",
    "    <td>MinMaxScaler+SelectFromModel+LinearSVC</td>\n",
    "  </tr>\n",
    "</tbody>\n",
    "</table>"
   ],
   "metadata": {
    "collapsed": false
   }
  },
  {
   "cell_type": "code",
   "execution_count": null,
   "outputs": [],
   "source": [
    "#KNN MinMaxScaler + KNN\n",
    "\n",
    "KNN_mmscaled = KNeighborsClassifier(n_neighbors=15, weights='distance')\n",
    "KNN_mmscaled.fit(x_train_mmscaled, y_train)"
   ],
   "metadata": {
    "collapsed": false
   }
  },
  {
   "cell_type": "code",
   "execution_count": null,
   "outputs": [],
   "source": [
    "#KNN MinMaxScaker + SelectPercentile + KNN\n",
    "\n",
    "KNN_percentile = KNeighborsClassifier(n_neighbors=30, weights='distance')\n",
    "KNN_percentile.fit(x_train_sp, y_train)"
   ],
   "metadata": {
    "collapsed": false
   }
  },
  {
   "cell_type": "code",
   "execution_count": null,
   "outputs": [],
   "source": [
    "#Linear SVC MinMaxScaler + LinearSVC\n",
    "\n",
    "SVC_model_mmscaled = SVC(C=400, class_weight='balanced', gamma=100)\n",
    "SVC_model_mmscaled.fit(x_train_mmscaled, y_train)"
   ],
   "metadata": {
    "collapsed": false
   }
  },
  {
   "cell_type": "code",
   "execution_count": null,
   "outputs": [],
   "source": [
    "#Linear SVC MinMaxScaler + SelectPercentile + LinearSVC\n",
    "\n",
    "SVC_model_percentile = SVC(C=400, class_weight='balanced', gamma=100)\n",
    "SVC_model_percentile.fit(x_train_sp, y_train)"
   ],
   "metadata": {
    "collapsed": false
   }
  },
  {
   "cell_type": "code",
   "execution_count": null,
   "outputs": [],
   "source": [
    "#KNN MinMaxScaler + SelectFromModel + KNN\n",
    "\n",
    "KNN_selectFromModel = KNeighborsClassifier(n_neighbors=15, weights='distance')\n",
    "KNN_selectFromModel.fit(x_train_smodel, y_train)\n"
   ],
   "metadata": {
    "collapsed": false
   }
  },
  {
   "cell_type": "code",
   "execution_count": null,
   "outputs": [],
   "source": [
    "#Linear SVC MinMaxScaler + SelectFromModel + LinearSVC\n",
    "\n",
    "SVC_model_selectFromModel = SVC(C=300, class_weight='balanced', gamma=100)\n",
    "SVC_model_selectFromModel.fit(x_train_smodel, y_train)"
   ],
   "metadata": {
    "collapsed": false
   }
  },
  {
   "cell_type": "markdown",
   "source": [
    "### Evaluasi Model\n",
    "\n",
    "Bagian berikut berisi evaluasi model secara sederhana menggunakan metrik akurasi (fungsi score). Uji akurasi hasil pembelajaran pada train set dan test set."
   ],
   "metadata": {
    "collapsed": false
   }
  },
  {
   "cell_type": "code",
   "execution_count": null,
   "outputs": [],
   "source": [
    "print(\"Akurasi KNN pada train set Minmax Scaler : {:.3f}\".format(KNN_mmscaled.score(x_train_mmscaled, y_train)))\n",
    "print(\"Akurasi KNN pada test set Minmax Scaler  : {:.3f}\".format(KNN_mmscaled.score(x_test_mmscaled, y_test)))\n"
   ],
   "metadata": {
    "collapsed": false
   }
  },
  {
   "cell_type": "code",
   "execution_count": null,
   "outputs": [],
   "source": [
    "print(\"Akurasi SVM pada train set Minmax Scaler :  {:.3f}\".format(SVC_model_mmscaled.score(x_train_mmscaled, y_train)))\n",
    "print(\"Akurasi SVM pada test set Minmax Scaler  :  {:.3f}\".format(SVC_model_mmscaled.score(x_test_mmscaled, y_test)))"
   ],
   "metadata": {
    "collapsed": false
   }
  },
  {
   "cell_type": "code",
   "execution_count": null,
   "outputs": [],
   "source": [
    "print('Akurasi KNN pada train set Select Percentile : {:.3f} '.format(KNN_percentile.score(x_train_sp, y_train)))\n",
    "print('Akurasi KNN pada test set Select Percentile  : {:.3f}'.format(KNN_percentile.score(x_test_sp, y_test)))"
   ],
   "metadata": {
    "collapsed": false
   }
  },
  {
   "cell_type": "code",
   "execution_count": null,
   "outputs": [],
   "source": [
    "print(\"Akurasi SVM pada train set Select Percentile :  {:.3f}\".format(SVC_model_percentile.score(X_train_sp, y_train)))\n",
    "print(\"Akurasi SVM pada test set Select Percentile :  {:.3f}\".format(SVC_model_percentile.score(X_test_sp, y_test)))"
   ],
   "metadata": {
    "collapsed": false
   }
  },
  {
   "cell_type": "markdown",
   "source": [
    "## Kesimpulan\n",
    "\n",
    "Silahkan jawab pertanyaan berikut:\n",
    "\n",
    "1. Apakah ada pengaruh penskalaan data pada dataset terhadap performa model-model machine learning?\n",
    "\n",
    "2. Apa saja feature-feature yang penting untuk membedakan antara pasien yang rawan terkena stroke dengan yang sehat?\n",
    "\n",
    "3. Model apakah yang memiliki performa paling baik terhadap dataset? Apakah parameter setting yang paling optimal dari model tersebut?"
   ],
   "metadata": {
    "collapsed": false
   }
  },
  {
   "cell_type": "markdown",
   "source": [
    "1. Pengaruh penskalaan data pada dataset terhadap performa model-model memiliki pengaruh signifikan terhadap machine learning, dikarenakan pengskalaan data menuju ke proses mengubah skala nilai dalam dataset sehingga nilai tersebut memiliki rentan sama.\n",
    "2. feature-feature penting untuk membedakan pasien rawan terkena stroke dengan yang sehat :\n",
    ">>age, gender, hypertension, work_type, heart_disease, Residence_type, bmi, avg_glucose_level, smoking_status\n",
    "3. Kinerja model pembelajaran mesin tidak menentukan model mana yang terbaik atau lebih baik dari yang lain. Hal ini karena kinerja model bergantung pada karakteristik data dan masalah yang akan dipecahkan. Namun dalam beberapa kasus, model KNN (K-Nearest Neighbor) memiliki beberapa keunggulan, yaitu:\n",
    "- Pada data yang tidak terstruktur, model KNN memiliki tingkat akurasi yang baik\n",
    "- Model KNN sederhana dan mudah dipahami, cocok untuk pemula pembelajaran mesin\n",
    "- KNN dapat digunakan untuk dataset yang besar karena tidak memerlukan waktu pelatihan yang lama\n",
    "- KNN dapat digunakan untuk masalah klasifikasi dan dapat dengan mudah diadaptasi untuk menangani data yang kompleks\n",
    "- KNN tidak memerlukan pengaturan parameter yang rumit\n"
   ],
   "metadata": {
    "collapsed": false
   }
  },
  {
   "cell_type": "code",
   "source": [
    "#Select From Model Data Sudah Discaling menggunakan Minmax Scaler\n",
    "\n",
    "SelectM = SelectFromModel(\n",
    "    RandomForestClassifier(n_estimators=200, random_state=27),\n",
    "    threshold='median'\n",
    ")\n",
    "\n",
    "SelectM.fit(x_train_mmscaled, y_train)\n",
    "x_train_smodel = SelectM.transform(x_train_mmscaled)\n",
    "x_test_smodel = SelectM.transform(x_test_mmscaled)\n",
    "\n",
    "print(\"X_train_Awal Minmax Scaler : {}\".format(x_train_mmscaled.shape))\n",
    "print(\"X_train_Select_From_Model : {}\".format(x_train_smodel.shape))\n",
    "print(\"\\nX_test_Awal Minmax Scaler : {}\".format(x_test_mmscaled.shape))\n",
    "print(\"X_test_Select_From_Model : {}\".format(x_test_smodel.shape))"
   ],
   "metadata": {
    "colab": {
     "base_uri": "https://localhost:8080/"
    },
    "id": "NRtst_ImGJuv",
    "outputId": "32d7fe64-c6dc-4bdf-b68c-c041795d4146"
   },
   "id": "NRtst_ImGJuv",
   "execution_count": 246,
   "outputs": [
    {
     "output_type": "stream",
     "name": "stdout",
     "text": [
      "X_train_Awal Minmax Scaler : (3577, 22)\n",
      "X_train_Select_From_Model : (3577, 11)\n",
      "\n",
      "X_test_Awal Minmax Scaler : (1533, 22)\n",
      "X_test_Select_From_Model : (1533, 11)\n"
     ]
    }
   ]
  },
  {
   "cell_type": "code",
   "execution_count": null,
   "outputs": [],
   "source": [
    "mask = SelectM.get_support()\n",
    "print(\"Feature yang terpilih : \", df_train_enc.columns[mask].values)\n",
    "\n",
    "plt.matshow(mask.reshape(1, -1), cmap='gray_r')\n",
    "plt.xlabel(\"indeks feature\")\n",
    "plt.yticks(())  #%% md\n",
    "# Proyek UTS PMDPM\n",
    "\n",
    "#"
   ],
   "metadata": {
    "collapsed": false
   }
  },
  {
   "cell_type": "markdown",
   "source": [
    "## Studi Kasus\n",
    "\n",
    "Dataset: Stroke Prediction Dataset (https://www.kaggle.com/datasets/fedesoriano/stroke-prediction-dataset)\n",
    "\n",
    "Deskripsi: Menurut WHO, stroke adalah penyebab kematian nomor 2 di dunia, sekitar 11% dari total kematian. Dataset ini digunakan untuk memprediksi apakah pasien memiliki kemungkinan terkena stroke berdasarkan input seperti gender, usia, penyakit bawaan, dan status merokok [3]. Setiap baris data menyediakan informasi relevan mengenai pasien.\n",
    "\n",
    "Informasi atribut:\n",
    "\n",
    "1) id: unique identifier\n",
    "\n",
    "2) gender: \"Male\", \"Female\" or \"Other\"\n",
    "\n",
    "3) age: age of the patient\n",
    "\n",
    "4) hypertension: 0 if the patient doesn't have hypertension, 1 if the patient has hypertension\n",
    "\n",
    "5) heart_disease: 0 if the patient doesn't have any heart diseases, 1 if the patient has a heart disease\n",
    "\n",
    "6) ever_married: \"No\" or \"Yes\"\n",
    "\n",
    "7) work_type: \"children\", \"Govt_jov\", \"Never_worked\", \"Private\" or \"Self-employed\"\n",
    "\n",
    "8) Residence_type: \"Rural\" or \"Urban\"\n",
    "\n",
    "9) avg_glucose_level: average glucose level in blood\n",
    "\n",
    "10) bmi: body mass index\n",
    "\n",
    "11) smoking_status: \"formerly smoked\", \"never smoked\", \"smokes\" or \"Unknown\"*\n",
    "\n",
    "12) stroke: 1 if the patient had a stroke or 0 if not\n",
    "\n",
    "*Note: \"Unknown\" in smoking_status means that the information is unavailable for this patient"
   ],
   "metadata": {
    "collapsed": false
   }
  },
  {
   "cell_type": "markdown",
   "source": [
    "## Penjelasan Tugas\n",
    "\n",
    "Terapkan pemrosesan dataset dari loading, data cleansing (jika perlu), data scaling, feature selection, hingga evaluasi model secara sederhana menggunakan code yang sudah dipelajari dalam latihan-latihan dan tugas."
   ],
   "metadata": {
    "collapsed": false
   }
  },
  {
   "cell_type": "markdown",
   "source": [
    "### Inisialisasi\n",
    "\n",
    "Bagian berikut berisi import library yang dibutuhkan"
   ],
   "metadata": {
    "collapsed": false
   }
  },
  {
   "cell_type": "code",
   "execution_count": null,
   "outputs": [],
   "source": [
    "import pandas as pd\n",
    "import numpy as np\n",
    "import matplotlib.pyplot as plt\n",
    "import seaborn as sns\n",
    "from sklearn.preprocessing import OneHotEncoder\n",
    "from sklearn.compose import make_column_transformer\n",
    "from sklearn.model_selection import train_test_split\n",
    "from sklearn.preprocessing import MinMaxScaler\n",
    "from sklearn.feature_selection import SelectPercentile\n",
    "from sklearn.neighbors import KNeighborsClassifier\n",
    "from sklearn.svm import SVC\n",
    "from sklearn.feature_selection import SelectFromModel\n",
    "from sklearn.ensemble import RandomForestClassifier\n",
    "\n",
    "#loading data yang akan diolah\n",
    "# from google.colab import files\n",
    "\n",
    "# uploaded = files.upload()\n",
    "\n",
    "df_stroke = pd.read_csv('healthcare-dataset-stroke-data.csv')\n",
    "#menampilkan 20 baris data teratas\n",
    "df_stroke.head(20)"
   ],
   "metadata": {
    "collapsed": false
   }
  },
  {
   "cell_type": "markdown",
   "source": [
    "### Data Loading\n",
    "\n",
    "Bagian berikut berisi proses data loading (boleh dengan file upload atau dengan mount drive), jangan lupa tampilkan 20 baris data teratas!"
   ],
   "metadata": {
    "collapsed": false
   }
  },
  {
   "cell_type": "markdown",
   "source": [
    "### Data Cleansing\n",
    "\n",
    "Bagian berikut berisi proses pembersihan data (jika diperlukan, minimal cek apakah ada data yang kosong atau duplikat)"
   ],
   "metadata": {
    "collapsed": false
   }
  },
  {
   "cell_type": "code",
   "execution_count": null,
   "outputs": [],
   "source": [
    "#bersihkan dataset menggunakan metode yang sudah dipelajari\n",
    "miss_value = df_stroke.isnull().sum().sort_values(ascending=False)\n",
    "miss_value[miss_value > 0]\n"
   ],
   "metadata": {
    "collapsed": false
   }
  },
  {
   "cell_type": "code",
   "execution_count": null,
   "outputs": [],
   "source": [
    "#melihat berapa banyak data yang bernilai nan/kosong\n",
    "df_stroke['bmi'].value_counts(dropna=False)"
   ],
   "metadata": {
    "collapsed": false
   }
  },
  {
   "cell_type": "code",
   "execution_count": null,
   "outputs": [],
   "source": [
    "sns.boxplot(data=df_stroke, x='bmi')"
   ],
   "metadata": {
    "collapsed": false
   }
  },
  {
   "cell_type": "code",
   "execution_count": null,
   "outputs": [],
   "source": [
    "med_bmi = df_stroke['bmi'].median()\n",
    "print(med_bmi)"
   ],
   "metadata": {
    "collapsed": false
   }
  },
  {
   "cell_type": "code",
   "execution_count": null,
   "outputs": [],
   "source": [
    "df_stroke['bmi'] = df_stroke['bmi'].fillna(med_bmi)\n",
    "df_stroke.bmi.value_counts(dropna=False)"
   ],
   "metadata": {
    "collapsed": false
   }
  },
  {
   "cell_type": "code",
   "execution_count": null,
   "outputs": [],
   "source": [
    "sns.boxplot(data=df_stroke, x='bmi')\n",
    "df_stroke.head(20)"
   ],
   "metadata": {
    "collapsed": false
   }
  },
  {
   "cell_type": "code",
   "execution_count": null,
   "outputs": [],
   "source": [
    "cols = ['gender', 'age', 'hypertension', 'heart_disease', 'ever_married', 'work_type', 'Residence_type',\n",
    "        'avg_glucose_level', 'bmi', 'smoking_status', 'stroke']\n",
    "df_stroke = df_stroke[cols]\n",
    "df_stroke.columns = df_stroke.columns.str.lower()\n",
    "df_stroke.head(20)"
   ],
   "metadata": {
    "collapsed": false
   }
  },
  {
   "cell_type": "code",
   "execution_count": null,
   "outputs": [],
   "source": [
    "df_stroke.info()\n",
    "df_stroke.describe()"
   ],
   "metadata": {
    "collapsed": false
   }
  },
  {
   "cell_type": "code",
   "execution_count": null,
   "outputs": [],
   "source": [
    "df_stroke.head()\n",
    "print(df_stroke.shape)\n",
    "cols_to_check = ['id', 'gender', 'age', 'hypertension', 'heart_disease', 'ever_married', 'work_type', 'residence_type',\n",
    "                 'avg_glucose_level', 'bmi', 'smoking_status', 'stroke']\n",
    "df_check = df_stroke[~df_stroke[cols_to_check].duplicated(keep='last')]\n",
    "df_check.shape"
   ],
   "metadata": {
    "collapsed": false
   }
  },
  {
   "cell_type": "code",
   "execution_count": null,
   "outputs": [],
   "source": [
    "duplicate = df_stroke.duplicated()\n",
    "df_stroke.loc[duplicate == True]"
   ],
   "metadata": {
    "collapsed": false
   }
  },
  {
   "cell_type": "markdown",
   "source": [
    "### Data Visualization\n",
    "\n",
    "Dalam proses visualisasi data, silahkan visualisasikan feature menggunakan plot yang sesuai agar mendapat insight dari data dengan menjawab pertanyaan-pertanyaan berikut:\n",
    "\n",
    "    untuk sub A:\n",
    "    1. Bagaimana komposisi jumlah pasien laki-laki dan perempuan?\n",
    "    2. Bagaimana sebaran usia antara kelompok pasien yang menderita hipertensi dan yang sehat?\n",
    "    3. Bagaimana perbandingan sebaran nilai rerata glukosa dalam darah antara pasien yang stroke dengan yang sehat?\n",
    "\n",
    "    untuk sub B:\n",
    "    1. Bagaimana komposisi jumlah pasien yang tinggal di urban dan rural?\n",
    "    2. Bagaimana sebaran nilai BMI antara kelompok pasien yang menderita penyakit jantung dan yang sehat?\n",
    "    3. Bagaimana perbandingan jumlah pasien yang menderita stroke dengan yang sehat berdasarkan status merokok?"
   ],
   "metadata": {
    "collapsed": false
   }
  },
  {
   "cell_type": "markdown",
   "source": [
    "1. Bagaimana komposisi jumlah pasien yang tinggal di urban dan rural?\n",
    "- Plot 1: Pada data stroke terdapat 2600 pasien yang tinggal di Urban dan 2500 pasien yang tinggal di Rural. Komposisi jumlah pasiennya banyak yang di rural.\n",
    "- Plot 2: Komposisi jumlah pasien pada data stroke yang tinggal di Urban dan Rural, pasien yang tinggal di Urban lebih rentan terkena penyakit stroke dibandingkan pasien yang tinggal di Rural."
   ],
   "metadata": {
    "collapsed": false
   }
  },
  {
   "cell_type": "code",
   "execution_count": null,
   "outputs": [],
   "source": [
    "#visualisasi fitur menggunakan metode yang sudah dipelajari\n",
    "plt.figure(figsize=(10, 5))\n",
    "sns.countplot(x='residence_type', data=df_stroke)\n",
    "plt.title(\"Komposisi jumlah pasien laki laki dan perempuan\")\n",
    "sns.catplot(data=df_stroke, x='residence_type', y='stroke', kind='bar')\n"
   ],
   "metadata": {
    "collapsed": false
   }
  },
  {
   "cell_type": "markdown",
   "source": [
    "2. Bagaimana sebaran nilai BMI antara kelompok pasien yang menderita penyakit jantung dan yang sehat?\n",
    "- Pada nilai BMI terdapat 2 jenis kelompok yaitu kelompok yang menderita penyakit jantung dan kelompok yang sehat, nilai BMI kelompok yang menderita penyakit jantung lebih sedikit dibandingkan dengan kelompok yang sehat"
   ],
   "metadata": {
    "collapsed": false
   }
  },
  {
   "cell_type": "code",
   "execution_count": null,
   "outputs": [],
   "source": [
    "#visualisasi fitur menggunakan metode yang sudah dipelajari\n",
    "plt.figure(figsize=(10, 5))\n",
    "sns.histplot(data=df_stroke, x='bmi', hue='heart_disease', multiple='stack')\n",
    "plt.title(\"Sebaran nilai bmi kelompok pasien yang menderita penyakit jantung dan yang sehat\")\n",
    "plt.show()\n",
    "sns.catplot(data=df_stroke, x='heart_disease', y='bmi', kind='box')\n",
    "plt.title(\"Sebaran nilai bmi kelompok pasien yang menderita penyakit jantung dan yang sehat\")\n",
    "plt.show()"
   ],
   "metadata": {
    "collapsed": false
   }
  },
  {
   "cell_type": "markdown",
   "source": [
    "3. Bagaimana perbandingan jumlah pasien yang menderita stroke dengan yang sehat berdasarkan status merokok?\n",
    "- Dapat disimpulkan dari plot bahwa jumlah pasien yang menderita stroke dulunya sering merokok dan sampai sekarang masih merokok"
   ],
   "metadata": {
    "collapsed": false
   }
  },
  {
   "cell_type": "code",
   "execution_count": null,
   "outputs": [],
   "source": [
    "#visualisasi fitur menggunakan metode yang sudah dipelajari\n",
    "plt.figure(figsize=(10, 5))\n",
    "sns.catplot(data=df_stroke, x='stroke', y='smoking_status', kind='bar')\n",
    "plt.title(\"Perbandingan jumlah pasien stroke dengan yang sehat\")\n",
    "plt.show()"
   ],
   "metadata": {
    "collapsed": false
   }
  },
  {
   "cell_type": "markdown",
   "source": [
    "### Deskripsi Data Visualization\n",
    "Berikan keterangan atau deskripsi singkat mengenai informasi yang diperoleh dari visualisasi data tersebut. Jawablah pertanyaan di atas pada cell markdown ini!\n",
    "\n",
    "1. Bagaimana komposisi jumlah pasien yang tinggal di urban dan rural?\n",
    "- Plot 1: Pada data stroke terdapat 2600 pasien yang tinggal di Urban dan 2500 pasien yang tinggal di Rural. Komposisi jumlah pasiennya banyak yang di rural.\n",
    "- Plot 2: Komposisi jumlah pasien pada data stroke yang tinggal di Urban dan Rural, pasien yang tinggal di Urban lebih rentan terkena penyakit stroke dibandingkan pasien yang tinggal di Rural.\n",
    "\n",
    "2. Bagaimana sebaran nilai BMI antara kelompok pasien yang menderita penyakit jantung dan yang sehat?\n",
    "- Pada nilai BMI terdapat 2 jenis kelompok yaitu kelompok yang menderita penyakit jantung dan kelompok yang sehat, nilai BMI kelompok yang menderita penyakit jantung lebih sedikit dibandingkan dengan kelompok yang sehat\n",
    "\n",
    "3. Bagaimana perbandingan jumlah pasien yang menderita stroke dengan yang sehat berdasarkan status merokok?\n",
    "- Dapat disimpulkan dari plot bahwa jumlah pasien yang menderita stroke dulunya sering merokok dan sampai sekarang masih merokok"
   ],
   "metadata": {
    "collapsed": false
   }
  },
  {
   "cell_type": "markdown",
   "source": [
    "### Data Preparation and Scaling\n",
    "\n",
    "Lakukan train-test split dan data scaling dengan ketentuan:\n",
    "\n",
    "    Untuk sub A: random_state train_test_split gunakan 2 digit terakhir NPM terbesar di sub kelompok, gunakan StandardScaler\n",
    "\n",
    "    Untuk sub B: random_state train_test_split gunakan 2 digit terakhir NPM terkecil di sub kelompok,gunakan MinMaxScaler"
   ],
   "metadata": {
    "collapsed": false
   }
  },
  {
   "cell_type": "code",
   "execution_count": null,
   "outputs": [],
   "source": [
    "#train-test split dan data scaling\n",
    "#NPM terkecil : Veno (0816)\n",
    "\n",
    "x = df_stroke.drop('stroke', axis=1)\n",
    "y = df_stroke['stroke']\n",
    "\n",
    "x_train, x_test, y_train, y_test = train_test_split(x, y, test_size=0.3, random_state=16)\n",
    "print(x_train.shape)\n",
    "print(x_test.shape)"
   ],
   "metadata": {
    "collapsed": false
   }
  },
  {
   "cell_type": "code",
   "execution_count": null,
   "outputs": [],
   "source": [
    "cols_category = ['gender', 'ever_married', 'work_type', 'residence_type', 'smoking_status']\n",
    "\n",
    "Transformer = make_column_transformer(\n",
    "    (OneHotEncoder(), cols_category),\n",
    "    remainder='passthrough'\n",
    ")\n",
    "\n",
    "x_train_enc = Transformer.fit_transform(x_train)\n",
    "x_test_enc = Transformer.transform(x_test)\n",
    "\n",
    "df_train_enc = pd.DataFrame(x_train_enc, columns=Transformer.get_feature_names_out())\n",
    "df_test_enc = pd.DataFrame(x_test_enc, columns=Transformer.get_feature_names_out())\n",
    "\n",
    "df_train_enc.head(10)\n",
    "df_test_enc.head(10)"
   ],
   "metadata": {
    "collapsed": false
   }
  },
  {
   "cell_type": "code",
   "execution_count": null,
   "outputs": [],
   "source": [
    "mm_scaler = MinMaxScaler()\n",
    "\n",
    "mm_scaler.fit(x_train_enc)\n",
    "x_train_mmscaled = mm_scaler.transform(x_train_enc)\n",
    "x_test_mmscaled = mm_scaler.transform(x_test_enc)\n",
    "\n",
    "print('X_train per-feature minimum sebelum scaling :\\n {}', format(x_train_enc.min(axis=0)))\n",
    "print('X_train per-feature maximum sebelum scaling :\\n {}', format(x_train_enc.max(axis=0)))\n",
    "print('X_train per-feature minimum setelah scaling :\\n {}', format(x_train_mmscaled.min(axis=0)))\n",
    "print('X_train per-feature maximum setelah scaling :\\n {}', format(x_train_mmscaled.max(axis=0)))"
   ],
   "metadata": {
    "collapsed": false
   }
  },
  {
   "cell_type": "markdown",
   "source": [
    "### Feature Selection\n",
    "\n",
    "Melakukan feature selection menggunakan metode statistik univariat dan SelectFromModel untuk dibandingkan. Untuk jumlah feature, silahkan bereksperimen untuk mendapatkan jumlah performa model terbaik.\n",
    "\n",
    "    Untuk sub A: gunakan SelectKBest dan RFE dengan ketentuan:\n",
    "    jumlah feature minimal 5 dan model menggunakan RandomForestClassifier(n_estimators=100, random_state=dua digit terakhir NPM terkecil dalam sub kelompok).\n",
    "    Terapkan SelectKBest dan RFE pada dataset yang belum diubah dan sudah diubah dengan StandardScaler.\n",
    "\n",
    "    Untuk sub B: gunakan SelectPercentile dan SelectFromModel dengan ketentuan:\n",
    "    persentil minimal 30% dan model menggunakan RandomForestClassifier(n_estimators=200, random_state=dua digit terakhir NPM terbesar dalam sub kelompok).\n",
    "    Terapkan SelectPercentile dan SelectFromModel pada dataset yang belum diubah dan sudah diubah dengan MinMaxScaler."
   ],
   "metadata": {
    "collapsed": false
   }
  },
  {
   "cell_type": "code",
   "execution_count": null,
   "outputs": [],
   "source": [
    "#NPM terbesar : Jean (1427)\n",
    "#Select percentile data belum diubah\n",
    "SP = SelectPercentile(percentile=30)\n",
    "SP.fit(x_train_enc, y_train)\n",
    "\n",
    "x_train_sp = SP.transform(x_train_enc)\n",
    "x_test_sp = SP.transform(x_test_enc)\n",
    "\n",
    "print(\"X_train_Belum diubah : {} \".format(x_train_enc.shape))\n",
    "print(\"X_train_Select percentile: {}\".format(x_train_sp.shape))\n",
    "\n",
    "print(\"\\nX_test_Awal belum diubah : {}\".format(x_test_enc.shape))\n",
    "print(\"X_test_Select_Percentile : {}\".format(x_test_sp.shape))\n"
   ],
   "metadata": {
    "collapsed": false
   }
  },
  {
   "cell_type": "code",
   "execution_count": null,
   "outputs": [],
   "source": [
    "mask = SP.get_support()\n",
    "#mengambil feature yang mau diambil\n",
    "\n",
    "print(\"Feature yang diambil : \", df_train_enc.columns[mask].values)\n",
    "\n",
    "plt.matshow(mask.reshape(1, -1), cmap='gray_r')\n",
    "plt.xlabel(\"Indeks feature\")\n",
    "plt.yticks(())"
   ],
   "metadata": {
    "collapsed": false
   }
  },
  {
   "cell_type": "code",
   "execution_count": null,
   "outputs": [],
   "source": [
    "#Select percentile data sudah di scaling menggunakan MinMax Scaler\n",
    "\n",
    "SP = SelectPercentile(percentile=30)\n",
    "SP.fit(x_train_mmscaled, y_train)\n",
    "\n",
    "x_train_sp = SP.transform(x_train_mmscaled)\n",
    "x_test_sp = SP.transform(x_test_mmscaled)\n",
    "\n",
    "print(\"X_train_Awal minMax Scaler : {} \".format(x_train_enc.shape))\n",
    "print(\"X_train_Select percentile: {}\".format(x_train_sp.shape))\n",
    "\n",
    "print(\"\\nX_test_Awal minMax Scaler : {}\".format(x_test_mmscaled.shape))\n",
    "print(\"X_test_Select_Percentile : {}\".format(x_test_sp.shape))"
   ],
   "metadata": {
    "collapsed": false
   }
  },
  {
   "cell_type": "code",
   "execution_count": null,
   "outputs": [],
   "source": [
    "mask = SP.get_support()\n",
    "\n",
    "print(\"Feature yang dipilih : \", df_train_enc.columns[mask].values)\n",
    "\n",
    "plt.matshow(mask.reshape(1, -1), cmap='gray_r')\n",
    "plt.xlabel(\"Indeks feature\")\n",
    "plt.yticks(())"
   ],
   "metadata": {
    "collapsed": false
   }
  },
  {
   "cell_type": "code",
   "execution_count": null,
   "outputs": [],
   "source": [
    "#Select From Model Data Belum Diubah\n",
    "\n",
    "SelectM = SelectFromModel(\n",
    "    RandomForestClassifier(n_estimators=200, random_state=27),\n",
    "    threshold='median'\n",
    ")\n",
    "\n",
    "SelectM.fit(x_train_enc, y_train)\n",
    "x_train_smodel = SelectM.transform(x_train_enc)\n",
    "x_test_smodel = SelectM.transform(x_test_enc)\n",
    "\n",
    "print(\"X_train_Awal belum diubah : {}\".format(x_train_enc.shape))\n",
    "print(\"X_train_Select_From_Model : {}\\n\".format(x_train_smodel.shape))\n",
    "\n",
    "print(\"X_test_Awal belum diubah : {}\".format(x_test_enc.shape))\n",
    "print(\"X_test_Select_From_Model : {}\".format(x_test_smodel.shape))"
   ],
   "metadata": {
    "collapsed": false
   }
  },
  {
   "cell_type": "code",
   "execution_count": null,
   "outputs": [],
   "source": [
    "mask = SelectM.get_support()\n",
    "\n",
    "print(\"Feature yang dipilih : \", df_train_enc.columns[mask].values)\n",
    "\n",
    "plt.matshow(mask.reshape(1, -1), cmap='gray_r')\n",
    "plt.xlabel(\"indeks feature\")\n",
    "plt.yticks(())  #%% md\n",
    "# Proyek UTS PMDPM\n",
    "\n",
    "< b > Harap\n",
    "jangan\n",
    "menghapus\n",
    "cell\n",
    "dan\n",
    "komentar\n",
    "yang\n",
    "diberikan! < /b >\n",
    "\n",
    "Setiap\n",
    "cell\n",
    "markdown\n",
    "dan\n",
    "code\n",
    "akan\n",
    "berisi\n",
    "instruksi\n",
    "pengerjaan\n",
    "Proyek\n",
    "UTS\n",
    "PMDPM\n",
    "\n",
    "Dalam\n",
    "notebook\n",
    "ini\n",
    "Anda\n",
    "akan\n",
    "diminta\n",
    "untuk\n",
    "membuat\n",
    "sebuah\n",
    "proyek\n",
    "Pembelajaran\n",
    "Mesin\n",
    "menggunakan\n",
    "dataset\n",
    "yang\n",
    "sudah\n",
    "disediakan.Proyek\n",
    "akan\n",
    "terdiri\n",
    "dari\n",
    "proses\n",
    "inisialisasi, data\n",
    "loading, data\n",
    "cleansing, feature\n",
    "engineering, modelling\n",
    "dan\n",
    "evaluasi\n",
    "model.Pada\n",
    "bagian\n",
    "akhir\n",
    "silahkan\n",
    "berikan\n",
    "laporan\n",
    "singkat\n",
    "dari\n",
    "proyek\n",
    "yang\n",
    "sudah\n",
    "dikerjakan"
   ],
   "metadata": {
    "collapsed": false
   }
  },
  {
   "cell_type": "markdown",
   "source": [
    "## Studi Kasus\n",
    "\n",
    "Dataset: Stroke Prediction Dataset (https://www.kaggle.com/datasets/fedesoriano/stroke-prediction-dataset)\n",
    "\n",
    "Deskripsi: Menurut WHO, stroke adalah penyebab kematian nomor 2 di dunia, sekitar 11% dari total kematian. Dataset ini digunakan untuk memprediksi apakah pasien memiliki kemungkinan terkena stroke berdasarkan input seperti gender, usia, penyakit bawaan, dan status merokok [3]. Setiap baris data menyediakan informasi relevan mengenai pasien.\n",
    "\n",
    "Informasi atribut:\n",
    "\n",
    "1) id: unique identifier\n",
    "\n",
    "2) gender: \"Male\", \"Female\" or \"Other\"\n",
    "\n",
    "3) age: age of the patient\n",
    "\n",
    "4) hypertension: 0 if the patient doesn't have hypertension, 1 if the patient has hypertension\n",
    "\n",
    "5) heart_disease: 0 if the patient doesn't have any heart diseases, 1 if the patient has a heart disease\n",
    "\n",
    "6) ever_married: \"No\" or \"Yes\"\n",
    "\n",
    "7) work_type: \"children\", \"Govt_jov\", \"Never_worked\", \"Private\" or \"Self-employed\"\n",
    "\n",
    "8) Residence_type: \"Rural\" or \"Urban\"\n",
    "\n",
    "9) avg_glucose_level: average glucose level in blood\n",
    "\n",
    "10) bmi: body mass index\n",
    "\n",
    "11) smoking_status: \"formerly smoked\", \"never smoked\", \"smokes\" or \"Unknown\"*\n",
    "\n",
    "12) stroke: 1 if the patient had a stroke or 0 if not\n",
    "\n",
    "*Note: \"Unknown\" in smoking_status means that the information is unavailable for this patient"
   ],
   "metadata": {
    "collapsed": false
   }
  },
  {
   "cell_type": "markdown",
   "source": [
    "## Penjelasan Tugas\n",
    "\n",
    "Terapkan pemrosesan dataset dari loading, data cleansing (jika perlu), data scaling, feature selection, hingga evaluasi model secara sederhana menggunakan code yang sudah dipelajari dalam latihan-latihan dan tugas."
   ],
   "metadata": {
    "collapsed": false
   }
  },
  {
   "cell_type": "markdown",
   "source": [
    "### Inisialisasi\n",
    "\n",
    "Bagian berikut berisi import library yang dibutuhkan"
   ],
   "metadata": {
    "collapsed": false
   }
  },
  {
   "cell_type": "code",
   "execution_count": null,
   "outputs": [],
   "source": [
    "import pandas as pd\n",
    "import numpy as np\n",
    "import matplotlib.pyplot as plt\n",
    "import seaborn as sns\n",
    "from sklearn.preprocessing import OneHotEncoder\n",
    "from sklearn.compose import make_column_transformer\n",
    "from sklearn.model_selection import train_test_split\n",
    "from sklearn.preprocessing import MinMaxScaler\n",
    "from sklearn.feature_selection import SelectPercentile\n",
    "from sklearn.neighbors import KNeighborsClassifier\n",
    "from sklearn.svm import SVC\n",
    "from sklearn.feature_selection import SelectFromModel\n",
    "from sklearn.ensemble import RandomForestClassifier\n",
    "\n",
    "#loading data yang akan diolah\n",
    "from google.colab import files\n",
    "\n",
    "uploaded = files.upload()\n",
    "\n",
    "df_stroke = pd.read_csv('healthcare-dataset-stroke-data.csv')\n",
    "#menampilkan 20 baris data teratas\n",
    "df_stroke.head(20)"
   ],
   "metadata": {
    "collapsed": false
   }
  },
  {
   "cell_type": "markdown",
   "source": [
    "### Data Loading\n",
    "\n",
    "Bagian berikut berisi proses data loading (boleh dengan file upload atau dengan mount drive), jangan lupa tampilkan 20 baris data teratas!"
   ],
   "metadata": {
    "collapsed": false
   }
  },
  {
   "cell_type": "markdown",
   "source": [
    "### Data Cleansing\n",
    "\n",
    "Bagian berikut berisi proses pembersihan data (jika diperlukan, minimal cek apakah ada data yang kosong atau duplikat)"
   ],
   "metadata": {
    "collapsed": false
   }
  },
  {
   "cell_type": "code",
   "execution_count": null,
   "outputs": [],
   "source": [
    "#bersihkan dataset menggunakan metode yang sudah dipelajari\n",
    "miss_value = df_stroke.isnull().sum().sort_values(ascending=False)\n",
    "miss_value[miss_value > 0]\n"
   ],
   "metadata": {
    "collapsed": false
   }
  },
  {
   "cell_type": "code",
   "execution_count": null,
   "outputs": [],
   "source": [
    "#melihat berapa banyak data yang bernilai nan/kosong\n",
    "df_stroke['bmi'].value_counts(dropna=False)"
   ],
   "metadata": {
    "collapsed": false
   }
  },
  {
   "cell_type": "code",
   "execution_count": null,
   "outputs": [],
   "source": [
    "sns.boxplot(data=df_stroke, x='bmi')"
   ],
   "metadata": {
    "collapsed": false
   }
  },
  {
   "cell_type": "code",
   "execution_count": null,
   "outputs": [],
   "source": [
    "med_bmi = df_stroke['bmi'].median()\n",
    "print(med_bmi)"
   ],
   "metadata": {
    "collapsed": false
   }
  },
  {
   "cell_type": "code",
   "execution_count": null,
   "outputs": [],
   "source": [
    "df_stroke['bmi'] = df_stroke['bmi'].fillna(med_bmi)\n",
    "df_stroke.bmi.value_counts(dropna=False)"
   ],
   "metadata": {
    "collapsed": false
   }
  },
  {
   "cell_type": "code",
   "execution_count": null,
   "outputs": [],
   "source": [
    "sns.boxplot(data=df_stroke, x='bmi')\n",
    "df_stroke.head(20)"
   ],
   "metadata": {
    "collapsed": false
   }
  },
  {
   "cell_type": "code",
   "execution_count": null,
   "outputs": [],
   "source": [
    "cols = ['id', 'gender', 'age', 'hypertension', 'heart_disease', 'ever_married', 'work_type', 'Residence_type',\n",
    "        'avg_glucose_level', 'bmi', 'smoking_status', 'stroke']\n",
    "df_stroke = df_stroke[cols]\n",
    "df_stroke.columns = df_stroke.columns.str.lower()\n",
    "df_stroke.head(20)"
   ],
   "metadata": {
    "collapsed": false
   }
  },
  {
   "cell_type": "code",
   "execution_count": null,
   "outputs": [],
   "source": [
    "df_stroke.info()\n",
    "df_stroke.describe()"
   ],
   "metadata": {
    "collapsed": false
   }
  },
  {
   "cell_type": "code",
   "execution_count": null,
   "outputs": [],
   "source": [
    "df_stroke.head()\n",
    "print(df_stroke.shape)\n",
    "cols_to_check = ['id', 'gender', 'age', 'hypertension', 'heart_disease', 'ever_married', 'work_type', 'residence_type',\n",
    "                 'avg_glucose_level', 'bmi', 'smoking_status', 'stroke']\n",
    "df_check = df_stroke[~df_stroke[cols_to_check].duplicated(keep='last')]\n",
    "df_check.shape"
   ],
   "metadata": {
    "collapsed": false
   }
  },
  {
   "cell_type": "code",
   "execution_count": null,
   "outputs": [],
   "source": [
    "duplicate = df_stroke.duplicated()\n",
    "df_stroke.loc[duplicate == True]"
   ],
   "metadata": {
    "collapsed": false
   }
  },
  {
   "cell_type": "markdown",
   "source": [
    "### Data Visualization\n",
    "\n",
    "Dalam proses visualisasi data, silahkan visualisasikan feature menggunakan plot yang sesuai agar mendapat insight dari data dengan menjawab pertanyaan-pertanyaan berikut:\n",
    "\n",
    "    untuk sub A:\n",
    "    1. Bagaimana komposisi jumlah pasien laki-laki dan perempuan?\n",
    "    2. Bagaimana sebaran usia antara kelompok pasien yang menderita hipertensi dan yang sehat?\n",
    "    3. Bagaimana perbandingan sebaran nilai rerata glukosa dalam darah antara pasien yang stroke dengan yang sehat?\n",
    "\n",
    "    untuk sub B:\n",
    "    1. Bagaimana komposisi jumlah pasien yang tinggal di urban dan rural?\n",
    "    2. Bagaimana sebaran nilai BMI antara kelompok pasien yang menderita penyakit jantung dan yang sehat?\n",
    "    3. Bagaimana perbandingan jumlah pasien yang menderita stroke dengan yang sehat berdasarkan status merokok?"
   ],
   "metadata": {
    "collapsed": false
   }
  },
  {
   "cell_type": "markdown",
   "source": [
    "1. Bagaimana komposisi jumlah pasien yang tinggal di urban dan rural?\n",
    "- Plot 1: Pada data stroke terdapat 2600 pasien yang tinggal di Urban dan 2500 pasien yang tinggal di Rural. Komposisi jumlah pasiennya banyak yang di rural.\n",
    "- Plot 2: Komposisi jumlah pasien pada data stroke yang tinggal di Urban dan Rural, pasien yang tinggal di Urban lebih rentan terkena penyakit stroke dibandingkan pasien yang tinggal di Rural."
   ],
   "metadata": {
    "collapsed": false
   }
  },
  {
   "cell_type": "code",
   "execution_count": null,
   "outputs": [],
   "source": [
    "#visualisasi fitur menggunakan metode yang sudah dipelajari\n",
    "plt.figure(figsize=(10, 5))\n",
    "sns.countplot(x='residence_type', data=df_stroke)\n",
    "plt.title(\"Komposisi jumlah pasien laki laki dan perempuan\")\n",
    "sns.catplot(data=df_stroke, x='residence_type', y='stroke', kind='bar')\n"
   ],
   "metadata": {
    "collapsed": false
   }
  },
  {
   "cell_type": "markdown",
   "source": [
    "2. Bagaimana sebaran nilai BMI antara kelompok pasien yang menderita penyakit jantung dan yang sehat?\n",
    "- Pada nilai BMI terdapat 2 jenis kelompok yaitu kelompok yang menderita penyakit jantung dan kelompok yang sehat, nilai BMI kelompok yang menderita penyakit jantung lebih sedikit dibandingkan dengan kelompok yang sehat"
   ],
   "metadata": {
    "collapsed": false
   }
  },
  {
   "cell_type": "code",
   "execution_count": null,
   "outputs": [],
   "source": [
    "#visualisasi fitur menggunakan metode yang sudah dipelajari\n",
    "plt.figure(figsize=(10, 5))\n",
    "sns.histplot(data=df_stroke, x='bmi', hue='heart_disease', multiple='stack')\n",
    "plt.title(\"Sebaran nilai bmi kelompok pasien yang menderita penyakit jantung dan yang sehat\")\n",
    "plt.show()\n",
    "sns.catplot(data=df_stroke, x='heart_disease', y='bmi', kind='box')\n",
    "plt.title(\"Sebaran nilai bmi kelompok pasien yang menderita penyakit jantung dan yang sehat\")\n",
    "plt.show()"
   ],
   "metadata": {
    "collapsed": false
   }
  },
  {
   "cell_type": "markdown",
   "source": [
    "3. Bagaimana perbandingan jumlah pasien yang menderita stroke dengan yang sehat berdasarkan status merokok?\n",
    "- Dapat disimpulkan dari plot bahwa jumlah pasien yang menderita stroke dulunya sering merokok dan sampai sekarang masih merokok"
   ],
   "metadata": {
    "collapsed": false
   }
  },
  {
   "cell_type": "code",
   "execution_count": null,
   "outputs": [],
   "source": [
    "#visualisasi fitur menggunakan metode yang sudah dipelajari\n",
    "plt.figure(figsize=(10, 5))\n",
    "sns.catplot(data=df_stroke, x='stroke', y='smoking_status', kind='bar')\n",
    "plt.title(\"Perbandingan jumlah pasien stroke dengan yang sehat\")\n",
    "plt.show()"
   ],
   "metadata": {
    "collapsed": false
   }
  },
  {
   "cell_type": "markdown",
   "source": [
    "### Deskripsi Data Visualization\n",
    "Berikan keterangan atau deskripsi singkat mengenai informasi yang diperoleh dari visualisasi data tersebut. Jawablah pertanyaan di atas pada cell markdown ini!\n",
    "\n",
    "1. Bagaimana komposisi jumlah pasien yang tinggal di urban dan rural?\n",
    "- Plot 1: Pada data stroke terdapat 2600 pasien yang tinggal di Urban dan 2500 pasien yang tinggal di Rural. Komposisi jumlah pasiennya banyak yang di rural.\n",
    "- Plot 2: Komposisi jumlah pasien pada data stroke yang tinggal di Urban dan Rural, pasien yang tinggal di Urban lebih rentan terkena penyakit stroke dibandingkan pasien yang tinggal di Rural.\n",
    "\n",
    "2. Bagaimana sebaran nilai BMI antara kelompok pasien yang menderita penyakit jantung dan yang sehat?\n",
    "- Pada nilai BMI terdapat 2 jenis kelompok yaitu kelompok yang menderita penyakit jantung dan kelompok yang sehat, nilai BMI kelompok yang menderita penyakit jantung lebih sedikit dibandingkan dengan kelompok yang sehat\n",
    "\n",
    "3. Bagaimana perbandingan jumlah pasien yang menderita stroke dengan yang sehat berdasarkan status merokok?\n",
    "- Dapat disimpulkan dari plot bahwa jumlah pasien yang menderita stroke dulunya sering merokok dan sampai sekarang masih merokok"
   ],
   "metadata": {
    "collapsed": false
   }
  },
  {
   "cell_type": "markdown",
   "source": [
    "### Data Preparation and Scaling\n",
    "\n",
    "Lakukan train-test split dan data scaling dengan ketentuan:\n",
    "\n",
    "    Untuk sub A: random_state train_test_split gunakan 2 digit terakhir NPM terbesar di sub kelompok, gunakan StandardScaler\n",
    "\n",
    "    Untuk sub B: random_state train_test_split gunakan 2 digit terakhir NPM terkecil di sub kelompok,gunakan MinMaxScaler"
   ],
   "metadata": {
    "collapsed": false
   }
  },
  {
   "cell_type": "code",
   "execution_count": null,
   "outputs": [],
   "source": [
    "#train-test split dan data scaling\n",
    "#NPM terkecil : Veno (0816)\n",
    "\n",
    "x = df_stroke.drop('stroke', axis=1)\n",
    "y = df_stroke['stroke']\n",
    "\n",
    "x_train, x_test, y_train, y_test = train_test_split(x, y, test_size=0.3, random_state=16)\n",
    "print(x_train.shape)\n",
    "print(x_test.shape)"
   ],
   "metadata": {
    "collapsed": false
   }
  },
  {
   "cell_type": "code",
   "execution_count": null,
   "outputs": [],
   "source": [
    "cols_category = ['gender', 'ever_married', 'work_type', 'residence_type', 'smoking_status']\n",
    "\n",
    "Transformer = make_column_transformer(\n",
    "    (OneHotEncoder(), cols_category),\n",
    "    remainder='passthrough'\n",
    ")\n",
    "\n",
    "x_train_enc = Transformer.fit_transform(x_train)\n",
    "x_test_enc = Transformer.transform(x_test)\n",
    "\n",
    "df_train_enc = pd.DataFrame(x_train_enc, columns=Transformer.get_feature_names_out())\n",
    "df_test_enc = pd.DataFrame(x_test_enc, columns=Transformer.get_feature_names_out())\n",
    "\n",
    "df_train_enc.head(10)\n",
    "df_test_enc.head(10)"
   ],
   "metadata": {
    "collapsed": false
   }
  },
  {
   "cell_type": "code",
   "execution_count": null,
   "outputs": [],
   "source": [
    "mm_scaler = MinMaxScaler()\n",
    "\n",
    "mm_scaler.fit(x_train_enc)\n",
    "x_train_mmscaled = mm_scaler.transform(x_train_enc)\n",
    "x_test_mmscaled = mm_scaler.transform(x_test_enc)\n",
    "\n",
    "print('X_train per-feature minimum sebelum scaling :\\n {}', format(x_train_enc.min(axis=0)))\n",
    "print('X_train per-feature maximum sebelum scaling :\\n {}', format(x_train_enc.max(axis=0)))\n",
    "print('X_train per-feature minimum setelah scaling :\\n {}', format(x_train_mmscaled.min(axis=0)))\n",
    "print('X_train per-feature maximum setelah scaling :\\n {}', format(x_train_mmscaled.max(axis=0)))"
   ],
   "metadata": {
    "collapsed": false
   }
  },
  {
   "cell_type": "markdown",
   "source": [
    "### Feature Selection\n",
    "\n",
    "Melakukan feature selection menggunakan metode statistik univariat dan SelectFromModel untuk dibandingkan. Untuk jumlah feature, silahkan bereksperimen untuk mendapatkan jumlah performa model terbaik.\n",
    "\n",
    "    Untuk sub A: gunakan SelectKBest dan RFE dengan ketentuan:\n",
    "    jumlah feature minimal 5 dan model menggunakan RandomForestClassifier(n_estimators=100, random_state=dua digit terakhir NPM terkecil dalam sub kelompok).\n",
    "    Terapkan SelectKBest dan RFE pada dataset yang belum diubah dan sudah diubah dengan StandardScaler.\n",
    "\n",
    "    Untuk sub B: gunakan SelectPercentile dan SelectFromModel dengan ketentuan:\n",
    "    persentil minimal 30% dan model menggunakan RandomForestClassifier(n_estimators=200, random_state=dua digit terakhir NPM terbesar dalam sub kelompok).\n",
    "    Terapkan SelectPercentile dan SelectFromModel pada dataset yang belum diubah dan sudah diubah dengan MinMaxScaler."
   ],
   "metadata": {
    "collapsed": false
   }
  },
  {
   "cell_type": "code",
   "execution_count": null,
   "outputs": [],
   "source": [
    "#NPM terbesar : Jean (1427)\n",
    "#Select percentile data belum diubah\n",
    "SP = SelectPercentile(percentile=30)\n",
    "SP.fit(x_train_enc, y_train)\n",
    "\n",
    "x_train_sp = SP.transform(x_train_enc)\n",
    "x_test_sp = SP.transform(x_test_enc)\n",
    "\n",
    "print(\"X_train_Belum diubah : {} \".format(x_train_enc.shape))\n",
    "print(\"X_train_Select percentile: {}\".format(x_train_sp.shape))\n",
    "\n",
    "print(\"\\nX_test_Awal belum diubah : {}\".format(x_test_enc.shape))\n",
    "print(\"X_test_Select_Percentile : {}\".format(x_test_sp.shape))\n"
   ],
   "metadata": {
    "collapsed": false
   }
  },
  {
   "cell_type": "code",
   "execution_count": null,
   "outputs": [],
   "source": [
    "mask = SP.get_support()\n",
    "#mengambil feature yang mau diambil\n",
    "\n",
    "print(\"Feature yang diambil : \", df_train_enc.columns[mask].values)\n",
    "\n",
    "plt.matshow(mask.reshape(1, -1), cmap='gray_r')\n",
    "plt.xlabel(\"Indeks feature\")\n",
    "plt.yticks(())"
   ],
   "metadata": {
    "collapsed": false
   }
  },
  {
   "cell_type": "code",
   "execution_count": null,
   "outputs": [],
   "source": [
    "#Select percentile data sudah di scaling menggunakan MinMax Scaler\n",
    "\n",
    "SP = SelectPercentile(percentile=30)\n",
    "SP.fit(x_train_mmscaled, y_train)\n",
    "\n",
    "x_train_sp = SP.transform(x_train_mmscaled)\n",
    "x_test_sp = SP.transform(x_test_mmscaled)\n",
    "\n",
    "print(\"X_train_Awal minMax Scaler : {} \".format(x_train_enc.shape))\n",
    "print(\"X_train_Select percentile: {}\".format(x_train_sp.shape))\n",
    "\n",
    "print(\"\\nX_test_Awal minMax Scaler : {}\".format(x_test_mmscaled.shape))\n",
    "print(\"X_test_Select_Percentile : {}\".format(x_test_sp.shape))"
   ],
   "metadata": {
    "collapsed": false
   }
  },
  {
   "cell_type": "code",
   "execution_count": null,
   "outputs": [],
   "source": [
    "mask = SP.get_support()\n",
    "\n",
    "print(\"Feature yang dipilih : \", df_train_enc.columns[mask].values)\n",
    "\n",
    "plt.matshow(mask.reshape(1, -1), cmap='gray_r')\n",
    "plt.xlabel(\"Indeks feature\")\n",
    "plt.yticks(())"
   ],
   "metadata": {
    "collapsed": false
   }
  },
  {
   "cell_type": "code",
   "execution_count": null,
   "outputs": [],
   "source": [
    "#Select From Model Data Belum Diubah\n",
    "\n",
    "SelectM = SelectFromModel(\n",
    "    RandomForestClassifier(n_estimators=200, random_state=27),\n",
    "    threshold='median'\n",
    ")\n",
    "\n",
    "SelectM.fit(x_train_enc, y_train)\n",
    "x_train_smodel = SelectM.transform(x_train_enc)\n",
    "x_test_smodel = SelectM.transform(x_test_enc)\n",
    "\n",
    "print(\"X_train_Awal belum diubah : {}\".format(x_train_enc.shape))\n",
    "print(\"X_train_Select_From_Model : {}\\n\".format(x_train_smodel.shape))\n",
    "\n",
    "print(\"X_test_Awal belum diubah : {}\".format(x_test_enc.shape))\n",
    "print(\"X_test_Select_From_Model : {}\".format(x_test_smodel.shape))"
   ],
   "metadata": {
    "collapsed": false
   }
  },
  {
   "cell_type": "code",
   "execution_count": null,
   "outputs": [],
   "source": [
    "mask = SelectM.get_support()\n",
    "\n",
    "print(\"Feature yang dipilih : \", df_train_enc.columns[mask].values)\n",
    "\n",
    "plt.matshow(mask.reshape(1, -1), cmap='gray_r')\n",
    "plt.xlabel(\"indeks feature\")\n",
    "plt.yticks(())"
   ],
   "metadata": {
    "collapsed": false
   }
  },
  {
   "cell_type": "code",
   "execution_count": null,
   "outputs": [],
   "source": [
    "#Select From Model Data Sudah Discaling menggunakan Minmax Scaler\n",
    "\n",
    "SelectM = SelectFromModel(\n",
    "    RandomForestClassifier(n_estimators=200, random_state=27),\n",
    "    threshold='median'\n",
    ")\n",
    "\n",
    "SelectM.fit(x_train_mmscaled, y_train)\n",
    "x_train_smodel = SelectM.transform(x_train_mmscaled)\n",
    "x_test_smodel = SelectM.transform(x_test_mmscaled)\n",
    "\n",
    "print(\"X_train_Awal Minmax Scaler : {}\".format(x_train_mmscaled.shape))\n",
    "print(\"X_train_Select_From_Model : {}\".format(x_train_smodel.shape))\n",
    "print(\"\\nX_test_Awal Minmax Scaler : {}\".format(x_test_mmscaled.shape))\n",
    "print(\"X_test_Select_From_Model : {}\".format(x_test_smodel.shape))"
   ],
   "metadata": {
    "collapsed": false
   }
  },
  {
   "cell_type": "code",
   "execution_count": null,
   "outputs": [],
   "source": [
    "mask = SelectM.get_support()\n",
    "print(\"Feature yang terpilih : \", df_train_enc.columns[mask].values)\n",
    "\n",
    "plt.matshow(mask.reshape(1, -1), cmap='gray_r')\n",
    "plt.xlabel(\"indeks feature\")\n",
    "plt.yticks(())"
   ],
   "metadata": {
    "collapsed": false
   }
  },
  {
   "cell_type": "code",
   "execution_count": null,
   "outputs": [],
   "source": [
    "def plot_feature_importances(classifier, dataset, feat_names):\n",
    "    n_feat = dataset.shape[1]\n",
    "    plt.barh(range(n_feat), classifier.feature_importances_, align='center')\n",
    "    plt.yticks(np.arange(n_feat), feat_names)\n",
    "    plt.xlabel('Feature Importances')\n",
    "    plt.ylabel('Features')\n",
    "    plt.ylim(-1, n_feat)\n",
    "    plt.show()\n",
    "\n",
    "\n",
    "plot_feature_importances(SelectM.estimator_, df_train_enc, df_train_enc.columns)"
   ],
   "metadata": {
    "collapsed": false
   }
  },
  {
   "cell_type": "markdown",
   "source": [
    "### Modelling\n",
    "\n",
    "Menggunakan 2 algoritme pembelajaran mesin untuk klasifikasi. Eksplorasi pengaturan parameter yang ada pada algoritme yang akan Anda gunakan, tidak terbatas pada 1-2 parameter saja supaya optimal (selain random_state). Silahkan bereksperimen untuk parameter seperti n_estimators, max_depth, dll. agar mendapat akurasi terbaik.\n",
    "\n",
    "Ketentuan:\n",
    "\n",
    "    Sub A:\n",
    "    1. DecisionTreeClassifier(random_state= dua digit terakhir NPM terbesar dalam sub kelompok, max_depth=bebas,criterion='entropy')\n",
    "    2. LogisticRegression(C=bebas, max_iter=10000, class_weight='balanced')`\n",
    "\n",
    "    Sub B:\n",
    "    1. K-Nearest Neighbors(n_neighbors=bebas, weights='distance')\n",
    "    2. LinearSVC(C=bebas, class_weight='balanced')\n",
    "\n",
    "Total ada 6 model yang harus diuji dengan rincian:\n",
    "\n",
    "<table>\n",
    "<thead>\n",
    "  <tr>\n",
    "    <th>Sub kelompok</th>\n",
    "    <th>Scaler</th>\n",
    "    <th>Feature Selection</th>\n",
    "    <th>Model</th>\n",
    "    <th>Kombinasi Pengujian Training Set dan Test Set</th>\n",
    "  </tr>\n",
    "</thead>\n",
    "<tbody>\n",
    "  <tr>\n",
    "    <td>A</td>\n",
    "    <td>StandardScaler</td>\n",
    "    <td>SelectKBest</td>\n",
    "    <td>Decision Tree</td>\n",
    "    <td>StandardScaler+DecisionTree | StandardScaler+SelectKBest+DecisionTree</td>\n",
    "  </tr>\n",
    "  <tr>\n",
    "    <td>A</td>\n",
    "    <td>StandardScaler</td>\n",
    "    <td>SelectKBest</td>\n",
    "    <td>LogisticRegression</td>\n",
    "    <td>StandardScaler+LogisticRegression | StandardScaler+SelectKBest+LogisticRegression</td>\n",
    "  </tr>\n",
    "  <tr>\n",
    "    <td>A</td>\n",
    "    <td>StandardScaler</td>\n",
    "    <td>RFE</td>\n",
    "    <td>Decision Tree</td>\n",
    "    <td>StandardScaler+RFE+DecisionTree</td>\n",
    "  </tr>\n",
    "  <tr>\n",
    "    <td>A</td>\n",
    "    <td>StandardScaler</td>\n",
    "    <td>RFE</td>\n",
    "    <td>LogisticRegression</td>\n",
    "    <td>StandardScaler+RFE+LogisticRegression</td>\n",
    "  </tr>\n",
    "  <tr>\n",
    "    <td>B</td>\n",
    "    <td>MinMaxScaler</td>\n",
    "    <td>SelectPercentile</td>\n",
    "    <td>KNN</td>\n",
    "    <td>MinMaxScaler+KNN | MinMaxScaler+SelectPercentile+KNN</td>\n",
    "  </tr>\n",
    "  <tr>\n",
    "    <td>B</td>\n",
    "    <td>MinMaxScaler</td>\n",
    "    <td>SelectPercentile</td>\n",
    "    <td>LinearSVC</td>\n",
    "    <td>MinMaxScaler+LinearSVC | MinMaxScaler+SelectPercentile+LinearSVC</td>\n",
    "  </tr>\n",
    "  <tr>\n",
    "    <td>B</td>\n",
    "    <td>MinMaxScaler</td>\n",
    "    <td>SelectFromModel</td>\n",
    "    <td>KNN</td>\n",
    "    <td>MinMaxScaler+SelectPercentile+KNN</td>\n",
    "  </tr>\n",
    "  <tr>\n",
    "    <td>B</td>\n",
    "    <td>MinMaxScaler</td>\n",
    "    <td>SelectFromModel</td>\n",
    "    <td>LinearSVC</td>\n",
    "    <td>MinMaxScaler+SelectFromModel+LinearSVC</td>\n",
    "  </tr>\n",
    "</tbody>\n",
    "</table>"
   ],
   "metadata": {
    "collapsed": false
   }
  },
  {
   "cell_type": "code",
   "execution_count": null,
   "outputs": [],
   "source": [
    "#KNN MinMaxScaler + KNN\n",
    "\n",
    "KNN_mmscaled = KNeighborsClassifier(n_neighbors=15, weights='distance')\n",
    "KNN_mmscaled.fit(x_train_mmscaled, y_train)"
   ],
   "metadata": {
    "collapsed": false
   }
  },
  {
   "cell_type": "code",
   "execution_count": null,
   "outputs": [],
   "source": [
    "#KNN MinMaxScaker + SelectPercentile + KNN\n",
    "\n",
    "KNN_percentile = KNeighborsClassifier(n_neighbors=30, weights='distance')\n",
    "KNN_percentile.fit(x_train_sp, y_train)"
   ],
   "metadata": {
    "collapsed": false
   }
  },
  {
   "cell_type": "code",
   "execution_count": null,
   "outputs": [],
   "source": [
    "#Linear SVC MinMaxScaler + LinearSVC\n",
    "\n",
    "SVC_model_mmscaled = SVC(C=400, class_weight='balanced', gamma=100)\n",
    "SVC_model_mmscaled.fit(x_train_mmscaled, y_train)"
   ],
   "metadata": {
    "collapsed": false
   }
  },
  {
   "cell_type": "code",
   "execution_count": null,
   "outputs": [],
   "source": [
    "#Linear SVC MinMaxScaler + SelectPercentile + LinearSVC\n",
    "\n",
    "SVC_model_percentile = SVC(C=400, class_weight='balanced', gamma=100)\n",
    "SVC_model_percentile.fit(x_train_sp, y_train)"
   ],
   "metadata": {
    "collapsed": false
   }
  },
  {
   "cell_type": "code",
   "execution_count": null,
   "outputs": [],
   "source": [
    "#KNN MinMaxScaler + SelectFromModel + KNN\n",
    "\n",
    "KNN_selectFromModel = KNeighborsClassifier(n_neighbors=15, weights='distance')\n",
    "KNN_selectFromModel.fit(x_train_smodel, y_train)\n"
   ],
   "metadata": {
    "collapsed": false
   }
  },
  {
   "cell_type": "code",
   "execution_count": null,
   "outputs": [],
   "source": [
    "#Linear SVC MinMaxScaler + SelectFromModel + LinearSVC\n",
    "\n",
    "SVC_model_selectFromModel = SVC(C=300, class_weight='balanced', gamma=100)\n",
    "SVC_model_selectFromModel.fit(x_train_smodel, y_train)"
   ],
   "metadata": {
    "collapsed": false
   }
  },
  {
   "cell_type": "markdown",
   "source": [
    "### Evaluasi Model\n",
    "\n",
    "Bagian berikut berisi evaluasi model secara sederhana menggunakan metrik akurasi (fungsi score). Uji akurasi hasil pembelajaran pada train set dan test set."
   ],
   "metadata": {
    "collapsed": false
   }
  },
  {
   "cell_type": "code",
   "execution_count": null,
   "outputs": [],
   "source": [
    "print(\"Akurasi KNN pada train set Minmax Scaler : {:.3f}\".format(KNN_mmscaled.score(x_train_mmscaled, y_train)))\n",
    "print(\"Akurasi KNN pada test set Minmax Scaler  : {:.3f}\".format(KNN_mmscaled.score(x_test_mmscaled, y_test)))\n"
   ],
   "metadata": {
    "collapsed": false
   }
  },
  {
   "cell_type": "code",
   "execution_count": null,
   "outputs": [],
   "source": [
    "print(\"Akurasi SVM pada train set Minmax Scaler :  {:.3f}\".format(SVC_model_mmscaled.score(x_train_mmscaled, y_train)))\n",
    "print(\"Akurasi SVM pada test set Minmax Scaler  :  {:.3f}\".format(SVC_model_mmscaled.score(x_test_mmscaled, y_test)))"
   ],
   "metadata": {
    "collapsed": false
   }
  },
  {
   "cell_type": "code",
   "execution_count": null,
   "outputs": [],
   "source": [
    "print('Akurasi KNN pada train set Select Percentile : {:.3f} '.format(KNN_percentile.score(x_train_sp, y_train)))\n",
    "print('Akurasi KNN pada test set Select Percentile  : {:.3f}'.format(KNN_percentile.score(x_test_sp, y_test)))"
   ],
   "metadata": {
    "collapsed": false
   }
  },
  {
   "cell_type": "code",
   "execution_count": null,
   "outputs": [],
   "source": [
    "print(\"Akurasi SVM pada train set Select Percentile :  {:.3f}\".format(SVC_model_percentile.score(X_train_sp, y_train)))\n",
    "print(\"Akurasi SVM pada test set Select Percentile :  {:.3f}\".format(SVC_model_percentile.score(X_test_sp, y_test)))"
   ],
   "metadata": {
    "collapsed": false
   }
  },
  {
   "cell_type": "markdown",
   "source": [
    "## Kesimpulan\n",
    "\n",
    "Silahkan jawab pertanyaan berikut:\n",
    "\n",
    "1. Apakah ada pengaruh penskalaan data pada dataset terhadap performa model-model machine learning?\n",
    "\n",
    "2. Apa saja feature-feature yang penting untuk membedakan antara pasien yang rawan terkena stroke dengan yang sehat?\n",
    "\n",
    "3. Model apakah yang memiliki performa paling baik terhadap dataset? Apakah parameter setting yang paling optimal dari model tersebut?"
   ],
   "metadata": {
    "collapsed": false
   }
  },
  {
   "cell_type": "markdown",
   "source": [
    "1. Pengaruh penskalaan data pada dataset terhadap performa model-model memiliki pengaruh signifikan terhadap machine learning, dikarenakan pengskalaan data menuju ke proses mengubah skala nilai dalam dataset sehingga nilai tersebut memiliki rentan sama.\n",
    "2. feature-feature penting untuk membedakan pasien rawan terkena stroke dengan yang sehat :\n",
    ">>age, gender, hypertension, work_type, heart_disease, Residence_type, bmi, avg_glucose_level, smoking_status\n",
    "3. Kinerja model pembelajaran mesin tidak menentukan model mana yang terbaik atau lebih baik dari yang lain. Hal ini karena kinerja model bergantung pada karakteristik data dan masalah yang akan dipecahkan. Namun dalam beberapa kasus, model KNN (K-Nearest Neighbor) memiliki beberapa keunggulan, yaitu:\n",
    "- Pada data yang tidak terstruktur, model KNN memiliki tingkat akurasi yang baik\n",
    "- Model KNN sederhana dan mudah dipahami, cocok untuk pemula pembelajaran mesin\n",
    "- KNN dapat digunakan untuk dataset yang besar karena tidak memerlukan waktu pelatihan yang lama\n",
    "- KNN dapat digunakan untuk masalah klasifikasi dan dapat dengan mudah diadaptasi untuk menangani data yang kompleks\n",
    "- KNN tidak memerlukan pengaturan parameter yang rumit\n"
   ],
   "metadata": {
    "collapsed": false
   }
  },
  {
   "cell_type": "code",
   "execution_count": null,
   "outputs": [],
   "source": [
    "#Select From Model Data Sudah Discaling menggunakan Minmax Scaler\n",
    "\n",
    "SelectM = SelectFromModel(\n",
    "    RandomForestClassifier(n_estimators=200, random_state=27),\n",
    "    threshold='median'\n",
    ")\n",
    "\n",
    "SelectM.fit(x_train_mmscaled, y_train)\n",
    "x_train_smodel = SelectM.transform(x_train_mmscaled)\n",
    "x_test_smodel = SelectM.transform(x_test_mmscaled)\n",
    "\n",
    "print(\"X_train_Awal Minmax Scaler : {}\".format(x_train_mmscaled.shape))\n",
    "print(\"X_train_Select_From_Model : {}\".format(x_train_smodel.shape))\n",
    "print(\"\\nX_test_Awal Minmax Scaler : {}\".format(x_test_mmscaled.shape))\n",
    "print(\"X_test_Select_From_Model : {}\".format(x_test_smodel.shape))"
   ],
   "metadata": {
    "collapsed": false
   }
  },
  {
   "cell_type": "code",
   "execution_count": null,
   "outputs": [],
   "source": [
    "mask = SelectM.get_support()\n",
    "print(\"Feature yang terpilih : \", df_train_enc.columns[mask].values)\n",
    "\n",
    "plt.matshow(mask.reshape(1, -1), cmap='gray_r')\n",
    "plt.xlabel(\"indeks feature\")\n",
    "plt.yticks(())"
   ],
   "metadata": {
    "collapsed": false
   }
  },
  {
   "cell_type": "code",
   "execution_count": null,
   "outputs": [],
   "source": [
    "def plot_feature_importances(classifier, dataset, feat_names):\n",
    "    n_feat = dataset.shape[1]\n",
    "    plt.barh(range(n_feat), classifier.feature_importances_, align='center')\n",
    "    plt.yticks(np.arange(n_feat), feat_names)\n",
    "    plt.xlabel('Feature Importances')\n",
    "    plt.ylabel('Features')\n",
    "    plt.ylim(-1, n_feat)\n",
    "    plt.show()\n",
    "\n",
    "\n",
    "plot_feature_importances(SelectM.estimator_, df_train_enc, df_train_enc.columns)"
   ],
   "metadata": {
    "collapsed": false
   }
  },
  {
   "cell_type": "markdown",
   "source": [
    "### Modelling\n",
    "\n",
    "Menggunakan 2 algoritme pembelajaran mesin untuk klasifikasi. Eksplorasi pengaturan parameter yang ada pada algoritme yang akan Anda gunakan, tidak terbatas pada 1-2 parameter saja supaya optimal (selain random_state). Silahkan bereksperimen untuk parameter seperti n_estimators, max_depth, dll. agar mendapat akurasi terbaik.\n",
    "\n",
    "Ketentuan:\n",
    "\n",
    "    Sub A:\n",
    "    1. DecisionTreeClassifier(random_state= dua digit terakhir NPM terbesar dalam sub kelompok, max_depth=bebas,criterion='entropy')\n",
    "    2. LogisticRegression(C=bebas, max_iter=10000, class_weight='balanced')`\n",
    "\n",
    "    Sub B:\n",
    "    1. K-Nearest Neighbors(n_neighbors=bebas, weights='distance')\n",
    "    2. LinearSVC(C=bebas, class_weight='balanced')\n",
    "\n",
    "Total ada 6 model yang harus diuji dengan rincian:\n",
    "\n",
    "<table>\n",
    "<thead>\n",
    "  <tr>\n",
    "    <th>Sub kelompok</th>\n",
    "    <th>Scaler</th>\n",
    "    <th>Feature Selection</th>\n",
    "    <th>Model</th>\n",
    "    <th>Kombinasi Pengujian Training Set dan Test Set</th>\n",
    "  </tr>\n",
    "</thead>\n",
    "<tbody>\n",
    "  <tr>\n",
    "    <td>A</td>\n",
    "    <td>StandardScaler</td>\n",
    "    <td>SelectKBest</td>\n",
    "    <td>Decision Tree</td>\n",
    "    <td>StandardScaler+DecisionTree | StandardScaler+SelectKBest+DecisionTree</td>\n",
    "  </tr>\n",
    "  <tr>\n",
    "    <td>A</td>\n",
    "    <td>StandardScaler</td>\n",
    "    <td>SelectKBest</td>\n",
    "    <td>LogisticRegression</td>\n",
    "    <td>StandardScaler+LogisticRegression | StandardScaler+SelectKBest+LogisticRegression</td>\n",
    "  </tr>\n",
    "  <tr>\n",
    "    <td>A</td>\n",
    "    <td>StandardScaler</td>\n",
    "    <td>RFE</td>\n",
    "    <td>Decision Tree</td>\n",
    "    <td>StandardScaler+RFE+DecisionTree</td>\n",
    "  </tr>\n",
    "  <tr>\n",
    "    <td>A</td>\n",
    "    <td>StandardScaler</td>\n",
    "    <td>RFE</td>\n",
    "    <td>LogisticRegression</td>\n",
    "    <td>StandardScaler+RFE+LogisticRegression</td>\n",
    "  </tr>\n",
    "  <tr>\n",
    "    <td>B</td>\n",
    "    <td>MinMaxScaler</td>\n",
    "    <td>SelectPercentile</td>\n",
    "    <td>KNN</td>\n",
    "    <td>MinMaxScaler+KNN | MinMaxScaler+SelectPercentile+KNN</td>\n",
    "  </tr>\n",
    "  <tr>\n",
    "    <td>B</td>\n",
    "    <td>MinMaxScaler</td>\n",
    "    <td>SelectPercentile</td>\n",
    "    <td>LinearSVC</td>\n",
    "    <td>MinMaxScaler+LinearSVC | MinMaxScaler+SelectPercentile+LinearSVC</td>\n",
    "  </tr>\n",
    "  <tr>\n",
    "    <td>B</td>\n",
    "    <td>MinMaxScaler</td>\n",
    "    <td>SelectFromModel</td>\n",
    "    <td>KNN</td>\n",
    "    <td>MinMaxScaler+SelectPercentile+KNN</td>\n",
    "  </tr>\n",
    "  <tr>\n",
    "    <td>B</td>\n",
    "    <td>MinMaxScaler</td>\n",
    "    <td>SelectFromModel</td>\n",
    "    <td>LinearSVC</td>\n",
    "    <td>MinMaxScaler+SelectFromModel+LinearSVC</td>\n",
    "  </tr>\n",
    "</tbody>\n",
    "</table>"
   ],
   "metadata": {
    "collapsed": false
   }
  },
  {
   "cell_type": "code",
   "execution_count": null,
   "outputs": [],
   "source": [
    "#KNN MinMaxScaler + KNN\n",
    "\n",
    "KNN_mmscaled = KNeighborsClassifier(n_neighbors=15, weights='distance')\n",
    "KNN_mmscaled.fit(x_train_mmscaled, y_train)"
   ],
   "metadata": {
    "collapsed": false
   }
  },
  {
   "cell_type": "code",
   "execution_count": null,
   "outputs": [],
   "source": [
    "#KNN MinMaxScaker + SelectPercentile + KNN\n",
    "\n",
    "KNN_percentile = KNeighborsClassifier(n_neighbors=30, weights='distance')\n",
    "KNN_percentile.fit(x_train_sp, y_train)"
   ],
   "metadata": {
    "collapsed": false
   }
  },
  {
   "cell_type": "code",
   "execution_count": null,
   "outputs": [],
   "source": [
    "#Linear SVC MinMaxScaler + LinearSVC\n",
    "\n",
    "SVC_model_mmscaled = SVC(C=400, class_weight='balanced', gamma=100)\n",
    "SVC_model_mmscaled.fit(x_train_mmscaled, y_train)"
   ],
   "metadata": {
    "collapsed": false
   }
  },
  {
   "cell_type": "code",
   "execution_count": null,
   "outputs": [],
   "source": [
    "#Linear SVC MinMaxScaler + SelectPercentile + LinearSVC\n",
    "\n",
    "SVC_model_percentile = SVC(C=400, class_weight='balanced', gamma=100)\n",
    "SVC_model_percentile.fit(x_train_sp, y_train)"
   ],
   "metadata": {
    "collapsed": false
   }
  },
  {
   "cell_type": "code",
   "execution_count": null,
   "outputs": [],
   "source": [
    "#KNN MinMaxScaler + SelectFromModel + KNN\n",
    "\n",
    "KNN_selectFromModel = KNeighborsClassifier(n_neighbors=15, weights='distance')\n",
    "KNN_selectFromModel.fit(x_train_smodel, y_train)\n"
   ],
   "metadata": {
    "collapsed": false
   }
  },
  {
   "cell_type": "code",
   "execution_count": null,
   "outputs": [],
   "source": [
    "#Linear SVC MinMaxScaler + SelectFromModel + LinearSVC\n",
    "\n",
    "SVC_model_selectFromModel = SVC(C=300, class_weight='balanced', gamma=100)\n",
    "SVC_model_selectFromModel.fit(x_train_smodel, y_train)"
   ],
   "metadata": {
    "collapsed": false
   }
  },
  {
   "cell_type": "markdown",
   "source": [
    "### Evaluasi Model\n",
    "\n",
    "Bagian berikut berisi evaluasi model secara sederhana menggunakan metrik akurasi (fungsi score). Uji akurasi hasil pembelajaran pada train set dan test set."
   ],
   "metadata": {
    "collapsed": false
   }
  },
  {
   "cell_type": "code",
   "execution_count": null,
   "outputs": [],
   "source": [
    "print(\"Akurasi KNN pada train set Minmax Scaler : {:.3f}\".format(KNN_mmscaled.score(x_train_mmscaled, y_train)))\n",
    "print(\"Akurasi KNN pada test set Minmax Scaler  : {:.3f}\".format(KNN_mmscaled.score(x_test_mmscaled, y_test)))\n"
   ],
   "metadata": {
    "collapsed": false
   }
  },
  {
   "cell_type": "code",
   "execution_count": null,
   "outputs": [],
   "source": [
    "print(\"Akurasi SVM pada train set Minmax Scaler :  {:.3f}\".format(SVC_model_mmscaled.score(x_train_mmscaled, y_train)))\n",
    "print(\"Akurasi SVM pada test set Minmax Scaler  :  {:.3f}\".format(SVC_model_mmscaled.score(x_test_mmscaled, y_test)))"
   ],
   "metadata": {
    "collapsed": false
   }
  },
  {
   "cell_type": "code",
   "execution_count": null,
   "outputs": [],
   "source": [
    "print('Akurasi KNN pada train set Select Percentile : {:.3f} '.format(KNN_percentile.score(x_train_sp, y_train)))\n",
    "print('Akurasi KNN pada test set Select Percentile  : {:.3f}'.format(KNN_percentile.score(x_test_sp, y_test)))"
   ],
   "metadata": {
    "collapsed": false
   }
  },
  {
   "cell_type": "code",
   "execution_count": null,
   "outputs": [],
   "source": [
    "print(\"Akurasi SVM pada train set Select Percentile :  {:.3f}\".format(SVC_model_percentile.score(X_train_sp, y_train)))\n",
    "print(\"Akurasi SVM pada test set Select Percentile :  {:.3f}\".format(SVC_model_percentile.score(X_test_sp, y_test)))"
   ],
   "metadata": {
    "collapsed": false
   }
  },
  {
   "cell_type": "markdown",
   "source": [
    "## Kesimpulan\n",
    "\n",
    "Silahkan jawab pertanyaan berikut:\n",
    "\n",
    "1. Apakah ada pengaruh penskalaan data pada dataset terhadap performa model-model machine learning?\n",
    "\n",
    "2. Apa saja feature-feature yang penting untuk membedakan antara pasien yang rawan terkena stroke dengan yang sehat?\n",
    "\n",
    "3. Model apakah yang memiliki performa paling baik terhadap dataset? Apakah parameter setting yang paling optimal dari model tersebut?"
   ],
   "metadata": {
    "collapsed": false
   }
  },
  {
   "cell_type": "markdown",
   "source": [
    "1. Pengaruh penskalaan data pada dataset terhadap performa model-model memiliki pengaruh signifikan terhadap machine learning, dikarenakan pengskalaan data menuju ke proses mengubah skala nilai dalam dataset sehingga nilai tersebut memiliki rentan sama.\n",
    "2. feature-feature penting untuk membedakan pasien rawan terkena stroke dengan yang sehat :\n",
    ">>age, gender, hypertension, work_type, heart_disease, Residence_type, bmi, avg_glucose_level, smoking_status\n",
    "3. Kinerja model pembelajaran mesin tidak menentukan model mana yang terbaik atau lebih baik dari yang lain. Hal ini karena kinerja model bergantung pada karakteristik data dan masalah yang akan dipecahkan. Namun dalam beberapa kasus, model KNN (K-Nearest Neighbor) memiliki beberapa keunggulan, yaitu:\n",
    "- Pada data yang tidak terstruktur, model KNN memiliki tingkat akurasi yang baik\n",
    "- Model KNN sederhana dan mudah dipahami, cocok untuk pemula pembelajaran mesin\n",
    "- KNN dapat digunakan untuk dataset yang besar karena tidak memerlukan waktu pelatihan yang lama\n",
    "- KNN dapat digunakan untuk masalah klasifikasi dan dapat dengan mudah diadaptasi untuk menangani data yang kompleks\n",
    "- KNN tidak memerlukan pengaturan parameter yang rumit\n"
   ],
   "metadata": {
    "collapsed": false
   }
  },
  {
   "cell_type": "code",
   "source": [
    "def plot_feature_importances(classifier, dataset, feat_names):\n",
    "    n_feat = dataset.shape[1]\n",
    "    plt.barh(range(n_feat), classifier.feature_importances_, align='center')\n",
    "    plt.yticks(np.arange(n_feat), feat_names)\n",
    "    plt.xlabel('Feature Importances')\n",
    "    plt.ylabel('Features')\n",
    "    plt.ylim(-1, n_feat)\n",
    "    plt.show()\n",
    "\n",
    "\n",
    "plot_feature_importances(SelectM.estimator_, df_train_enc, df_train_enc.columns)"
   ],
   "metadata": {
    "colab": {
     "base_uri": "https://localhost:8080/",
     "height": 449
    },
    "id": "y-5ZxY1QHE-X",
    "outputId": "7d6998d6-8a8c-4eec-c264-44fa417b5262"
   },
   "id": "y-5ZxY1QHE-X",
   "execution_count": 248,
   "outputs": [
    {
     "output_type": "display_data",
     "data": {
      "text/plain": [
       "<Figure size 640x480 with 1 Axes>"
      ],
      "image/png": "[encoded data removed]"
     },
     "metadata": {}
    }
   ]
  },
  {
   "cell_type": "markdown",
   "id": "13792201",
   "metadata": {
    "id": "13792201"
   },
   "source": [
    "### Modelling\n",
    "\n",
    "Menggunakan 2 algoritme pembelajaran mesin untuk klasifikasi. Eksplorasi pengaturan parameter yang ada pada algoritme yang akan Anda gunakan, tidak terbatas pada 1-2 parameter saja supaya optimal (selain random_state). Silahkan bereksperimen untuk parameter seperti n_estimators, max_depth, dll. agar mendapat akurasi terbaik.\n",
    "\n",
    "Ketentuan:\n",
    "\n",
    "    Sub A:\n",
    "    1. DecisionTreeClassifier(random_state= dua digit terakhir NPM terbesar dalam sub kelompok, max_depth=bebas,criterion='entropy')\n",
    "    2. LogisticRegression(C=bebas, max_iter=10000, class_weight='balanced')`\n",
    "\n",
    "    Sub B:\n",
    "    1. K-Nearest Neighbors(n_neighbors=bebas, weights='distance')\n",
    "    2. LinearSVC(C=bebas, class_weight='balanced')\n",
    "\n",
    "Total ada 6 model yang harus diuji dengan rincian:\n",
    "\n",
    "<table>\n",
    "<thead>\n",
    "  <tr>\n",
    "    <th>Sub kelompok</th>\n",
    "    <th>Scaler</th>\n",
    "    <th>Feature Selection</th>\n",
    "    <th>Model</th>\n",
    "    <th>Kombinasi Pengujian Training Set dan Test Set</th>\n",
    "  </tr>\n",
    "</thead>\n",
    "<tbody>\n",
    "  <tr>\n",
    "    <td>A</td>\n",
    "    <td>StandardScaler</td>\n",
    "    <td>SelectKBest</td>\n",
    "    <td>Decision Tree</td>\n",
    "    <td>StandardScaler+DecisionTree | StandardScaler+SelectKBest+DecisionTree</td>\n",
    "  </tr>\n",
    "  <tr>\n",
    "    <td>A</td>\n",
    "    <td>StandardScaler</td>\n",
    "    <td>SelectKBest</td>\n",
    "    <td>LogisticRegression</td>\n",
    "    <td>StandardScaler+LogisticRegression | StandardScaler+SelectKBest+LogisticRegression</td>\n",
    "  </tr>\n",
    "  <tr>\n",
    "    <td>A</td>\n",
    "    <td>StandardScaler</td>\n",
    "    <td>RFE</td>\n",
    "    <td>Decision Tree</td>\n",
    "    <td>StandardScaler+RFE+DecisionTree</td>\n",
    "  </tr>\n",
    "  <tr>\n",
    "    <td>A</td>\n",
    "    <td>StandardScaler</td>\n",
    "    <td>RFE</td>\n",
    "    <td>LogisticRegression</td>\n",
    "    <td>StandardScaler+RFE+LogisticRegression</td>\n",
    "  </tr>\n",
    "  <tr>\n",
    "    <td>B</td>\n",
    "    <td>MinMaxScaler</td>\n",
    "    <td>SelectPercentile</td>\n",
    "    <td>KNN</td>\n",
    "    <td>MinMaxScaler+KNN | MinMaxScaler+SelectPercentile+KNN</td>\n",
    "  </tr>\n",
    "  <tr>\n",
    "    <td>B</td>\n",
    "    <td>MinMaxScaler</td>\n",
    "    <td>SelectPercentile</td>\n",
    "    <td>LinearSVC</td>\n",
    "    <td>MinMaxScaler+LinearSVC | MinMaxScaler+SelectPercentile+LinearSVC</td>\n",
    "  </tr>\n",
    "  <tr>\n",
    "    <td>B</td>\n",
    "    <td>MinMaxScaler</td>\n",
    "    <td>SelectFromModel</td>\n",
    "    <td>KNN</td>\n",
    "    <td>MinMaxScaler+SelectPercentile+KNN</td>\n",
    "  </tr>\n",
    "  <tr>\n",
    "    <td>B</td>\n",
    "    <td>MinMaxScaler</td>\n",
    "    <td>SelectFromModel</td>\n",
    "    <td>LinearSVC</td>\n",
    "    <td>MinMaxScaler+SelectFromModel+LinearSVC</td>\n",
    "  </tr>\n",
    "</tbody>\n",
    "</table>"
   ]
  },
  {
   "cell_type": "code",
   "source": [
    "#KNN MinMaxScaler + KNN\n",
    "\n",
    "KNN_mmscaled = KNeighborsClassifier(n_neighbors=15, weights='distance')\n",
    "KNN_mmscaled.fit(x_train_mmscaled, y_train)"
   ],
   "metadata": {
    "colab": {
     "base_uri": "https://localhost:8080/",
     "height": 75
    },
    "id": "TCAazACqHY6_",
    "outputId": "2c5481fd-a288-44d5-b318-09fa788cee15"
   },
   "id": "TCAazACqHY6_",
   "execution_count": 249,
   "outputs": [
    {
     "output_type": "execute_result",
     "data": {
      "text/plain": [
       "KNeighborsClassifier(n_neighbors=15, weights='distance')"
      ],
      "text/html": [
       "<style>#sk-container-id-32 {color: black;background-color: white;}#sk-container-id-32 pre{padding: 0;}#sk-container-id-32 div.sk-toggleable {background-color: white;}#sk-container-id-32 label.sk-toggleable__label {cursor: pointer;display: block;width: 100%;margin-bottom: 0;padding: 0.3em;box-sizing: border-box;text-align: center;}#sk-container-id-32 label.sk-toggleable__label-arrow:before {content: \"▸\";float: left;margin-right: 0.25em;color: #696969;}#sk-container-id-32 label.sk-toggleable__label-arrow:hover:before {color: black;}#sk-container-id-32 div.sk-estimator:hover label.sk-toggleable__label-arrow:before {color: black;}#sk-container-id-32 div.sk-toggleable__content {max-height: 0;max-width: 0;overflow: hidden;text-align: left;background-color: #f0f8ff;}#sk-container-id-32 div.sk-toggleable__content pre {margin: 0.2em;color: black;border-radius: 0.25em;background-color: #f0f8ff;}#sk-container-id-32 input.sk-toggleable__control:checked~div.sk-toggleable__content {max-height: 200px;max-width: 100%;overflow: auto;}#sk-container-id-32 input.sk-toggleable__control:checked~label.sk-toggleable__label-arrow:before {content: \"▾\";}#sk-container-id-32 div.sk-estimator input.sk-toggleable__control:checked~label.sk-toggleable__label {background-color: #d4ebff;}#sk-container-id-32 div.sk-label input.sk-toggleable__control:checked~label.sk-toggleable__label {background-color: #d4ebff;}#sk-container-id-32 input.sk-hidden--visually {border: 0;clip: rect(1px 1px 1px 1px);clip: rect(1px, 1px, 1px, 1px);height: 1px;margin: -1px;overflow: hidden;padding: 0;position: absolute;width: 1px;}#sk-container-id-32 div.sk-estimator {font-family: monospace;background-color: #f0f8ff;border: 1px dotted black;border-radius: 0.25em;box-sizing: border-box;margin-bottom: 0.5em;}#sk-container-id-32 div.sk-estimator:hover {background-color: #d4ebff;}#sk-container-id-32 div.sk-parallel-item::after {content: \"\";width: 100%;border-bottom: 1px solid gray;flex-grow: 1;}#sk-container-id-32 div.sk-label:hover label.sk-toggleable__label {background-color: #d4ebff;}#sk-container-id-32 div.sk-serial::before {content: \"\";position: absolute;border-left: 1px solid gray;box-sizing: border-box;top: 0;bottom: 0;left: 50%;z-index: 0;}#sk-container-id-32 div.sk-serial {display: flex;flex-direction: column;align-items: center;background-color: white;padding-right: 0.2em;padding-left: 0.2em;position: relative;}#sk-container-id-32 div.sk-item {position: relative;z-index: 1;}#sk-container-id-32 div.sk-parallel {display: flex;align-items: stretch;justify-content: center;background-color: white;position: relative;}#sk-container-id-32 div.sk-item::before, #sk-container-id-32 div.sk-parallel-item::before {content: \"\";position: absolute;border-left: 1px solid gray;box-sizing: border-box;top: 0;bottom: 0;left: 50%;z-index: -1;}#sk-container-id-32 div.sk-parallel-item {display: flex;flex-direction: column;z-index: 1;position: relative;background-color: white;}#sk-container-id-32 div.sk-parallel-item:first-child::after {align-self: flex-end;width: 50%;}#sk-container-id-32 div.sk-parallel-item:last-child::after {align-self: flex-start;width: 50%;}#sk-container-id-32 div.sk-parallel-item:only-child::after {width: 0;}#sk-container-id-32 div.sk-dashed-wrapped {border: 1px dashed gray;margin: 0 0.4em 0.5em 0.4em;box-sizing: border-box;padding-bottom: 0.4em;background-color: white;}#sk-container-id-32 div.sk-label label {font-family: monospace;font-weight: bold;display: inline-block;line-height: 1.2em;}#sk-container-id-32 div.sk-label-container {text-align: center;}#sk-container-id-32 div.sk-container {/* jupyter's `normalize.less` sets `[hidden] { display: none; }` but bootstrap.min.css set `[hidden] { display: none !important; }` so we also need the `!important` here to be able to override the default hidden behavior on the sphinx rendered scikit-learn.org. See: https://github.com/scikit-learn/scikit-learn/issues/21755 */display: inline-block !important;position: relative;}#sk-container-id-32 div.sk-text-repr-fallback {display: none;}</style><div id=\"sk-container-id-32\" class=\"sk-top-container\"><div class=\"sk-text-repr-fallback\"><pre>KNeighborsClassifier(n_neighbors=15, weights=&#x27;distance&#x27;)</pre><b>In a Jupyter environment, please rerun this cell to show the HTML representation or trust the notebook. <br />On GitHub, the HTML representation is unable to render, please try loading this page with nbviewer.org.</b></div><div class=\"sk-container\" hidden><div class=\"sk-item\"><div class=\"sk-estimator sk-toggleable\"><input class=\"sk-toggleable__control sk-hidden--visually\" id=\"sk-estimator-id-32\" type=\"checkbox\" checked><label for=\"sk-estimator-id-32\" class=\"sk-toggleable__label sk-toggleable__label-arrow\">KNeighborsClassifier</label><div class=\"sk-toggleable__content\"><pre>KNeighborsClassifier(n_neighbors=15, weights=&#x27;distance&#x27;)</pre></div></div></div></div></div>"
      ]
     },
     "metadata": {},
     "execution_count": 249
    }
   ]
  },
  {
   "cell_type": "code",
   "source": [
    "#KNN MinMaxScaker + SelectPercentile + KNN\n",
    "\n",
    "KNN_percentile = KNeighborsClassifier(n_neighbors=30, weights='distance')\n",
    "KNN_percentile.fit(x_train_sp, y_train)"
   ],
   "metadata": {
    "colab": {
     "base_uri": "https://localhost:8080/",
     "height": 75
    },
    "id": "6Dw-FETiHc08",
    "outputId": "1e16f32a-5e18-4509-d6c9-ff09043a3e79"
   },
   "id": "6Dw-FETiHc08",
   "execution_count": 250,
   "outputs": [
    {
     "output_type": "execute_result",
     "data": {
      "text/plain": [
       "KNeighborsClassifier(n_neighbors=30, weights='distance')"
      ],
      "text/html": [
       "<style>#sk-container-id-33 {color: black;background-color: white;}#sk-container-id-33 pre{padding: 0;}#sk-container-id-33 div.sk-toggleable {background-color: white;}#sk-container-id-33 label.sk-toggleable__label {cursor: pointer;display: block;width: 100%;margin-bottom: 0;padding: 0.3em;box-sizing: border-box;text-align: center;}#sk-container-id-33 label.sk-toggleable__label-arrow:before {content: \"▸\";float: left;margin-right: 0.25em;color: #696969;}#sk-container-id-33 label.sk-toggleable__label-arrow:hover:before {color: black;}#sk-container-id-33 div.sk-estimator:hover label.sk-toggleable__label-arrow:before {color: black;}#sk-container-id-33 div.sk-toggleable__content {max-height: 0;max-width: 0;overflow: hidden;text-align: left;background-color: #f0f8ff;}#sk-container-id-33 div.sk-toggleable__content pre {margin: 0.2em;color: black;border-radius: 0.25em;background-color: #f0f8ff;}#sk-container-id-33 input.sk-toggleable__control:checked~div.sk-toggleable__content {max-height: 200px;max-width: 100%;overflow: auto;}#sk-container-id-33 input.sk-toggleable__control:checked~label.sk-toggleable__label-arrow:before {content: \"▾\";}#sk-container-id-33 div.sk-estimator input.sk-toggleable__control:checked~label.sk-toggleable__label {background-color: #d4ebff;}#sk-container-id-33 div.sk-label input.sk-toggleable__control:checked~label.sk-toggleable__label {background-color: #d4ebff;}#sk-container-id-33 input.sk-hidden--visually {border: 0;clip: rect(1px 1px 1px 1px);clip: rect(1px, 1px, 1px, 1px);height: 1px;margin: -1px;overflow: hidden;padding: 0;position: absolute;width: 1px;}#sk-container-id-33 div.sk-estimator {font-family: monospace;background-color: #f0f8ff;border: 1px dotted black;border-radius: 0.25em;box-sizing: border-box;margin-bottom: 0.5em;}#sk-container-id-33 div.sk-estimator:hover {background-color: #d4ebff;}#sk-container-id-33 div.sk-parallel-item::after {content: \"\";width: 100%;border-bottom: 1px solid gray;flex-grow: 1;}#sk-container-id-33 div.sk-label:hover label.sk-toggleable__label {background-color: #d4ebff;}#sk-container-id-33 div.sk-serial::before {content: \"\";position: absolute;border-left: 1px solid gray;box-sizing: border-box;top: 0;bottom: 0;left: 50%;z-index: 0;}#sk-container-id-33 div.sk-serial {display: flex;flex-direction: column;align-items: center;background-color: white;padding-right: 0.2em;padding-left: 0.2em;position: relative;}#sk-container-id-33 div.sk-item {position: relative;z-index: 1;}#sk-container-id-33 div.sk-parallel {display: flex;align-items: stretch;justify-content: center;background-color: white;position: relative;}#sk-container-id-33 div.sk-item::before, #sk-container-id-33 div.sk-parallel-item::before {content: \"\";position: absolute;border-left: 1px solid gray;box-sizing: border-box;top: 0;bottom: 0;left: 50%;z-index: -1;}#sk-container-id-33 div.sk-parallel-item {display: flex;flex-direction: column;z-index: 1;position: relative;background-color: white;}#sk-container-id-33 div.sk-parallel-item:first-child::after {align-self: flex-end;width: 50%;}#sk-container-id-33 div.sk-parallel-item:last-child::after {align-self: flex-start;width: 50%;}#sk-container-id-33 div.sk-parallel-item:only-child::after {width: 0;}#sk-container-id-33 div.sk-dashed-wrapped {border: 1px dashed gray;margin: 0 0.4em 0.5em 0.4em;box-sizing: border-box;padding-bottom: 0.4em;background-color: white;}#sk-container-id-33 div.sk-label label {font-family: monospace;font-weight: bold;display: inline-block;line-height: 1.2em;}#sk-container-id-33 div.sk-label-container {text-align: center;}#sk-container-id-33 div.sk-container {/* jupyter's `normalize.less` sets `[hidden] { display: none; }` but bootstrap.min.css set `[hidden] { display: none !important; }` so we also need the `!important` here to be able to override the default hidden behavior on the sphinx rendered scikit-learn.org. See: https://github.com/scikit-learn/scikit-learn/issues/21755 */display: inline-block !important;position: relative;}#sk-container-id-33 div.sk-text-repr-fallback {display: none;}</style><div id=\"sk-container-id-33\" class=\"sk-top-container\"><div class=\"sk-text-repr-fallback\"><pre>KNeighborsClassifier(n_neighbors=30, weights=&#x27;distance&#x27;)</pre><b>In a Jupyter environment, please rerun this cell to show the HTML representation or trust the notebook. <br />On GitHub, the HTML representation is unable to render, please try loading this page with nbviewer.org.</b></div><div class=\"sk-container\" hidden><div class=\"sk-item\"><div class=\"sk-estimator sk-toggleable\"><input class=\"sk-toggleable__control sk-hidden--visually\" id=\"sk-estimator-id-33\" type=\"checkbox\" checked><label for=\"sk-estimator-id-33\" class=\"sk-toggleable__label sk-toggleable__label-arrow\">KNeighborsClassifier</label><div class=\"sk-toggleable__content\"><pre>KNeighborsClassifier(n_neighbors=30, weights=&#x27;distance&#x27;)</pre></div></div></div></div></div>"
      ]
     },
     "metadata": {},
     "execution_count": 250
    }
   ]
  },
  {
   "cell_type": "code",
   "source": [
    "#Linear SVC MinMaxScaler + LinearSVC\n",
    "\n",
    "SVC_model_mmscaled = SVC(C=400, class_weight='balanced', gamma=100)\n",
    "SVC_model_mmscaled.fit(x_train_mmscaled, y_train)"
   ],
   "metadata": {
    "colab": {
     "base_uri": "https://localhost:8080/",
     "height": 75
    },
    "id": "ZAv3rI6pHgWv",
    "outputId": "c2efe836-f425-44ab-8ebb-80d37ee2232e"
   },
   "id": "ZAv3rI6pHgWv",
   "execution_count": 251,
   "outputs": [
    {
     "output_type": "execute_result",
     "data": {
      "text/plain": [
       "SVC(C=400, class_weight='balanced', gamma=100)"
      ],
      "text/html": [
       "<style>#sk-container-id-34 {color: black;background-color: white;}#sk-container-id-34 pre{padding: 0;}#sk-container-id-34 div.sk-toggleable {background-color: white;}#sk-container-id-34 label.sk-toggleable__label {cursor: pointer;display: block;width: 100%;margin-bottom: 0;padding: 0.3em;box-sizing: border-box;text-align: center;}#sk-container-id-34 label.sk-toggleable__label-arrow:before {content: \"▸\";float: left;margin-right: 0.25em;color: #696969;}#sk-container-id-34 label.sk-toggleable__label-arrow:hover:before {color: black;}#sk-container-id-34 div.sk-estimator:hover label.sk-toggleable__label-arrow:before {color: black;}#sk-container-id-34 div.sk-toggleable__content {max-height: 0;max-width: 0;overflow: hidden;text-align: left;background-color: #f0f8ff;}#sk-container-id-34 div.sk-toggleable__content pre {margin: 0.2em;color: black;border-radius: 0.25em;background-color: #f0f8ff;}#sk-container-id-34 input.sk-toggleable__control:checked~div.sk-toggleable__content {max-height: 200px;max-width: 100%;overflow: auto;}#sk-container-id-34 input.sk-toggleable__control:checked~label.sk-toggleable__label-arrow:before {content: \"▾\";}#sk-container-id-34 div.sk-estimator input.sk-toggleable__control:checked~label.sk-toggleable__label {background-color: #d4ebff;}#sk-container-id-34 div.sk-label input.sk-toggleable__control:checked~label.sk-toggleable__label {background-color: #d4ebff;}#sk-container-id-34 input.sk-hidden--visually {border: 0;clip: rect(1px 1px 1px 1px);clip: rect(1px, 1px, 1px, 1px);height: 1px;margin: -1px;overflow: hidden;padding: 0;position: absolute;width: 1px;}#sk-container-id-34 div.sk-estimator {font-family: monospace;background-color: #f0f8ff;border: 1px dotted black;border-radius: 0.25em;box-sizing: border-box;margin-bottom: 0.5em;}#sk-container-id-34 div.sk-estimator:hover {background-color: #d4ebff;}#sk-container-id-34 div.sk-parallel-item::after {content: \"\";width: 100%;border-bottom: 1px solid gray;flex-grow: 1;}#sk-container-id-34 div.sk-label:hover label.sk-toggleable__label {background-color: #d4ebff;}#sk-container-id-34 div.sk-serial::before {content: \"\";position: absolute;border-left: 1px solid gray;box-sizing: border-box;top: 0;bottom: 0;left: 50%;z-index: 0;}#sk-container-id-34 div.sk-serial {display: flex;flex-direction: column;align-items: center;background-color: white;padding-right: 0.2em;padding-left: 0.2em;position: relative;}#sk-container-id-34 div.sk-item {position: relative;z-index: 1;}#sk-container-id-34 div.sk-parallel {display: flex;align-items: stretch;justify-content: center;background-color: white;position: relative;}#sk-container-id-34 div.sk-item::before, #sk-container-id-34 div.sk-parallel-item::before {content: \"\";position: absolute;border-left: 1px solid gray;box-sizing: border-box;top: 0;bottom: 0;left: 50%;z-index: -1;}#sk-container-id-34 div.sk-parallel-item {display: flex;flex-direction: column;z-index: 1;position: relative;background-color: white;}#sk-container-id-34 div.sk-parallel-item:first-child::after {align-self: flex-end;width: 50%;}#sk-container-id-34 div.sk-parallel-item:last-child::after {align-self: flex-start;width: 50%;}#sk-container-id-34 div.sk-parallel-item:only-child::after {width: 0;}#sk-container-id-34 div.sk-dashed-wrapped {border: 1px dashed gray;margin: 0 0.4em 0.5em 0.4em;box-sizing: border-box;padding-bottom: 0.4em;background-color: white;}#sk-container-id-34 div.sk-label label {font-family: monospace;font-weight: bold;display: inline-block;line-height: 1.2em;}#sk-container-id-34 div.sk-label-container {text-align: center;}#sk-container-id-34 div.sk-container {/* jupyter's `normalize.less` sets `[hidden] { display: none; }` but bootstrap.min.css set `[hidden] { display: none !important; }` so we also need the `!important` here to be able to override the default hidden behavior on the sphinx rendered scikit-learn.org. See: https://github.com/scikit-learn/scikit-learn/issues/21755 */display: inline-block !important;position: relative;}#sk-container-id-34 div.sk-text-repr-fallback {display: none;}</style><div id=\"sk-container-id-34\" class=\"sk-top-container\"><div class=\"sk-text-repr-fallback\"><pre>SVC(C=400, class_weight=&#x27;balanced&#x27;, gamma=100)</pre><b>In a Jupyter environment, please rerun this cell to show the HTML representation or trust the notebook. <br />On GitHub, the HTML representation is unable to render, please try loading this page with nbviewer.org.</b></div><div class=\"sk-container\" hidden><div class=\"sk-item\"><div class=\"sk-estimator sk-toggleable\"><input class=\"sk-toggleable__control sk-hidden--visually\" id=\"sk-estimator-id-34\" type=\"checkbox\" checked><label for=\"sk-estimator-id-34\" class=\"sk-toggleable__label sk-toggleable__label-arrow\">SVC</label><div class=\"sk-toggleable__content\"><pre>SVC(C=400, class_weight=&#x27;balanced&#x27;, gamma=100)</pre></div></div></div></div></div>"
      ]
     },
     "metadata": {},
     "execution_count": 251
    }
   ]
  },
  {
   "cell_type": "code",
   "source": [
    "#Linear SVC MinMaxScaler + SelectPercentile + LinearSVC\n",
    "\n",
    "SVC_model_percentile = SVC(C=400, class_weight='balanced', gamma=100)\n",
    "SVC_model_percentile.fit(x_train_sp, y_train)"
   ],
   "metadata": {
    "colab": {
     "base_uri": "https://localhost:8080/",
     "height": 75
    },
    "id": "0HwrcCKKHkOT",
    "outputId": "bbfa17fa-0bae-40fb-8cc1-bd436328ca11"
   },
   "id": "0HwrcCKKHkOT",
   "execution_count": 252,
   "outputs": [
    {
     "output_type": "execute_result",
     "data": {
      "text/plain": [
       "SVC(C=400, class_weight='balanced', gamma=100)"
      ],
      "text/html": [
       "<style>#sk-container-id-35 {color: black;background-color: white;}#sk-container-id-35 pre{padding: 0;}#sk-container-id-35 div.sk-toggleable {background-color: white;}#sk-container-id-35 label.sk-toggleable__label {cursor: pointer;display: block;width: 100%;margin-bottom: 0;padding: 0.3em;box-sizing: border-box;text-align: center;}#sk-container-id-35 label.sk-toggleable__label-arrow:before {content: \"▸\";float: left;margin-right: 0.25em;color: #696969;}#sk-container-id-35 label.sk-toggleable__label-arrow:hover:before {color: black;}#sk-container-id-35 div.sk-estimator:hover label.sk-toggleable__label-arrow:before {color: black;}#sk-container-id-35 div.sk-toggleable__content {max-height: 0;max-width: 0;overflow: hidden;text-align: left;background-color: #f0f8ff;}#sk-container-id-35 div.sk-toggleable__content pre {margin: 0.2em;color: black;border-radius: 0.25em;background-color: #f0f8ff;}#sk-container-id-35 input.sk-toggleable__control:checked~div.sk-toggleable__content {max-height: 200px;max-width: 100%;overflow: auto;}#sk-container-id-35 input.sk-toggleable__control:checked~label.sk-toggleable__label-arrow:before {content: \"▾\";}#sk-container-id-35 div.sk-estimator input.sk-toggleable__control:checked~label.sk-toggleable__label {background-color: #d4ebff;}#sk-container-id-35 div.sk-label input.sk-toggleable__control:checked~label.sk-toggleable__label {background-color: #d4ebff;}#sk-container-id-35 input.sk-hidden--visually {border: 0;clip: rect(1px 1px 1px 1px);clip: rect(1px, 1px, 1px, 1px);height: 1px;margin: -1px;overflow: hidden;padding: 0;position: absolute;width: 1px;}#sk-container-id-35 div.sk-estimator {font-family: monospace;background-color: #f0f8ff;border: 1px dotted black;border-radius: 0.25em;box-sizing: border-box;margin-bottom: 0.5em;}#sk-container-id-35 div.sk-estimator:hover {background-color: #d4ebff;}#sk-container-id-35 div.sk-parallel-item::after {content: \"\";width: 100%;border-bottom: 1px solid gray;flex-grow: 1;}#sk-container-id-35 div.sk-label:hover label.sk-toggleable__label {background-color: #d4ebff;}#sk-container-id-35 div.sk-serial::before {content: \"\";position: absolute;border-left: 1px solid gray;box-sizing: border-box;top: 0;bottom: 0;left: 50%;z-index: 0;}#sk-container-id-35 div.sk-serial {display: flex;flex-direction: column;align-items: center;background-color: white;padding-right: 0.2em;padding-left: 0.2em;position: relative;}#sk-container-id-35 div.sk-item {position: relative;z-index: 1;}#sk-container-id-35 div.sk-parallel {display: flex;align-items: stretch;justify-content: center;background-color: white;position: relative;}#sk-container-id-35 div.sk-item::before, #sk-container-id-35 div.sk-parallel-item::before {content: \"\";position: absolute;border-left: 1px solid gray;box-sizing: border-box;top: 0;bottom: 0;left: 50%;z-index: -1;}#sk-container-id-35 div.sk-parallel-item {display: flex;flex-direction: column;z-index: 1;position: relative;background-color: white;}#sk-container-id-35 div.sk-parallel-item:first-child::after {align-self: flex-end;width: 50%;}#sk-container-id-35 div.sk-parallel-item:last-child::after {align-self: flex-start;width: 50%;}#sk-container-id-35 div.sk-parallel-item:only-child::after {width: 0;}#sk-container-id-35 div.sk-dashed-wrapped {border: 1px dashed gray;margin: 0 0.4em 0.5em 0.4em;box-sizing: border-box;padding-bottom: 0.4em;background-color: white;}#sk-container-id-35 div.sk-label label {font-family: monospace;font-weight: bold;display: inline-block;line-height: 1.2em;}#sk-container-id-35 div.sk-label-container {text-align: center;}#sk-container-id-35 div.sk-container {/* jupyter's `normalize.less` sets `[hidden] { display: none; }` but bootstrap.min.css set `[hidden] { display: none !important; }` so we also need the `!important` here to be able to override the default hidden behavior on the sphinx rendered scikit-learn.org. See: https://github.com/scikit-learn/scikit-learn/issues/21755 */display: inline-block !important;position: relative;}#sk-container-id-35 div.sk-text-repr-fallback {display: none;}</style><div id=\"sk-container-id-35\" class=\"sk-top-container\"><div class=\"sk-text-repr-fallback\"><pre>SVC(C=400, class_weight=&#x27;balanced&#x27;, gamma=100)</pre><b>In a Jupyter environment, please rerun this cell to show the HTML representation or trust the notebook. <br />On GitHub, the HTML representation is unable to render, please try loading this page with nbviewer.org.</b></div><div class=\"sk-container\" hidden><div class=\"sk-item\"><div class=\"sk-estimator sk-toggleable\"><input class=\"sk-toggleable__control sk-hidden--visually\" id=\"sk-estimator-id-35\" type=\"checkbox\" checked><label for=\"sk-estimator-id-35\" class=\"sk-toggleable__label sk-toggleable__label-arrow\">SVC</label><div class=\"sk-toggleable__content\"><pre>SVC(C=400, class_weight=&#x27;balanced&#x27;, gamma=100)</pre></div></div></div></div></div>"
      ]
     },
     "metadata": {},
     "execution_count": 252
    }
   ]
  },
  {
   "cell_type": "code",
   "source": [
    "#KNN MinMaxScaler + SelectFromModel + KNN\n",
    "\n",
    "KNN_selectFromModel = KNeighborsClassifier(n_neighbors=15, weights='distance')\n",
    "KNN_selectFromModel.fit(x_train_smodel, y_train)\n"
   ],
   "metadata": {
    "colab": {
     "base_uri": "https://localhost:8080/",
     "height": 75
    },
    "id": "K-BydsIaHm6t",
    "outputId": "f524a2d4-db7f-43d4-e3d7-28b31f3cab1a"
   },
   "id": "K-BydsIaHm6t",
   "execution_count": 253,
   "outputs": [
    {
     "output_type": "execute_result",
     "data": {
      "text/plain": [
       "KNeighborsClassifier(n_neighbors=15, weights='distance')"
      ],
      "text/html": [
       "<style>#sk-container-id-36 {color: black;background-color: white;}#sk-container-id-36 pre{padding: 0;}#sk-container-id-36 div.sk-toggleable {background-color: white;}#sk-container-id-36 label.sk-toggleable__label {cursor: pointer;display: block;width: 100%;margin-bottom: 0;padding: 0.3em;box-sizing: border-box;text-align: center;}#sk-container-id-36 label.sk-toggleable__label-arrow:before {content: \"▸\";float: left;margin-right: 0.25em;color: #696969;}#sk-container-id-36 label.sk-toggleable__label-arrow:hover:before {color: black;}#sk-container-id-36 div.sk-estimator:hover label.sk-toggleable__label-arrow:before {color: black;}#sk-container-id-36 div.sk-toggleable__content {max-height: 0;max-width: 0;overflow: hidden;text-align: left;background-color: #f0f8ff;}#sk-container-id-36 div.sk-toggleable__content pre {margin: 0.2em;color: black;border-radius: 0.25em;background-color: #f0f8ff;}#sk-container-id-36 input.sk-toggleable__control:checked~div.sk-toggleable__content {max-height: 200px;max-width: 100%;overflow: auto;}#sk-container-id-36 input.sk-toggleable__control:checked~label.sk-toggleable__label-arrow:before {content: \"▾\";}#sk-container-id-36 div.sk-estimator input.sk-toggleable__control:checked~label.sk-toggleable__label {background-color: #d4ebff;}#sk-container-id-36 div.sk-label input.sk-toggleable__control:checked~label.sk-toggleable__label {background-color: #d4ebff;}#sk-container-id-36 input.sk-hidden--visually {border: 0;clip: rect(1px 1px 1px 1px);clip: rect(1px, 1px, 1px, 1px);height: 1px;margin: -1px;overflow: hidden;padding: 0;position: absolute;width: 1px;}#sk-container-id-36 div.sk-estimator {font-family: monospace;background-color: #f0f8ff;border: 1px dotted black;border-radius: 0.25em;box-sizing: border-box;margin-bottom: 0.5em;}#sk-container-id-36 div.sk-estimator:hover {background-color: #d4ebff;}#sk-container-id-36 div.sk-parallel-item::after {content: \"\";width: 100%;border-bottom: 1px solid gray;flex-grow: 1;}#sk-container-id-36 div.sk-label:hover label.sk-toggleable__label {background-color: #d4ebff;}#sk-container-id-36 div.sk-serial::before {content: \"\";position: absolute;border-left: 1px solid gray;box-sizing: border-box;top: 0;bottom: 0;left: 50%;z-index: 0;}#sk-container-id-36 div.sk-serial {display: flex;flex-direction: column;align-items: center;background-color: white;padding-right: 0.2em;padding-left: 0.2em;position: relative;}#sk-container-id-36 div.sk-item {position: relative;z-index: 1;}#sk-container-id-36 div.sk-parallel {display: flex;align-items: stretch;justify-content: center;background-color: white;position: relative;}#sk-container-id-36 div.sk-item::before, #sk-container-id-36 div.sk-parallel-item::before {content: \"\";position: absolute;border-left: 1px solid gray;box-sizing: border-box;top: 0;bottom: 0;left: 50%;z-index: -1;}#sk-container-id-36 div.sk-parallel-item {display: flex;flex-direction: column;z-index: 1;position: relative;background-color: white;}#sk-container-id-36 div.sk-parallel-item:first-child::after {align-self: flex-end;width: 50%;}#sk-container-id-36 div.sk-parallel-item:last-child::after {align-self: flex-start;width: 50%;}#sk-container-id-36 div.sk-parallel-item:only-child::after {width: 0;}#sk-container-id-36 div.sk-dashed-wrapped {border: 1px dashed gray;margin: 0 0.4em 0.5em 0.4em;box-sizing: border-box;padding-bottom: 0.4em;background-color: white;}#sk-container-id-36 div.sk-label label {font-family: monospace;font-weight: bold;display: inline-block;line-height: 1.2em;}#sk-container-id-36 div.sk-label-container {text-align: center;}#sk-container-id-36 div.sk-container {/* jupyter's `normalize.less` sets `[hidden] { display: none; }` but bootstrap.min.css set `[hidden] { display: none !important; }` so we also need the `!important` here to be able to override the default hidden behavior on the sphinx rendered scikit-learn.org. See: https://github.com/scikit-learn/scikit-learn/issues/21755 */display: inline-block !important;position: relative;}#sk-container-id-36 div.sk-text-repr-fallback {display: none;}</style><div id=\"sk-container-id-36\" class=\"sk-top-container\"><div class=\"sk-text-repr-fallback\"><pre>KNeighborsClassifier(n_neighbors=15, weights=&#x27;distance&#x27;)</pre><b>In a Jupyter environment, please rerun this cell to show the HTML representation or trust the notebook. <br />On GitHub, the HTML representation is unable to render, please try loading this page with nbviewer.org.</b></div><div class=\"sk-container\" hidden><div class=\"sk-item\"><div class=\"sk-estimator sk-toggleable\"><input class=\"sk-toggleable__control sk-hidden--visually\" id=\"sk-estimator-id-36\" type=\"checkbox\" checked><label for=\"sk-estimator-id-36\" class=\"sk-toggleable__label sk-toggleable__label-arrow\">KNeighborsClassifier</label><div class=\"sk-toggleable__content\"><pre>KNeighborsClassifier(n_neighbors=15, weights=&#x27;distance&#x27;)</pre></div></div></div></div></div>"
      ]
     },
     "metadata": {},
     "execution_count": 253
    }
   ]
  },
  {
   "cell_type": "code",
   "source": [
    "#Linear SVC MinMaxScaler + SelectFromModel + LinearSVC\n",
    "\n",
    "SVC_model_selectFromModel = SVC(C=300, class_weight='balanced', gamma=100)\n",
    "SVC_model_selectFromModel.fit(x_train_smodel, y_train)"
   ],
   "metadata": {
    "colab": {
     "base_uri": "https://localhost:8080/",
     "height": 75
    },
    "id": "RQY-mwlDHo0l",
    "outputId": "fc461c2a-2613-48c9-f532-1369ab339161"
   },
   "id": "RQY-mwlDHo0l",
   "execution_count": 254,
   "outputs": [
    {
     "output_type": "execute_result",
     "data": {
      "text/plain": [
       "SVC(C=400, class_weight='balanced', gamma=100)"
      ],
      "text/html": [
       "<style>#sk-container-id-37 {color: black;background-color: white;}#sk-container-id-37 pre{padding: 0;}#sk-container-id-37 div.sk-toggleable {background-color: white;}#sk-container-id-37 label.sk-toggleable__label {cursor: pointer;display: block;width: 100%;margin-bottom: 0;padding: 0.3em;box-sizing: border-box;text-align: center;}#sk-container-id-37 label.sk-toggleable__label-arrow:before {content: \"▸\";float: left;margin-right: 0.25em;color: #696969;}#sk-container-id-37 label.sk-toggleable__label-arrow:hover:before {color: black;}#sk-container-id-37 div.sk-estimator:hover label.sk-toggleable__label-arrow:before {color: black;}#sk-container-id-37 div.sk-toggleable__content {max-height: 0;max-width: 0;overflow: hidden;text-align: left;background-color: #f0f8ff;}#sk-container-id-37 div.sk-toggleable__content pre {margin: 0.2em;color: black;border-radius: 0.25em;background-color: #f0f8ff;}#sk-container-id-37 input.sk-toggleable__control:checked~div.sk-toggleable__content {max-height: 200px;max-width: 100%;overflow: auto;}#sk-container-id-37 input.sk-toggleable__control:checked~label.sk-toggleable__label-arrow:before {content: \"▾\";}#sk-container-id-37 div.sk-estimator input.sk-toggleable__control:checked~label.sk-toggleable__label {background-color: #d4ebff;}#sk-container-id-37 div.sk-label input.sk-toggleable__control:checked~label.sk-toggleable__label {background-color: #d4ebff;}#sk-container-id-37 input.sk-hidden--visually {border: 0;clip: rect(1px 1px 1px 1px);clip: rect(1px, 1px, 1px, 1px);height: 1px;margin: -1px;overflow: hidden;padding: 0;position: absolute;width: 1px;}#sk-container-id-37 div.sk-estimator {font-family: monospace;background-color: #f0f8ff;border: 1px dotted black;border-radius: 0.25em;box-sizing: border-box;margin-bottom: 0.5em;}#sk-container-id-37 div.sk-estimator:hover {background-color: #d4ebff;}#sk-container-id-37 div.sk-parallel-item::after {content: \"\";width: 100%;border-bottom: 1px solid gray;flex-grow: 1;}#sk-container-id-37 div.sk-label:hover label.sk-toggleable__label {background-color: #d4ebff;}#sk-container-id-37 div.sk-serial::before {content: \"\";position: absolute;border-left: 1px solid gray;box-sizing: border-box;top: 0;bottom: 0;left: 50%;z-index: 0;}#sk-container-id-37 div.sk-serial {display: flex;flex-direction: column;align-items: center;background-color: white;padding-right: 0.2em;padding-left: 0.2em;position: relative;}#sk-container-id-37 div.sk-item {position: relative;z-index: 1;}#sk-container-id-37 div.sk-parallel {display: flex;align-items: stretch;justify-content: center;background-color: white;position: relative;}#sk-container-id-37 div.sk-item::before, #sk-container-id-37 div.sk-parallel-item::before {content: \"\";position: absolute;border-left: 1px solid gray;box-sizing: border-box;top: 0;bottom: 0;left: 50%;z-index: -1;}#sk-container-id-37 div.sk-parallel-item {display: flex;flex-direction: column;z-index: 1;position: relative;background-color: white;}#sk-container-id-37 div.sk-parallel-item:first-child::after {align-self: flex-end;width: 50%;}#sk-container-id-37 div.sk-parallel-item:last-child::after {align-self: flex-start;width: 50%;}#sk-container-id-37 div.sk-parallel-item:only-child::after {width: 0;}#sk-container-id-37 div.sk-dashed-wrapped {border: 1px dashed gray;margin: 0 0.4em 0.5em 0.4em;box-sizing: border-box;padding-bottom: 0.4em;background-color: white;}#sk-container-id-37 div.sk-label label {font-family: monospace;font-weight: bold;display: inline-block;line-height: 1.2em;}#sk-container-id-37 div.sk-label-container {text-align: center;}#sk-container-id-37 div.sk-container {/* jupyter's `normalize.less` sets `[hidden] { display: none; }` but bootstrap.min.css set `[hidden] { display: none !important; }` so we also need the `!important` here to be able to override the default hidden behavior on the sphinx rendered scikit-learn.org. See: https://github.com/scikit-learn/scikit-learn/issues/21755 */display: inline-block !important;position: relative;}#sk-container-id-37 div.sk-text-repr-fallback {display: none;}</style><div id=\"sk-container-id-37\" class=\"sk-top-container\"><div class=\"sk-text-repr-fallback\"><pre>SVC(C=400, class_weight=&#x27;balanced&#x27;, gamma=100)</pre><b>In a Jupyter environment, please rerun this cell to show the HTML representation or trust the notebook. <br />On GitHub, the HTML representation is unable to render, please try loading this page with nbviewer.org.</b></div><div class=\"sk-container\" hidden><div class=\"sk-item\"><div class=\"sk-estimator sk-toggleable\"><input class=\"sk-toggleable__control sk-hidden--visually\" id=\"sk-estimator-id-37\" type=\"checkbox\" checked><label for=\"sk-estimator-id-37\" class=\"sk-toggleable__label sk-toggleable__label-arrow\">SVC</label><div class=\"sk-toggleable__content\"><pre>SVC(C=400, class_weight=&#x27;balanced&#x27;, gamma=100)</pre></div></div></div></div></div>"
      ]
     },
     "metadata": {},
     "execution_count": 254
    }
   ]
  },
  {
   "cell_type": "markdown",
   "id": "9ccd42b1",
   "metadata": {
    "id": "9ccd42b1"
   },
   "source": [
    "### Evaluasi Model\n",
    "\n",
    "Bagian berikut berisi evaluasi model secara sederhana menggunakan metrik akurasi (fungsi score). Uji akurasi hasil pembelajaran pada train set dan test set."
   ]
  },
  {
   "cell_type": "code",
   "execution_count": 255,
   "id": "25812a07",
   "metadata": {
    "id": "25812a07",
    "colab": {
     "base_uri": "https://localhost:8080/"
    },
    "outputId": "49a1ef0e-21bd-4c3c-a136-be68db7e9a0f"
   },
   "outputs": [
    {
     "output_type": "stream",
     "name": "stdout",
     "text": [
      "Akurasi KNN pada train set Minmax Scaler : 1.000\n",
      "Akurasi KNN pada test set Minmax Scaler  : 0.950\n"
     ]
    }
   ],
   "source": [
    "print(\"Akurasi KNN pada train set Minmax Scaler : {:.3f}\".format(KNN_mmscaled.score(x_train_mmscaled, y_train)))\n",
    "print(\"Akurasi KNN pada test set Minmax Scaler  : {:.3f}\".format(KNN_mmscaled.score(x_test_mmscaled, y_test)))\n"
   ]
  },
  {
   "cell_type": "code",
   "source": [
    "print(\"Akurasi SVM pada train set Minmax Scaler :  {:.3f}\".format(SVC_model_mmscaled.score(x_train_mmscaled, y_train)))\n",
    "print(\"Akurasi SVM pada test set Minmax Scaler  :  {:.3f}\".format(SVC_model_mmscaled.score(x_test_mmscaled, y_test)))"
   ],
   "metadata": {
    "colab": {
     "base_uri": "https://localhost:8080/"
    },
    "id": "n7TCVRZZHzZA",
    "outputId": "287e05b3-f24f-449f-9214-add96dc532b7"
   },
   "id": "n7TCVRZZHzZA",
   "execution_count": 256,
   "outputs": [
    {
     "output_type": "stream",
     "name": "stdout",
     "text": [
      "Akurasi SVM pada train set Minmax Scaler :  1.000\n",
      "Akurasi SVM pada test set Minmax Scaler  :  0.947\n"
     ]
    }
   ]
  },
  {
   "cell_type": "code",
   "source": [
    "print('Akurasi KNN pada train set Select Percentile : {:.3f} '.format(KNN_percentile.score(x_train_sp, y_train)))\n",
    "print('Akurasi KNN pada test set Select Percentile  : {:.3f}'.format(KNN_percentile.score(x_test_sp, y_test)))"
   ],
   "metadata": {
    "colab": {
     "base_uri": "https://localhost:8080/"
    },
    "id": "3Ghi7DdVH4so",
    "outputId": "28ed0a1f-5edb-4276-9350-4721f30194ac"
   },
   "id": "3Ghi7DdVH4so",
   "execution_count": 257,
   "outputs": [
    {
     "output_type": "stream",
     "name": "stdout",
     "text": [
      "Akurasi KNN pada train set Select Percentile : 1.000 \n",
      "Akurasi KNN pada test set Select Percentile  : 0.946\n"
     ]
    }
   ]
  },
  {
   "cell_type": "code",
   "source": [
    "print(\"Akurasi SVM pada train set Select Percentile :  {:.3f}\".format(SVC_model_percentile.score(X_train_sp, y_train)))\n",
    "print(\"Akurasi SVM pada test set Select Percentile :  {:.3f}\".format(SVC_model_percentile.score(X_test_sp, y_test)))"
   ],
   "metadata": {
    "colab": {
     "base_uri": "https://localhost:8080/"
    },
    "id": "j3h2cAitH582",
    "outputId": "fdefcf4a-c6e9-416b-d521-51019af132e9"
   },
   "id": "j3h2cAitH582",
   "execution_count": 258,
   "outputs": [
    {
     "output_type": "stream",
     "name": "stdout",
     "text": [
      "Akurasi SVM pada train set Select Percentile :  0.952\n",
      "Akurasi SVM pada test set Select Percentile :  0.950\n"
     ]
    }
   ]
  },
  {
   "cell_type": "markdown",
   "id": "d6f85f13",
   "metadata": {
    "id": "d6f85f13"
   },
   "source": [
    "## Kesimpulan\n",
    "\n",
    "Silahkan jawab pertanyaan berikut:\n",
    "\n",
    "1. Apakah ada pengaruh penskalaan data pada dataset terhadap performa model-model machine learning? \n",
    "\n",
    "2. Apa saja feature-feature yang penting untuk membedakan antara pasien yang rawan terkena stroke dengan yang sehat? \n",
    "\n",
    "3. Model apakah yang memiliki performa paling baik terhadap dataset? Apakah parameter setting yang paling optimal dari model tersebut?"
   ]
  },
  {
   "cell_type": "markdown",
   "id": "a1c82c65",
   "metadata": {
    "id": "a1c82c65"
   },
   "source": [
    "1. Pengaruh penskalaan data pada dataset terhadap performa model-model memiliki pengaruh signifikan terhadap machine learning, dikarenakan pengskalaan data menuju ke proses mengubah skala nilai dalam dataset sehingga nilai tersebut memiliki rentan sama.\n",
    "2. feature-feature penting untuk membedakan pasien rawan terkena stroke dengan yang sehat :\n",
    ">>age, gender, hypertension, work_type, heart_disease, Residence_type, bmi, avg_glucose_level, smoking_status\n",
    "3. Kinerja model pembelajaran mesin tidak menentukan model mana yang terbaik atau lebih baik dari yang lain. Hal ini karena kinerja model bergantung pada karakteristik data dan masalah yang akan dipecahkan. Namun dalam beberapa kasus, model KNN (K-Nearest Neighbor) memiliki beberapa keunggulan, yaitu:\n",
    "- Pada data yang tidak terstruktur, model KNN memiliki tingkat akurasi yang baik\n",
    "- Model KNN sederhana dan mudah dipahami, cocok untuk pemula pembelajaran mesin\n",
    "- KNN dapat digunakan untuk dataset yang besar karena tidak memerlukan waktu pelatihan yang lama\n",
    "- KNN dapat digunakan untuk masalah klasifikasi dan dapat dengan mudah diadaptasi untuk menangani data yang kompleks\n",
    "- KNN tidak memerlukan pengaturan parameter yang rumit\n",
    "\n"
   ]
  }
 ],
 "metadata": {
  "colab": {
   "provenance": []
  },
  "kernelspec": {
   "display_name": "Python 3 (ipykernel)",
   "language": "python",
   "name": "python3"
  },
  "language_info": {
   "codemirror_mode": {
    "name": "ipython",
    "version": 3
   },
   "file_extension": ".py",
   "mimetype": "text/x-python",
   "name": "python",
   "nbconvert_exporter": "python",
   "pygments_lexer": "ipython3",
   "version": "3.9.12"
  }
 },
 "nbformat": 4,
 "nbformat_minor": 5
}

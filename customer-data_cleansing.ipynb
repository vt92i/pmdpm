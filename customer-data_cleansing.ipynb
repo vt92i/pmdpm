{
 "cells": [
  {
   "cell_type": "code",
   "execution_count": 4,
   "metadata": {
    "collapsed": true
   },
   "outputs": [],
   "source": [
    "# Import necessary modules\n",
    "import numpy as np\n",
    "import pandas as pd"
   ]
  },
  {
   "cell_type": "code",
   "execution_count": 5,
   "outputs": [
    {
     "data": {
      "text/plain": "       ID  Gender Ever_Married  Age Graduated     Profession  Work_Experience  \\\n0  462809    Male           No   22        No     Healthcare              1.0   \n1  462643  Female          Yes   38       Yes       Engineer              NaN   \n2  466315  Female          Yes   67       Yes       Engineer              1.0   \n3  461735    Male          Yes   67       Yes         Lawyer              0.0   \n4  462669  Female          Yes   40       Yes  Entertainment              NaN   \n\n  Spending_Score  Family_Size  Var_1 Segmentation  \n0            Low          4.0  Cat_4            D  \n1        Average          3.0  Cat_4            A  \n2            Low          1.0  Cat_6            B  \n3           High          2.0  Cat_6            B  \n4           High          6.0  Cat_6            A  ",
      "text/html": "<div>\n<style scoped>\n    .dataframe tbody tr th:only-of-type {\n        vertical-align: middle;\n    }\n\n    .dataframe tbody tr th {\n        vertical-align: top;\n    }\n\n    .dataframe thead th {\n        text-align: right;\n    }\n</style>\n<table border=\"1\" class=\"dataframe\">\n  <thead>\n    <tr style=\"text-align: right;\">\n      <th></th>\n      <th>ID</th>\n      <th>Gender</th>\n      <th>Ever_Married</th>\n      <th>Age</th>\n      <th>Graduated</th>\n      <th>Profession</th>\n      <th>Work_Experience</th>\n      <th>Spending_Score</th>\n      <th>Family_Size</th>\n      <th>Var_1</th>\n      <th>Segmentation</th>\n    </tr>\n  </thead>\n  <tbody>\n    <tr>\n      <th>0</th>\n      <td>462809</td>\n      <td>Male</td>\n      <td>No</td>\n      <td>22</td>\n      <td>No</td>\n      <td>Healthcare</td>\n      <td>1.0</td>\n      <td>Low</td>\n      <td>4.0</td>\n      <td>Cat_4</td>\n      <td>D</td>\n    </tr>\n    <tr>\n      <th>1</th>\n      <td>462643</td>\n      <td>Female</td>\n      <td>Yes</td>\n      <td>38</td>\n      <td>Yes</td>\n      <td>Engineer</td>\n      <td>NaN</td>\n      <td>Average</td>\n      <td>3.0</td>\n      <td>Cat_4</td>\n      <td>A</td>\n    </tr>\n    <tr>\n      <th>2</th>\n      <td>466315</td>\n      <td>Female</td>\n      <td>Yes</td>\n      <td>67</td>\n      <td>Yes</td>\n      <td>Engineer</td>\n      <td>1.0</td>\n      <td>Low</td>\n      <td>1.0</td>\n      <td>Cat_6</td>\n      <td>B</td>\n    </tr>\n    <tr>\n      <th>3</th>\n      <td>461735</td>\n      <td>Male</td>\n      <td>Yes</td>\n      <td>67</td>\n      <td>Yes</td>\n      <td>Lawyer</td>\n      <td>0.0</td>\n      <td>High</td>\n      <td>2.0</td>\n      <td>Cat_6</td>\n      <td>B</td>\n    </tr>\n    <tr>\n      <th>4</th>\n      <td>462669</td>\n      <td>Female</td>\n      <td>Yes</td>\n      <td>40</td>\n      <td>Yes</td>\n      <td>Entertainment</td>\n      <td>NaN</td>\n      <td>High</td>\n      <td>6.0</td>\n      <td>Cat_6</td>\n      <td>A</td>\n    </tr>\n  </tbody>\n</table>\n</div>"
     },
     "execution_count": 5,
     "metadata": {},
     "output_type": "execute_result"
    }
   ],
   "source": [
    "# Import dataset\n",
    "customer_dataset = \"customer.csv\"\n",
    "df = pd.DataFrame(pd.read_csv(customer_dataset))\n",
    "\n",
    "df.head(5)"
   ],
   "metadata": {
    "collapsed": false
   }
  },
  {
   "cell_type": "code",
   "execution_count": 6,
   "outputs": [
    {
     "name": "stdout",
     "output_type": "stream",
     "text": [
      "ID                 False\n",
      "Gender             False\n",
      "Ever_Married        True\n",
      "Age                False\n",
      "Graduated           True\n",
      "Profession          True\n",
      "Work_Experience     True\n",
      "Spending_Score     False\n",
      "Family_Size         True\n",
      "Var_1               True\n",
      "Segmentation       False\n",
      "dtype: bool\n"
     ]
    }
   ],
   "source": [
    "# Data cleansing\n",
    "print(df.isnull().sum() > 0)"
   ],
   "metadata": {
    "collapsed": false
   }
  }
 ],
 "metadata": {
  "kernelspec": {
   "display_name": "Python 3",
   "language": "python",
   "name": "python3"
  },
  "language_info": {
   "codemirror_mode": {
    "name": "ipython",
    "version": 2
   },
   "file_extension": ".py",
   "mimetype": "text/x-python",
   "name": "python",
   "nbconvert_exporter": "python",
   "pygments_lexer": "ipython2",
   "version": "2.7.6"
  }
 },
 "nbformat": 4,
 "nbformat_minor": 0
}

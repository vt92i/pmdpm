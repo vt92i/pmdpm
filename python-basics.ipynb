{
 "cells": [
  {
   "cell_type": "code",
   "execution_count": 1,
   "outputs": [],
   "source": [
    "## List\n",
    "wordlist = [\"I\", \"love\", \"Machine Learning!\"]"
   ],
   "metadata": {
    "collapsed": false
   }
  },
  {
   "cell_type": "code",
   "execution_count": 2,
   "outputs": [],
   "source": [
    "sentence = \"\"\n",
    "for word in wordlist:\n",
    "    sentence += \" \" + str(word)"
   ],
   "metadata": {
    "collapsed": false
   }
  },
  {
   "cell_type": "code",
   "execution_count": 3,
   "outputs": [
    {
     "name": "stdout",
     "output_type": "stream",
     "text": [
      " I love Machine Learning!\n"
     ]
    }
   ],
   "source": [
    "print(sentence)"
   ],
   "metadata": {
    "collapsed": false
   }
  },
  {
   "cell_type": "code",
   "execution_count": 4,
   "outputs": [
    {
     "name": "stdout",
     "output_type": "stream",
     "text": [
      "Name : Vila\n",
      "Age : 21\n"
     ]
    }
   ],
   "source": [
    "## Dictionary\n",
    "student = {\n",
    "    \"name\": \"Vila\",\n",
    "    \"age\": 21\n",
    "}\n",
    "\n",
    "print(f\"Name : {student['name']}\")\n",
    "print(f\"Age : {student['age']}\")"
   ],
   "metadata": {
    "collapsed": false
   }
  },
  {
   "cell_type": "code",
   "execution_count": 5,
   "outputs": [
    {
     "name": "stdout",
     "output_type": "stream",
     "text": [
      "List of Zodiacs : ('Cancer', 'Pisces', 'Capricorn')\n"
     ]
    }
   ],
   "source": [
    "## Tuple\n",
    "zodiacs = (\"Cancer\", \"Pisces\", \"Capricorn\")\n",
    "print(f\"List of Zodiacs : {zodiacs}\")"
   ],
   "metadata": {
    "collapsed": false
   }
  },
  {
   "cell_type": "code",
   "execution_count": 6,
   "outputs": [
    {
     "name": "stdout",
     "output_type": "stream",
     "text": [
      "Less than 12\n"
     ]
    }
   ],
   "source": [
    "## If else statement\n",
    "n = 11\n",
    "if n > 12:\n",
    "    print(\"Greater than 12\")\n",
    "elif n < 12:\n",
    "    print(\"Less than 12\")\n",
    "else:\n",
    "    print(\"12\")"
   ],
   "metadata": {
    "collapsed": false
   }
  },
  {
   "cell_type": "code",
   "execution_count": 7,
   "outputs": [
    {
     "name": "stdout",
     "output_type": "stream",
     "text": [
      "1. Hello, cruel world!\n",
      "2. Hello, cruel world!\n",
      "3. Hello, cruel world!\n",
      "4. Hello, cruel world!\n",
      "5. Hello, cruel world!\n"
     ]
    }
   ],
   "source": [
    "## For loop\n",
    "for i in range(5):\n",
    "    print(f\"{i + 1}. Hello, cruel world!\")"
   ],
   "metadata": {
    "collapsed": false
   }
  },
  {
   "cell_type": "code",
   "execution_count": 8,
   "outputs": [
    {
     "name": "stdout",
     "output_type": "stream",
     "text": [
      "1. Goodbye, cruel world!\n",
      "2. Goodbye, cruel world!\n",
      "3. Goodbye, cruel world!\n",
      "4. Goodbye, cruel world!\n",
      "5. Goodbye, cruel world!\n",
      "6. Goodbye, cruel world!\n",
      "7. Goodbye, cruel world!\n",
      "8. Goodbye, cruel world!\n",
      "9. Goodbye, cruel world!\n",
      "10. Goodbye, cruel world!\n"
     ]
    }
   ],
   "source": [
    "# While loop\n",
    "n = 0\n",
    "while n < 10:\n",
    "    print(f\"{n + 1}. Goodbye, cruel world!\")\n",
    "    n += 1"
   ],
   "metadata": {
    "collapsed": false
   }
  },
  {
   "cell_type": "code",
   "execution_count": 9,
   "outputs": [],
   "source": [
    "# Function\n",
    "def print_hello():\n",
    "    print(\"Hello, world!\")\n",
    "\n",
    "\n",
    "def sum_numbers(*nums: int):\n",
    "    total = 0\n",
    "    for num in nums:\n",
    "        total += num\n",
    "    print(f\"Sum : {total}\")"
   ],
   "metadata": {
    "collapsed": false
   }
  },
  {
   "cell_type": "code",
   "execution_count": 10,
   "outputs": [
    {
     "name": "stdout",
     "output_type": "stream",
     "text": [
      "Hello, world!\n",
      "Sum : 6\n"
     ]
    }
   ],
   "source": [
    "print_hello()\n",
    "sum_numbers(1, 2, 3)"
   ],
   "metadata": {
    "collapsed": false
   }
  }
 ],
 "metadata": {
  "kernelspec": {
   "display_name": "Python 3",
   "language": "python",
   "name": "python3"
  },
  "language_info": {
   "codemirror_mode": {
    "name": "ipython",
    "version": 2
   },
   "file_extension": ".py",
   "mimetype": "text/x-python",
   "name": "python",
   "nbconvert_exporter": "python",
   "pygments_lexer": "ipython2",
   "version": "2.7.6"
  }
 },
 "nbformat": 4,
 "nbformat_minor": 0
}

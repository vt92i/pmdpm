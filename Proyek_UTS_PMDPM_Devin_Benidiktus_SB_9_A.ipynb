{
 "cells": [
  {
   "cell_type": "markdown",
   "id": "72a875f0",
   "metadata": {
    "id": "72a875f0"
   },
   "source": [
    "# Proyek UTS PMDPM\n",
    "\n",
    "<b>Harap jangan menghapus cell dan komentar yang diberikan!</b>\n",
    "\n",
    "Setiap cell markdown dan code akan berisi instruksi pengerjaan Proyek UTS PMDPM\n",
    "\n",
    "Dalam notebook ini Anda akan diminta untuk membuat sebuah proyek Pembelajaran Mesin menggunakan dataset yang sudah disediakan. Proyek akan terdiri dari proses inisialisasi, data loading, data cleansing, feature engineering, modelling dan evaluasi model. Pada bagian akhir silahkan berikan laporan singkat dari proyek yang sudah dikerjakan"
   ]
  },
  {
   "cell_type": "markdown",
   "id": "0TGYmj-miCjM",
   "metadata": {
    "id": "0TGYmj-miCjM"
   },
   "source": [
    "## Studi Kasus\n",
    "\n",
    "Dataset: Stroke Prediction Dataset (https://www.kaggle.com/datasets/fedesoriano/stroke-prediction-dataset) \n",
    "\n",
    "Deskripsi: Menurut WHO, stroke adalah penyebab kematian nomor 2 di dunia, sekitar 11% dari total kematian. Dataset ini digunakan untuk memprediksi apakah pasien memiliki kemungkinan terkena stroke berdasarkan input seperti gender, usia, penyakit bawaan, dan status merokok [3]. Setiap baris data menyediakan informasi relevan mengenai pasien. \n",
    "\n",
    "Informasi atribut: \n",
    "\n",
    "1) id: unique identifier \n",
    "\n",
    "2) gender: \"Male\", \"Female\" or \"Other\" \n",
    "\n",
    "3) age: age of the patient \n",
    "\n",
    "4) hypertension: 0 if the patient doesn't have hypertension, 1 if the patient has hypertension \n",
    "\n",
    "5) heart_disease: 0 if the patient doesn't have any heart diseases, 1 if the patient has a heart disease \n",
    "\n",
    "6) ever_married: \"No\" or \"Yes\" \n",
    "\n",
    "7) work_type: \"children\", \"Govt_jov\", \"Never_worked\", \"Private\" or \"Self-employed\" \n",
    "\n",
    "8) Residence_type: \"Rural\" or \"Urban\" \n",
    "\n",
    "9) avg_glucose_level: average glucose level in blood \n",
    "\n",
    "10) bmi: body mass index \n",
    "\n",
    "11) smoking_status: \"formerly smoked\", \"never smoked\", \"smokes\" or \"Unknown\"* \n",
    "\n",
    "12) stroke: 1 if the patient had a stroke or 0 if not \n",
    "\n",
    "*Note: \"Unknown\" in smoking_status means that the information is unavailable for this patient "
   ]
  },
  {
   "cell_type": "markdown",
   "id": "mJk9HuB_FIKC",
   "metadata": {
    "id": "mJk9HuB_FIKC"
   },
   "source": [
    "## Penjelasan Tugas\n",
    "\n",
    "Terapkan pemrosesan dataset dari loading, data cleansing (jika perlu), data scaling, feature selection, hingga evaluasi model secara sederhana menggunakan code yang sudah dipelajari dalam latihan-latihan dan tugas."
   ]
  },
  {
   "cell_type": "markdown",
   "source": [
    "### Inisialisasi\n",
    "\n",
    "Bagian berikut berisi import library yang dibutuhkan"
   ],
   "metadata": {
    "collapsed": false
   }
  },
  {
   "cell_type": "code",
   "execution_count": 1,
   "outputs": [],
   "source": [
    "# Import library yang dibutuhkan\n",
    "# import numpy as np\n",
    "import pandas as pd\n",
    "import matplotlib.pyplot as plt\n",
    "\n",
    "from sklearn.model_selection import train_test_split\n",
    "\n",
    "from sklearn.preprocessing import LabelEncoder\n",
    "from sklearn.preprocessing import StandardScaler\n",
    "\n",
    "from sklearn.feature_selection import SelectKBest\n",
    "from sklearn.feature_selection import RFE\n",
    "\n",
    "from sklearn.ensemble import RandomForestClassifier\n",
    "from sklearn.linear_model import LogisticRegression\n",
    "from sklearn.tree import DecisionTreeClassifier"
   ],
   "metadata": {
    "collapsed": false,
    "ExecuteTime": {
     "end_time": "2023-06-16T20:53:26.084836709Z",
     "start_time": "2023-06-16T20:53:24.838939074Z"
    }
   }
  },
  {
   "cell_type": "markdown",
   "id": "fdd03879",
   "metadata": {
    "id": "fdd03879"
   },
   "source": [
    "### Data Loading\n",
    "\n",
    "Bagian berikut berisi proses data loading (boleh dengan file upload atau dengan mount drive), jangan lupa tampilkan 20 baris data teratas!"
   ]
  },
  {
   "cell_type": "code",
   "execution_count": 2,
   "id": "1074df6e",
   "metadata": {
    "id": "1074df6e",
    "ExecuteTime": {
     "end_time": "2023-06-16T20:53:26.096899991Z",
     "start_time": "2023-06-16T20:53:26.087898347Z"
    }
   },
   "outputs": [],
   "source": [
    "# Loading data yang akan diolah\n",
    "FILENAME = \"healthcare-dataset-stroke-data.csv\"\n",
    "df = pd.read_csv(FILENAME)"
   ]
  },
  {
   "cell_type": "markdown",
   "id": "3f7db2dd",
   "metadata": {
    "id": "3f7db2dd"
   },
   "source": [
    "### Data Cleansing\n",
    "\n",
    "Bagian berikut berisi proses pembersihan data (jika diperlukan, minimal cek apakah ada data yang kosong atau duplikat)"
   ]
  },
  {
   "cell_type": "code",
   "execution_count": 3,
   "id": "b4b3c86c",
   "metadata": {
    "id": "b4b3c86c",
    "ExecuteTime": {
     "end_time": "2023-06-16T20:53:26.129510565Z",
     "start_time": "2023-06-16T20:53:26.098378187Z"
    }
   },
   "outputs": [
    {
     "name": "stdout",
     "output_type": "stream",
     "text": [
      "id                     0\n",
      "gender                 0\n",
      "age                    0\n",
      "hypertension           0\n",
      "heart_disease          0\n",
      "ever_married           0\n",
      "work_type              0\n",
      "Residence_type         0\n",
      "avg_glucose_level      0\n",
      "bmi                  201\n",
      "smoking_status         0\n",
      "stroke                 0\n",
      "dtype: int64\n"
     ]
    }
   ],
   "source": [
    "# Bersihkan dataset menggunakan metode yang sudah dipelajari\n",
    "print(df.isnull().sum())"
   ]
  },
  {
   "cell_type": "code",
   "execution_count": 4,
   "outputs": [],
   "source": [
    "# Mengisi nilai kosong pada kolom bmi dengan nilai rata-rata bmi\n",
    "df['bmi'].fillna(df['bmi'].mean(), inplace=True)"
   ],
   "metadata": {
    "collapsed": false,
    "ExecuteTime": {
     "end_time": "2023-06-16T20:53:26.137595220Z",
     "start_time": "2023-06-16T20:53:26.108639029Z"
    }
   }
  },
  {
   "cell_type": "code",
   "execution_count": 5,
   "outputs": [],
   "source": [
    "# Menghapus data duplikat\n",
    "df.drop_duplicates(inplace=True)"
   ],
   "metadata": {
    "collapsed": false,
    "ExecuteTime": {
     "end_time": "2023-06-16T20:53:26.137861696Z",
     "start_time": "2023-06-16T20:53:26.122068519Z"
    }
   }
  },
  {
   "cell_type": "code",
   "execution_count": 6,
   "outputs": [
    {
     "name": "stdout",
     "output_type": "stream",
     "text": [
      "id                   0\n",
      "gender               0\n",
      "age                  0\n",
      "hypertension         0\n",
      "heart_disease        0\n",
      "ever_married         0\n",
      "work_type            0\n",
      "Residence_type       0\n",
      "avg_glucose_level    0\n",
      "bmi                  0\n",
      "smoking_status       0\n",
      "stroke               0\n",
      "dtype: int64\n"
     ]
    }
   ],
   "source": [
    "# Cek kembali apakah masih ada data yang kosong\n",
    "print(df.isnull().sum())"
   ],
   "metadata": {
    "collapsed": false,
    "ExecuteTime": {
     "end_time": "2023-06-16T20:53:26.174718949Z",
     "start_time": "2023-06-16T20:53:26.173814192Z"
    }
   }
  },
  {
   "cell_type": "code",
   "execution_count": 7,
   "outputs": [
    {
     "data": {
      "text/plain": "       id  gender   age  hypertension  heart_disease ever_married  \\\n0    9046    Male  67.0             0              1          Yes   \n1   51676  Female  61.0             0              0          Yes   \n2   31112    Male  80.0             0              1          Yes   \n3   60182  Female  49.0             0              0          Yes   \n4    1665  Female  79.0             1              0          Yes   \n5   56669    Male  81.0             0              0          Yes   \n6   53882    Male  74.0             1              1          Yes   \n7   10434  Female  69.0             0              0           No   \n8   27419  Female  59.0             0              0          Yes   \n9   60491  Female  78.0             0              0          Yes   \n10  12109  Female  81.0             1              0          Yes   \n11  12095  Female  61.0             0              1          Yes   \n12  12175  Female  54.0             0              0          Yes   \n13   8213    Male  78.0             0              1          Yes   \n14   5317  Female  79.0             0              1          Yes   \n15  58202  Female  50.0             1              0          Yes   \n16  56112    Male  64.0             0              1          Yes   \n17  34120    Male  75.0             1              0          Yes   \n18  27458  Female  60.0             0              0           No   \n19  25226    Male  57.0             0              1           No   \n\n        work_type Residence_type  avg_glucose_level        bmi  \\\n0         Private          Urban             228.69  36.600000   \n1   Self-employed          Rural             202.21  28.893237   \n2         Private          Rural             105.92  32.500000   \n3         Private          Urban             171.23  34.400000   \n4   Self-employed          Rural             174.12  24.000000   \n5         Private          Urban             186.21  29.000000   \n6         Private          Rural              70.09  27.400000   \n7         Private          Urban              94.39  22.800000   \n8         Private          Rural              76.15  28.893237   \n9         Private          Urban              58.57  24.200000   \n10        Private          Rural              80.43  29.700000   \n11       Govt_job          Rural             120.46  36.800000   \n12        Private          Urban             104.51  27.300000   \n13        Private          Urban             219.84  28.893237   \n14        Private          Urban             214.09  28.200000   \n15  Self-employed          Rural             167.41  30.900000   \n16        Private          Urban             191.61  37.500000   \n17        Private          Urban             221.29  25.800000   \n18        Private          Urban              89.22  37.800000   \n19       Govt_job          Urban             217.08  28.893237   \n\n     smoking_status  stroke  \n0   formerly smoked       1  \n1      never smoked       1  \n2      never smoked       1  \n3            smokes       1  \n4      never smoked       1  \n5   formerly smoked       1  \n6      never smoked       1  \n7      never smoked       1  \n8           Unknown       1  \n9           Unknown       1  \n10     never smoked       1  \n11           smokes       1  \n12           smokes       1  \n13          Unknown       1  \n14     never smoked       1  \n15     never smoked       1  \n16           smokes       1  \n17           smokes       1  \n18     never smoked       1  \n19          Unknown       1  ",
      "text/html": "<div>\n<style scoped>\n    .dataframe tbody tr th:only-of-type {\n        vertical-align: middle;\n    }\n\n    .dataframe tbody tr th {\n        vertical-align: top;\n    }\n\n    .dataframe thead th {\n        text-align: right;\n    }\n</style>\n<table border=\"1\" class=\"dataframe\">\n  <thead>\n    <tr style=\"text-align: right;\">\n      <th></th>\n      <th>id</th>\n      <th>gender</th>\n      <th>age</th>\n      <th>hypertension</th>\n      <th>heart_disease</th>\n      <th>ever_married</th>\n      <th>work_type</th>\n      <th>Residence_type</th>\n      <th>avg_glucose_level</th>\n      <th>bmi</th>\n      <th>smoking_status</th>\n      <th>stroke</th>\n    </tr>\n  </thead>\n  <tbody>\n    <tr>\n      <th>0</th>\n      <td>9046</td>\n      <td>Male</td>\n      <td>67.0</td>\n      <td>0</td>\n      <td>1</td>\n      <td>Yes</td>\n      <td>Private</td>\n      <td>Urban</td>\n      <td>228.69</td>\n      <td>36.600000</td>\n      <td>formerly smoked</td>\n      <td>1</td>\n    </tr>\n    <tr>\n      <th>1</th>\n      <td>51676</td>\n      <td>Female</td>\n      <td>61.0</td>\n      <td>0</td>\n      <td>0</td>\n      <td>Yes</td>\n      <td>Self-employed</td>\n      <td>Rural</td>\n      <td>202.21</td>\n      <td>28.893237</td>\n      <td>never smoked</td>\n      <td>1</td>\n    </tr>\n    <tr>\n      <th>2</th>\n      <td>31112</td>\n      <td>Male</td>\n      <td>80.0</td>\n      <td>0</td>\n      <td>1</td>\n      <td>Yes</td>\n      <td>Private</td>\n      <td>Rural</td>\n      <td>105.92</td>\n      <td>32.500000</td>\n      <td>never smoked</td>\n      <td>1</td>\n    </tr>\n    <tr>\n      <th>3</th>\n      <td>60182</td>\n      <td>Female</td>\n      <td>49.0</td>\n      <td>0</td>\n      <td>0</td>\n      <td>Yes</td>\n      <td>Private</td>\n      <td>Urban</td>\n      <td>171.23</td>\n      <td>34.400000</td>\n      <td>smokes</td>\n      <td>1</td>\n    </tr>\n    <tr>\n      <th>4</th>\n      <td>1665</td>\n      <td>Female</td>\n      <td>79.0</td>\n      <td>1</td>\n      <td>0</td>\n      <td>Yes</td>\n      <td>Self-employed</td>\n      <td>Rural</td>\n      <td>174.12</td>\n      <td>24.000000</td>\n      <td>never smoked</td>\n      <td>1</td>\n    </tr>\n    <tr>\n      <th>5</th>\n      <td>56669</td>\n      <td>Male</td>\n      <td>81.0</td>\n      <td>0</td>\n      <td>0</td>\n      <td>Yes</td>\n      <td>Private</td>\n      <td>Urban</td>\n      <td>186.21</td>\n      <td>29.000000</td>\n      <td>formerly smoked</td>\n      <td>1</td>\n    </tr>\n    <tr>\n      <th>6</th>\n      <td>53882</td>\n      <td>Male</td>\n      <td>74.0</td>\n      <td>1</td>\n      <td>1</td>\n      <td>Yes</td>\n      <td>Private</td>\n      <td>Rural</td>\n      <td>70.09</td>\n      <td>27.400000</td>\n      <td>never smoked</td>\n      <td>1</td>\n    </tr>\n    <tr>\n      <th>7</th>\n      <td>10434</td>\n      <td>Female</td>\n      <td>69.0</td>\n      <td>0</td>\n      <td>0</td>\n      <td>No</td>\n      <td>Private</td>\n      <td>Urban</td>\n      <td>94.39</td>\n      <td>22.800000</td>\n      <td>never smoked</td>\n      <td>1</td>\n    </tr>\n    <tr>\n      <th>8</th>\n      <td>27419</td>\n      <td>Female</td>\n      <td>59.0</td>\n      <td>0</td>\n      <td>0</td>\n      <td>Yes</td>\n      <td>Private</td>\n      <td>Rural</td>\n      <td>76.15</td>\n      <td>28.893237</td>\n      <td>Unknown</td>\n      <td>1</td>\n    </tr>\n    <tr>\n      <th>9</th>\n      <td>60491</td>\n      <td>Female</td>\n      <td>78.0</td>\n      <td>0</td>\n      <td>0</td>\n      <td>Yes</td>\n      <td>Private</td>\n      <td>Urban</td>\n      <td>58.57</td>\n      <td>24.200000</td>\n      <td>Unknown</td>\n      <td>1</td>\n    </tr>\n    <tr>\n      <th>10</th>\n      <td>12109</td>\n      <td>Female</td>\n      <td>81.0</td>\n      <td>1</td>\n      <td>0</td>\n      <td>Yes</td>\n      <td>Private</td>\n      <td>Rural</td>\n      <td>80.43</td>\n      <td>29.700000</td>\n      <td>never smoked</td>\n      <td>1</td>\n    </tr>\n    <tr>\n      <th>11</th>\n      <td>12095</td>\n      <td>Female</td>\n      <td>61.0</td>\n      <td>0</td>\n      <td>1</td>\n      <td>Yes</td>\n      <td>Govt_job</td>\n      <td>Rural</td>\n      <td>120.46</td>\n      <td>36.800000</td>\n      <td>smokes</td>\n      <td>1</td>\n    </tr>\n    <tr>\n      <th>12</th>\n      <td>12175</td>\n      <td>Female</td>\n      <td>54.0</td>\n      <td>0</td>\n      <td>0</td>\n      <td>Yes</td>\n      <td>Private</td>\n      <td>Urban</td>\n      <td>104.51</td>\n      <td>27.300000</td>\n      <td>smokes</td>\n      <td>1</td>\n    </tr>\n    <tr>\n      <th>13</th>\n      <td>8213</td>\n      <td>Male</td>\n      <td>78.0</td>\n      <td>0</td>\n      <td>1</td>\n      <td>Yes</td>\n      <td>Private</td>\n      <td>Urban</td>\n      <td>219.84</td>\n      <td>28.893237</td>\n      <td>Unknown</td>\n      <td>1</td>\n    </tr>\n    <tr>\n      <th>14</th>\n      <td>5317</td>\n      <td>Female</td>\n      <td>79.0</td>\n      <td>0</td>\n      <td>1</td>\n      <td>Yes</td>\n      <td>Private</td>\n      <td>Urban</td>\n      <td>214.09</td>\n      <td>28.200000</td>\n      <td>never smoked</td>\n      <td>1</td>\n    </tr>\n    <tr>\n      <th>15</th>\n      <td>58202</td>\n      <td>Female</td>\n      <td>50.0</td>\n      <td>1</td>\n      <td>0</td>\n      <td>Yes</td>\n      <td>Self-employed</td>\n      <td>Rural</td>\n      <td>167.41</td>\n      <td>30.900000</td>\n      <td>never smoked</td>\n      <td>1</td>\n    </tr>\n    <tr>\n      <th>16</th>\n      <td>56112</td>\n      <td>Male</td>\n      <td>64.0</td>\n      <td>0</td>\n      <td>1</td>\n      <td>Yes</td>\n      <td>Private</td>\n      <td>Urban</td>\n      <td>191.61</td>\n      <td>37.500000</td>\n      <td>smokes</td>\n      <td>1</td>\n    </tr>\n    <tr>\n      <th>17</th>\n      <td>34120</td>\n      <td>Male</td>\n      <td>75.0</td>\n      <td>1</td>\n      <td>0</td>\n      <td>Yes</td>\n      <td>Private</td>\n      <td>Urban</td>\n      <td>221.29</td>\n      <td>25.800000</td>\n      <td>smokes</td>\n      <td>1</td>\n    </tr>\n    <tr>\n      <th>18</th>\n      <td>27458</td>\n      <td>Female</td>\n      <td>60.0</td>\n      <td>0</td>\n      <td>0</td>\n      <td>No</td>\n      <td>Private</td>\n      <td>Urban</td>\n      <td>89.22</td>\n      <td>37.800000</td>\n      <td>never smoked</td>\n      <td>1</td>\n    </tr>\n    <tr>\n      <th>19</th>\n      <td>25226</td>\n      <td>Male</td>\n      <td>57.0</td>\n      <td>0</td>\n      <td>1</td>\n      <td>No</td>\n      <td>Govt_job</td>\n      <td>Urban</td>\n      <td>217.08</td>\n      <td>28.893237</td>\n      <td>Unknown</td>\n      <td>1</td>\n    </tr>\n  </tbody>\n</table>\n</div>"
     },
     "execution_count": 7,
     "metadata": {},
     "output_type": "execute_result"
    }
   ],
   "source": [
    "# Menampilkan 20 baris data teratas\n",
    "df.head(20)"
   ],
   "metadata": {
    "collapsed": false,
    "ExecuteTime": {
     "end_time": "2023-06-16T20:53:26.176665879Z",
     "start_time": "2023-06-16T20:53:26.174496895Z"
    }
   }
  },
  {
   "cell_type": "code",
   "execution_count": 8,
   "outputs": [
    {
     "name": "stdout",
     "output_type": "stream",
     "text": [
      "id                     int64\n",
      "gender                object\n",
      "age                  float64\n",
      "hypertension           int64\n",
      "heart_disease          int64\n",
      "ever_married          object\n",
      "work_type             object\n",
      "Residence_type        object\n",
      "avg_glucose_level    float64\n",
      "bmi                  float64\n",
      "smoking_status        object\n",
      "stroke                 int64\n",
      "dtype: object\n"
     ]
    }
   ],
   "source": [
    "# Print data types\n",
    "print(df.dtypes)"
   ],
   "metadata": {
    "collapsed": false,
    "ExecuteTime": {
     "end_time": "2023-06-16T20:53:26.248155475Z",
     "start_time": "2023-06-16T20:53:26.176384124Z"
    }
   }
  },
  {
   "cell_type": "code",
   "execution_count": 9,
   "outputs": [
    {
     "data": {
      "text/plain": "                 id          age  hypertension  heart_disease  \\\ncount   5110.000000  5110.000000   5110.000000    5110.000000   \nmean   36517.829354    43.226614      0.097456       0.054012   \nstd    21161.721625    22.612647      0.296607       0.226063   \nmin       67.000000     0.080000      0.000000       0.000000   \n25%    17741.250000    25.000000      0.000000       0.000000   \n50%    36932.000000    45.000000      0.000000       0.000000   \n75%    54682.000000    61.000000      0.000000       0.000000   \nmax    72940.000000    82.000000      1.000000       1.000000   \n\n       avg_glucose_level          bmi       stroke  \ncount        5110.000000  5110.000000  5110.000000  \nmean          106.147677    28.893237     0.048728  \nstd            45.283560     7.698018     0.215320  \nmin            55.120000    10.300000     0.000000  \n25%            77.245000    23.800000     0.000000  \n50%            91.885000    28.400000     0.000000  \n75%           114.090000    32.800000     0.000000  \nmax           271.740000    97.600000     1.000000  ",
      "text/html": "<div>\n<style scoped>\n    .dataframe tbody tr th:only-of-type {\n        vertical-align: middle;\n    }\n\n    .dataframe tbody tr th {\n        vertical-align: top;\n    }\n\n    .dataframe thead th {\n        text-align: right;\n    }\n</style>\n<table border=\"1\" class=\"dataframe\">\n  <thead>\n    <tr style=\"text-align: right;\">\n      <th></th>\n      <th>id</th>\n      <th>age</th>\n      <th>hypertension</th>\n      <th>heart_disease</th>\n      <th>avg_glucose_level</th>\n      <th>bmi</th>\n      <th>stroke</th>\n    </tr>\n  </thead>\n  <tbody>\n    <tr>\n      <th>count</th>\n      <td>5110.000000</td>\n      <td>5110.000000</td>\n      <td>5110.000000</td>\n      <td>5110.000000</td>\n      <td>5110.000000</td>\n      <td>5110.000000</td>\n      <td>5110.000000</td>\n    </tr>\n    <tr>\n      <th>mean</th>\n      <td>36517.829354</td>\n      <td>43.226614</td>\n      <td>0.097456</td>\n      <td>0.054012</td>\n      <td>106.147677</td>\n      <td>28.893237</td>\n      <td>0.048728</td>\n    </tr>\n    <tr>\n      <th>std</th>\n      <td>21161.721625</td>\n      <td>22.612647</td>\n      <td>0.296607</td>\n      <td>0.226063</td>\n      <td>45.283560</td>\n      <td>7.698018</td>\n      <td>0.215320</td>\n    </tr>\n    <tr>\n      <th>min</th>\n      <td>67.000000</td>\n      <td>0.080000</td>\n      <td>0.000000</td>\n      <td>0.000000</td>\n      <td>55.120000</td>\n      <td>10.300000</td>\n      <td>0.000000</td>\n    </tr>\n    <tr>\n      <th>25%</th>\n      <td>17741.250000</td>\n      <td>25.000000</td>\n      <td>0.000000</td>\n      <td>0.000000</td>\n      <td>77.245000</td>\n      <td>23.800000</td>\n      <td>0.000000</td>\n    </tr>\n    <tr>\n      <th>50%</th>\n      <td>36932.000000</td>\n      <td>45.000000</td>\n      <td>0.000000</td>\n      <td>0.000000</td>\n      <td>91.885000</td>\n      <td>28.400000</td>\n      <td>0.000000</td>\n    </tr>\n    <tr>\n      <th>75%</th>\n      <td>54682.000000</td>\n      <td>61.000000</td>\n      <td>0.000000</td>\n      <td>0.000000</td>\n      <td>114.090000</td>\n      <td>32.800000</td>\n      <td>0.000000</td>\n    </tr>\n    <tr>\n      <th>max</th>\n      <td>72940.000000</td>\n      <td>82.000000</td>\n      <td>1.000000</td>\n      <td>1.000000</td>\n      <td>271.740000</td>\n      <td>97.600000</td>\n      <td>1.000000</td>\n    </tr>\n  </tbody>\n</table>\n</div>"
     },
     "execution_count": 9,
     "metadata": {},
     "output_type": "execute_result"
    }
   ],
   "source": [
    "# Deskripsi data\n",
    "df.describe()"
   ],
   "metadata": {
    "collapsed": false,
    "ExecuteTime": {
     "end_time": "2023-06-16T20:53:26.248444724Z",
     "start_time": "2023-06-16T20:53:26.215808953Z"
    }
   }
  },
  {
   "cell_type": "markdown",
   "id": "9ba96a3b",
   "metadata": {
    "id": "9ba96a3b"
   },
   "source": [
    "### Data Visualization\n",
    "\n",
    "Dalam proses visualisasi data, silahkan visualisasikan feature menggunakan plot yang sesuai agar mendapat insight dari data dengan menjawab pertanyaan-pertanyaan berikut:\n",
    "\n",
    "    untuk sub A:\n",
    "    1. Bagaimana komposisi jumlah pasien laki-laki dan perempuan?\n",
    "    2. Bagaimana sebaran usia antara kelompok pasien yang menderita hipertensi dan yang sehat?\n",
    "    3. Bagaimana perbandingan sebaran nilai rerata glukosa dalam darah antara pasien yang stroke dengan yang sehat?\n",
    "\n",
    "    untuk sub B:\n",
    "    1. Bagaimana komposisi jumlah pasien yang tinggal di urban dan rural?\n",
    "    2. Bagaimana sebaran nilai BMI antara kelompok pasien yang menderita penyakit jantung dan yang sehat?\n",
    "    3. Bagaimana perbandingan jumlah pasien yang menderita stroke dengan yang sehat berdasarkan status merokok?"
   ]
  },
  {
   "cell_type": "code",
   "execution_count": 10,
   "id": "26979625",
   "metadata": {
    "id": "26979625",
    "ExecuteTime": {
     "end_time": "2023-06-16T20:53:26.397462055Z",
     "start_time": "2023-06-16T20:53:26.216084236Z"
    }
   },
   "outputs": [
    {
     "data": {
      "text/plain": "<Figure size 640x480 with 1 Axes>",
      "image/png": "[encoded data removed]"
     },
     "metadata": {},
     "output_type": "display_data"
    }
   ],
   "source": [
    "## Visualisasi fitur menggunakan metode yang sudah dipelajari\n",
    "# Plotting komposisi jumlah pasien laki-laki (male) dan perempuan (female) kecuali data yang tidak diketahui gendernya\n",
    "df[df[\"gender\"].isin([\"Male\", \"Female\"])][\"gender\"].value_counts().plot(kind=\"bar\",\n",
    "                                                                        title=\"Komposisi jumlah pasien laki-laki dan perempuan\")\n",
    "plt.show()"
   ]
  },
  {
   "cell_type": "code",
   "execution_count": 11,
   "outputs": [
    {
     "data": {
      "text/plain": "<Figure size 640x480 with 1 Axes>",
      "image/png": "[encoded data removed]"
     },
     "metadata": {},
     "output_type": "display_data"
    }
   ],
   "source": [
    "# Plotting sebaran usia antara kelompok pasien yang menderita hipertensi (hypertension) dan yang sehat\n",
    "df.filter(items=[\"age\", \"hypertension\"], axis=1).plot(kind=\"scatter\", x=\"age\", y=\"hypertension\", c=\"cyan\",\n",
    "                                                      title=\"Sebaran usia antara kelompok pasien yang menderita hipertensi dan yang sehat\")\n",
    "plt.show()"
   ],
   "metadata": {
    "collapsed": false,
    "ExecuteTime": {
     "end_time": "2023-06-16T20:53:26.536916264Z",
     "start_time": "2023-06-16T20:53:26.385954869Z"
    }
   }
  },
  {
   "cell_type": "code",
   "execution_count": 12,
   "outputs": [
    {
     "data": {
      "text/plain": "<Figure size 640x480 with 1 Axes>",
      "image/png": "[encoded data removed]"
     },
     "metadata": {},
     "output_type": "display_data"
    }
   ],
   "source": [
    "# Plotting perbandingan sebaran nilai rerata glukosa dalam darah antara pasien yang stroke dengan yang sehat\n",
    "df.filter(items=[\"avg_glucose_level\", \"stroke\"], axis=1).plot(kind=\"scatter\", x=\"avg_glucose_level\", y=\"stroke\",\n",
    "                                                              c=\"red\",\n",
    "                                                              title=\"Perbandingan sebaran nilai rerata glukosa dalam darah antara pasien yang stroke dengan yang sehat\")\n",
    "plt.show()\n"
   ],
   "metadata": {
    "collapsed": false,
    "ExecuteTime": {
     "end_time": "2023-06-16T20:53:26.673392241Z",
     "start_time": "2023-06-16T20:53:26.521825577Z"
    }
   }
  },
  {
   "cell_type": "markdown",
   "id": "85cce0d7",
   "metadata": {
    "id": "85cce0d7"
   },
   "source": [
    "### Deskripsi Data Visualization\n",
    "Berikan keterangan atau deskripsi singkat mengenai informasi yang diperoleh dari visualisasi data tersebut. Jawablah pertanyaan di atas pada cell markdown ini!\n",
    "1. Komposisi jumlah pasien laki-laki dan perempuan\n",
    "    - Jumlah pasien laki-laki lebih sedikit dibandingkan dengan jumlah pasien perempuan\n",
    "2. Sebaran usia antara kelompok pasien yang menderita hipertensi dan yang sehat\n",
    "    - Sebaran usia antara kelompok pasien yang menderita hipertensi dan yang sehat tidak terlalu jauh\n",
    "    - Usia 18 kebawah tidak terlalu banyak yang menderita hipertensi\n",
    "3. Perbandingan sebaran nilai rerata glukosa dalam darah antara pasien yang stroke dengan yang sehat\n",
    "    - Sebaran nilai rerata glukosa dalam darah antara pasien yang stroke dengan yang sehat tidak terlalu jauh\n",
    "    - Nilai rerata glukosa dalam darah 150 kebawah tidak terlalu banyak yang menderita stroke\n",
    "    - Nilai rerata glukosa dalam darah 150 keatas terdapat lebih banyak pasien yang menderita stroke dibandingkan dengan pasien yang sehat"
   ]
  },
  {
   "cell_type": "markdown",
   "id": "Gy-ujRobNBea",
   "metadata": {
    "id": "Gy-ujRobNBea"
   },
   "source": [
    "### Data Preparation and Scaling\n",
    "\n",
    "Lakukan train-test split dan data scaling dengan ketentuan:  \n",
    "\n",
    "    Untuk sub A: random_state train_test_split gunakan 2 digit terakhir NPM terbesar di sub kelompok, gunakan StandardScaler  \n",
    "\n",
    "    Untuk sub B: random_state train_test_split gunakan 2 digit terakhir NPM terkecil di sub kelompok,gunakan MinMaxScaler"
   ]
  },
  {
   "cell_type": "code",
   "execution_count": 13,
   "outputs": [
    {
     "name": "stdout",
     "output_type": "stream",
     "text": [
      "gender               int64\n",
      "age                  int64\n",
      "hypertension         int64\n",
      "heart_disease        int64\n",
      "ever_married         int64\n",
      "work_type            int64\n",
      "Residence_type       int64\n",
      "avg_glucose_level    int64\n",
      "bmi                  int64\n",
      "smoking_status       int64\n",
      "stroke               int64\n",
      "dtype: object\n"
     ]
    }
   ],
   "source": [
    "# Label Encoder\n",
    "df.drop(\"id\", axis=1, inplace=True)\n",
    "\n",
    "df = df.apply(LabelEncoder().fit_transform)\n",
    "print(df.dtypes)"
   ],
   "metadata": {
    "collapsed": false,
    "ExecuteTime": {
     "end_time": "2023-06-16T20:53:26.673697119Z",
     "start_time": "2023-06-16T20:53:26.652431228Z"
    }
   }
  },
  {
   "cell_type": "code",
   "execution_count": 14,
   "outputs": [],
   "source": [
    "# Train test split\n",
    "X = df.drop(columns=[\"stroke\"])\n",
    "y = df[\"stroke\"]\n",
    "\n",
    "X_train, X_test, y_train, y_test = train_test_split(X, y, test_size=0.3, random_state=85)"
   ],
   "metadata": {
    "collapsed": false,
    "ExecuteTime": {
     "end_time": "2023-06-16T20:53:26.673768793Z",
     "start_time": "2023-06-16T20:53:26.653155859Z"
    }
   }
  },
  {
   "cell_type": "code",
   "execution_count": 15,
   "outputs": [
    {
     "name": "stdout",
     "output_type": "stream",
     "text": [
      "Mean before scaling (test):\n",
      " gender                  0.412264\n",
      "age                    64.461840\n",
      "hypertension            0.105675\n",
      "heart_disease           0.054142\n",
      "ever_married            0.665362\n",
      "work_type               2.160470\n",
      "Residence_type          0.523810\n",
      "avg_glucose_level    1916.592955\n",
      "bmi                   163.149380\n",
      "smoking_status          1.375734\n",
      "dtype: float64\n",
      "Mean after scaling (test):\n",
      " [-0.00586268  0.02811049  0.04024761  0.00082493  0.02758864 -0.00945558\n",
      "  0.04510312  0.04337415  0.03081831 -0.0015479 ]\n",
      "Standard deviation before scaling (train):\n",
      " gender                  0.492817\n",
      "age                    23.155613\n",
      "hypertension            0.291777\n",
      "heart_disease           0.225962\n",
      "ever_married            0.476332\n",
      "work_type               1.094096\n",
      "Residence_type          0.500068\n",
      "avg_glucose_level    1099.327064\n",
      "bmi                    73.790690\n",
      "smoking_status          1.083806\n",
      "dtype: float64\n",
      "Standard deviation after scaling (train):\n",
      " [1. 1. 1. 1. 1. 1. 1. 1. 1. 1.]\n"
     ]
    }
   ],
   "source": [
    "# Standard Scaler\n",
    "std_scaler = StandardScaler()\n",
    "X_train_stdscaled = std_scaler.fit_transform(X_train)\n",
    "X_test_stdscaled = std_scaler.transform(X_test)\n",
    "\n",
    "print(\"Mean before scaling (test):\\n {}\".format(X_test.mean(axis=0)))\n",
    "print(\"Mean after scaling (test):\\n {}\".format(X_test_stdscaled.mean(axis=0)))\n",
    "print(\"Standard deviation before scaling (train):\\n {}\".format(X_train.std(axis=0)))\n",
    "print(\"Standard deviation after scaling (train):\\n {}\".format(X_train_stdscaled.std(axis=0)))"
   ],
   "metadata": {
    "collapsed": false,
    "ExecuteTime": {
     "end_time": "2023-06-16T20:53:26.673849694Z",
     "start_time": "2023-06-16T20:53:26.653516712Z"
    }
   }
  },
  {
   "cell_type": "markdown",
   "id": "72fb8fbb",
   "metadata": {
    "id": "72fb8fbb"
   },
   "source": [
    "### Feature Selection\n",
    "\n",
    "Melakukan feature selection menggunakan metode statistik univariat dan SelectFromModel untuk dibandingkan. Untuk jumlah feature, silahkan bereksperimen untuk mendapatkan jumlah performa model terbaik.\n",
    "\n",
    "    Untuk sub A: gunakan SelectKBest dan RFE dengan ketentuan:\n",
    "    jumlah feature minimal 5 dan model menggunakan RandomForestClassifier(n_estimators=100, random_state=dua digit terakhir NPM terkecil dalam sub kelompok).\n",
    "    Terapkan SelectKBest dan RFE pada dataset yang belum diubah dan sudah diubah dengan StandardScaler. \n",
    "\n",
    "    Untuk sub B: gunakan SelectPercentile dan SelectFromModel dengan ketentuan:\n",
    "    persentil minimal 30% dan model menggunakan RandomForestClassifier(n_estimators=200, random_state=dua digit terakhir NPM terbesar dalam sub kelompok).\n",
    "    Terapkan SelectPercentile dan SelectFromModel pada dataset yang belum diubah dan sudah diubah dengan MinMaxScaler."
   ]
  },
  {
   "cell_type": "code",
   "execution_count": 16,
   "id": "a43d9549",
   "metadata": {
    "id": "a43d9549",
    "ExecuteTime": {
     "end_time": "2023-06-16T20:53:26.851134019Z",
     "start_time": "2023-06-16T20:53:26.659861823Z"
    }
   },
   "outputs": [
    {
     "name": "stdout",
     "output_type": "stream",
     "text": [
      "X_train.shape: (3577, 10)\n",
      "X_train_skb_noscaled.shape: (3577, 7)\n",
      "Selected features: Index(['age', 'hypertension', 'heart_disease', 'ever_married', 'work_type',\n",
      "       'avg_glucose_level', 'bmi'],\n",
      "      dtype='object')\n"
     ]
    },
    {
     "data": {
      "text/plain": "<Figure size 1600x200 with 1 Axes>",
      "image/png": "[encoded data removed]"
     },
     "metadata": {},
     "output_type": "display_data"
    }
   ],
   "source": [
    "## Lakukan rekayasa fitur sesuai yang dibutuhkan\n",
    "# SelectKBest (No-Scaling)\n",
    "skb = SelectKBest(k=7)\n",
    "skb.fit(X_train, y_train)\n",
    "\n",
    "X_train_skb_noscaled = skb.transform(X_train)\n",
    "X_test_skb_noscaled = skb.transform(X_test)\n",
    "\n",
    "print(\"X_train.shape: {}\".format(X_train.shape))\n",
    "print(\"X_train_skb_noscaled.shape: {}\".format(X_train_skb_noscaled.shape))\n",
    "\n",
    "mask = skb.get_support()\n",
    "print(\"Selected features: {}\".format(X.columns[mask]))\n",
    "\n",
    "plt.matshow(mask.reshape(1, -1), cmap='gray_r')\n",
    "plt.xlabel(\"Feature Index\")\n",
    "plt.yticks([0])\n",
    "plt.show()"
   ]
  },
  {
   "cell_type": "code",
   "execution_count": 17,
   "outputs": [
    {
     "name": "stdout",
     "output_type": "stream",
     "text": [
      "X_train.shape: (3577, 10)\n",
      "X_train_skb_stdscaled.shape: (3577, 7)\n",
      "Selected features: Index(['age', 'hypertension', 'heart_disease', 'ever_married', 'work_type',\n",
      "       'avg_glucose_level', 'bmi'],\n",
      "      dtype='object')\n"
     ]
    },
    {
     "data": {
      "text/plain": "<Figure size 1600x200 with 1 Axes>",
      "image/png": "[encoded data removed]"
     },
     "metadata": {},
     "output_type": "display_data"
    }
   ],
   "source": [
    "# SelectKBest (Standard Scaler)\n",
    "skb = SelectKBest(k=7)\n",
    "skb.fit(X_train_stdscaled, y_train)\n",
    "\n",
    "X_train_skb_stdscaled = skb.transform(X_train_stdscaled)\n",
    "X_test_skb_stdscaled = skb.transform(X_test_stdscaled)\n",
    "\n",
    "print(\"X_train.shape: {}\".format(X_train_stdscaled.shape))\n",
    "print(\"X_train_skb_stdscaled.shape: {}\".format(X_train_skb_stdscaled.shape))\n",
    "\n",
    "mask = skb.get_support()\n",
    "print(\"Selected features: {}\".format(X.columns[mask]))\n",
    "\n",
    "plt.matshow(mask.reshape(1, -1), cmap='gray_r')\n",
    "plt.xlabel(\"Feature Index\")\n",
    "plt.yticks([0])\n",
    "plt.show()"
   ],
   "metadata": {
    "collapsed": false,
    "ExecuteTime": {
     "end_time": "2023-06-16T20:53:26.958929820Z",
     "start_time": "2023-06-16T20:53:26.823733370Z"
    }
   }
  },
  {
   "cell_type": "code",
   "execution_count": 18,
   "outputs": [
    {
     "name": "stdout",
     "output_type": "stream",
     "text": [
      "X_train.shape: (3577, 10)\n",
      "X_train_rfe_noscaled.shape: (3577, 7)\n",
      "Selected features: Index(['age', 'heart_disease', 'work_type', 'Residence_type',\n",
      "       'avg_glucose_level', 'bmi', 'smoking_status'],\n",
      "      dtype='object')\n"
     ]
    },
    {
     "data": {
      "text/plain": "<Figure size 1600x200 with 1 Axes>",
      "image/png": "[encoded data removed]"
     },
     "metadata": {},
     "output_type": "display_data"
    }
   ],
   "source": [
    "# RFE (No-Scaling)\n",
    "rfe = RFE(RandomForestClassifier(n_estimators=100, random_state=53), n_features_to_select=7)\n",
    "rfe.fit(X_train, y_train)\n",
    "\n",
    "X_train_rfe_noscaled = rfe.transform(X_train)\n",
    "X_test_rfe_noscaled = rfe.transform(X_test)\n",
    "\n",
    "print(\"X_train.shape: {}\".format(X_train.shape))\n",
    "print(\"X_train_rfe_noscaled.shape: {}\".format(X_train_rfe_noscaled.shape))\n",
    "\n",
    "mask = rfe.get_support()\n",
    "print(\"Selected features: {}\".format(X.columns[mask]))\n",
    "\n",
    "plt.matshow(mask.reshape(1, -1), cmap='gray_r')\n",
    "plt.xlabel(\"Feature Index\")\n",
    "plt.yticks([0])\n",
    "plt.show()"
   ],
   "metadata": {
    "collapsed": false,
    "ExecuteTime": {
     "end_time": "2023-06-16T20:53:28.020990118Z",
     "start_time": "2023-06-16T20:53:26.945752751Z"
    }
   }
  },
  {
   "cell_type": "code",
   "execution_count": 19,
   "outputs": [
    {
     "name": "stdout",
     "output_type": "stream",
     "text": [
      "X_train.shape: (3577, 10)\n",
      "X_train_rfe_stdscaled.shape: (3577, 7)\n",
      "Selected features: Index(['age', 'heart_disease', 'work_type', 'Residence_type',\n",
      "       'avg_glucose_level', 'bmi', 'smoking_status'],\n",
      "      dtype='object')\n"
     ]
    },
    {
     "data": {
      "text/plain": "<Figure size 1600x200 with 1 Axes>",
      "image/png": "[encoded data removed]"
     },
     "metadata": {},
     "output_type": "display_data"
    }
   ],
   "source": [
    "# RFE (Standard Scaler)\n",
    "rfe = RFE(RandomForestClassifier(n_estimators=100, random_state=53), n_features_to_select=7)\n",
    "rfe.fit(X_train_stdscaled, y_train)\n",
    "\n",
    "X_train_rfe_stdscaled = rfe.transform(X_train_stdscaled)\n",
    "X_test_rfe_stdscaled = rfe.transform(X_test_stdscaled)\n",
    "\n",
    "print(\"X_train.shape: {}\".format(X_train_stdscaled.shape))\n",
    "print(\"X_train_rfe_stdscaled.shape: {}\".format(X_train_rfe_stdscaled.shape))\n",
    "\n",
    "mask = rfe.get_support()\n",
    "print(\"Selected features: {}\".format(X.columns[mask]))\n",
    "\n",
    "plt.matshow(mask.reshape(1, -1), cmap='gray_r')\n",
    "plt.xlabel(\"Feature Index\")\n",
    "plt.yticks([0])\n",
    "plt.show()"
   ],
   "metadata": {
    "collapsed": false,
    "ExecuteTime": {
     "end_time": "2023-06-16T20:53:29.026417852Z",
     "start_time": "2023-06-16T20:53:28.025511499Z"
    }
   }
  },
  {
   "cell_type": "markdown",
   "id": "13792201",
   "metadata": {
    "id": "13792201"
   },
   "source": [
    "### Modelling\n",
    "\n",
    "Menggunakan 2 algoritme pembelajaran mesin untuk klasifikasi. Eksplorasi pengaturan parameter yang ada pada algoritme yang akan Anda gunakan, tidak terbatas pada 1-2 parameter saja supaya optimal (selain random_state). Silahkan bereksperimen untuk parameter seperti n_estimators, max_depth, dll. agar mendapat akurasi terbaik.\n",
    "\n",
    "Ketentuan:\n",
    "\n",
    "    Sub A:\n",
    "    1. DecisionTreeClassifier(random_state= dua digit terakhir NPM terbesar dalam sub kelompok, max_depth=bebas,criterion='entropy')\n",
    "    2. LogisticRegression(C=bebas, max_iter=10000, class_weight='balanced')`\n",
    "\n",
    "    Sub B:\n",
    "    1. K-Nearest Neighbors(n_neighbors=bebas, weights='distance')\n",
    "    2. LinearSVC(C=bebas, class_weight='balanced')\n",
    "\n",
    "Total ada 6 model yang harus diuji dengan rincian:\n",
    "\n",
    "<table>\n",
    "<thead>\n",
    "  <tr>\n",
    "    <th>Sub kelompok</th>\n",
    "    <th>Scaler</th>\n",
    "    <th>Feature Selection</th>\n",
    "    <th>Model</th>\n",
    "    <th>Kombinasi Pengujian Training Set dan Test Set</th>\n",
    "  </tr>\n",
    "</thead>\n",
    "<tbody>\n",
    "  <tr>\n",
    "    <td>A</td>\n",
    "    <td>StandardScaler</td>\n",
    "    <td>SelectKBest</td>\n",
    "    <td>Decision Tree</td>\n",
    "    <td>StandardScaler+DecisionTree | StandardScaler+SelectKBest+DecisionTree</td>\n",
    "  </tr>\n",
    "  <tr>\n",
    "    <td>A</td>\n",
    "    <td>StandardScaler</td>\n",
    "    <td>SelectKBest</td>\n",
    "    <td>LogisticRegression</td>\n",
    "    <td>StandardScaler+LogisticRegression | StandardScaler+SelectKBest+LogisticRegression</td>\n",
    "  </tr>\n",
    "  <tr>\n",
    "    <td>A</td>\n",
    "    <td>StandardScaler</td>\n",
    "    <td>RFE</td>\n",
    "    <td>Decision Tree</td>\n",
    "    <td>StandardScaler+RFE+DecisionTree</td>\n",
    "  </tr>\n",
    "  <tr>\n",
    "    <td>A</td>\n",
    "    <td>StandardScaler</td>\n",
    "    <td>RFE</td>\n",
    "    <td>LogisticRegression</td>\n",
    "    <td>StandardScaler+RFE+LogisticRegression</td>\n",
    "  </tr>\n",
    "  <tr>\n",
    "    <td>B</td>\n",
    "    <td>MinMaxScaler</td>\n",
    "    <td>SelectPercentile</td>\n",
    "    <td>KNN</td>\n",
    "    <td>MinMaxScaler+KNN | MinMaxScaler+SelectPercentile+KNN</td>\n",
    "  </tr>\n",
    "  <tr>\n",
    "    <td>B</td>\n",
    "    <td>MinMaxScaler</td>\n",
    "    <td>SelectPercentile</td>\n",
    "    <td>LinearSVC</td>\n",
    "    <td>MinMaxScaler+LinearSVC | MinMaxScaler+SelectPercentile+LinearSVC</td>\n",
    "  </tr>\n",
    "  <tr>\n",
    "    <td>B</td>\n",
    "    <td>MinMaxScaler</td>\n",
    "    <td>SelectFromModel</td>\n",
    "    <td>KNN</td>\n",
    "    <td>MinMaxScaler+SelectPercentile+KNN</td>\n",
    "  </tr>\n",
    "  <tr>\n",
    "    <td>B</td>\n",
    "    <td>MinMaxScaler</td>\n",
    "    <td>SelectFromModel</td>\n",
    "    <td>LinearSVC</td>\n",
    "    <td>MinMaxScaler+SelectFromModel+LinearSVC</td>\n",
    "  </tr>\n",
    "</tbody>\n",
    "</table>"
   ]
  },
  {
   "cell_type": "code",
   "execution_count": 20,
   "id": "50c86125",
   "metadata": {
    "id": "50c86125",
    "ExecuteTime": {
     "end_time": "2023-06-16T20:53:29.555611680Z",
     "start_time": "2023-06-16T20:53:29.029153083Z"
    }
   },
   "outputs": [
    {
     "data": {
      "text/plain": "LogisticRegression(C=0.8, class_weight='balanced', max_iter=10000)",
      "text/html": "<style>#sk-container-id-1 {color: black;background-color: white;}#sk-container-id-1 pre{padding: 0;}#sk-container-id-1 div.sk-toggleable {background-color: white;}#sk-container-id-1 label.sk-toggleable__label {cursor: pointer;display: block;width: 100%;margin-bottom: 0;padding: 0.3em;box-sizing: border-box;text-align: center;}#sk-container-id-1 label.sk-toggleable__label-arrow:before {content: \"▸\";float: left;margin-right: 0.25em;color: #696969;}#sk-container-id-1 label.sk-toggleable__label-arrow:hover:before {color: black;}#sk-container-id-1 div.sk-estimator:hover label.sk-toggleable__label-arrow:before {color: black;}#sk-container-id-1 div.sk-toggleable__content {max-height: 0;max-width: 0;overflow: hidden;text-align: left;background-color: #f0f8ff;}#sk-container-id-1 div.sk-toggleable__content pre {margin: 0.2em;color: black;border-radius: 0.25em;background-color: #f0f8ff;}#sk-container-id-1 input.sk-toggleable__control:checked~div.sk-toggleable__content {max-height: 200px;max-width: 100%;overflow: auto;}#sk-container-id-1 input.sk-toggleable__control:checked~label.sk-toggleable__label-arrow:before {content: \"▾\";}#sk-container-id-1 div.sk-estimator input.sk-toggleable__control:checked~label.sk-toggleable__label {background-color: #d4ebff;}#sk-container-id-1 div.sk-label input.sk-toggleable__control:checked~label.sk-toggleable__label {background-color: #d4ebff;}#sk-container-id-1 input.sk-hidden--visually {border: 0;clip: rect(1px 1px 1px 1px);clip: rect(1px, 1px, 1px, 1px);height: 1px;margin: -1px;overflow: hidden;padding: 0;position: absolute;width: 1px;}#sk-container-id-1 div.sk-estimator {font-family: monospace;background-color: #f0f8ff;border: 1px dotted black;border-radius: 0.25em;box-sizing: border-box;margin-bottom: 0.5em;}#sk-container-id-1 div.sk-estimator:hover {background-color: #d4ebff;}#sk-container-id-1 div.sk-parallel-item::after {content: \"\";width: 100%;border-bottom: 1px solid gray;flex-grow: 1;}#sk-container-id-1 div.sk-label:hover label.sk-toggleable__label {background-color: #d4ebff;}#sk-container-id-1 div.sk-serial::before {content: \"\";position: absolute;border-left: 1px solid gray;box-sizing: border-box;top: 0;bottom: 0;left: 50%;z-index: 0;}#sk-container-id-1 div.sk-serial {display: flex;flex-direction: column;align-items: center;background-color: white;padding-right: 0.2em;padding-left: 0.2em;position: relative;}#sk-container-id-1 div.sk-item {position: relative;z-index: 1;}#sk-container-id-1 div.sk-parallel {display: flex;align-items: stretch;justify-content: center;background-color: white;position: relative;}#sk-container-id-1 div.sk-item::before, #sk-container-id-1 div.sk-parallel-item::before {content: \"\";position: absolute;border-left: 1px solid gray;box-sizing: border-box;top: 0;bottom: 0;left: 50%;z-index: -1;}#sk-container-id-1 div.sk-parallel-item {display: flex;flex-direction: column;z-index: 1;position: relative;background-color: white;}#sk-container-id-1 div.sk-parallel-item:first-child::after {align-self: flex-end;width: 50%;}#sk-container-id-1 div.sk-parallel-item:last-child::after {align-self: flex-start;width: 50%;}#sk-container-id-1 div.sk-parallel-item:only-child::after {width: 0;}#sk-container-id-1 div.sk-dashed-wrapped {border: 1px dashed gray;margin: 0 0.4em 0.5em 0.4em;box-sizing: border-box;padding-bottom: 0.4em;background-color: white;}#sk-container-id-1 div.sk-label label {font-family: monospace;font-weight: bold;display: inline-block;line-height: 1.2em;}#sk-container-id-1 div.sk-label-container {text-align: center;}#sk-container-id-1 div.sk-container {/* jupyter's `normalize.less` sets `[hidden] { display: none; }` but bootstrap.min.css set `[hidden] { display: none !important; }` so we also need the `!important` here to be able to override the default hidden behavior on the sphinx rendered scikit-learn.org. See: https://github.com/scikit-learn/scikit-learn/issues/21755 */display: inline-block !important;position: relative;}#sk-container-id-1 div.sk-text-repr-fallback {display: none;}</style><div id=\"sk-container-id-1\" class=\"sk-top-container\"><div class=\"sk-text-repr-fallback\"><pre>LogisticRegression(C=0.8, class_weight=&#x27;balanced&#x27;, max_iter=10000)</pre><b>In a Jupyter environment, please rerun this cell to show the HTML representation or trust the notebook. <br />On GitHub, the HTML representation is unable to render, please try loading this page with nbviewer.org.</b></div><div class=\"sk-container\" hidden><div class=\"sk-item\"><div class=\"sk-estimator sk-toggleable\"><input class=\"sk-toggleable__control sk-hidden--visually\" id=\"sk-estimator-id-1\" type=\"checkbox\" checked><label for=\"sk-estimator-id-1\" class=\"sk-toggleable__label sk-toggleable__label-arrow\">LogisticRegression</label><div class=\"sk-toggleable__content\"><pre>LogisticRegression(C=0.8, class_weight=&#x27;balanced&#x27;, max_iter=10000)</pre></div></div></div></div></div>"
     },
     "execution_count": 20,
     "metadata": {},
     "output_type": "execute_result"
    }
   ],
   "source": [
    "# No Scaler + SelectKBest + DecisionTree\n",
    "nsd = DecisionTreeClassifier(random_state=85, max_depth=11, criterion='entropy')\n",
    "nsd.fit(X_train_skb_noscaled, y_train)\n",
    "\n",
    "# StandardScaler + SelectKBest + DecisionTree\n",
    "ssd = DecisionTreeClassifier(random_state=85, max_depth=11, criterion='entropy')\n",
    "ssd.fit(X_train_skb_stdscaled, y_train)\n",
    "\n",
    "# No Scaler + SelectKBest + DecisionTree\n",
    "nsl = LogisticRegression(C=0.8, max_iter=10000, class_weight='balanced')\n",
    "nsl.fit(X_train_skb_noscaled, y_train)\n",
    "\n",
    "# StandardScaler + SelectKBest + DecisionTree\n",
    "ssl = LogisticRegression(C=0.8, max_iter=10000, class_weight='balanced')\n",
    "ssl.fit(X_train_skb_stdscaled, y_train)\n",
    "\n",
    "# No Scaler + RFE + DecisionTree\n",
    "nrd = DecisionTreeClassifier(random_state=85, max_depth=11, criterion='entropy')\n",
    "nrd.fit(X_train_rfe_noscaled, y_train)\n",
    "\n",
    "# StandardScaler + RFE + DecisionTree\n",
    "srd = DecisionTreeClassifier(random_state=85, max_depth=11, criterion='entropy')\n",
    "srd.fit(X_train_rfe_stdscaled, y_train)\n",
    "\n",
    "# No Scaler + RFE + LogisticRegression\n",
    "nrl = LogisticRegression(C=0.8, max_iter=10000, class_weight='balanced')\n",
    "nrl.fit(X_train_rfe_noscaled, y_train)\n",
    "\n",
    "# StandardScaler + RFE + LogisticRegression\n",
    "srl = LogisticRegression(C=0.8, max_iter=10000, class_weight='balanced')\n",
    "srl.fit(X_train_rfe_stdscaled, y_train)"
   ]
  },
  {
   "attachments": {},
   "cell_type": "markdown",
   "id": "9ccd42b1",
   "metadata": {
    "id": "9ccd42b1"
   },
   "source": [
    "### Evaluasi Model\n",
    "\n",
    "Bagian berikut berisi evaluasi model secara sederhana menggunakan metrik akurasi (fungsi score). Uji akurasi hasil pembelajaran pada train set dan test set."
   ]
  },
  {
   "cell_type": "code",
   "execution_count": 21,
   "id": "25812a07",
   "metadata": {
    "id": "25812a07",
    "ExecuteTime": {
     "end_time": "2023-06-16T20:53:29.627566234Z",
     "start_time": "2023-06-16T20:53:29.567594705Z"
    }
   },
   "outputs": [
    {
     "name": "stdout",
     "output_type": "stream",
     "text": [
      "[ No Scaler + SelectKBest + DecisionTree ]\n",
      "No Scaler + SelectKBest + DecisionTree Train Set Score: 0.977075761811574\n",
      "No Scaler + SelectKBest + DecisionTree Test Set Score: 0.9295499021526419\n",
      "\n",
      "\n",
      "[ StandardScaler + SelectKBest + DecisionTree ]\n",
      "StandardScaler + SelectKBest + DecisionTree Train Set Score: 0.977075761811574\n",
      "StandardScaler + SelectKBest + DecisionTree Test Set Score: 0.9295499021526419\n",
      "\n",
      "\n",
      "[ No Scaler + SelectKBest + LogisticRegression ]\n",
      "No Scaler + SelectKBest + LogisticRegression Train Set Score: 0.7461559966452335\n",
      "No Scaler + SelectKBest + LogisticRegression Test Set Score: 0.7338551859099804\n",
      "\n",
      "\n",
      "[ StandardScaler + SelectKBest + LogisticRegression ]\n",
      "StandardScaler + SelectKBest + LogisticRegression Train Set Score: 0.7408442829186469\n",
      "StandardScaler + SelectKBest + LogisticRegression Test Set Score: 0.7325505544683627\n",
      "\n",
      "\n",
      "[ No Scaler + RFE + DecisionTree ]\n",
      "No Scaler + RFE + DecisionTree Train Set Score: 0.977075761811574\n",
      "No Scaler + RFE + DecisionTree Test Set Score: 0.9262883235485975\n",
      "\n",
      "\n",
      "[ StandardScaler + RFE + DecisionTree ]\n",
      "StandardScaler + RFE + DecisionTree Train Set Score: 0.977075761811574\n",
      "StandardScaler + RFE + DecisionTree Test Set Score: 0.9262883235485975\n",
      "\n",
      "\n",
      "[ No Scaler + RFE + LogisticRegression ]\n",
      "No Scaler + RFE + LogisticRegression Train Set Score: 0.7400055912776069\n",
      "No Scaler + RFE + LogisticRegression Test Set Score: 0.7221135029354208\n",
      "\n",
      "\n",
      "[ StandardScaler + RFE + LogisticRegression ]\n",
      "StandardScaler + RFE + LogisticRegression Train Set Score: 0.7400055912776069\n",
      "StandardScaler + RFE + LogisticRegression Test Set Score: 0.7221135029354208\n"
     ]
    }
   ],
   "source": [
    "# Lakukan proses evaluasi model algoritme pembelajaran mesin\n",
    "print(\"[ No Scaler + SelectKBest + DecisionTree ]\")\n",
    "print(\"No Scaler + SelectKBest + DecisionTree Train Set Score: {}\".format(\n",
    "    nsd.score(X_train_skb_noscaled, y_train)))\n",
    "print(\"No Scaler + SelectKBest + DecisionTree Test Set Score: {}\".format(\n",
    "    nsd.score(X_test_skb_noscaled, y_test)))\n",
    "\n",
    "print(\"\\n\")\n",
    "print(\"[ StandardScaler + SelectKBest + DecisionTree ]\")\n",
    "print(\"StandardScaler + SelectKBest + DecisionTree Train Set Score: {}\".format(\n",
    "    ssd.score(X_train_skb_stdscaled, y_train)))\n",
    "print(\"StandardScaler + SelectKBest + DecisionTree Test Set Score: {}\".format(\n",
    "    ssd.score(X_test_skb_stdscaled, y_test)))\n",
    "\n",
    "print(\"\\n\")\n",
    "print(\"[ No Scaler + SelectKBest + LogisticRegression ]\")\n",
    "print(\"No Scaler + SelectKBest + LogisticRegression Train Set Score: {}\".format(\n",
    "    nsl.score(X_train_skb_noscaled, y_train)))\n",
    "print(\"No Scaler + SelectKBest + LogisticRegression Test Set Score: {}\".format(\n",
    "    nsl.score(X_test_skb_noscaled, y_test)))\n",
    "\n",
    "print(\"\\n\")\n",
    "print(\"[ StandardScaler + SelectKBest + LogisticRegression ]\")\n",
    "print(\"StandardScaler + SelectKBest + LogisticRegression Train Set Score: {}\".format(\n",
    "    ssl.score(X_train_skb_stdscaled, y_train)))\n",
    "print(\"StandardScaler + SelectKBest + LogisticRegression Test Set Score: {}\".format(\n",
    "    ssl.score(X_test_skb_stdscaled, y_test)))\n",
    "\n",
    "print(\"\\n\")\n",
    "print(\"[ No Scaler + RFE + DecisionTree ]\")\n",
    "print(\"No Scaler + RFE + DecisionTree Train Set Score: {}\".format(nrd.score(X_train_rfe_noscaled, y_train)))\n",
    "print(\"No Scaler + RFE + DecisionTree Test Set Score: {}\".format(nrd.score(X_test_rfe_noscaled, y_test)))\n",
    "\n",
    "print(\"\\n\")\n",
    "print(\"[ StandardScaler + RFE + DecisionTree ]\")\n",
    "print(\"StandardScaler + RFE + DecisionTree Train Set Score: {}\".format(srd.score(X_train_rfe_stdscaled, y_train)))\n",
    "print(\"StandardScaler + RFE + DecisionTree Test Set Score: {}\".format(srd.score(X_test_rfe_stdscaled, y_test)))\n",
    "\n",
    "print(\"\\n\")\n",
    "print(\"[ No Scaler + RFE + LogisticRegression ]\")\n",
    "print(\"No Scaler + RFE + LogisticRegression Train Set Score: {}\".format(\n",
    "    nrl.score(X_train_rfe_noscaled, y_train)))\n",
    "print(\"No Scaler + RFE + LogisticRegression Test Set Score: {}\".format(\n",
    "    nrl.score(X_test_rfe_noscaled, y_test)))\n",
    "\n",
    "print(\"\\n\")\n",
    "print(\"[ StandardScaler + RFE + LogisticRegression ]\")\n",
    "print(\"StandardScaler + RFE + LogisticRegression Train Set Score: {}\".format(\n",
    "    srl.score(X_train_rfe_stdscaled, y_train)))\n",
    "print(\n",
    "    \"StandardScaler + RFE + LogisticRegression Test Set Score: {}\".format(srl.score(X_test_rfe_stdscaled, y_test)))"
   ]
  },
  {
   "cell_type": "markdown",
   "id": "d6f85f13",
   "metadata": {
    "id": "d6f85f13"
   },
   "source": [
    "## Kesimpulan\n",
    "\n",
    "Silahkan jawab pertanyaan berikut:\n",
    "\n",
    "1. Apakah ada pengaruh penskalaan data pada dataset terhadap performa model-model machine learning? \n",
    "\n",
    "2. Apa saja feature-feature yang penting untuk membedakan antara pasien yang rawan terkena stroke dengan yang sehat? \n",
    "\n",
    "3. Model apakah yang memiliki performa paling baik terhadap dataset? Apakah parameter setting yang paling optimal dari model tersebut?"
   ]
  },
  {
   "cell_type": "markdown",
   "id": "a1c82c65",
   "metadata": {
    "id": "a1c82c65"
   },
   "source": [
    "*tulis jawaban Anda di cell ini*\n",
    "1. Ada pengaruh penskalaan data pada dataset terhadap performa model-model machine learning. Hal ini terlihat dari hasil evaluasi model yang dilakukan.\n",
    "2. Feature-feature yang penting untuk membedakan antara pasien yang rawan terkena stroke dengan yang sehat adalah 'age', 'avg_glucose_level', 'bmi', 'hypertension', 'heart_disease', 'ever_married', 'work_type', 'Residence_type', 'smoking_status'.\n",
    "3. Model yang memiliki performa paling baik terhadap dataset adalah StandardScaler + SelectKBest + DecisionTree. Parameter setting yang paling optimal dari model tersebut adalah max_depth=11, criterion='entropy'."
   ]
  }
 ],
 "metadata": {
  "colab": {
   "provenance": []
  },
  "kernelspec": {
   "display_name": "Python 3 (ipykernel)",
   "language": "python",
   "name": "python3"
  },
  "language_info": {
   "codemirror_mode": {
    "name": "ipython",
    "version": 3
   },
   "file_extension": ".py",
   "mimetype": "text/x-python",
   "name": "python",
   "nbconvert_exporter": "python",
   "pygments_lexer": "ipython3",
   "version": "3.9.12"
  }
 },
 "nbformat": 4,
 "nbformat_minor": 5
}

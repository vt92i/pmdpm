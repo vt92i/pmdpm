{
 "cells": [
  {
   "cell_type": "code",
   "execution_count": 1,
   "metadata": {
    "collapsed": true,
    "ExecuteTime": {
     "end_time": "2023-06-16T16:06:59.390753992Z",
     "start_time": "2023-06-16T16:06:58.947576349Z"
    }
   },
   "outputs": [],
   "source": [
    "# Import necessary libraries\n",
    "import numpy as np\n",
    "import pandas as pd\n",
    "import warnings\n",
    "\n",
    "warnings.filterwarnings('ignore')"
   ]
  },
  {
   "cell_type": "code",
   "execution_count": 2,
   "outputs": [
    {
     "data": {
      "text/plain": "   gender   age  hypertension  heart_disease ever_married      work_type  \\\n0    Male  67.0             0              1          Yes        Private   \n1  Female  61.0             0              0          Yes  Self-employed   \n2    Male  80.0             0              1          Yes        Private   \n3  Female  49.0             0              0          Yes        Private   \n4  Female  79.0             1              0          Yes  Self-employed   \n5    Male  81.0             0              0          Yes        Private   \n6    Male  74.0             1              1          Yes        Private   \n7  Female  69.0             0              0           No        Private   \n8  Female  59.0             0              0          Yes        Private   \n9  Female  78.0             0              0          Yes        Private   \n\n  Residence_type  avg_glucose_level        bmi   smoking_status  stroke  \n0          Urban             228.69  36.600000  formerly smoked       1  \n1          Rural             202.21  28.893237     never smoked       1  \n2          Rural             105.92  32.500000     never smoked       1  \n3          Urban             171.23  34.400000           smokes       1  \n4          Rural             174.12  24.000000     never smoked       1  \n5          Urban             186.21  29.000000  formerly smoked       1  \n6          Rural              70.09  27.400000     never smoked       1  \n7          Urban              94.39  22.800000     never smoked       1  \n8          Rural              76.15  28.893237          Unknown       1  \n9          Urban              58.57  24.200000          Unknown       1  ",
      "text/html": "<div>\n<style scoped>\n    .dataframe tbody tr th:only-of-type {\n        vertical-align: middle;\n    }\n\n    .dataframe tbody tr th {\n        vertical-align: top;\n    }\n\n    .dataframe thead th {\n        text-align: right;\n    }\n</style>\n<table border=\"1\" class=\"dataframe\">\n  <thead>\n    <tr style=\"text-align: right;\">\n      <th></th>\n      <th>gender</th>\n      <th>age</th>\n      <th>hypertension</th>\n      <th>heart_disease</th>\n      <th>ever_married</th>\n      <th>work_type</th>\n      <th>Residence_type</th>\n      <th>avg_glucose_level</th>\n      <th>bmi</th>\n      <th>smoking_status</th>\n      <th>stroke</th>\n    </tr>\n  </thead>\n  <tbody>\n    <tr>\n      <th>0</th>\n      <td>Male</td>\n      <td>67.0</td>\n      <td>0</td>\n      <td>1</td>\n      <td>Yes</td>\n      <td>Private</td>\n      <td>Urban</td>\n      <td>228.69</td>\n      <td>36.600000</td>\n      <td>formerly smoked</td>\n      <td>1</td>\n    </tr>\n    <tr>\n      <th>1</th>\n      <td>Female</td>\n      <td>61.0</td>\n      <td>0</td>\n      <td>0</td>\n      <td>Yes</td>\n      <td>Self-employed</td>\n      <td>Rural</td>\n      <td>202.21</td>\n      <td>28.893237</td>\n      <td>never smoked</td>\n      <td>1</td>\n    </tr>\n    <tr>\n      <th>2</th>\n      <td>Male</td>\n      <td>80.0</td>\n      <td>0</td>\n      <td>1</td>\n      <td>Yes</td>\n      <td>Private</td>\n      <td>Rural</td>\n      <td>105.92</td>\n      <td>32.500000</td>\n      <td>never smoked</td>\n      <td>1</td>\n    </tr>\n    <tr>\n      <th>3</th>\n      <td>Female</td>\n      <td>49.0</td>\n      <td>0</td>\n      <td>0</td>\n      <td>Yes</td>\n      <td>Private</td>\n      <td>Urban</td>\n      <td>171.23</td>\n      <td>34.400000</td>\n      <td>smokes</td>\n      <td>1</td>\n    </tr>\n    <tr>\n      <th>4</th>\n      <td>Female</td>\n      <td>79.0</td>\n      <td>1</td>\n      <td>0</td>\n      <td>Yes</td>\n      <td>Self-employed</td>\n      <td>Rural</td>\n      <td>174.12</td>\n      <td>24.000000</td>\n      <td>never smoked</td>\n      <td>1</td>\n    </tr>\n    <tr>\n      <th>5</th>\n      <td>Male</td>\n      <td>81.0</td>\n      <td>0</td>\n      <td>0</td>\n      <td>Yes</td>\n      <td>Private</td>\n      <td>Urban</td>\n      <td>186.21</td>\n      <td>29.000000</td>\n      <td>formerly smoked</td>\n      <td>1</td>\n    </tr>\n    <tr>\n      <th>6</th>\n      <td>Male</td>\n      <td>74.0</td>\n      <td>1</td>\n      <td>1</td>\n      <td>Yes</td>\n      <td>Private</td>\n      <td>Rural</td>\n      <td>70.09</td>\n      <td>27.400000</td>\n      <td>never smoked</td>\n      <td>1</td>\n    </tr>\n    <tr>\n      <th>7</th>\n      <td>Female</td>\n      <td>69.0</td>\n      <td>0</td>\n      <td>0</td>\n      <td>No</td>\n      <td>Private</td>\n      <td>Urban</td>\n      <td>94.39</td>\n      <td>22.800000</td>\n      <td>never smoked</td>\n      <td>1</td>\n    </tr>\n    <tr>\n      <th>8</th>\n      <td>Female</td>\n      <td>59.0</td>\n      <td>0</td>\n      <td>0</td>\n      <td>Yes</td>\n      <td>Private</td>\n      <td>Rural</td>\n      <td>76.15</td>\n      <td>28.893237</td>\n      <td>Unknown</td>\n      <td>1</td>\n    </tr>\n    <tr>\n      <th>9</th>\n      <td>Female</td>\n      <td>78.0</td>\n      <td>0</td>\n      <td>0</td>\n      <td>Yes</td>\n      <td>Private</td>\n      <td>Urban</td>\n      <td>58.57</td>\n      <td>24.200000</td>\n      <td>Unknown</td>\n      <td>1</td>\n    </tr>\n  </tbody>\n</table>\n</div>"
     },
     "execution_count": 2,
     "metadata": {},
     "output_type": "execute_result"
    }
   ],
   "source": [
    "# Import dataset\n",
    "df = pd.read_csv('healthcare-dataset-stroke-data.csv')\n",
    "df.drop('id', axis=1, inplace=True)\n",
    "df.fillna(df.mean(), inplace=True)\n",
    "df.head(10)"
   ],
   "metadata": {
    "collapsed": false,
    "ExecuteTime": {
     "end_time": "2023-06-16T16:06:59.435819246Z",
     "start_time": "2023-06-16T16:06:59.391778186Z"
    }
   }
  },
  {
   "cell_type": "code",
   "execution_count": 3,
   "outputs": [
    {
     "data": {
      "text/plain": "    0    1    2    3    4    5    6    7    8    9   ...   12   13   14   15  \\\n0  0.0  1.0  0.0  0.0  1.0  0.0  0.0  1.0  0.0  0.0  ...  0.0  1.0  0.0  0.0   \n1  1.0  0.0  0.0  0.0  1.0  0.0  0.0  0.0  1.0  0.0  ...  0.0  0.0  1.0  0.0   \n2  0.0  1.0  0.0  0.0  1.0  0.0  0.0  1.0  0.0  0.0  ...  0.0  0.0  1.0  0.0   \n3  1.0  0.0  0.0  0.0  1.0  0.0  0.0  1.0  0.0  0.0  ...  0.0  0.0  0.0  1.0   \n4  1.0  0.0  0.0  0.0  1.0  0.0  0.0  0.0  1.0  0.0  ...  0.0  0.0  1.0  0.0   \n5  0.0  1.0  0.0  0.0  1.0  0.0  0.0  1.0  0.0  0.0  ...  0.0  1.0  0.0  0.0   \n6  0.0  1.0  0.0  0.0  1.0  0.0  0.0  1.0  0.0  0.0  ...  0.0  0.0  1.0  0.0   \n7  1.0  0.0  0.0  1.0  0.0  0.0  0.0  1.0  0.0  0.0  ...  0.0  0.0  1.0  0.0   \n8  1.0  0.0  0.0  0.0  1.0  0.0  0.0  1.0  0.0  0.0  ...  1.0  0.0  0.0  0.0   \n9  1.0  0.0  0.0  0.0  1.0  0.0  0.0  1.0  0.0  0.0  ...  1.0  0.0  0.0  0.0   \n\n     16   17   18      19         20   21  \n0  67.0  0.0  1.0  228.69  36.600000  1.0  \n1  61.0  0.0  0.0  202.21  28.893237  1.0  \n2  80.0  0.0  1.0  105.92  32.500000  1.0  \n3  49.0  0.0  0.0  171.23  34.400000  1.0  \n4  79.0  1.0  0.0  174.12  24.000000  1.0  \n5  81.0  0.0  0.0  186.21  29.000000  1.0  \n6  74.0  1.0  1.0   70.09  27.400000  1.0  \n7  69.0  0.0  0.0   94.39  22.800000  1.0  \n8  59.0  0.0  0.0   76.15  28.893237  1.0  \n9  78.0  0.0  0.0   58.57  24.200000  1.0  \n\n[10 rows x 22 columns]",
      "text/html": "<div>\n<style scoped>\n    .dataframe tbody tr th:only-of-type {\n        vertical-align: middle;\n    }\n\n    .dataframe tbody tr th {\n        vertical-align: top;\n    }\n\n    .dataframe thead th {\n        text-align: right;\n    }\n</style>\n<table border=\"1\" class=\"dataframe\">\n  <thead>\n    <tr style=\"text-align: right;\">\n      <th></th>\n      <th>0</th>\n      <th>1</th>\n      <th>2</th>\n      <th>3</th>\n      <th>4</th>\n      <th>5</th>\n      <th>6</th>\n      <th>7</th>\n      <th>8</th>\n      <th>9</th>\n      <th>...</th>\n      <th>12</th>\n      <th>13</th>\n      <th>14</th>\n      <th>15</th>\n      <th>16</th>\n      <th>17</th>\n      <th>18</th>\n      <th>19</th>\n      <th>20</th>\n      <th>21</th>\n    </tr>\n  </thead>\n  <tbody>\n    <tr>\n      <th>0</th>\n      <td>0.0</td>\n      <td>1.0</td>\n      <td>0.0</td>\n      <td>0.0</td>\n      <td>1.0</td>\n      <td>0.0</td>\n      <td>0.0</td>\n      <td>1.0</td>\n      <td>0.0</td>\n      <td>0.0</td>\n      <td>...</td>\n      <td>0.0</td>\n      <td>1.0</td>\n      <td>0.0</td>\n      <td>0.0</td>\n      <td>67.0</td>\n      <td>0.0</td>\n      <td>1.0</td>\n      <td>228.69</td>\n      <td>36.600000</td>\n      <td>1.0</td>\n    </tr>\n    <tr>\n      <th>1</th>\n      <td>1.0</td>\n      <td>0.0</td>\n      <td>0.0</td>\n      <td>0.0</td>\n      <td>1.0</td>\n      <td>0.0</td>\n      <td>0.0</td>\n      <td>0.0</td>\n      <td>1.0</td>\n      <td>0.0</td>\n      <td>...</td>\n      <td>0.0</td>\n      <td>0.0</td>\n      <td>1.0</td>\n      <td>0.0</td>\n      <td>61.0</td>\n      <td>0.0</td>\n      <td>0.0</td>\n      <td>202.21</td>\n      <td>28.893237</td>\n      <td>1.0</td>\n    </tr>\n    <tr>\n      <th>2</th>\n      <td>0.0</td>\n      <td>1.0</td>\n      <td>0.0</td>\n      <td>0.0</td>\n      <td>1.0</td>\n      <td>0.0</td>\n      <td>0.0</td>\n      <td>1.0</td>\n      <td>0.0</td>\n      <td>0.0</td>\n      <td>...</td>\n      <td>0.0</td>\n      <td>0.0</td>\n      <td>1.0</td>\n      <td>0.0</td>\n      <td>80.0</td>\n      <td>0.0</td>\n      <td>1.0</td>\n      <td>105.92</td>\n      <td>32.500000</td>\n      <td>1.0</td>\n    </tr>\n    <tr>\n      <th>3</th>\n      <td>1.0</td>\n      <td>0.0</td>\n      <td>0.0</td>\n      <td>0.0</td>\n      <td>1.0</td>\n      <td>0.0</td>\n      <td>0.0</td>\n      <td>1.0</td>\n      <td>0.0</td>\n      <td>0.0</td>\n      <td>...</td>\n      <td>0.0</td>\n      <td>0.0</td>\n      <td>0.0</td>\n      <td>1.0</td>\n      <td>49.0</td>\n      <td>0.0</td>\n      <td>0.0</td>\n      <td>171.23</td>\n      <td>34.400000</td>\n      <td>1.0</td>\n    </tr>\n    <tr>\n      <th>4</th>\n      <td>1.0</td>\n      <td>0.0</td>\n      <td>0.0</td>\n      <td>0.0</td>\n      <td>1.0</td>\n      <td>0.0</td>\n      <td>0.0</td>\n      <td>0.0</td>\n      <td>1.0</td>\n      <td>0.0</td>\n      <td>...</td>\n      <td>0.0</td>\n      <td>0.0</td>\n      <td>1.0</td>\n      <td>0.0</td>\n      <td>79.0</td>\n      <td>1.0</td>\n      <td>0.0</td>\n      <td>174.12</td>\n      <td>24.000000</td>\n      <td>1.0</td>\n    </tr>\n    <tr>\n      <th>5</th>\n      <td>0.0</td>\n      <td>1.0</td>\n      <td>0.0</td>\n      <td>0.0</td>\n      <td>1.0</td>\n      <td>0.0</td>\n      <td>0.0</td>\n      <td>1.0</td>\n      <td>0.0</td>\n      <td>0.0</td>\n      <td>...</td>\n      <td>0.0</td>\n      <td>1.0</td>\n      <td>0.0</td>\n      <td>0.0</td>\n      <td>81.0</td>\n      <td>0.0</td>\n      <td>0.0</td>\n      <td>186.21</td>\n      <td>29.000000</td>\n      <td>1.0</td>\n    </tr>\n    <tr>\n      <th>6</th>\n      <td>0.0</td>\n      <td>1.0</td>\n      <td>0.0</td>\n      <td>0.0</td>\n      <td>1.0</td>\n      <td>0.0</td>\n      <td>0.0</td>\n      <td>1.0</td>\n      <td>0.0</td>\n      <td>0.0</td>\n      <td>...</td>\n      <td>0.0</td>\n      <td>0.0</td>\n      <td>1.0</td>\n      <td>0.0</td>\n      <td>74.0</td>\n      <td>1.0</td>\n      <td>1.0</td>\n      <td>70.09</td>\n      <td>27.400000</td>\n      <td>1.0</td>\n    </tr>\n    <tr>\n      <th>7</th>\n      <td>1.0</td>\n      <td>0.0</td>\n      <td>0.0</td>\n      <td>1.0</td>\n      <td>0.0</td>\n      <td>0.0</td>\n      <td>0.0</td>\n      <td>1.0</td>\n      <td>0.0</td>\n      <td>0.0</td>\n      <td>...</td>\n      <td>0.0</td>\n      <td>0.0</td>\n      <td>1.0</td>\n      <td>0.0</td>\n      <td>69.0</td>\n      <td>0.0</td>\n      <td>0.0</td>\n      <td>94.39</td>\n      <td>22.800000</td>\n      <td>1.0</td>\n    </tr>\n    <tr>\n      <th>8</th>\n      <td>1.0</td>\n      <td>0.0</td>\n      <td>0.0</td>\n      <td>0.0</td>\n      <td>1.0</td>\n      <td>0.0</td>\n      <td>0.0</td>\n      <td>1.0</td>\n      <td>0.0</td>\n      <td>0.0</td>\n      <td>...</td>\n      <td>1.0</td>\n      <td>0.0</td>\n      <td>0.0</td>\n      <td>0.0</td>\n      <td>59.0</td>\n      <td>0.0</td>\n      <td>0.0</td>\n      <td>76.15</td>\n      <td>28.893237</td>\n      <td>1.0</td>\n    </tr>\n    <tr>\n      <th>9</th>\n      <td>1.0</td>\n      <td>0.0</td>\n      <td>0.0</td>\n      <td>0.0</td>\n      <td>1.0</td>\n      <td>0.0</td>\n      <td>0.0</td>\n      <td>1.0</td>\n      <td>0.0</td>\n      <td>0.0</td>\n      <td>...</td>\n      <td>1.0</td>\n      <td>0.0</td>\n      <td>0.0</td>\n      <td>0.0</td>\n      <td>78.0</td>\n      <td>0.0</td>\n      <td>0.0</td>\n      <td>58.57</td>\n      <td>24.200000</td>\n      <td>1.0</td>\n    </tr>\n  </tbody>\n</table>\n<p>10 rows × 22 columns</p>\n</div>"
     },
     "execution_count": 3,
     "metadata": {},
     "output_type": "execute_result"
    }
   ],
   "source": [
    "# One Hot Encoding\n",
    "from sklearn.preprocessing import OneHotEncoder\n",
    "from sklearn.compose import make_column_transformer\n",
    "\n",
    "columns = [col for col in df.columns if df[col].dtype == 'object']\n",
    "transformer = make_column_transformer((OneHotEncoder(), columns), remainder='passthrough')\n",
    "df = pd.DataFrame(transformer.fit_transform(df))\n",
    "df.head(10)"
   ],
   "metadata": {
    "collapsed": false,
    "ExecuteTime": {
     "end_time": "2023-06-16T16:06:59.869604150Z",
     "start_time": "2023-06-16T16:06:59.436380886Z"
    }
   }
  },
  {
   "cell_type": "code",
   "execution_count": 4,
   "outputs": [],
   "source": [
    "# Split dataset into training and testing set\n",
    "from sklearn.model_selection import train_test_split\n",
    "\n",
    "X = df.drop(columns=[len(df.columns) - 1], axis=1)\n",
    "y = df[len(df.columns) - 1]\n",
    "X_train, X_test, y_train, y_test = train_test_split(X, y, test_size=0.3, random_state=42)"
   ],
   "metadata": {
    "collapsed": false,
    "ExecuteTime": {
     "end_time": "2023-06-16T16:06:59.908292577Z",
     "start_time": "2023-06-16T16:06:59.873502017Z"
    }
   }
  },
  {
   "cell_type": "code",
   "execution_count": 5,
   "outputs": [
    {
     "name": "stdout",
     "output_type": "stream",
     "text": [
      "Test score: 0.9419439008480104\n"
     ]
    }
   ],
   "source": [
    "# Pipeline\n",
    "from sklearn.preprocessing import MinMaxScaler\n",
    "from sklearn.linear_model import LogisticRegression\n",
    "from sklearn.feature_selection import SelectKBest\n",
    "from sklearn.pipeline import Pipeline\n",
    "\n",
    "pipe = [('Data Scaling', MinMaxScaler()),\n",
    "        ('Feature Selection', SelectKBest()),\n",
    "        ('Logistic Regression', LogisticRegression())]\n",
    "\n",
    "estimators = Pipeline(pipe)\n",
    "estimators.fit(X_train, y_train)\n",
    "test_score = estimators.score(X_test, y_test)\n",
    "print(\"Test score:\", test_score)"
   ],
   "metadata": {
    "collapsed": false,
    "ExecuteTime": {
     "end_time": "2023-06-16T16:07:00.160556629Z",
     "start_time": "2023-06-16T16:06:59.900393597Z"
    }
   }
  },
  {
   "cell_type": "code",
   "execution_count": 6,
   "outputs": [
    {
     "name": "stdout",
     "output_type": "stream",
     "text": [
      "Test score: 0.9419439008480104\n",
      "Best params: {'Feature Selection__k': 1, 'Logistic Regression__C': 0.001}\n",
      "Selected features: Int64Index([16], dtype='int64')\n"
     ]
    }
   ],
   "source": [
    "# Grid Search\n",
    "from sklearn.model_selection import GridSearchCV\n",
    "from sklearn.model_selection import StratifiedKFold\n",
    "\n",
    "k = list(range(1, df.columns.size - 1))\n",
    "C = np.arange(0.001, 0.01, 1).tolist()\n",
    "\n",
    "params_grid = {\n",
    "    'Feature Selection__k': k,\n",
    "    'Logistic Regression__C': C\n",
    "}\n",
    "\n",
    "GSCV3 = GridSearchCV(estimators, param_grid=params_grid, cv=StratifiedKFold(n_splits=5))\n",
    "GSCV3.fit(X_train, y_train)\n",
    "\n",
    "GStest_score = GSCV3.score(X_test, y_test)\n",
    "print(\"Test score:\", GStest_score)\n",
    "print(\"Best params:\", GSCV3.best_params_)\n",
    "\n",
    "mask = GSCV3.best_estimator_.named_steps['Feature Selection'].get_support()\n",
    "selected_features = X.columns[mask]\n",
    "print(\"Selected features:\", selected_features)"
   ],
   "metadata": {
    "collapsed": false,
    "ExecuteTime": {
     "end_time": "2023-06-16T16:07:01.330970363Z",
     "start_time": "2023-06-16T16:07:00.069121120Z"
    }
   }
  },
  {
   "cell_type": "code",
   "execution_count": 7,
   "outputs": [
    {
     "name": "stdout",
     "output_type": "stream",
     "text": [
      "Confusion matrix: [[1444    0]\n",
      " [  89    0]]\n",
      "Classification report:               precision    recall  f1-score   support\n",
      "\n",
      "         0.0       0.94      1.00      0.97      1444\n",
      "         1.0       0.00      0.00      0.00        89\n",
      "\n",
      "    accuracy                           0.94      1533\n",
      "   macro avg       0.47      0.50      0.49      1533\n",
      "weighted avg       0.89      0.94      0.91      1533\n",
      "\n"
     ]
    }
   ],
   "source": [
    "# Classification Report\n",
    "from sklearn.metrics import confusion_matrix, classification_report\n",
    "\n",
    "gs_pred = GSCV3.predict(X_test)\n",
    "print(\"Confusion matrix:\", confusion_matrix(y_test, gs_pred))\n",
    "print(\"Classification report:\", classification_report(y_test, gs_pred))"
   ],
   "metadata": {
    "collapsed": false,
    "ExecuteTime": {
     "end_time": "2023-06-16T16:07:01.418397938Z",
     "start_time": "2023-06-16T16:07:01.343139082Z"
    }
   }
  },
  {
   "cell_type": "code",
   "execution_count": 8,
   "outputs": [
    {
     "name": "stdout",
     "output_type": "stream",
     "text": [
      "AUC score: 0.8355029723925426\n"
     ]
    }
   ],
   "source": [
    "# AUC Score\n",
    "from sklearn.metrics import roc_auc_score\n",
    "\n",
    "gs_pred_proba = GSCV3.predict_proba(X_test)\n",
    "print(\"AUC score:\", roc_auc_score(y_test, gs_pred_proba[:, 1]))"
   ],
   "metadata": {
    "collapsed": false,
    "ExecuteTime": {
     "end_time": "2023-06-16T16:07:01.419051892Z",
     "start_time": "2023-06-16T16:07:01.368229632Z"
    }
   }
  },
  {
   "cell_type": "markdown",
   "source": [
    "Jawab pertanyaan berikut di dalam notebook menggunakan cell markdown:\n",
    "1. Model algoritme apakah yang paling cocok untuk dataset kasus tersebut dilihat dari\n",
    "metrik evaluasi yang digunakan?\n",
    "[ Best params: {'Feature Selection__k': 1, 'Logistic Regression__C': 0.001} ]\n",
    "\n",
    "2. Apa saja feature-feature yang penting untuk membedakan antara pasien yang\n",
    "rawan terkena stroke dengan yang sehat berdasarkan model terbaik yang dibuat?\n",
    "[ Umur ]\n",
    "\n"
   ],
   "metadata": {
    "collapsed": false
   }
  }
 ],
 "metadata": {
  "kernelspec": {
   "display_name": "Python 3",
   "language": "python",
   "name": "python3"
  },
  "language_info": {
   "codemirror_mode": {
    "name": "ipython",
    "version": 2
   },
   "file_extension": ".py",
   "mimetype": "text/x-python",
   "name": "python",
   "nbconvert_exporter": "python",
   "pygments_lexer": "ipython2",
   "version": "2.7.6"
  }
 },
 "nbformat": 4,
 "nbformat_minor": 0
}

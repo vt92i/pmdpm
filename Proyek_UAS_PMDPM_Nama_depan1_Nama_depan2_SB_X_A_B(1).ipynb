{
  "cells": [
    {
      "attachments": {},
      "cell_type": "markdown",
      "id": "72a875f0",
      "metadata": {
        "id": "72a875f0"
      },
      "source": [
        "# Proyek UAS PMDPM\n",
        "\n",
        "<b>Harap jangan menghapus cell dan komentar yang diberikan!</b>\n",
        "\n",
        "Setiap cell markdown dan code akan berisi instruksi pengerjaan Proyek UAS PMDPM\n",
        "\n",
        "Dalam notebook ini Anda akan diminta untuk membuat sebuah proyek Pembelajaran Mesin menggunakan dataset yang sudah disediakan. Proyek akan terdiri dari proses inisialisasi, data loading, data cleansing, feature engineering, modelling dan evaluasi model. Pada bagian akhir silahkan berikan laporan singkat dari proyek yang sudah dikerjakan"
      ]
    },
    {
      "attachments": {},
      "cell_type": "markdown",
      "id": "mJk9HuB_FIKC",
      "metadata": {
        "id": "mJk9HuB_FIKC"
      },
      "source": [
        "## Penjelasan Tugas\n",
        "\n",
        "Terapkan pemrosesan dataset dari loading, data cleansing (jika perlu), data scaling, feature selection, hingga evaluasi model secara sederhana menggunakan code yang sudah dipelajari dalam latihan-latihan dan tugas."
      ]
    },
    {
      "attachments": {},
      "cell_type": "markdown",
      "id": "79d4888b",
      "metadata": {
        "id": "79d4888b"
      },
      "source": [
        "### Inisialisasi\n",
        "\n",
        "Bagian berikut berisi import library yang dibutuhkan"
      ]
    },
    {
      "attachments": {},
      "cell_type": "markdown",
      "id": "fdd03879",
      "metadata": {
        "id": "fdd03879"
      },
      "source": [
        "### Data Loading\n",
        "\n",
        "Bagian berikut berisi proses data loading (boleh dengan file upload atau dengan mount drive), jangan lupa tampilkan 20 baris data teratas!"
      ]
    },
    {
      "cell_type": "code",
      "execution_count": null,
      "id": "1074df6e",
      "metadata": {
        "id": "1074df6e"
      },
      "outputs": [],
      "source": [
        "#loading data yang akan diolah\n"
      ]
    },
    {
      "cell_type": "code",
      "execution_count": null,
      "id": "b4b3c86c",
      "metadata": {
        "id": "b4b3c86c"
      },
      "outputs": [],
      "source": [
        "#bersihkan dataset menggunakan metode yang sudah dipelajari\n"
      ]
    },
    {
      "attachments": {},
      "cell_type": "markdown",
      "id": "9ba96a3b",
      "metadata": {
        "id": "9ba96a3b"
      },
      "source": [
        "### Data Visualization\n",
        "\n",
        "Dalam proses visualisasi data, silahkan visualisasikan feature menggunakan plot yang sesuai agar mendapat insight dari data dengan menjawab pertanyaan-pertanyaan berikut:\n",
        "\n",
        "    untuk sub A:\n",
        "    1. Bagaimana perbandingan median luas basement rumah berdasarkan tipe rumahnya (Basic dan Luxury)?\n",
        "    2. Bagaimana komposisi jumlah rumah yang baru dibangun atau tidak pada tipe rumah Luxury?\n",
        "   \n",
        "\n",
        "    untuk sub B:\n",
        "    1. Bagaimana perbandingan median luas loteng rumah berdasarkan tipe rumahnya (Basic dan Luxury)\n",
        "    2. Bagaimana komposisi jumlah rumah yang memiliki pelindung badai atau tidak pada tipe rumah Basic?\n",
        "   "
      ]
    },
    {
      "cell_type": "code",
      "execution_count": null,
      "id": "26979625",
      "metadata": {
        "id": "26979625"
      },
      "outputs": [],
      "source": [
        "#visualisasi fitur menggunakan metode yang sudah dipelajari\n"
      ]
    },
    {
      "attachments": {},
      "cell_type": "markdown",
      "id": "85cce0d7",
      "metadata": {
        "id": "85cce0d7"
      },
      "source": [
        "### Deskripsi Data Visualization\n",
        "Berikan keterangan atau deskripsi singkat mengenai informasi yang diperoleh dari visualisasi data tersebut. Jawablah pertanyaan di atas pada cell markdown ini!"
      ]
    },
    {
      "attachments": {},
      "cell_type": "markdown",
      "id": "3f7db2dd",
      "metadata": {
        "id": "3f7db2dd"
      },
      "source": [
        "### Data Cleansing\n",
        "\n",
        "Bagian berikut berisi proses pembersihan data (jika diperlukan, minimal cek apakah ada data yang kosong atau duplikat). Drop feature yang berlaku sebagai unique identifier (CityCode) dan drop feature Price. Lakukan OneHotEncoder untuk data kategorik string. Pisahkan juga label dengan feature!"
      ]
    },
    {
      "attachments": {},
      "cell_type": "markdown",
      "id": "069d2943",
      "metadata": {},
      "source": [
        "### Train-test split\n",
        "\n",
        "> Untuk sub A: random_state train_test_split gunakan 2 digit terakhir NPM terbesar di sub kelompok  \n",
        "\n",
        "> Untuk sub B: random_state train_test_split gunakan 2 digit terakhir NPM terkecil di sub kelompok "
      ]
    },
    {
      "cell_type": "code",
      "execution_count": null,
      "id": "ALwqKZhLNCDs",
      "metadata": {
        "id": "ALwqKZhLNCDs"
      },
      "outputs": [],
      "source": [
        "#train-test split dan data scaling"
      ]
    },
    {
      "attachments": {},
      "cell_type": "markdown",
      "id": "754511e8",
      "metadata": {},
      "source": [
        "### Modelling\n",
        "\n",
        "Gunakan Pipeline untuk modelling dan grid search cross-validation untuk pemilihan model terbaik. Gunakan Stratified K-fold Cross Validation dengan nilai n_splits=5. Pipeline terdiri atas data scaling, feature selection, dan classifier. Buatlah 2 Pipeline dan 2 GridSearchCV untuk masing-masing kombinasi berikut.\n",
        "\n",
        ">Step data scaling untuk membandingkan perlunya data scaling atau tidak. Gunakan dua nilai pada parameter grid yaitu: [None,Scaler]. Untuk sub A: gunakan StandardScaler. Untuk sub B: gunakan MinMaxScaler\n",
        "\n",
        ">Step feature selection untuk membandingkan metode feature selection yang digunakan. Gunakan dua metode pada parameter grid yaitu: [None,Selector]. Untuk sub A: gunakan SelectKBest dengan ketentuan k minimal 2, maksimal n-1. Untuk sub B: gunakan SelectPercentile dengan ketentuan persentil minimal 30%, maksimal 80%. Kalian juga perlu melakukan setting parameter grid nilai k atau percentile-nya.\n",
        "\n",
        ">Step classifier untuk membandingkan algoritme classifier. Eksplorasi pengaturan parameter yang ada pada algoritme yang akan Anda gunakan, tidak terbatas pada 1-2 parameter saja supaya optimal (selain random_state). Silahkan bereksperimen untuk parameter seperti n_estimators, max_depth untuk tree-based classifier; C untuk Logistic Regression; dan C, gamma, serta kernel untuk SVM agar mendapat akurasi terbaik.\n",
        "\n",
        "> Sub A: RandomForestClassifier(n_estimators=bebas minimal 50, random_state= dua digit terakhir NPM terbesar dalam sub kelompok, max_depth=bebas, criterion='entropy') dan LogisticRegression(C=bebas, max_iter=10000, class_weight='balanced')\n",
        "\n",
        "> Sub B: K-Nearest Neighbors(n_neighbors=bebas, weights='distance') dan SVC(C=bebas, gamma=bebas, class_weight='balanced')\n",
        "\n",
        ">Tampilkan best estimator dan nilai best score dari kedua grid-search cross-validation. Fit best estimator pada train set kemudian ujikan pada test set dengan fungsi score. Format score 3 digit di belakang koma (.3f)."
      ]
    },
    {
      "cell_type": "code",
      "execution_count": null,
      "id": "50c86125",
      "metadata": {
        "id": "50c86125"
      },
      "outputs": [],
      "source": [
        "#cell code ini untuk proses pembuatan model pipeline & grid search 1\n"
      ]
    },
    {
      "cell_type": "code",
      "execution_count": null,
      "id": "331b208c",
      "metadata": {
        "id": "331b208c"
      },
      "outputs": [],
      "source": [
        "#cell code ini untuk proses pembuatan model pipeline & grid search 2\n"
      ]
    },
    {
      "attachments": {},
      "cell_type": "markdown",
      "id": "9ccd42b1",
      "metadata": {
        "id": "9ccd42b1"
      },
      "source": [
        "### Evaluasi Model\n",
        "\n",
        "Bagian berikut berisi evaluasi model menggunakan classification report dan skor AUC. Tampilkan classification report dan AUC dari best estimator yang diperoleh masing-masing grid search!"
      ]
    },
    {
      "cell_type": "code",
      "execution_count": null,
      "id": "25812a07",
      "metadata": {
        "id": "25812a07"
      },
      "outputs": [],
      "source": [
        "#lakukan proses evaluasi model algoritme pembelajaran mesin\n"
      ]
    },
    {
      "attachments": {},
      "cell_type": "markdown",
      "id": "d6f85f13",
      "metadata": {
        "id": "d6f85f13"
      },
      "source": [
        "## Kesimpulan\n",
        "\n",
        "Silahkan jawab pertanyaan berikut:\n",
        "\n",
        "1. Apa saja feature-feature yang penting untuk membedakan antara rumah basic dan luxury? \n",
        "\n",
        "2. Model apakah yang memiliki performa paling baik terhadap dataset? Apakah parameter setting yang paling optimal dari model tersebut?"
      ]
    },
    {
      "attachments": {},
      "cell_type": "markdown",
      "id": "a1c82c65",
      "metadata": {
        "id": "a1c82c65"
      },
      "source": [
        "*tulis jawaban Anda di cell ini*"
      ]
    }
  ],
  "metadata": {
    "colab": {
      "provenance": []
    },
    "kernelspec": {
      "display_name": "Python 3 (ipykernel)",
      "language": "python",
      "name": "python3"
    },
    "language_info": {
      "codemirror_mode": {
        "name": "ipython",
        "version": 3
      },
      "file_extension": ".py",
      "mimetype": "text/x-python",
      "name": "python",
      "nbconvert_exporter": "python",
      "pygments_lexer": "ipython3",
      "version": "3.9.12"
    }
  },
  "nbformat": 4,
  "nbformat_minor": 5
}

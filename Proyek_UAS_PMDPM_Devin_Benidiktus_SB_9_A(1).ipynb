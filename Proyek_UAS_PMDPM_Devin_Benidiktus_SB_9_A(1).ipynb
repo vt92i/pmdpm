{
 "cells": [
  {
   "cell_type": "markdown",
   "id": "72a875f0",
   "metadata": {
    "id": "72a875f0"
   },
   "source": [
    "  Proyek UAS PMDPM\n",
    "\n",
    "<b>Harap jangan menghapus cell dan komentar yang diberikan!</b>\n",
    "\n",
    "Setiap cell markdown dan code akan berisi instruksi pengerjaan Proyek UAS PMDPM\n",
    "\n",
    "Dalam notebook ini Anda akan diminta untuk membuat sebuah proyek Pembelajaran Mesin menggunakan dataset yang sudah disediakan. Proyek akan terdiri dari proses inisialisasi, data loading, data cleansing, feature engineering, modelling dan evaluasi model. Pada bagian akhir silahkan berikan laporan singkat dari proyek yang sudah dikerjakan."
   ]
  },
  {
   "cell_type": "markdown",
   "id": "mJk9HuB_FIKC",
   "metadata": {
    "id": "mJk9HuB_FIKC"
   },
   "source": [
    "## Penjelasan Tugas\n",
    "\n",
    "Terapkan pemrosesan dataset dari loading, data cleansing (jika perlu), data scaling, feature selection, hingga evaluasi model secara sederhana menggunakan code yang sudah dipelajari dalam latihan-latihan dan tugas."
   ]
  },
  {
   "cell_type": "markdown",
   "id": "79d4888b",
   "metadata": {
    "id": "79d4888b"
   },
   "source": [
    "### Inisialisasi\n",
    "\n",
    "Bagian berikut berisi import library yang dibutuhkan."
   ]
  },
  {
   "cell_type": "code",
   "execution_count": 1,
   "id": "aaff9879",
   "metadata": {
    "ExecuteTime": {
     "end_time": "2023-06-18T19:57:10.984952381Z",
     "start_time": "2023-06-18T19:57:10.184388802Z"
    }
   },
   "outputs": [],
   "source": [
    "# from google.colab import files\n",
    "\n",
    "import numpy as np\n",
    "import pandas as pd\n",
    "import matplotlib.pyplot as plt\n",
    "\n",
    "from sklearn.preprocessing import OneHotEncoder\n",
    "from sklearn.compose import make_column_transformer\n",
    "\n",
    "from sklearn.model_selection import train_test_split\n",
    "\n",
    "from sklearn.preprocessing import StandardScaler\n",
    "from sklearn.ensemble import RandomForestClassifier\n",
    "from sklearn.linear_model import LogisticRegression\n",
    "from sklearn.feature_selection import SelectKBest\n",
    "from sklearn.pipeline import Pipeline\n",
    "\n",
    "from sklearn.model_selection import GridSearchCV\n",
    "from sklearn.model_selection import StratifiedKFold\n",
    "\n",
    "from sklearn.metrics import confusion_matrix, classification_report\n",
    "from sklearn.metrics import roc_auc_score\n",
    "\n",
    "import warnings\n",
    "\n",
    "warnings.filterwarnings('ignore')"
   ]
  },
  {
   "cell_type": "markdown",
   "id": "fdd03879",
   "metadata": {
    "id": "fdd03879"
   },
   "source": [
    "### Data Loading\n",
    "\n",
    "Bagian berikut berisi proses data loading (boleh dengan file upload atau dengan mount drive), jangan lupa tampilkan 20 baris data teratas!"
   ]
  },
  {
   "cell_type": "code",
   "execution_count": 2,
   "outputs": [
    {
     "data": {
      "text/plain": "    cityPartRange  numPrevOwners  made isNewBuilt hasStormProtector  basement  \\\n0               3              4  1995          N                 Y      3114   \n1               9              1  2011          N                 Y      9390   \n2               1              4  2003          Y                 N      2239   \n3               6              2  1990          N                 N      6861   \n4               6              9  1992          Y                 Y      6618   \n5               5              2  2010          Y                 N      4426   \n6               4              3  1990          Y                 N      6022   \n7               6              3  2000          N                 N      2325   \n8               2              2  2020          N                 Y      8598   \n9               7              6  1995          N                 Y      2675   \n10              5              1  2021          N                 Y      6831   \n11              3              1  2002          N                 Y      7704   \n12              5              4  1997          Y                 N      3411   \n13              5              1  1991          N                 Y       411   \n14              8              6  2014          Y                 N      2663   \n15              7              5  2009          N                 Y      3367   \n16              7              2  2019          N                 N      9680   \n17              2              1  2014          Y                 N      1820   \n18              6              5  2000          Y                 N      6453   \n19              2              4  1996          Y                 Y      5740   \n\n    attic  garage hasStorageRoom  hasGuestRoom    price category  \n0    1258     264              Y             9  10313.5    Basic  \n1    6219     922              N             9  13229.1    Basic  \n2    2795     951              Y             7  14431.3    Basic  \n3    5769     442              N             5  15488.0    Basic  \n4    7045     939              Y            10  16799.2    Basic  \n5    5336     911              N             4  17071.0    Basic  \n6    8521     391              Y             3  17363.0    Basic  \n7    6230     536              N             9  18985.0    Basic  \n8    3119     268              N            10  19638.0    Basic  \n9    6452     724              Y             2  19788.5    Basic  \n10   1323     242              N             9  21201.1    Basic  \n11   7896     468              Y             8  22499.2    Basic  \n12   8985     213              N             4  22670.7    Basic  \n13    475     110              N             9  23653.1    Basic  \n14   1650     403              Y            10  23818.4    Basic  \n15   1039     436              Y             1  24058.9    Basic  \n16   5250     134              N            10  26533.9    Basic  \n17    999     805              Y             4  27438.4    Basic  \n18   5671     744              Y             9  28028.0    Basic  \n19   8505     106              Y             6  28295.6    Basic  ",
      "text/html": "<div>\n<style scoped>\n    .dataframe tbody tr th:only-of-type {\n        vertical-align: middle;\n    }\n\n    .dataframe tbody tr th {\n        vertical-align: top;\n    }\n\n    .dataframe thead th {\n        text-align: right;\n    }\n</style>\n<table border=\"1\" class=\"dataframe\">\n  <thead>\n    <tr style=\"text-align: right;\">\n      <th></th>\n      <th>cityPartRange</th>\n      <th>numPrevOwners</th>\n      <th>made</th>\n      <th>isNewBuilt</th>\n      <th>hasStormProtector</th>\n      <th>basement</th>\n      <th>attic</th>\n      <th>garage</th>\n      <th>hasStorageRoom</th>\n      <th>hasGuestRoom</th>\n      <th>price</th>\n      <th>category</th>\n    </tr>\n  </thead>\n  <tbody>\n    <tr>\n      <th>0</th>\n      <td>3</td>\n      <td>4</td>\n      <td>1995</td>\n      <td>N</td>\n      <td>Y</td>\n      <td>3114</td>\n      <td>1258</td>\n      <td>264</td>\n      <td>Y</td>\n      <td>9</td>\n      <td>10313.5</td>\n      <td>Basic</td>\n    </tr>\n    <tr>\n      <th>1</th>\n      <td>9</td>\n      <td>1</td>\n      <td>2011</td>\n      <td>N</td>\n      <td>Y</td>\n      <td>9390</td>\n      <td>6219</td>\n      <td>922</td>\n      <td>N</td>\n      <td>9</td>\n      <td>13229.1</td>\n      <td>Basic</td>\n    </tr>\n    <tr>\n      <th>2</th>\n      <td>1</td>\n      <td>4</td>\n      <td>2003</td>\n      <td>Y</td>\n      <td>N</td>\n      <td>2239</td>\n      <td>2795</td>\n      <td>951</td>\n      <td>Y</td>\n      <td>7</td>\n      <td>14431.3</td>\n      <td>Basic</td>\n    </tr>\n    <tr>\n      <th>3</th>\n      <td>6</td>\n      <td>2</td>\n      <td>1990</td>\n      <td>N</td>\n      <td>N</td>\n      <td>6861</td>\n      <td>5769</td>\n      <td>442</td>\n      <td>N</td>\n      <td>5</td>\n      <td>15488.0</td>\n      <td>Basic</td>\n    </tr>\n    <tr>\n      <th>4</th>\n      <td>6</td>\n      <td>9</td>\n      <td>1992</td>\n      <td>Y</td>\n      <td>Y</td>\n      <td>6618</td>\n      <td>7045</td>\n      <td>939</td>\n      <td>Y</td>\n      <td>10</td>\n      <td>16799.2</td>\n      <td>Basic</td>\n    </tr>\n    <tr>\n      <th>5</th>\n      <td>5</td>\n      <td>2</td>\n      <td>2010</td>\n      <td>Y</td>\n      <td>N</td>\n      <td>4426</td>\n      <td>5336</td>\n      <td>911</td>\n      <td>N</td>\n      <td>4</td>\n      <td>17071.0</td>\n      <td>Basic</td>\n    </tr>\n    <tr>\n      <th>6</th>\n      <td>4</td>\n      <td>3</td>\n      <td>1990</td>\n      <td>Y</td>\n      <td>N</td>\n      <td>6022</td>\n      <td>8521</td>\n      <td>391</td>\n      <td>Y</td>\n      <td>3</td>\n      <td>17363.0</td>\n      <td>Basic</td>\n    </tr>\n    <tr>\n      <th>7</th>\n      <td>6</td>\n      <td>3</td>\n      <td>2000</td>\n      <td>N</td>\n      <td>N</td>\n      <td>2325</td>\n      <td>6230</td>\n      <td>536</td>\n      <td>N</td>\n      <td>9</td>\n      <td>18985.0</td>\n      <td>Basic</td>\n    </tr>\n    <tr>\n      <th>8</th>\n      <td>2</td>\n      <td>2</td>\n      <td>2020</td>\n      <td>N</td>\n      <td>Y</td>\n      <td>8598</td>\n      <td>3119</td>\n      <td>268</td>\n      <td>N</td>\n      <td>10</td>\n      <td>19638.0</td>\n      <td>Basic</td>\n    </tr>\n    <tr>\n      <th>9</th>\n      <td>7</td>\n      <td>6</td>\n      <td>1995</td>\n      <td>N</td>\n      <td>Y</td>\n      <td>2675</td>\n      <td>6452</td>\n      <td>724</td>\n      <td>Y</td>\n      <td>2</td>\n      <td>19788.5</td>\n      <td>Basic</td>\n    </tr>\n    <tr>\n      <th>10</th>\n      <td>5</td>\n      <td>1</td>\n      <td>2021</td>\n      <td>N</td>\n      <td>Y</td>\n      <td>6831</td>\n      <td>1323</td>\n      <td>242</td>\n      <td>N</td>\n      <td>9</td>\n      <td>21201.1</td>\n      <td>Basic</td>\n    </tr>\n    <tr>\n      <th>11</th>\n      <td>3</td>\n      <td>1</td>\n      <td>2002</td>\n      <td>N</td>\n      <td>Y</td>\n      <td>7704</td>\n      <td>7896</td>\n      <td>468</td>\n      <td>Y</td>\n      <td>8</td>\n      <td>22499.2</td>\n      <td>Basic</td>\n    </tr>\n    <tr>\n      <th>12</th>\n      <td>5</td>\n      <td>4</td>\n      <td>1997</td>\n      <td>Y</td>\n      <td>N</td>\n      <td>3411</td>\n      <td>8985</td>\n      <td>213</td>\n      <td>N</td>\n      <td>4</td>\n      <td>22670.7</td>\n      <td>Basic</td>\n    </tr>\n    <tr>\n      <th>13</th>\n      <td>5</td>\n      <td>1</td>\n      <td>1991</td>\n      <td>N</td>\n      <td>Y</td>\n      <td>411</td>\n      <td>475</td>\n      <td>110</td>\n      <td>N</td>\n      <td>9</td>\n      <td>23653.1</td>\n      <td>Basic</td>\n    </tr>\n    <tr>\n      <th>14</th>\n      <td>8</td>\n      <td>6</td>\n      <td>2014</td>\n      <td>Y</td>\n      <td>N</td>\n      <td>2663</td>\n      <td>1650</td>\n      <td>403</td>\n      <td>Y</td>\n      <td>10</td>\n      <td>23818.4</td>\n      <td>Basic</td>\n    </tr>\n    <tr>\n      <th>15</th>\n      <td>7</td>\n      <td>5</td>\n      <td>2009</td>\n      <td>N</td>\n      <td>Y</td>\n      <td>3367</td>\n      <td>1039</td>\n      <td>436</td>\n      <td>Y</td>\n      <td>1</td>\n      <td>24058.9</td>\n      <td>Basic</td>\n    </tr>\n    <tr>\n      <th>16</th>\n      <td>7</td>\n      <td>2</td>\n      <td>2019</td>\n      <td>N</td>\n      <td>N</td>\n      <td>9680</td>\n      <td>5250</td>\n      <td>134</td>\n      <td>N</td>\n      <td>10</td>\n      <td>26533.9</td>\n      <td>Basic</td>\n    </tr>\n    <tr>\n      <th>17</th>\n      <td>2</td>\n      <td>1</td>\n      <td>2014</td>\n      <td>Y</td>\n      <td>N</td>\n      <td>1820</td>\n      <td>999</td>\n      <td>805</td>\n      <td>Y</td>\n      <td>4</td>\n      <td>27438.4</td>\n      <td>Basic</td>\n    </tr>\n    <tr>\n      <th>18</th>\n      <td>6</td>\n      <td>5</td>\n      <td>2000</td>\n      <td>Y</td>\n      <td>N</td>\n      <td>6453</td>\n      <td>5671</td>\n      <td>744</td>\n      <td>Y</td>\n      <td>9</td>\n      <td>28028.0</td>\n      <td>Basic</td>\n    </tr>\n    <tr>\n      <th>19</th>\n      <td>2</td>\n      <td>4</td>\n      <td>1996</td>\n      <td>Y</td>\n      <td>Y</td>\n      <td>5740</td>\n      <td>8505</td>\n      <td>106</td>\n      <td>Y</td>\n      <td>6</td>\n      <td>28295.6</td>\n      <td>Basic</td>\n    </tr>\n  </tbody>\n</table>\n</div>"
     },
     "execution_count": 2,
     "metadata": {},
     "output_type": "execute_result"
    }
   ],
   "source": [
    "# Loading data yang akan diolah\n",
    "# uploaded = files.upload()\n",
    "df = pd.read_csv(\"paris_housing2000.csv\")\n",
    "df.head(20)"
   ],
   "metadata": {
    "collapsed": false,
    "ExecuteTime": {
     "end_time": "2023-06-18T19:57:11.003383128Z",
     "start_time": "2023-06-18T19:57:10.987215327Z"
    }
   }
  },
  {
   "cell_type": "code",
   "execution_count": 3,
   "id": "b4b3c86c",
   "metadata": {
    "id": "b4b3c86c",
    "ExecuteTime": {
     "end_time": "2023-06-18T19:57:11.021068036Z",
     "start_time": "2023-06-18T19:57:11.003884238Z"
    }
   },
   "outputs": [
    {
     "data": {
      "text/plain": "   numPrevOwners  made isNewBuilt hasStormProtector  basement  attic  garage  \\\n0              4  1995          N                 Y      3114   1258     264   \n1              1  2011          N                 Y      9390   6219     922   \n2              4  2003          Y                 N      2239   2795     951   \n3              2  1990          N                 N      6861   5769     442   \n4              9  1992          Y                 Y      6618   7045     939   \n5              2  2010          Y                 N      4426   5336     911   \n6              3  1990          Y                 N      6022   8521     391   \n7              3  2000          N                 N      2325   6230     536   \n8              2  2020          N                 Y      8598   3119     268   \n9              6  1995          N                 Y      2675   6452     724   \n\n  hasStorageRoom  hasGuestRoom category  \n0              Y             9    Basic  \n1              N             9    Basic  \n2              Y             7    Basic  \n3              N             5    Basic  \n4              Y            10    Basic  \n5              N             4    Basic  \n6              Y             3    Basic  \n7              N             9    Basic  \n8              N            10    Basic  \n9              Y             2    Basic  ",
      "text/html": "<div>\n<style scoped>\n    .dataframe tbody tr th:only-of-type {\n        vertical-align: middle;\n    }\n\n    .dataframe tbody tr th {\n        vertical-align: top;\n    }\n\n    .dataframe thead th {\n        text-align: right;\n    }\n</style>\n<table border=\"1\" class=\"dataframe\">\n  <thead>\n    <tr style=\"text-align: right;\">\n      <th></th>\n      <th>numPrevOwners</th>\n      <th>made</th>\n      <th>isNewBuilt</th>\n      <th>hasStormProtector</th>\n      <th>basement</th>\n      <th>attic</th>\n      <th>garage</th>\n      <th>hasStorageRoom</th>\n      <th>hasGuestRoom</th>\n      <th>category</th>\n    </tr>\n  </thead>\n  <tbody>\n    <tr>\n      <th>0</th>\n      <td>4</td>\n      <td>1995</td>\n      <td>N</td>\n      <td>Y</td>\n      <td>3114</td>\n      <td>1258</td>\n      <td>264</td>\n      <td>Y</td>\n      <td>9</td>\n      <td>Basic</td>\n    </tr>\n    <tr>\n      <th>1</th>\n      <td>1</td>\n      <td>2011</td>\n      <td>N</td>\n      <td>Y</td>\n      <td>9390</td>\n      <td>6219</td>\n      <td>922</td>\n      <td>N</td>\n      <td>9</td>\n      <td>Basic</td>\n    </tr>\n    <tr>\n      <th>2</th>\n      <td>4</td>\n      <td>2003</td>\n      <td>Y</td>\n      <td>N</td>\n      <td>2239</td>\n      <td>2795</td>\n      <td>951</td>\n      <td>Y</td>\n      <td>7</td>\n      <td>Basic</td>\n    </tr>\n    <tr>\n      <th>3</th>\n      <td>2</td>\n      <td>1990</td>\n      <td>N</td>\n      <td>N</td>\n      <td>6861</td>\n      <td>5769</td>\n      <td>442</td>\n      <td>N</td>\n      <td>5</td>\n      <td>Basic</td>\n    </tr>\n    <tr>\n      <th>4</th>\n      <td>9</td>\n      <td>1992</td>\n      <td>Y</td>\n      <td>Y</td>\n      <td>6618</td>\n      <td>7045</td>\n      <td>939</td>\n      <td>Y</td>\n      <td>10</td>\n      <td>Basic</td>\n    </tr>\n    <tr>\n      <th>5</th>\n      <td>2</td>\n      <td>2010</td>\n      <td>Y</td>\n      <td>N</td>\n      <td>4426</td>\n      <td>5336</td>\n      <td>911</td>\n      <td>N</td>\n      <td>4</td>\n      <td>Basic</td>\n    </tr>\n    <tr>\n      <th>6</th>\n      <td>3</td>\n      <td>1990</td>\n      <td>Y</td>\n      <td>N</td>\n      <td>6022</td>\n      <td>8521</td>\n      <td>391</td>\n      <td>Y</td>\n      <td>3</td>\n      <td>Basic</td>\n    </tr>\n    <tr>\n      <th>7</th>\n      <td>3</td>\n      <td>2000</td>\n      <td>N</td>\n      <td>N</td>\n      <td>2325</td>\n      <td>6230</td>\n      <td>536</td>\n      <td>N</td>\n      <td>9</td>\n      <td>Basic</td>\n    </tr>\n    <tr>\n      <th>8</th>\n      <td>2</td>\n      <td>2020</td>\n      <td>N</td>\n      <td>Y</td>\n      <td>8598</td>\n      <td>3119</td>\n      <td>268</td>\n      <td>N</td>\n      <td>10</td>\n      <td>Basic</td>\n    </tr>\n    <tr>\n      <th>9</th>\n      <td>6</td>\n      <td>1995</td>\n      <td>N</td>\n      <td>Y</td>\n      <td>2675</td>\n      <td>6452</td>\n      <td>724</td>\n      <td>Y</td>\n      <td>2</td>\n      <td>Basic</td>\n    </tr>\n  </tbody>\n</table>\n</div>"
     },
     "execution_count": 3,
     "metadata": {},
     "output_type": "execute_result"
    }
   ],
   "source": [
    "# Bersihkan dataset menggunakan metode yang sudah dipelajari\n",
    "df.drop(['cityPartRange'], axis=1, inplace=True)\n",
    "df.drop(['price'], axis=1, inplace=True)\n",
    "df.head(10)"
   ]
  },
  {
   "cell_type": "markdown",
   "id": "9ba96a3b",
   "metadata": {
    "id": "9ba96a3b"
   },
   "source": [
    "### Data Visualization\n",
    "\n",
    "Dalam proses visualisasi data, silahkan visualisasikan feature menggunakan plot yang sesuai agar mendapat insight dari data dengan menjawab pertanyaan-pertanyaan berikut:\n",
    "\n",
    "    untuk sub A:\n",
    "    1. Bagaimana perbandingan median luas basement rumah berdasarkan tipe rumahnya (Basic dan Luxury)?\n",
    "    2. Bagaimana komposisi jumlah rumah yang baru dibangun atau tidak pada tipe rumah Luxury?\n",
    "   \n",
    "\n",
    "    untuk sub B:\n",
    "    1. Bagaimana perbandingan median luas loteng rumah berdasarkan tipe rumahnya (Basic dan Luxury)\n",
    "    2. Bagaimana komposisi jumlah rumah yang memiliki pelindung badai atau tidak pada tipe rumah Basic?\n",
    "   "
   ]
  },
  {
   "cell_type": "code",
   "execution_count": 4,
   "id": "26979625",
   "metadata": {
    "id": "26979625",
    "ExecuteTime": {
     "end_time": "2023-06-18T19:57:11.342250937Z",
     "start_time": "2023-06-18T19:57:11.023367572Z"
    }
   },
   "outputs": [
    {
     "data": {
      "text/plain": "<Figure size 640x480 with 1 Axes>",
      "image/png": "[encoded data removed]"
     },
     "metadata": {},
     "output_type": "display_data"
    },
    {
     "name": "stdout",
     "output_type": "stream",
     "text": [
      "Median luas basement rumah tipe Basic adalah 5170.0\n",
      "Median luas basement rumah tipe Luxury adalah 4847.5\n"
     ]
    },
    {
     "data": {
      "text/plain": "<Figure size 640x480 with 1 Axes>",
      "image/png": "[encoded data removed]"
     },
     "metadata": {},
     "output_type": "display_data"
    },
    {
     "data": {
      "text/plain": "<Figure size 640x480 with 1 Axes>",
      "image/png": "[encoded data removed]"
     },
     "metadata": {},
     "output_type": "display_data"
    },
    {
     "name": "stdout",
     "output_type": "stream",
     "text": [
      "Jumlah rumah yang baru dibangun pada tipe rumah Luxury adalah 1000\n",
      "Jumlah rumah yang tidak baru dibangun pada tipe rumah Luxury adalah 0\n"
     ]
    }
   ],
   "source": [
    "## Visualisasi fitur menggunakan metode yang sudah dipelajari\n",
    "\n",
    "# Bagaimana perbandingan median luas basement rumah berdasarkan tipe rumahnya (Basic dan Luxury)?\n",
    "plt.boxplot([df[df['category'] == 'Basic']['basement'], df[df['category'] == 'Luxury']['basement']],\n",
    "            labels=['Basic', 'Luxury'])\n",
    "plt.title('Perbandingan Median Luas Basement Rumah Berdasarkan Tipe Rumah')\n",
    "plt.ylabel('Luas Basement')\n",
    "plt.show()\n",
    "\n",
    "basic = df[df['category'] == 'Basic']['basement'].median()\n",
    "luxury = df[df['category'] == 'Luxury']['basement'].median()\n",
    "\n",
    "print('Median luas basement rumah tipe Basic adalah', basic)\n",
    "print('Median luas basement rumah tipe Luxury adalah', luxury)\n",
    "\n",
    "# Bagaimana komposisi jumlah rumah yang baru dibangun atau tidak pada tipe rumah Luxury?\n",
    "total_new = total_not_new = 0\n",
    "for i in df[df['category'] == 'Luxury']['isNewBuilt']:\n",
    "    if i == \"Y\":\n",
    "        total_new += 1\n",
    "    else:\n",
    "        total_not_new += 1\n",
    "\n",
    "plt.bar(['New', 'Not New'], [total_new, total_not_new])\n",
    "plt.title('Komposisi Jumlah Rumah yang Baru Dibangun atau Tidak pada Tipe Rumah Luxury')\n",
    "plt.ylabel('Jumlah Rumah')\n",
    "plt.show()\n",
    "\n",
    "plt.pie([total_new, total_not_new], labels=['New', 'Not New'], autopct='%1.1f%%')\n",
    "plt.title('Komposisi Jumlah Rumah yang Baru Dibangun atau Tidak pada Tipe Rumah Luxury')\n",
    "plt.show()\n",
    "\n",
    "print('Jumlah rumah yang baru dibangun pada tipe rumah Luxury adalah', total_new)\n",
    "print('Jumlah rumah yang tidak baru dibangun pada tipe rumah Luxury adalah', total_not_new)"
   ]
  },
  {
   "cell_type": "markdown",
   "id": "85cce0d7",
   "metadata": {
    "id": "85cce0d7"
   },
   "source": [
    "### Deskripsi Data Visualization\n",
    "Berikan keterangan atau deskripsi singkat mengenai informasi yang diperoleh dari visualisasi data tersebut. Jawablah pertanyaan di atas pada cell markdown ini!\n",
    "\n",
    "1. Bagaimana perbandingan median luas basement rumah berdasarkan tipe rumahnya (Basic dan Luxury)?\n",
    "[ Median luas basement rumah tipe Basic lebih besar daripada median luas basement rumah tipe Luxury dengan selisih 326.5. ]\n",
    "\n",
    "2. Bagaimana komposisi jumlah rumah yang baru dibangun atau tidak pada tipe rumah Luxury?\n",
    "[ Jumlah rumah yang baru dibangun pada tipe rumah Luxury semuanya berjumlah 1000 dan tidak ada rumah yang tidak baru dibangun pada tipe rumah Luxury. ]"
   ]
  },
  {
   "cell_type": "markdown",
   "id": "3f7db2dd",
   "metadata": {
    "id": "3f7db2dd"
   },
   "source": [
    "### Data Cleansing\n",
    "\n",
    "Bagian berikut berisi proses pembersihan data (jika diperlukan, minimal cek apakah ada data yang kosong atau duplikat). Drop feature yang berlaku sebagai unique identifier (CityCode) dan drop feature Price. Lakukan OneHotEncoder untuk data kategorik string. Pisahkan juga label dengan feature!"
   ]
  },
  {
   "cell_type": "markdown",
   "id": "069d2943",
   "metadata": {},
   "source": [
    "### Train-test split\n",
    "\n",
    "> Untuk sub A: random_state train_test_split gunakan 2 digit terakhir NPM terbesar di sub kelompok  \n",
    "\n",
    "> Untuk sub B: random_state train_test_split gunakan 2 digit terakhir NPM terkecil di sub kelompok"
   ]
  },
  {
   "cell_type": "code",
   "execution_count": 5,
   "outputs": [
    {
     "name": "stdout",
     "output_type": "stream",
     "text": [
      "[ Data yang kosong : ]\n",
      "numPrevOwners        0\n",
      "made                 0\n",
      "isNewBuilt           0\n",
      "hasStormProtector    0\n",
      "basement             0\n",
      "attic                0\n",
      "garage               0\n",
      "hasStorageRoom       0\n",
      "hasGuestRoom         0\n",
      "category             0\n",
      "dtype: int64\n",
      "\n",
      "[ Data yang duplikat : ]\n",
      "0\n"
     ]
    }
   ],
   "source": [
    "# Check null and duplicate values\n",
    "print(\"[ Data yang kosong : ]\")\n",
    "print(df.isnull().sum())\n",
    "print()\n",
    "print(\"[ Data yang duplikat : ]\")\n",
    "print(df.duplicated().sum())"
   ],
   "metadata": {
    "collapsed": false,
    "ExecuteTime": {
     "end_time": "2023-06-18T19:57:11.343348520Z",
     "start_time": "2023-06-18T19:57:11.332537742Z"
    }
   }
  },
  {
   "cell_type": "code",
   "execution_count": 6,
   "outputs": [],
   "source": [
    "# Train-test split\n",
    "NPM1 = \"210711385\"\n",
    "NPM2 = \"210711453\"\n",
    "HIGHEST_LAST_2_DIGITS_NPM = max(int(NPM1[-2:]), int(NPM2[-2:]))\n",
    "\n",
    "X = df.drop(columns=['category'], axis=1)\n",
    "y = df['category']\n",
    "X_train, X_test, y_train, y_test = train_test_split(X, y, test_size=0.3, random_state=HIGHEST_LAST_2_DIGITS_NPM)"
   ],
   "metadata": {
    "collapsed": false,
    "ExecuteTime": {
     "end_time": "2023-06-18T19:57:11.428697329Z",
     "start_time": "2023-06-18T19:57:11.333137902Z"
    }
   }
  },
  {
   "cell_type": "code",
   "execution_count": 7,
   "outputs": [],
   "source": [
    "# One Hot Encoding untuk data kategorik string\n",
    "columns = [col for col in df.columns if df[col].dtype == 'object' and col != 'category']\n",
    "transformer = make_column_transformer((OneHotEncoder(), columns), remainder=\"passthrough\")\n",
    "\n",
    "X_train = transformer.fit_transform(X_train)\n",
    "X_test = transformer.transform(X_test)\n",
    "\n",
    "df_train_enc = pd.DataFrame(X_train, columns=transformer.get_feature_names_out())\n",
    "df_test_enc = pd.DataFrame(X_test, columns=transformer.get_feature_names_out())"
   ],
   "metadata": {
    "collapsed": false,
    "ExecuteTime": {
     "end_time": "2023-06-18T19:57:11.438782343Z",
     "start_time": "2023-06-18T19:57:11.353246046Z"
    }
   }
  },
  {
   "cell_type": "markdown",
   "id": "754511e8",
   "metadata": {},
   "source": [
    "### Modelling\n",
    "\n",
    "Gunakan Pipeline untuk modelling dan grid search cross-validation untuk pemilihan model terbaik. Gunakan Stratified K-fold Cross Validation dengan nilai n_splits=5. Pipeline terdiri atas data scaling, feature selection, dan classifier. Buatlah 2 Pipeline dan 2 GridSearchCV untuk masing-masing kombinasi berikut.\n",
    "\n",
    ">Step data scaling untuk membandingkan perlunya data scaling atau tidak. Gunakan dua nilai pada parameter grid yaitu: [None,Scaler]. Untuk sub A: gunakan StandardScaler. Untuk sub B: gunakan MinMaxScaler\n",
    "\n",
    ">Step feature selection untuk membandingkan metode feature selection yang digunakan. Gunakan dua metode pada parameter grid yaitu: [None,Selector]. Untuk sub A: gunakan SelectKBest dengan ketentuan k minimal 2, maksimal n-1. Untuk sub B: gunakan SelectPercentile dengan ketentuan persentil minimal 30%, maksimal 80%. Kalian juga perlu melakukan setting parameter grid nilai k atau percentile-nya.\n",
    "\n",
    ">Step classifier untuk membandingkan algoritme classifier. Eksplorasi pengaturan parameter yang ada pada algoritme yang akan Anda gunakan, tidak terbatas pada 1-2 parameter saja supaya optimal (selain random_state). Silahkan bereksperimen untuk parameter seperti n_estimators, max_depth untuk tree-based classifier; C untuk Logistic Regression; dan C, gamma, serta kernel untuk SVM agar mendapat akurasi terbaik.\n",
    "\n",
    "> Sub A: RandomForestClassifier(n_estimators=bebas minimal 50, random_state= dua digit terakhir NPM terbesar dalam sub kelompok, max_depth=bebas, criterion='entropy') dan LogisticRegression(C=bebas, max_iter=10000, class_weight='balanced')\n",
    "\n",
    "> Sub B: K-Nearest Neighbors(n_neighbors=bebas, weights='distance') dan SVC(C=bebas, gamma=bebas, class_weight='balanced')\n",
    "\n",
    ">Tampilkan best estimator dan nilai best score dari kedua grid-search cross-validation. Fit best estimator pada train set kemudian ujikan pada test set dengan fungsi score. Format score 3 digit di belakang koma (.3f)."
   ]
  },
  {
   "cell_type": "code",
   "execution_count": 8,
   "id": "8e284261",
   "metadata": {
    "ExecuteTime": {
     "end_time": "2023-06-18T20:00:54.000980195Z",
     "start_time": "2023-06-18T19:57:11.365791742Z"
    }
   },
   "outputs": [
    {
     "name": "stdout",
     "output_type": "stream",
     "text": [
      "Estimator test score: 0.780\n",
      "Test score: 0.785\n",
      "Best score: 0.784\n",
      "Best params: {'Data Scaling': None, 'Feature Selection__k': 3, 'Random Forest__criterion': 'entropy', 'Random Forest__max_depth': 5, 'Random Forest__n_estimators': 100, 'Random Forest__random_state': 85}\n",
      "Best estimator: Pipeline(steps=[('Data Scaling', None), ('Feature Selection', SelectKBest(k=3)),\n",
      "                ('Random Forest',\n",
      "                 RandomForestClassifier(criterion='entropy', max_depth=5,\n",
      "                                        random_state=85))])\n",
      "Total selected features: 3\n",
      "Selected features: Index(['onehotencoder__isNewBuilt_N', 'onehotencoder__isNewBuilt_Y',\n",
      "       'remainder__attic'],\n",
      "      dtype='object')\n"
     ]
    }
   ],
   "source": [
    "### Cell code ini untuk proses pembuatan model pipeline & grid search 1\n",
    "\n",
    "## Pipeline 1\n",
    "pipe1 = [('Data Scaling', StandardScaler()),\n",
    "         ('Feature Selection', SelectKBest()),\n",
    "         ('Random Forest', RandomForestClassifier())]\n",
    "\n",
    "estimators1 = Pipeline(pipe1)\n",
    "estimators1.fit(X_train, y_train)\n",
    "estimators1_test_score = estimators1.score(X_test, y_test)\n",
    "print(\"Estimator test score: %.3f\" % estimators1_test_score)\n",
    "\n",
    "## Grid Search 1\n",
    "params_grid1 = {\n",
    "    'Data Scaling': [None, StandardScaler()],\n",
    "    'Feature Selection__k': list(range(2, len(df_train_enc.columns) - 1)),\n",
    "    'Random Forest__n_estimators': [50, 100, 150, 200],\n",
    "    'Random Forest__max_depth': [None, 5, 10, 15],\n",
    "    'Random Forest__criterion': ['entropy'],\n",
    "    'Random Forest__random_state': [HIGHEST_LAST_2_DIGITS_NPM]\n",
    "}\n",
    "\n",
    "GSCV3_1 = GridSearchCV(estimators1, param_grid=params_grid1, cv=StratifiedKFold(n_splits=5))\n",
    "GSCV3_1.fit(X_train, y_train)\n",
    "\n",
    "GStest_score1 = GSCV3_1.score(X_test, y_test)\n",
    "print(\"Test score: %.3f\" % GStest_score1)\n",
    "print(\"Best score: %.3f\" % GSCV3_1.best_score_)\n",
    "print(\"Best params:\", GSCV3_1.best_params_)\n",
    "print(\"Best estimator:\", GSCV3_1.best_estimator_)\n",
    "\n",
    "if GSCV3_1.best_estimator_.named_steps['Feature Selection'] is not None:\n",
    "    mask1 = GSCV3_1.best_estimator_.named_steps['Feature Selection'].get_support()\n",
    "    selected_features1 = df_train_enc.columns[mask1]\n",
    "    print(\"Total selected features:\", len(selected_features1))\n",
    "    print(\"Selected features:\", selected_features1)"
   ]
  },
  {
   "cell_type": "code",
   "execution_count": 9,
   "id": "331b208c",
   "metadata": {
    "id": "331b208c",
    "ExecuteTime": {
     "end_time": "2023-06-18T20:01:01.018612507Z",
     "start_time": "2023-06-18T20:00:53.956416269Z"
    }
   },
   "outputs": [
    {
     "name": "stdout",
     "output_type": "stream",
     "text": [
      "Estimator test score: 0.787\n",
      "Test score: 0.787\n",
      "Best score: 0.786\n",
      "Best params: {'Data Scaling': None, 'Feature Selection__k': 10, 'Logistic Regression__C': 1.001, 'Logistic Regression__class_weight': 'balanced', 'Logistic Regression__max_iter': 10000}\n",
      "Best estimator: Pipeline(steps=[('Data Scaling', None), ('Feature Selection', SelectKBest()),\n",
      "                ('Logistic Regression',\n",
      "                 LogisticRegression(C=1.001, class_weight='balanced',\n",
      "                                    max_iter=10000))])\n",
      "Total selected features: 10\n",
      "Selected features: Index(['onehotencoder__isNewBuilt_N', 'onehotencoder__isNewBuilt_Y',\n",
      "       'onehotencoder__hasStormProtector_N',\n",
      "       'onehotencoder__hasStormProtector_Y', 'onehotencoder__hasStorageRoom_Y',\n",
      "       'remainder__numPrevOwners', 'remainder__made', 'remainder__basement',\n",
      "       'remainder__attic', 'remainder__hasGuestRoom'],\n",
      "      dtype='object')\n"
     ]
    }
   ],
   "source": [
    "### Cell code ini untuk proses pembuatan model pipeline & grid search 2\n",
    "\n",
    "## Pipeline 2\n",
    "pipe2 = [('Data Scaling', StandardScaler()),\n",
    "         ('Feature Selection', SelectKBest()),\n",
    "         ('Logistic Regression', LogisticRegression())]\n",
    "\n",
    "estimators2 = Pipeline(pipe2)\n",
    "estimators2.fit(X_train, y_train)\n",
    "estimators2_test_score = estimators2.score(X_test, y_test)\n",
    "print(\"Estimator test score: %.3f\" % estimators2_test_score)\n",
    "\n",
    "## Grid Search 2\n",
    "params_grid2 = {\n",
    "    'Data Scaling': [None, StandardScaler()],\n",
    "    'Feature Selection__k': list(range(2, len(df_train_enc.columns) - 1)),\n",
    "    'Logistic Regression__C': np.arange(0.001, 10, 1).tolist(),\n",
    "    'Logistic Regression__max_iter': [10_000],\n",
    "    'Logistic Regression__class_weight': ['balanced']\n",
    "}\n",
    "\n",
    "GSCV3_2 = GridSearchCV(estimators2, param_grid=params_grid2, cv=StratifiedKFold(n_splits=5))\n",
    "GSCV3_2.fit(X_train, y_train)\n",
    "\n",
    "GStest_score2 = GSCV3_2.score(X_test, y_test)\n",
    "print(\"Test score: %.3f\" % GStest_score2)\n",
    "print(\"Best score: %.3f\" % GSCV3_2.best_score_)\n",
    "print(\"Best params:\", GSCV3_2.best_params_)\n",
    "print(\"Best estimator:\", GSCV3_2.best_estimator_)\n",
    "\n",
    "if GSCV3_2.best_estimator_.named_steps['Feature Selection'] is not None:\n",
    "    mask2 = GSCV3_2.best_estimator_.named_steps['Feature Selection'].get_support()\n",
    "    selected_features2 = df_train_enc.columns[mask2]\n",
    "    print(\"Total selected features:\", len(selected_features2))\n",
    "    print(\"Selected features:\", selected_features2)\n"
   ]
  },
  {
   "cell_type": "markdown",
   "id": "9ccd42b1",
   "metadata": {
    "id": "9ccd42b1"
   },
   "source": [
    "### Evaluasi Model\n",
    "\n",
    "Bagian berikut berisi evaluasi model menggunakan classification report dan skor AUC. Tampilkan classification report dan AUC dari best estimator yang diperoleh masing-masing grid search!"
   ]
  },
  {
   "cell_type": "code",
   "execution_count": 10,
   "id": "25812a07",
   "metadata": {
    "id": "25812a07",
    "ExecuteTime": {
     "end_time": "2023-06-18T20:01:01.083333288Z",
     "start_time": "2023-06-18T20:01:01.021785503Z"
    }
   },
   "outputs": [
    {
     "name": "stdout",
     "output_type": "stream",
     "text": [
      "[ Model 1 ]\n",
      "Confusion matrix: [[176 128]\n",
      " [  1 295]]\n",
      "Classification report:               precision    recall  f1-score   support\n",
      "\n",
      "       Basic       0.99      0.58      0.73       304\n",
      "      Luxury       0.70      1.00      0.82       296\n",
      "\n",
      "    accuracy                           0.79       600\n",
      "   macro avg       0.85      0.79      0.78       600\n",
      "weighted avg       0.85      0.79      0.78       600\n",
      "\n",
      "AUC score: 0.792\n",
      "\n",
      "----------------------------------------------\n",
      "\n",
      "[ Model 2 ]\n",
      "Confusion matrix: [[176 128]\n",
      " [  0 296]]\n",
      "Classification report:               precision    recall  f1-score   support\n",
      "\n",
      "       Basic       1.00      0.58      0.73       304\n",
      "      Luxury       0.70      1.00      0.82       296\n",
      "\n",
      "    accuracy                           0.79       600\n",
      "   macro avg       0.85      0.79      0.78       600\n",
      "weighted avg       0.85      0.79      0.78       600\n",
      "\n",
      "AUC score: 0.797\n"
     ]
    }
   ],
   "source": [
    "### Lakukan proses evaluasi model algoritme pembelajaran mesin\n",
    "\n",
    "## Evaluasi model 1\n",
    "print(\"[ Model 1 ]\")\n",
    "# Classification Report\n",
    "gs_pred1 = GSCV3_1.predict(X_test)\n",
    "print(\"Confusion matrix:\", confusion_matrix(y_test, gs_pred1))\n",
    "print(\"Classification report:\", classification_report(y_test, gs_pred1))\n",
    "\n",
    "# AUC\n",
    "gs_pred_proba1 = GSCV3_1.predict_proba(X_test)\n",
    "print(\"AUC score: %.3f\" % roc_auc_score(y_test, gs_pred_proba1[:, 1]))\n",
    "\n",
    "print()\n",
    "print(\"----------------------------------------------\")\n",
    "print()\n",
    "\n",
    "## Evaluasi model 2\n",
    "print(\"[ Model 2 ]\")\n",
    "# Classification Report\n",
    "gs_pred2 = GSCV3_2.predict(X_test)\n",
    "print(\"Confusion matrix:\", confusion_matrix(y_test, gs_pred2))\n",
    "print(\"Classification report:\", classification_report(y_test, gs_pred2))\n",
    "\n",
    "# AUC\n",
    "gs_pred_proba2 = GSCV3_2.predict_proba(X_test)\n",
    "print(\"AUC score: %.3f\" % roc_auc_score(y_test, gs_pred_proba2[:, 1]))"
   ]
  },
  {
   "cell_type": "markdown",
   "id": "d6f85f13",
   "metadata": {
    "id": "d6f85f13"
   },
   "source": [
    "## Kesimpulan\n",
    "\n",
    "Silahkan jawab pertanyaan berikut:\n",
    "\n",
    "1. Apa saja feature-feature yang penting untuk membedakan antara rumah basic dan luxury? \n",
    "\n",
    "2. Model apakah yang memiliki performa paling baik terhadap dataset? Apakah parameter setting yang paling optimal dari model tersebut?"
   ]
  },
  {
   "cell_type": "markdown",
   "id": "a1c82c65",
   "metadata": {
    "id": "a1c82c65"
   },
   "source": [
    "*Tulis jawaban Anda di cell ini*\n",
    "1. ['onehotencoder__isNewBuilt_N', 'onehotencoder__isNewBuilt_Y',\n",
    "       'onehotencoder__hasStormProtector_N',\n",
    "       'onehotencoder__hasStormProtector_Y', 'onehotencoder__hasStorageRoom_Y',\n",
    "       'remainder__numPrevOwners', 'remainder__made', 'remainder__basement',\n",
    "       'remainder__attic', 'remainder__hasGuestRoom']\n",
    "2. Model 2 dengan parameter {'Data Scaling': None, 'Feature Selection__k': 10, 'Logistic Regression__C': 1.001, 'Logistic Regression__class_weight': 'balanced', 'Logistic Regression__max_iter': 10000}."
   ]
  },
  {
   "cell_type": "markdown",
   "source": [
    "## Laporan\n",
    "Import library yang dibutuhkan lalu preview 20 data pertama lalu drop column unique (cityPartRange, price) kemudian melakukan visualiasi sesuai dengan ketentuan yang diberikan. Setelah itu check data apakah yang null atau duplicate. Kemudian train-test split dan One Hot Encode untuk categorical column. Kemudian membuat 2 Pipe, 2 GridSearch sesuai ketentuan soal. Setelah selesai GridSearch lalu evaluasi model dengan classification report dan skor AUC.\n",
    "\n",
    "210711385 - Benidiktus Violaz Morello Anjolie\n",
    "210711453 - Devin Ganiputra Hernando"
   ],
   "metadata": {
    "collapsed": false
   }
  }
 ],
 "metadata": {
  "colab": {
   "provenance": []
  },
  "kernelspec": {
   "display_name": "Python 3 (ipykernel)",
   "language": "python",
   "name": "python3"
  },
  "language_info": {
   "codemirror_mode": {
    "name": "ipython",
    "version": 3
   },
   "file_extension": ".py",
   "mimetype": "text/x-python",
   "name": "python",
   "nbconvert_exporter": "python",
   "pygments_lexer": "ipython3",
   "version": "3.10.11"
  }
 },
 "nbformat": 4,
 "nbformat_minor": 5
}

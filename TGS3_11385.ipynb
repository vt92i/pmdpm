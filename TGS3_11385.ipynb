{
 "cells": [
  {
   "cell_type": "code",
   "execution_count": 135,
   "metadata": {
    "collapsed": true,
    "ExecuteTime": {
     "start_time": "2023-04-07T22:32:13.196663Z",
     "end_time": "2023-04-07T22:32:13.243533Z"
    }
   },
   "outputs": [],
   "source": [
    "## Import necessary libraries\n",
    "import pandas as pd\n",
    "import matplotlib.pyplot as plt"
   ]
  },
  {
   "cell_type": "code",
   "execution_count": 136,
   "outputs": [],
   "source": [
    "## Read the data\n",
    "FILENAME = \"healthcare-dataset-stroke-data.csv\"\n",
    "df = pd.read_csv(FILENAME)"
   ],
   "metadata": {
    "collapsed": false,
    "ExecuteTime": {
     "start_time": "2023-04-07T22:32:13.228015Z",
     "end_time": "2023-04-07T22:32:13.243787Z"
    }
   }
  },
  {
   "cell_type": "code",
   "execution_count": 137,
   "outputs": [
    {
     "data": {
      "text/plain": "      id  gender   age  hypertension  heart_disease ever_married  \\\n0   9046    Male  67.0             0              1          Yes   \n1  51676  Female  61.0             0              0          Yes   \n2  31112    Male  80.0             0              1          Yes   \n3  60182  Female  49.0             0              0          Yes   \n4   1665  Female  79.0             1              0          Yes   \n\n       work_type Residence_type  avg_glucose_level   bmi   smoking_status  \\\n0        Private          Urban             228.69  36.6  formerly smoked   \n1  Self-employed          Rural             202.21   NaN     never smoked   \n2        Private          Rural             105.92  32.5     never smoked   \n3        Private          Urban             171.23  34.4           smokes   \n4  Self-employed          Rural             174.12  24.0     never smoked   \n\n   stroke  \n0       1  \n1       1  \n2       1  \n3       1  \n4       1  ",
      "text/html": "<div>\n<style scoped>\n    .dataframe tbody tr th:only-of-type {\n        vertical-align: middle;\n    }\n\n    .dataframe tbody tr th {\n        vertical-align: top;\n    }\n\n    .dataframe thead th {\n        text-align: right;\n    }\n</style>\n<table border=\"1\" class=\"dataframe\">\n  <thead>\n    <tr style=\"text-align: right;\">\n      <th></th>\n      <th>id</th>\n      <th>gender</th>\n      <th>age</th>\n      <th>hypertension</th>\n      <th>heart_disease</th>\n      <th>ever_married</th>\n      <th>work_type</th>\n      <th>Residence_type</th>\n      <th>avg_glucose_level</th>\n      <th>bmi</th>\n      <th>smoking_status</th>\n      <th>stroke</th>\n    </tr>\n  </thead>\n  <tbody>\n    <tr>\n      <th>0</th>\n      <td>9046</td>\n      <td>Male</td>\n      <td>67.0</td>\n      <td>0</td>\n      <td>1</td>\n      <td>Yes</td>\n      <td>Private</td>\n      <td>Urban</td>\n      <td>228.69</td>\n      <td>36.6</td>\n      <td>formerly smoked</td>\n      <td>1</td>\n    </tr>\n    <tr>\n      <th>1</th>\n      <td>51676</td>\n      <td>Female</td>\n      <td>61.0</td>\n      <td>0</td>\n      <td>0</td>\n      <td>Yes</td>\n      <td>Self-employed</td>\n      <td>Rural</td>\n      <td>202.21</td>\n      <td>NaN</td>\n      <td>never smoked</td>\n      <td>1</td>\n    </tr>\n    <tr>\n      <th>2</th>\n      <td>31112</td>\n      <td>Male</td>\n      <td>80.0</td>\n      <td>0</td>\n      <td>1</td>\n      <td>Yes</td>\n      <td>Private</td>\n      <td>Rural</td>\n      <td>105.92</td>\n      <td>32.5</td>\n      <td>never smoked</td>\n      <td>1</td>\n    </tr>\n    <tr>\n      <th>3</th>\n      <td>60182</td>\n      <td>Female</td>\n      <td>49.0</td>\n      <td>0</td>\n      <td>0</td>\n      <td>Yes</td>\n      <td>Private</td>\n      <td>Urban</td>\n      <td>171.23</td>\n      <td>34.4</td>\n      <td>smokes</td>\n      <td>1</td>\n    </tr>\n    <tr>\n      <th>4</th>\n      <td>1665</td>\n      <td>Female</td>\n      <td>79.0</td>\n      <td>1</td>\n      <td>0</td>\n      <td>Yes</td>\n      <td>Self-employed</td>\n      <td>Rural</td>\n      <td>174.12</td>\n      <td>24.0</td>\n      <td>never smoked</td>\n      <td>1</td>\n    </tr>\n  </tbody>\n</table>\n</div>"
     },
     "execution_count": 137,
     "metadata": {},
     "output_type": "execute_result"
    }
   ],
   "source": [
    "## Print data\n",
    "df.head()"
   ],
   "metadata": {
    "collapsed": false,
    "ExecuteTime": {
     "start_time": "2023-04-07T22:32:13.228111Z",
     "end_time": "2023-04-07T22:32:13.243987Z"
    }
   }
  },
  {
   "cell_type": "code",
   "execution_count": 138,
   "outputs": [],
   "source": [
    "## Drop the id column\n",
    "df.drop(\"id\", axis=1, inplace=True)"
   ],
   "metadata": {
    "collapsed": false,
    "ExecuteTime": {
     "start_time": "2023-04-07T22:32:13.229898Z",
     "end_time": "2023-04-07T22:32:13.244085Z"
    }
   }
  },
  {
   "cell_type": "code",
   "execution_count": 139,
   "outputs": [
    {
     "data": {
      "text/plain": "gender                 0\nage                    0\nhypertension           0\nheart_disease          0\never_married           0\nwork_type              0\nResidence_type         0\navg_glucose_level      0\nbmi                  201\nsmoking_status         0\nstroke                 0\ndtype: int64"
     },
     "execution_count": 139,
     "metadata": {},
     "output_type": "execute_result"
    }
   ],
   "source": [
    "## Check for missing values\n",
    "df.isnull().sum()"
   ],
   "metadata": {
    "collapsed": false,
    "ExecuteTime": {
     "start_time": "2023-04-07T22:32:13.241182Z",
     "end_time": "2023-04-07T22:32:13.297036Z"
    }
   }
  },
  {
   "cell_type": "code",
   "execution_count": 140,
   "outputs": [],
   "source": [
    "## Fill missing values (BMI)\n",
    "df[\"bmi\"].fillna(df[\"bmi\"].mean(), inplace=True)"
   ],
   "metadata": {
    "collapsed": false,
    "ExecuteTime": {
     "start_time": "2023-04-07T22:32:13.282111Z",
     "end_time": "2023-04-07T22:32:13.308441Z"
    }
   }
  },
  {
   "cell_type": "code",
   "execution_count": 141,
   "outputs": [
    {
     "data": {
      "text/plain": "gender               0\nage                  0\nhypertension         0\nheart_disease        0\never_married         0\nwork_type            0\nResidence_type       0\navg_glucose_level    0\nbmi                  0\nsmoking_status       0\nstroke               0\ndtype: int64"
     },
     "execution_count": 141,
     "metadata": {},
     "output_type": "execute_result"
    }
   ],
   "source": [
    "## Recheck for missing values\n",
    "df.isnull().sum()"
   ],
   "metadata": {
    "collapsed": false,
    "ExecuteTime": {
     "start_time": "2023-04-07T22:32:13.282214Z",
     "end_time": "2023-04-07T22:32:13.308856Z"
    }
   }
  },
  {
   "cell_type": "code",
   "execution_count": 142,
   "outputs": [
    {
     "data": {
      "text/plain": "   gender  age  hypertension  heart_disease  ever_married  work_type  \\\n0       1   88             0              1             1          2   \n1       0   82             0              0             1          3   \n2       1  101             0              1             1          2   \n3       0   70             0              0             1          2   \n4       0  100             1              0             1          3   \n5       1  102             0              0             1          2   \n6       1   95             1              1             1          2   \n7       0   90             0              0             0          2   \n8       0   80             0              0             1          2   \n9       0   99             0              0             1          2   \n\n   Residence_type  avg_glucose_level  bmi  smoking_status  stroke  \n0               1               3850  240               1       1  \n1               0               3588  162               2       1  \n2               0               2483  199               2       1  \n3               1               3385  218               3       1  \n4               0               3394  113               2       1  \n5               1               3448  164               1       1  \n6               0                588  147               2       1  \n7               1               1951  101               2       1  \n8               0                912  162               0       1  \n9               1                126  115               0       1  ",
      "text/html": "<div>\n<style scoped>\n    .dataframe tbody tr th:only-of-type {\n        vertical-align: middle;\n    }\n\n    .dataframe tbody tr th {\n        vertical-align: top;\n    }\n\n    .dataframe thead th {\n        text-align: right;\n    }\n</style>\n<table border=\"1\" class=\"dataframe\">\n  <thead>\n    <tr style=\"text-align: right;\">\n      <th></th>\n      <th>gender</th>\n      <th>age</th>\n      <th>hypertension</th>\n      <th>heart_disease</th>\n      <th>ever_married</th>\n      <th>work_type</th>\n      <th>Residence_type</th>\n      <th>avg_glucose_level</th>\n      <th>bmi</th>\n      <th>smoking_status</th>\n      <th>stroke</th>\n    </tr>\n  </thead>\n  <tbody>\n    <tr>\n      <th>0</th>\n      <td>1</td>\n      <td>88</td>\n      <td>0</td>\n      <td>1</td>\n      <td>1</td>\n      <td>2</td>\n      <td>1</td>\n      <td>3850</td>\n      <td>240</td>\n      <td>1</td>\n      <td>1</td>\n    </tr>\n    <tr>\n      <th>1</th>\n      <td>0</td>\n      <td>82</td>\n      <td>0</td>\n      <td>0</td>\n      <td>1</td>\n      <td>3</td>\n      <td>0</td>\n      <td>3588</td>\n      <td>162</td>\n      <td>2</td>\n      <td>1</td>\n    </tr>\n    <tr>\n      <th>2</th>\n      <td>1</td>\n      <td>101</td>\n      <td>0</td>\n      <td>1</td>\n      <td>1</td>\n      <td>2</td>\n      <td>0</td>\n      <td>2483</td>\n      <td>199</td>\n      <td>2</td>\n      <td>1</td>\n    </tr>\n    <tr>\n      <th>3</th>\n      <td>0</td>\n      <td>70</td>\n      <td>0</td>\n      <td>0</td>\n      <td>1</td>\n      <td>2</td>\n      <td>1</td>\n      <td>3385</td>\n      <td>218</td>\n      <td>3</td>\n      <td>1</td>\n    </tr>\n    <tr>\n      <th>4</th>\n      <td>0</td>\n      <td>100</td>\n      <td>1</td>\n      <td>0</td>\n      <td>1</td>\n      <td>3</td>\n      <td>0</td>\n      <td>3394</td>\n      <td>113</td>\n      <td>2</td>\n      <td>1</td>\n    </tr>\n    <tr>\n      <th>5</th>\n      <td>1</td>\n      <td>102</td>\n      <td>0</td>\n      <td>0</td>\n      <td>1</td>\n      <td>2</td>\n      <td>1</td>\n      <td>3448</td>\n      <td>164</td>\n      <td>1</td>\n      <td>1</td>\n    </tr>\n    <tr>\n      <th>6</th>\n      <td>1</td>\n      <td>95</td>\n      <td>1</td>\n      <td>1</td>\n      <td>1</td>\n      <td>2</td>\n      <td>0</td>\n      <td>588</td>\n      <td>147</td>\n      <td>2</td>\n      <td>1</td>\n    </tr>\n    <tr>\n      <th>7</th>\n      <td>0</td>\n      <td>90</td>\n      <td>0</td>\n      <td>0</td>\n      <td>0</td>\n      <td>2</td>\n      <td>1</td>\n      <td>1951</td>\n      <td>101</td>\n      <td>2</td>\n      <td>1</td>\n    </tr>\n    <tr>\n      <th>8</th>\n      <td>0</td>\n      <td>80</td>\n      <td>0</td>\n      <td>0</td>\n      <td>1</td>\n      <td>2</td>\n      <td>0</td>\n      <td>912</td>\n      <td>162</td>\n      <td>0</td>\n      <td>1</td>\n    </tr>\n    <tr>\n      <th>9</th>\n      <td>0</td>\n      <td>99</td>\n      <td>0</td>\n      <td>0</td>\n      <td>1</td>\n      <td>2</td>\n      <td>1</td>\n      <td>126</td>\n      <td>115</td>\n      <td>0</td>\n      <td>1</td>\n    </tr>\n  </tbody>\n</table>\n</div>"
     },
     "execution_count": 142,
     "metadata": {},
     "output_type": "execute_result"
    }
   ],
   "source": [
    "## Label Encoder\n",
    "from sklearn.preprocessing import LabelEncoder\n",
    "\n",
    "df = df.apply(LabelEncoder().fit_transform)\n",
    "df.head(10)"
   ],
   "metadata": {
    "collapsed": false,
    "ExecuteTime": {
     "start_time": "2023-04-07T22:32:13.282296Z",
     "end_time": "2023-04-07T22:32:13.373022Z"
    }
   }
  },
  {
   "cell_type": "code",
   "execution_count": 143,
   "outputs": [],
   "source": [
    "## Split the data into X and y\n",
    "from sklearn.model_selection import train_test_split\n",
    "\n",
    "X = df.drop(\"stroke\", axis=1)\n",
    "y = df[\"stroke\"]\n",
    "X_train, X_test, y_train, y_test = train_test_split(X, y, test_size=0.3, random_state=0)"
   ],
   "metadata": {
    "collapsed": false,
    "ExecuteTime": {
     "start_time": "2023-04-07T22:32:13.323275Z",
     "end_time": "2023-04-07T22:32:13.373191Z"
    }
   }
  },
  {
   "cell_type": "code",
   "execution_count": 144,
   "outputs": [],
   "source": [
    "## One Hot Encoder\n",
    "from sklearn.preprocessing import OneHotEncoder\n",
    "from sklearn.compose import make_column_transformer\n",
    "\n",
    "columns = [\"gender\", \"ever_married\", \"work_type\", \"Residence_type\", \"smoking_status\"]\n",
    "transformer = make_column_transformer((OneHotEncoder(), columns), remainder=\"passthrough\")\n",
    "\n",
    "X_train_enc = transformer.fit_transform(X_train)\n",
    "X_test_enc = transformer.transform(X_test)\n",
    "\n",
    "df_train_enc = pd.DataFrame(X_train_enc, columns=transformer.get_feature_names_out())\n",
    "df_test_enc = pd.DataFrame(X_test_enc, columns=transformer.get_feature_names_out())"
   ],
   "metadata": {
    "collapsed": false,
    "ExecuteTime": {
     "start_time": "2023-04-07T22:32:13.323635Z",
     "end_time": "2023-04-07T22:32:13.373263Z"
    }
   }
  },
  {
   "cell_type": "code",
   "execution_count": 145,
   "outputs": [
    {
     "name": "stdout",
     "output_type": "stream",
     "text": [
      "Accuracy (Label Encoder + One Hot Encoder):  0.9504240052185258\n"
     ]
    }
   ],
   "source": [
    "## Logistical Regression (C=0.1, max_iter=1000) with Label Encoder + One Hot Encoder\n",
    "from sklearn.linear_model import LogisticRegression\n",
    "\n",
    "# Fit the model\n",
    "model = LogisticRegression(C=0.1, max_iter=1000)\n",
    "model.fit(X_train_enc, y_train)\n",
    "\n",
    "# Accuracy\n",
    "print(\"Accuracy (Label Encoder + One Hot Encoder): \", model.score(X_test_enc, y_test))"
   ],
   "metadata": {
    "collapsed": false,
    "ExecuteTime": {
     "start_time": "2023-04-07T22:32:13.367112Z",
     "end_time": "2023-04-07T22:32:13.657650Z"
    }
   }
  },
  {
   "cell_type": "code",
   "execution_count": 146,
   "outputs": [
    {
     "name": "stdout",
     "output_type": "stream",
     "text": [
      "Minimum before scaling:\n",
      "[0. 0. 0. 0. 0. 0. 0. 0. 0. 0. 0. 0. 0. 0. 0. 0. 0. 0. 0. 0. 0.]\n",
      "Maximum before scaling:\n",
      " [1.000e+00 1.000e+00 1.000e+00 1.000e+00 1.000e+00 1.000e+00 1.000e+00\n",
      " 1.000e+00 1.000e+00 1.000e+00 1.000e+00 1.000e+00 1.000e+00 1.000e+00\n",
      " 1.000e+00 1.000e+00 1.030e+02 1.000e+00 1.000e+00 3.978e+03 4.180e+02]\n",
      "Minimum after scaling:\n",
      " [0. 0. 0. 0. 0. 0. 0. 0. 0. 0. 0. 0. 0. 0. 0. 0. 0. 0. 0. 0. 0.]\n",
      "Maximum after scaling:\n",
      " [1. 1. 1. 1. 1. 1. 1. 1. 1. 1. 1. 1. 1. 1. 1. 1. 1. 1. 1. 1. 1.]\n"
     ]
    }
   ],
   "source": [
    "## Min Max Scaler\n",
    "from sklearn.preprocessing import MinMaxScaler\n",
    "\n",
    "mm_scaler = MinMaxScaler()\n",
    "mm_scaler.fit(X_train_enc)\n",
    "X_train_mmscaled = mm_scaler.transform(X_train_enc)\n",
    "X_test_mmscaled = mm_scaler.transform(X_test_enc)\n",
    "\n",
    "print(\"Minimum before scaling:\\n{}\".format(X_train_enc.min(axis=0)))\n",
    "print(\"Maximum before scaling:\\n {}\".format(X_train_enc.max(axis=0)))\n",
    "print(\"Minimum after scaling:\\n {}\".format(X_train_mmscaled.min(axis=0)))\n",
    "print(\"Maximum after scaling:\\n {}\".format(X_train_mmscaled.max(axis=0)))"
   ],
   "metadata": {
    "collapsed": false,
    "ExecuteTime": {
     "start_time": "2023-04-07T22:32:13.661337Z",
     "end_time": "2023-04-07T22:32:13.681728Z"
    }
   }
  },
  {
   "cell_type": "code",
   "execution_count": 147,
   "outputs": [
    {
     "name": "stdout",
     "output_type": "stream",
     "text": [
      "Accuracy (Label Encoder + One Hot Encoder + Min Max Scaler):  0.9504240052185258\n"
     ]
    }
   ],
   "source": [
    "## Logistical Regression (C=0.1, max_iter=1000) with Label Encoder + One Hot Encoder + Min Max Scaler\n",
    "from sklearn.linear_model import LogisticRegression\n",
    "\n",
    "# Fit the model\n",
    "model = LogisticRegression(C=0.1, max_iter=1000)\n",
    "model.fit(X_train_mmscaled, y_train)\n",
    "\n",
    "# Accuracy\n",
    "print(\"Accuracy (Label Encoder + One Hot Encoder + Min Max Scaler): \", model.score(X_test_mmscaled, y_test))"
   ],
   "metadata": {
    "collapsed": false,
    "ExecuteTime": {
     "start_time": "2023-04-07T22:32:13.673579Z",
     "end_time": "2023-04-07T22:32:13.753401Z"
    }
   }
  },
  {
   "cell_type": "code",
   "execution_count": 148,
   "outputs": [
    {
     "name": "stdout",
     "output_type": "stream",
     "text": [
      "X_train.shape: (3577, 21)\n",
      "X_train_skb.shape: (3577, 15)\n",
      "Selected features: Index(['onehotencoder__gender_1', 'onehotencoder__ever_married_0',\n",
      "       'onehotencoder__ever_married_1', 'onehotencoder__work_type_2',\n",
      "       'onehotencoder__work_type_3', 'onehotencoder__work_type_4',\n",
      "       'onehotencoder__Residence_type_0', 'onehotencoder__Residence_type_1',\n",
      "       'onehotencoder__smoking_status_0', 'onehotencoder__smoking_status_1',\n",
      "       'remainder__age', 'remainder__hypertension', 'remainder__heart_disease',\n",
      "       'remainder__avg_glucose_level', 'remainder__bmi'],\n",
      "      dtype='object')\n"
     ]
    },
    {
     "data": {
      "text/plain": "<Figure size 1600x200 with 1 Axes>",
      "image/png": "[encoded data removed]"
     },
     "metadata": {},
     "output_type": "display_data"
    }
   ],
   "source": [
    "## Select K-Best\n",
    "from sklearn.feature_selection import SelectKBest\n",
    "\n",
    "skb = SelectKBest(k=15)\n",
    "skb.fit(X_train_mmscaled, y_train)\n",
    "\n",
    "X_train_skb = skb.transform(X_train_mmscaled)\n",
    "\n",
    "print(\"X_train.shape: {}\".format(X_train_mmscaled.shape))\n",
    "print(\"X_train_skb.shape: {}\".format(X_train_skb.shape))\n",
    "\n",
    "mask = skb.get_support()\n",
    "print(\"Selected features: {}\".format(df_train_enc.columns[mask]))\n",
    "\n",
    "plt.matshow(mask.reshape(1, -1), cmap='gray_r')\n",
    "plt.xlabel(\"Feature Index\")\n",
    "plt.yticks([0])\n",
    "plt.show()"
   ],
   "metadata": {
    "collapsed": false,
    "ExecuteTime": {
     "start_time": "2023-04-07T22:32:13.712644Z",
     "end_time": "2023-04-07T22:32:13.989249Z"
    }
   }
  },
  {
   "cell_type": "code",
   "execution_count": 149,
   "outputs": [
    {
     "name": "stdout",
     "output_type": "stream",
     "text": [
      "Accuracy (Label Encoder + One Hot Encoder + Min Max Scaler + Select K-Best):  0.9504240052185258\n"
     ]
    }
   ],
   "source": [
    "## Logistical Regression (C=0.1, max_iter=1000) with Label Encoder + One Hot Encoder + Min Max Scaler + Select K-Best\n",
    "from sklearn.linear_model import LogisticRegression\n",
    "\n",
    "# Fit the model\n",
    "model = LogisticRegression(C=0.1, max_iter=1000)\n",
    "model.fit(X_train_skb, y_train)\n",
    "\n",
    "X_test_skb = skb.transform(X_test_mmscaled)\n",
    "\n",
    "# Accuracy\n",
    "print(\"Accuracy (Label Encoder + One Hot Encoder + Min Max Scaler + Select K-Best): \",\n",
    "      model.score(X_test_skb, y_test))"
   ],
   "metadata": {
    "collapsed": false,
    "ExecuteTime": {
     "start_time": "2023-04-07T22:32:13.930994Z",
     "end_time": "2023-04-07T22:32:13.989535Z"
    }
   }
  },
  {
   "cell_type": "code",
   "execution_count": 150,
   "outputs": [
    {
     "name": "stdout",
     "output_type": "stream",
     "text": [
      "X_train.shape: (3577, 21)\n",
      "X_train_sfm.shape: (3577, 11)\n",
      "Selected features: Index(['onehotencoder__ever_married_0', 'onehotencoder__ever_married_1',\n",
      "       'onehotencoder__work_type_2', 'onehotencoder__work_type_3',\n",
      "       'onehotencoder__work_type_4', 'onehotencoder__Residence_type_1',\n",
      "       'onehotencoder__smoking_status_0', 'onehotencoder__smoking_status_2',\n",
      "       'remainder__age', 'remainder__hypertension',\n",
      "       'remainder__heart_disease'],\n",
      "      dtype='object')\n"
     ]
    },
    {
     "data": {
      "text/plain": "<Figure size 1600x200 with 1 Axes>",
      "image/png": "[encoded data removed]"
     },
     "metadata": {},
     "output_type": "display_data"
    }
   ],
   "source": [
    "## Model-Based Feature Selection\n",
    "from sklearn.linear_model import LogisticRegression\n",
    "from sklearn.feature_selection import SelectFromModel\n",
    "\n",
    "sfm = SelectFromModel(LogisticRegression(C=0.1, max_iter=1000), threshold='median')\n",
    "sfm.fit(X_train_enc, y_train)\n",
    "\n",
    "X_train_sfm = sfm.transform(X_train_enc)\n",
    "print(\"X_train.shape: {}\".format(X_train_enc.shape))\n",
    "print(\"X_train_sfm.shape: {}\".format(X_train_sfm.shape))\n",
    "\n",
    "mask = sfm.get_support()\n",
    "print(\"Selected features: {}\".format(df_train_enc.columns[mask]))\n",
    "plt.matshow(mask.reshape(1, -1), cmap='gray_r')\n",
    "plt.xlabel(\"Feature Index\")\n",
    "plt.yticks([0])\n",
    "plt.show()"
   ],
   "metadata": {
    "collapsed": false,
    "ExecuteTime": {
     "start_time": "2023-04-07T22:32:13.931164Z",
     "end_time": "2023-04-07T22:32:14.453791Z"
    }
   }
  },
  {
   "cell_type": "code",
   "execution_count": 151,
   "outputs": [
    {
     "name": "stdout",
     "output_type": "stream",
     "text": [
      "Accuracy (Label Encoder + One Hot Encoder + Min Max Scaler + Model-Based Feature Selection):  0.9504240052185258\n"
     ]
    }
   ],
   "source": [
    "## Logistical Regression (C=0.1, max_iter=1000) with Label Encoder + One Hot Encoder + Min Max Scaler + Model-Based Feature Selection\n",
    "from sklearn.linear_model import LogisticRegression\n",
    "\n",
    "# Fit the model\n",
    "model = LogisticRegression(C=0.1, max_iter=1000)\n",
    "model.fit(X_train_sfm, y_train)\n",
    "\n",
    "X_test_sfm = sfm.transform(X_test_enc)\n",
    "\n",
    "# Accuracy\n",
    "print(\"Accuracy (Label Encoder + One Hot Encoder + Min Max Scaler + Model-Based Feature Selection): \",\n",
    "      model.score(X_test_sfm, y_test))"
   ],
   "metadata": {
    "collapsed": false,
    "ExecuteTime": {
     "start_time": "2023-04-07T22:32:14.456455Z",
     "end_time": "2023-04-07T22:32:14.705242Z"
    }
   }
  },
  {
   "cell_type": "code",
   "execution_count": 152,
   "outputs": [
    {
     "name": "stdout",
     "output_type": "stream",
     "text": [
      "[ Logistic Regression ]\n",
      "Accuracy (Label Encoder + One Hot Encoder):  0.9504240052185258\n",
      "Accuracy (Label Encoder + One Hot Encoder + Min Max Scaler):  0.9504240052185258\n",
      "Accuracy (Label Encoder + One Hot Encoder + Min Max Scaler + Select K-Best):  0.9504240052185258\n",
      "Accuracy (Label Encoder + One Hot Encoder + Min Max Scaler + Model-Based Feature Selection):  0.9504240052185258\n"
     ]
    }
   ],
   "source": [
    "## Evaluation (Logistical Regression)\n",
    "\n",
    "print(\"[ Logistic Regression ]\")\n",
    "\n",
    "model.fit(X_train_enc, y_train)\n",
    "print(\"Accuracy (Label Encoder + One Hot Encoder): \", model.score(X_test_enc, y_test))\n",
    "\n",
    "model.fit(X_train_mmscaled, y_train)\n",
    "print(\"Accuracy (Label Encoder + One Hot Encoder + Min Max Scaler): \", model.score(X_test_mmscaled, y_test))\n",
    "\n",
    "model.fit(X_train_skb, y_train)\n",
    "print(\"Accuracy (Label Encoder + One Hot Encoder + Min Max Scaler + Select K-Best): \",\n",
    "      model.score(X_test_skb, y_test))\n",
    "\n",
    "model.fit(X_train_sfm, y_train)\n",
    "print(\"Accuracy (Label Encoder + One Hot Encoder + Min Max Scaler + Model-Based Feature Selection): \",\n",
    "      model.score(X_test_sfm, y_test))"
   ],
   "metadata": {
    "collapsed": false,
    "ExecuteTime": {
     "start_time": "2023-04-07T22:32:14.707753Z",
     "end_time": "2023-04-07T22:32:15.021701Z"
    }
   }
  },
  {
   "cell_type": "code",
   "execution_count": 153,
   "outputs": [
    {
     "name": "stdout",
     "output_type": "stream",
     "text": [
      "[ Random Forest ]\n",
      "Accuracy (Label Encoder + One Hot Encoder):  0.949119373776908\n",
      "Accuracy (Label Encoder + One Hot Encoder + Min Max Scaler):  0.949119373776908\n",
      "Accuracy (Label Encoder + One Hot Encoder + Min Max Scaler + Select K-Best):  0.949119373776908\n",
      "Accuracy (Label Encoder + One Hot Encoder + Min Max Scaler + Model-Based Feature Selection):  0.9341161121983039\n"
     ]
    }
   ],
   "source": [
    "## Evaluation (Random Forest)\n",
    "from sklearn.ensemble import RandomForestClassifier\n",
    "\n",
    "print(\"[ Random Forest ]\")\n",
    "\n",
    "model = RandomForestClassifier(n_estimators=100, random_state=0)\n",
    "\n",
    "model.fit(X_train_enc, y_train)\n",
    "print(\"Accuracy (Label Encoder + One Hot Encoder): \", model.score(X_test_enc, y_test))\n",
    "\n",
    "model.fit(X_train_mmscaled, y_train)\n",
    "print(\"Accuracy (Label Encoder + One Hot Encoder + Min Max Scaler): \", model.score(X_test_mmscaled, y_test))\n",
    "\n",
    "model.fit(X_train_skb, y_train)\n",
    "print(\"Accuracy (Label Encoder + One Hot Encoder + Min Max Scaler + Select K-Best): \",\n",
    "      model.score(X_test_skb, y_test))\n",
    "\n",
    "model.fit(X_train_sfm, y_train)\n",
    "print(\"Accuracy (Label Encoder + One Hot Encoder + Min Max Scaler + Model-Based Feature Selection): \",\n",
    "      model.score(X_test_sfm, y_test))"
   ],
   "metadata": {
    "collapsed": false,
    "ExecuteTime": {
     "start_time": "2023-04-07T22:32:15.028655Z",
     "end_time": "2023-04-07T22:32:15.922560Z"
    }
   }
  }
 ],
 "metadata": {
  "kernelspec": {
   "display_name": "Python 3",
   "language": "python",
   "name": "python3"
  },
  "language_info": {
   "codemirror_mode": {
    "name": "ipython",
    "version": 2
   },
   "file_extension": ".py",
   "mimetype": "text/x-python",
   "name": "python",
   "nbconvert_exporter": "python",
   "pygments_lexer": "ipython2",
   "version": "2.7.6"
  }
 },
 "nbformat": 4,
 "nbformat_minor": 0
}
